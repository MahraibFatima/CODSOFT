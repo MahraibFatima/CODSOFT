{
 "cells": [
  {
   "cell_type": "code",
   "execution_count": 1,
   "id": "d8007ae7",
   "metadata": {
    "_cell_guid": "b1076dfc-b9ad-4769-8c92-a6c4dae69d19",
    "_uuid": "8f2839f25d086af736a60e9eeb907d3b93b6e0e5",
    "execution": {
     "iopub.execute_input": "2024-05-07T11:17:06.772942Z",
     "iopub.status.busy": "2024-05-07T11:17:06.772285Z",
     "iopub.status.idle": "2024-05-07T11:17:09.432327Z",
     "shell.execute_reply": "2024-05-07T11:17:09.431262Z"
    },
    "papermill": {
     "duration": 2.681172,
     "end_time": "2024-05-07T11:17:09.435600",
     "exception": false,
     "start_time": "2024-05-07T11:17:06.754428",
     "status": "completed"
    },
    "tags": []
   },
   "outputs": [
    {
     "name": "stdout",
     "output_type": "stream",
     "text": [
      "/kaggle/input/titanic-dataset/Titanic.csv\n"
     ]
    }
   ],
   "source": [
    "# This Python 3 environment comes with many helpful analytics libraries installed\n",
    "# It is defined by the kaggle/python Docker image: https://github.com/kaggle/docker-python\n",
    "# For example, here's several helpful packages to load\n",
    "\n",
    "import numpy as np \n",
    "import pandas as pd \n",
    "from matplotlib import pyplot as plt\n",
    "import seaborn as sns\n",
    "\n",
    "# Input data files are available in the read-only \"../input/\" directory\n",
    "# For example, running this (by clicking run or pressing Shift+Enter) will list all files under the input directory\n",
    "\n",
    "import os\n",
    "for dirname, _, filenames in os.walk('/kaggle/input'):\n",
    "    for filename in filenames:\n",
    "        print(os.path.join(dirname, filename))\n",
    "\n",
    "# You can write up to 20GB to the current directory (/kaggle/working/) that gets preserved as output when you create a version using \"Save & Run All\" \n",
    "# You can also write temporary files to /kaggle/temp/, but they won't be saved outside of the current session"
   ]
  },
  {
   "cell_type": "markdown",
   "id": "f6ee87ae",
   "metadata": {
    "papermill": {
     "duration": 0.014464,
     "end_time": "2024-05-07T11:17:09.464976",
     "exception": false,
     "start_time": "2024-05-07T11:17:09.450512",
     "status": "completed"
    },
    "tags": []
   },
   "source": [
    "# working with pandas"
   ]
  },
  {
   "cell_type": "code",
   "execution_count": 2,
   "id": "98ebd1a0",
   "metadata": {
    "execution": {
     "iopub.execute_input": "2024-05-07T11:17:09.497897Z",
     "iopub.status.busy": "2024-05-07T11:17:09.497358Z",
     "iopub.status.idle": "2024-05-07T11:17:09.529385Z",
     "shell.execute_reply": "2024-05-07T11:17:09.528105Z"
    },
    "papermill": {
     "duration": 0.05141,
     "end_time": "2024-05-07T11:17:09.531951",
     "exception": false,
     "start_time": "2024-05-07T11:17:09.480541",
     "status": "completed"
    },
    "tags": []
   },
   "outputs": [],
   "source": [
    "data = pd.read_csv(\"/kaggle/input/titanic-dataset/Titanic.csv\")"
   ]
  },
  {
   "cell_type": "markdown",
   "id": "67ef1cb8",
   "metadata": {
    "papermill": {
     "duration": 0.014328,
     "end_time": "2024-05-07T11:17:09.562123",
     "exception": false,
     "start_time": "2024-05-07T11:17:09.547795",
     "status": "completed"
    },
    "tags": []
   },
   "source": [
    "# Operations "
   ]
  },
  {
   "cell_type": "markdown",
   "id": "370fb5ff",
   "metadata": {
    "papermill": {
     "duration": 0.015091,
     "end_time": "2024-05-07T11:17:09.591673",
     "exception": false,
     "start_time": "2024-05-07T11:17:09.576582",
     "status": "completed"
    },
    "tags": []
   },
   "source": [
    "- Returns top n rows from df"
   ]
  },
  {
   "cell_type": "code",
   "execution_count": 3,
   "id": "48dee953",
   "metadata": {
    "execution": {
     "iopub.execute_input": "2024-05-07T11:17:09.623567Z",
     "iopub.status.busy": "2024-05-07T11:17:09.622690Z",
     "iopub.status.idle": "2024-05-07T11:17:09.657496Z",
     "shell.execute_reply": "2024-05-07T11:17:09.656124Z"
    },
    "papermill": {
     "duration": 0.054152,
     "end_time": "2024-05-07T11:17:09.660189",
     "exception": false,
     "start_time": "2024-05-07T11:17:09.606037",
     "status": "completed"
    },
    "tags": []
   },
   "outputs": [
    {
     "data": {
      "text/html": [
       "<div>\n",
       "<style scoped>\n",
       "    .dataframe tbody tr th:only-of-type {\n",
       "        vertical-align: middle;\n",
       "    }\n",
       "\n",
       "    .dataframe tbody tr th {\n",
       "        vertical-align: top;\n",
       "    }\n",
       "\n",
       "    .dataframe thead th {\n",
       "        text-align: right;\n",
       "    }\n",
       "</style>\n",
       "<table border=\"1\" class=\"dataframe\">\n",
       "  <thead>\n",
       "    <tr style=\"text-align: right;\">\n",
       "      <th></th>\n",
       "      <th>PassengerId</th>\n",
       "      <th>Survived</th>\n",
       "      <th>Pclass</th>\n",
       "      <th>Name</th>\n",
       "      <th>Sex</th>\n",
       "      <th>Age</th>\n",
       "      <th>SibSp</th>\n",
       "      <th>Parch</th>\n",
       "      <th>Ticket</th>\n",
       "      <th>Fare</th>\n",
       "      <th>Cabin</th>\n",
       "      <th>Embarked</th>\n",
       "    </tr>\n",
       "  </thead>\n",
       "  <tbody>\n",
       "    <tr>\n",
       "      <th>0</th>\n",
       "      <td>1</td>\n",
       "      <td>0</td>\n",
       "      <td>3</td>\n",
       "      <td>Braund, Mr. Owen Harris</td>\n",
       "      <td>male</td>\n",
       "      <td>22.0</td>\n",
       "      <td>1</td>\n",
       "      <td>0</td>\n",
       "      <td>A/5 21171</td>\n",
       "      <td>7.2500</td>\n",
       "      <td>NaN</td>\n",
       "      <td>S</td>\n",
       "    </tr>\n",
       "    <tr>\n",
       "      <th>1</th>\n",
       "      <td>2</td>\n",
       "      <td>1</td>\n",
       "      <td>1</td>\n",
       "      <td>Cumings, Mrs. John Bradley (Florence Briggs Th...</td>\n",
       "      <td>female</td>\n",
       "      <td>38.0</td>\n",
       "      <td>1</td>\n",
       "      <td>0</td>\n",
       "      <td>PC 17599</td>\n",
       "      <td>71.2833</td>\n",
       "      <td>C85</td>\n",
       "      <td>C</td>\n",
       "    </tr>\n",
       "    <tr>\n",
       "      <th>2</th>\n",
       "      <td>3</td>\n",
       "      <td>1</td>\n",
       "      <td>3</td>\n",
       "      <td>Heikkinen, Miss. Laina</td>\n",
       "      <td>female</td>\n",
       "      <td>26.0</td>\n",
       "      <td>0</td>\n",
       "      <td>0</td>\n",
       "      <td>STON/O2. 3101282</td>\n",
       "      <td>7.9250</td>\n",
       "      <td>NaN</td>\n",
       "      <td>S</td>\n",
       "    </tr>\n",
       "    <tr>\n",
       "      <th>3</th>\n",
       "      <td>4</td>\n",
       "      <td>1</td>\n",
       "      <td>1</td>\n",
       "      <td>Futrelle, Mrs. Jacques Heath (Lily May Peel)</td>\n",
       "      <td>female</td>\n",
       "      <td>35.0</td>\n",
       "      <td>1</td>\n",
       "      <td>0</td>\n",
       "      <td>113803</td>\n",
       "      <td>53.1000</td>\n",
       "      <td>C123</td>\n",
       "      <td>S</td>\n",
       "    </tr>\n",
       "    <tr>\n",
       "      <th>4</th>\n",
       "      <td>5</td>\n",
       "      <td>0</td>\n",
       "      <td>3</td>\n",
       "      <td>Allen, Mr. William Henry</td>\n",
       "      <td>male</td>\n",
       "      <td>35.0</td>\n",
       "      <td>0</td>\n",
       "      <td>0</td>\n",
       "      <td>373450</td>\n",
       "      <td>8.0500</td>\n",
       "      <td>NaN</td>\n",
       "      <td>S</td>\n",
       "    </tr>\n",
       "  </tbody>\n",
       "</table>\n",
       "</div>"
      ],
      "text/plain": [
       "   PassengerId  Survived  Pclass  \\\n",
       "0            1         0       3   \n",
       "1            2         1       1   \n",
       "2            3         1       3   \n",
       "3            4         1       1   \n",
       "4            5         0       3   \n",
       "\n",
       "                                                Name     Sex   Age  SibSp  \\\n",
       "0                            Braund, Mr. Owen Harris    male  22.0      1   \n",
       "1  Cumings, Mrs. John Bradley (Florence Briggs Th...  female  38.0      1   \n",
       "2                             Heikkinen, Miss. Laina  female  26.0      0   \n",
       "3       Futrelle, Mrs. Jacques Heath (Lily May Peel)  female  35.0      1   \n",
       "4                           Allen, Mr. William Henry    male  35.0      0   \n",
       "\n",
       "   Parch            Ticket     Fare Cabin Embarked  \n",
       "0      0         A/5 21171   7.2500   NaN        S  \n",
       "1      0          PC 17599  71.2833   C85        C  \n",
       "2      0  STON/O2. 3101282   7.9250   NaN        S  \n",
       "3      0            113803  53.1000  C123        S  \n",
       "4      0            373450   8.0500   NaN        S  "
      ]
     },
     "execution_count": 3,
     "metadata": {},
     "output_type": "execute_result"
    }
   ],
   "source": [
    "data.head(5)"
   ]
  },
  {
   "cell_type": "markdown",
   "id": "6a8acbb9",
   "metadata": {
    "papermill": {
     "duration": 0.014233,
     "end_time": "2024-05-07T11:17:09.689050",
     "exception": false,
     "start_time": "2024-05-07T11:17:09.674817",
     "status": "completed"
    },
    "tags": []
   },
   "source": [
    "- Generate random sample of df"
   ]
  },
  {
   "cell_type": "code",
   "execution_count": 4,
   "id": "d828abb3",
   "metadata": {
    "execution": {
     "iopub.execute_input": "2024-05-07T11:17:09.721813Z",
     "iopub.status.busy": "2024-05-07T11:17:09.720501Z",
     "iopub.status.idle": "2024-05-07T11:17:09.747433Z",
     "shell.execute_reply": "2024-05-07T11:17:09.746147Z"
    },
    "papermill": {
     "duration": 0.045843,
     "end_time": "2024-05-07T11:17:09.750027",
     "exception": false,
     "start_time": "2024-05-07T11:17:09.704184",
     "status": "completed"
    },
    "tags": []
   },
   "outputs": [
    {
     "data": {
      "text/html": [
       "<div>\n",
       "<style scoped>\n",
       "    .dataframe tbody tr th:only-of-type {\n",
       "        vertical-align: middle;\n",
       "    }\n",
       "\n",
       "    .dataframe tbody tr th {\n",
       "        vertical-align: top;\n",
       "    }\n",
       "\n",
       "    .dataframe thead th {\n",
       "        text-align: right;\n",
       "    }\n",
       "</style>\n",
       "<table border=\"1\" class=\"dataframe\">\n",
       "  <thead>\n",
       "    <tr style=\"text-align: right;\">\n",
       "      <th></th>\n",
       "      <th>PassengerId</th>\n",
       "      <th>Survived</th>\n",
       "      <th>Pclass</th>\n",
       "      <th>Name</th>\n",
       "      <th>Sex</th>\n",
       "      <th>Age</th>\n",
       "      <th>SibSp</th>\n",
       "      <th>Parch</th>\n",
       "      <th>Ticket</th>\n",
       "      <th>Fare</th>\n",
       "      <th>Cabin</th>\n",
       "      <th>Embarked</th>\n",
       "    </tr>\n",
       "  </thead>\n",
       "  <tbody>\n",
       "    <tr>\n",
       "      <th>595</th>\n",
       "      <td>596</td>\n",
       "      <td>0</td>\n",
       "      <td>3</td>\n",
       "      <td>Van Impe, Mr. Jean Baptiste</td>\n",
       "      <td>male</td>\n",
       "      <td>36.0</td>\n",
       "      <td>1</td>\n",
       "      <td>1</td>\n",
       "      <td>345773</td>\n",
       "      <td>24.150</td>\n",
       "      <td>NaN</td>\n",
       "      <td>S</td>\n",
       "    </tr>\n",
       "    <tr>\n",
       "      <th>790</th>\n",
       "      <td>791</td>\n",
       "      <td>0</td>\n",
       "      <td>3</td>\n",
       "      <td>Keane, Mr. Andrew \"Andy\"</td>\n",
       "      <td>male</td>\n",
       "      <td>NaN</td>\n",
       "      <td>0</td>\n",
       "      <td>0</td>\n",
       "      <td>12460</td>\n",
       "      <td>7.750</td>\n",
       "      <td>NaN</td>\n",
       "      <td>Q</td>\n",
       "    </tr>\n",
       "    <tr>\n",
       "      <th>853</th>\n",
       "      <td>854</td>\n",
       "      <td>1</td>\n",
       "      <td>1</td>\n",
       "      <td>Lines, Miss. Mary Conover</td>\n",
       "      <td>female</td>\n",
       "      <td>16.0</td>\n",
       "      <td>0</td>\n",
       "      <td>1</td>\n",
       "      <td>PC 17592</td>\n",
       "      <td>39.400</td>\n",
       "      <td>D28</td>\n",
       "      <td>S</td>\n",
       "    </tr>\n",
       "    <tr>\n",
       "      <th>61</th>\n",
       "      <td>62</td>\n",
       "      <td>1</td>\n",
       "      <td>1</td>\n",
       "      <td>Icard, Miss. Amelie</td>\n",
       "      <td>female</td>\n",
       "      <td>38.0</td>\n",
       "      <td>0</td>\n",
       "      <td>0</td>\n",
       "      <td>113572</td>\n",
       "      <td>80.000</td>\n",
       "      <td>B28</td>\n",
       "      <td>NaN</td>\n",
       "    </tr>\n",
       "    <tr>\n",
       "      <th>311</th>\n",
       "      <td>312</td>\n",
       "      <td>1</td>\n",
       "      <td>1</td>\n",
       "      <td>Ryerson, Miss. Emily Borie</td>\n",
       "      <td>female</td>\n",
       "      <td>18.0</td>\n",
       "      <td>2</td>\n",
       "      <td>2</td>\n",
       "      <td>PC 17608</td>\n",
       "      <td>262.375</td>\n",
       "      <td>B57 B59 B63 B66</td>\n",
       "      <td>C</td>\n",
       "    </tr>\n",
       "  </tbody>\n",
       "</table>\n",
       "</div>"
      ],
      "text/plain": [
       "     PassengerId  Survived  Pclass                         Name     Sex   Age  \\\n",
       "595          596         0       3  Van Impe, Mr. Jean Baptiste    male  36.0   \n",
       "790          791         0       3     Keane, Mr. Andrew \"Andy\"    male   NaN   \n",
       "853          854         1       1    Lines, Miss. Mary Conover  female  16.0   \n",
       "61            62         1       1          Icard, Miss. Amelie  female  38.0   \n",
       "311          312         1       1   Ryerson, Miss. Emily Borie  female  18.0   \n",
       "\n",
       "     SibSp  Parch    Ticket     Fare            Cabin Embarked  \n",
       "595      1      1    345773   24.150              NaN        S  \n",
       "790      0      0     12460    7.750              NaN        Q  \n",
       "853      0      1  PC 17592   39.400              D28        S  \n",
       "61       0      0    113572   80.000              B28      NaN  \n",
       "311      2      2  PC 17608  262.375  B57 B59 B63 B66        C  "
      ]
     },
     "execution_count": 4,
     "metadata": {},
     "output_type": "execute_result"
    }
   ],
   "source": [
    "data.sample(5)"
   ]
  },
  {
   "cell_type": "markdown",
   "id": "40bfb404",
   "metadata": {
    "papermill": {
     "duration": 0.014948,
     "end_time": "2024-05-07T11:17:09.780485",
     "exception": false,
     "start_time": "2024-05-07T11:17:09.765537",
     "status": "completed"
    },
    "tags": []
   },
   "source": [
    "- Returns last n rows of df"
   ]
  },
  {
   "cell_type": "code",
   "execution_count": 5,
   "id": "33f23a94",
   "metadata": {
    "execution": {
     "iopub.execute_input": "2024-05-07T11:17:09.813931Z",
     "iopub.status.busy": "2024-05-07T11:17:09.812949Z",
     "iopub.status.idle": "2024-05-07T11:17:09.832217Z",
     "shell.execute_reply": "2024-05-07T11:17:09.831089Z"
    },
    "papermill": {
     "duration": 0.038801,
     "end_time": "2024-05-07T11:17:09.834828",
     "exception": false,
     "start_time": "2024-05-07T11:17:09.796027",
     "status": "completed"
    },
    "tags": []
   },
   "outputs": [
    {
     "data": {
      "text/html": [
       "<div>\n",
       "<style scoped>\n",
       "    .dataframe tbody tr th:only-of-type {\n",
       "        vertical-align: middle;\n",
       "    }\n",
       "\n",
       "    .dataframe tbody tr th {\n",
       "        vertical-align: top;\n",
       "    }\n",
       "\n",
       "    .dataframe thead th {\n",
       "        text-align: right;\n",
       "    }\n",
       "</style>\n",
       "<table border=\"1\" class=\"dataframe\">\n",
       "  <thead>\n",
       "    <tr style=\"text-align: right;\">\n",
       "      <th></th>\n",
       "      <th>PassengerId</th>\n",
       "      <th>Survived</th>\n",
       "      <th>Pclass</th>\n",
       "      <th>Name</th>\n",
       "      <th>Sex</th>\n",
       "      <th>Age</th>\n",
       "      <th>SibSp</th>\n",
       "      <th>Parch</th>\n",
       "      <th>Ticket</th>\n",
       "      <th>Fare</th>\n",
       "      <th>Cabin</th>\n",
       "      <th>Embarked</th>\n",
       "    </tr>\n",
       "  </thead>\n",
       "  <tbody>\n",
       "    <tr>\n",
       "      <th>886</th>\n",
       "      <td>887</td>\n",
       "      <td>0</td>\n",
       "      <td>2</td>\n",
       "      <td>Montvila, Rev. Juozas</td>\n",
       "      <td>male</td>\n",
       "      <td>27.0</td>\n",
       "      <td>0</td>\n",
       "      <td>0</td>\n",
       "      <td>211536</td>\n",
       "      <td>13.00</td>\n",
       "      <td>NaN</td>\n",
       "      <td>S</td>\n",
       "    </tr>\n",
       "    <tr>\n",
       "      <th>887</th>\n",
       "      <td>888</td>\n",
       "      <td>1</td>\n",
       "      <td>1</td>\n",
       "      <td>Graham, Miss. Margaret Edith</td>\n",
       "      <td>female</td>\n",
       "      <td>19.0</td>\n",
       "      <td>0</td>\n",
       "      <td>0</td>\n",
       "      <td>112053</td>\n",
       "      <td>30.00</td>\n",
       "      <td>B42</td>\n",
       "      <td>S</td>\n",
       "    </tr>\n",
       "    <tr>\n",
       "      <th>888</th>\n",
       "      <td>889</td>\n",
       "      <td>0</td>\n",
       "      <td>3</td>\n",
       "      <td>Johnston, Miss. Catherine Helen \"Carrie\"</td>\n",
       "      <td>female</td>\n",
       "      <td>NaN</td>\n",
       "      <td>1</td>\n",
       "      <td>2</td>\n",
       "      <td>W./C. 6607</td>\n",
       "      <td>23.45</td>\n",
       "      <td>NaN</td>\n",
       "      <td>S</td>\n",
       "    </tr>\n",
       "    <tr>\n",
       "      <th>889</th>\n",
       "      <td>890</td>\n",
       "      <td>1</td>\n",
       "      <td>1</td>\n",
       "      <td>Behr, Mr. Karl Howell</td>\n",
       "      <td>male</td>\n",
       "      <td>26.0</td>\n",
       "      <td>0</td>\n",
       "      <td>0</td>\n",
       "      <td>111369</td>\n",
       "      <td>30.00</td>\n",
       "      <td>C148</td>\n",
       "      <td>C</td>\n",
       "    </tr>\n",
       "    <tr>\n",
       "      <th>890</th>\n",
       "      <td>891</td>\n",
       "      <td>0</td>\n",
       "      <td>3</td>\n",
       "      <td>Dooley, Mr. Patrick</td>\n",
       "      <td>male</td>\n",
       "      <td>32.0</td>\n",
       "      <td>0</td>\n",
       "      <td>0</td>\n",
       "      <td>370376</td>\n",
       "      <td>7.75</td>\n",
       "      <td>NaN</td>\n",
       "      <td>Q</td>\n",
       "    </tr>\n",
       "  </tbody>\n",
       "</table>\n",
       "</div>"
      ],
      "text/plain": [
       "     PassengerId  Survived  Pclass                                      Name  \\\n",
       "886          887         0       2                     Montvila, Rev. Juozas   \n",
       "887          888         1       1              Graham, Miss. Margaret Edith   \n",
       "888          889         0       3  Johnston, Miss. Catherine Helen \"Carrie\"   \n",
       "889          890         1       1                     Behr, Mr. Karl Howell   \n",
       "890          891         0       3                       Dooley, Mr. Patrick   \n",
       "\n",
       "        Sex   Age  SibSp  Parch      Ticket   Fare Cabin Embarked  \n",
       "886    male  27.0      0      0      211536  13.00   NaN        S  \n",
       "887  female  19.0      0      0      112053  30.00   B42        S  \n",
       "888  female   NaN      1      2  W./C. 6607  23.45   NaN        S  \n",
       "889    male  26.0      0      0      111369  30.00  C148        C  \n",
       "890    male  32.0      0      0      370376   7.75   NaN        Q  "
      ]
     },
     "execution_count": 5,
     "metadata": {},
     "output_type": "execute_result"
    }
   ],
   "source": [
    "data.tail(5)"
   ]
  },
  {
   "cell_type": "markdown",
   "id": "de5fc2db",
   "metadata": {
    "papermill": {
     "duration": 0.015522,
     "end_time": "2024-05-07T11:17:09.868314",
     "exception": false,
     "start_time": "2024-05-07T11:17:09.852792",
     "status": "completed"
    },
    "tags": []
   },
   "source": [
    "### info abt df\n",
    "- Information of Index, Datatype and Memory"
   ]
  },
  {
   "cell_type": "code",
   "execution_count": 6,
   "id": "1ef0b02b",
   "metadata": {
    "execution": {
     "iopub.execute_input": "2024-05-07T11:17:09.901465Z",
     "iopub.status.busy": "2024-05-07T11:17:09.901039Z",
     "iopub.status.idle": "2024-05-07T11:17:09.927116Z",
     "shell.execute_reply": "2024-05-07T11:17:09.926167Z"
    },
    "papermill": {
     "duration": 0.045937,
     "end_time": "2024-05-07T11:17:09.929915",
     "exception": false,
     "start_time": "2024-05-07T11:17:09.883978",
     "status": "completed"
    },
    "tags": []
   },
   "outputs": [
    {
     "name": "stdout",
     "output_type": "stream",
     "text": [
      "<class 'pandas.core.frame.DataFrame'>\n",
      "RangeIndex: 891 entries, 0 to 890\n",
      "Data columns (total 12 columns):\n",
      " #   Column       Non-Null Count  Dtype  \n",
      "---  ------       --------------  -----  \n",
      " 0   PassengerId  891 non-null    int64  \n",
      " 1   Survived     891 non-null    int64  \n",
      " 2   Pclass       891 non-null    int64  \n",
      " 3   Name         891 non-null    object \n",
      " 4   Sex          891 non-null    object \n",
      " 5   Age          714 non-null    float64\n",
      " 6   SibSp        891 non-null    int64  \n",
      " 7   Parch        891 non-null    int64  \n",
      " 8   Ticket       891 non-null    object \n",
      " 9   Fare         891 non-null    float64\n",
      " 10  Cabin        204 non-null    object \n",
      " 11  Embarked     889 non-null    object \n",
      "dtypes: float64(2), int64(5), object(5)\n",
      "memory usage: 83.7+ KB\n"
     ]
    }
   ],
   "source": [
    "data.info()"
   ]
  },
  {
   "cell_type": "markdown",
   "id": "ce3d5d46",
   "metadata": {
    "papermill": {
     "duration": 0.01546,
     "end_time": "2024-05-07T11:17:09.961531",
     "exception": false,
     "start_time": "2024-05-07T11:17:09.946071",
     "status": "completed"
    },
    "tags": []
   },
   "source": [
    "### describe df\n",
    "- Summary statistics for numerical columns."
   ]
  },
  {
   "cell_type": "code",
   "execution_count": 7,
   "id": "53881e85",
   "metadata": {
    "execution": {
     "iopub.execute_input": "2024-05-07T11:17:09.996925Z",
     "iopub.status.busy": "2024-05-07T11:17:09.996026Z",
     "iopub.status.idle": "2024-05-07T11:17:10.031167Z",
     "shell.execute_reply": "2024-05-07T11:17:10.029866Z"
    },
    "papermill": {
     "duration": 0.055724,
     "end_time": "2024-05-07T11:17:10.034270",
     "exception": false,
     "start_time": "2024-05-07T11:17:09.978546",
     "status": "completed"
    },
    "tags": []
   },
   "outputs": [
    {
     "data": {
      "text/html": [
       "<div>\n",
       "<style scoped>\n",
       "    .dataframe tbody tr th:only-of-type {\n",
       "        vertical-align: middle;\n",
       "    }\n",
       "\n",
       "    .dataframe tbody tr th {\n",
       "        vertical-align: top;\n",
       "    }\n",
       "\n",
       "    .dataframe thead th {\n",
       "        text-align: right;\n",
       "    }\n",
       "</style>\n",
       "<table border=\"1\" class=\"dataframe\">\n",
       "  <thead>\n",
       "    <tr style=\"text-align: right;\">\n",
       "      <th></th>\n",
       "      <th>PassengerId</th>\n",
       "      <th>Survived</th>\n",
       "      <th>Pclass</th>\n",
       "      <th>Age</th>\n",
       "      <th>SibSp</th>\n",
       "      <th>Parch</th>\n",
       "      <th>Fare</th>\n",
       "    </tr>\n",
       "  </thead>\n",
       "  <tbody>\n",
       "    <tr>\n",
       "      <th>count</th>\n",
       "      <td>891.000000</td>\n",
       "      <td>891.000000</td>\n",
       "      <td>891.000000</td>\n",
       "      <td>714.000000</td>\n",
       "      <td>891.000000</td>\n",
       "      <td>891.000000</td>\n",
       "      <td>891.000000</td>\n",
       "    </tr>\n",
       "    <tr>\n",
       "      <th>mean</th>\n",
       "      <td>446.000000</td>\n",
       "      <td>0.383838</td>\n",
       "      <td>2.308642</td>\n",
       "      <td>29.699118</td>\n",
       "      <td>0.523008</td>\n",
       "      <td>0.381594</td>\n",
       "      <td>32.204208</td>\n",
       "    </tr>\n",
       "    <tr>\n",
       "      <th>std</th>\n",
       "      <td>257.353842</td>\n",
       "      <td>0.486592</td>\n",
       "      <td>0.836071</td>\n",
       "      <td>14.526497</td>\n",
       "      <td>1.102743</td>\n",
       "      <td>0.806057</td>\n",
       "      <td>49.693429</td>\n",
       "    </tr>\n",
       "    <tr>\n",
       "      <th>min</th>\n",
       "      <td>1.000000</td>\n",
       "      <td>0.000000</td>\n",
       "      <td>1.000000</td>\n",
       "      <td>0.420000</td>\n",
       "      <td>0.000000</td>\n",
       "      <td>0.000000</td>\n",
       "      <td>0.000000</td>\n",
       "    </tr>\n",
       "    <tr>\n",
       "      <th>25%</th>\n",
       "      <td>223.500000</td>\n",
       "      <td>0.000000</td>\n",
       "      <td>2.000000</td>\n",
       "      <td>20.125000</td>\n",
       "      <td>0.000000</td>\n",
       "      <td>0.000000</td>\n",
       "      <td>7.910400</td>\n",
       "    </tr>\n",
       "    <tr>\n",
       "      <th>50%</th>\n",
       "      <td>446.000000</td>\n",
       "      <td>0.000000</td>\n",
       "      <td>3.000000</td>\n",
       "      <td>28.000000</td>\n",
       "      <td>0.000000</td>\n",
       "      <td>0.000000</td>\n",
       "      <td>14.454200</td>\n",
       "    </tr>\n",
       "    <tr>\n",
       "      <th>75%</th>\n",
       "      <td>668.500000</td>\n",
       "      <td>1.000000</td>\n",
       "      <td>3.000000</td>\n",
       "      <td>38.000000</td>\n",
       "      <td>1.000000</td>\n",
       "      <td>0.000000</td>\n",
       "      <td>31.000000</td>\n",
       "    </tr>\n",
       "    <tr>\n",
       "      <th>max</th>\n",
       "      <td>891.000000</td>\n",
       "      <td>1.000000</td>\n",
       "      <td>3.000000</td>\n",
       "      <td>80.000000</td>\n",
       "      <td>8.000000</td>\n",
       "      <td>6.000000</td>\n",
       "      <td>512.329200</td>\n",
       "    </tr>\n",
       "  </tbody>\n",
       "</table>\n",
       "</div>"
      ],
      "text/plain": [
       "       PassengerId    Survived      Pclass         Age       SibSp  \\\n",
       "count   891.000000  891.000000  891.000000  714.000000  891.000000   \n",
       "mean    446.000000    0.383838    2.308642   29.699118    0.523008   \n",
       "std     257.353842    0.486592    0.836071   14.526497    1.102743   \n",
       "min       1.000000    0.000000    1.000000    0.420000    0.000000   \n",
       "25%     223.500000    0.000000    2.000000   20.125000    0.000000   \n",
       "50%     446.000000    0.000000    3.000000   28.000000    0.000000   \n",
       "75%     668.500000    1.000000    3.000000   38.000000    1.000000   \n",
       "max     891.000000    1.000000    3.000000   80.000000    8.000000   \n",
       "\n",
       "            Parch        Fare  \n",
       "count  891.000000  891.000000  \n",
       "mean     0.381594   32.204208  \n",
       "std      0.806057   49.693429  \n",
       "min      0.000000    0.000000  \n",
       "25%      0.000000    7.910400  \n",
       "50%      0.000000   14.454200  \n",
       "75%      0.000000   31.000000  \n",
       "max      6.000000  512.329200  "
      ]
     },
     "execution_count": 7,
     "metadata": {},
     "output_type": "execute_result"
    }
   ],
   "source": [
    "data.describe()"
   ]
  },
  {
   "cell_type": "markdown",
   "id": "4ce0fb99",
   "metadata": {
    "papermill": {
     "duration": 0.017971,
     "end_time": "2024-05-07T11:17:10.069716",
     "exception": false,
     "start_time": "2024-05-07T11:17:10.051745",
     "status": "completed"
    },
    "tags": []
   },
   "source": [
    "### shape of df\n",
    "- Returns number of rows and columns. "
   ]
  },
  {
   "cell_type": "code",
   "execution_count": 8,
   "id": "393d3b75",
   "metadata": {
    "execution": {
     "iopub.execute_input": "2024-05-07T11:17:10.108997Z",
     "iopub.status.busy": "2024-05-07T11:17:10.108352Z",
     "iopub.status.idle": "2024-05-07T11:17:10.115858Z",
     "shell.execute_reply": "2024-05-07T11:17:10.114630Z"
    },
    "papermill": {
     "duration": 0.031065,
     "end_time": "2024-05-07T11:17:10.118824",
     "exception": false,
     "start_time": "2024-05-07T11:17:10.087759",
     "status": "completed"
    },
    "tags": []
   },
   "outputs": [
    {
     "data": {
      "text/plain": [
       "(891, 12)"
      ]
     },
     "execution_count": 8,
     "metadata": {},
     "output_type": "execute_result"
    }
   ],
   "source": [
    "# method in pd\n",
    "data.shape"
   ]
  },
  {
   "cell_type": "markdown",
   "id": "d3b0f818",
   "metadata": {
    "papermill": {
     "duration": 0.015945,
     "end_time": "2024-05-07T11:17:10.152051",
     "exception": false,
     "start_time": "2024-05-07T11:17:10.136106",
     "status": "completed"
    },
    "tags": []
   },
   "source": [
    "# Functions"
   ]
  },
  {
   "cell_type": "markdown",
   "id": "1b90aff9",
   "metadata": {
    "papermill": {
     "duration": 0.017248,
     "end_time": "2024-05-07T11:17:10.186321",
     "exception": false,
     "start_time": "2024-05-07T11:17:10.169073",
     "status": "completed"
    },
    "tags": []
   },
   "source": [
    "- Returns mean of all columns"
   ]
  },
  {
   "cell_type": "code",
   "execution_count": 9,
   "id": "7d6447c4",
   "metadata": {
    "execution": {
     "iopub.execute_input": "2024-05-07T11:17:10.224082Z",
     "iopub.status.busy": "2024-05-07T11:17:10.222807Z",
     "iopub.status.idle": "2024-05-07T11:17:10.234668Z",
     "shell.execute_reply": "2024-05-07T11:17:10.233005Z"
    },
    "papermill": {
     "duration": 0.034019,
     "end_time": "2024-05-07T11:17:10.237996",
     "exception": false,
     "start_time": "2024-05-07T11:17:10.203977",
     "status": "completed"
    },
    "tags": []
   },
   "outputs": [
    {
     "name": "stdout",
     "output_type": "stream",
     "text": [
      "PassengerId    446.000000\n",
      "Survived         0.383838\n",
      "Pclass           2.308642\n",
      "Age             29.699118\n",
      "SibSp            0.523008\n",
      "Parch            0.381594\n",
      "Fare            32.204208\n",
      "dtype: float64\n"
     ]
    }
   ],
   "source": [
    "mean = data._get_numeric_data()\n",
    "print(mean.mean())"
   ]
  },
  {
   "cell_type": "markdown",
   "id": "13635fa0",
   "metadata": {
    "papermill": {
     "duration": 0.016106,
     "end_time": "2024-05-07T11:17:10.270765",
     "exception": false,
     "start_time": "2024-05-07T11:17:10.254659",
     "status": "completed"
    },
    "tags": []
   },
   "source": [
    "#### error bcz we have some non-numeric coulmns in df"
   ]
  },
  {
   "cell_type": "code",
   "execution_count": 10,
   "id": "43700930",
   "metadata": {
    "execution": {
     "iopub.execute_input": "2024-05-07T11:17:10.306932Z",
     "iopub.status.busy": "2024-05-07T11:17:10.306165Z",
     "iopub.status.idle": "2024-05-07T11:17:10.315468Z",
     "shell.execute_reply": "2024-05-07T11:17:10.314519Z"
    },
    "papermill": {
     "duration": 0.029712,
     "end_time": "2024-05-07T11:17:10.317829",
     "exception": false,
     "start_time": "2024-05-07T11:17:10.288117",
     "status": "completed"
    },
    "tags": []
   },
   "outputs": [
    {
     "data": {
      "text/plain": [
       "PassengerId    446.000000\n",
       "Survived         0.383838\n",
       "Pclass           2.308642\n",
       "Age             29.699118\n",
       "SibSp            0.523008\n",
       "Parch            0.381594\n",
       "Fare            32.204208\n",
       "dtype: float64"
      ]
     },
     "execution_count": 10,
     "metadata": {},
     "output_type": "execute_result"
    }
   ],
   "source": [
    "numeric_data = data.select_dtypes(include='number')\n",
    "\n",
    "numeric_data.mean()"
   ]
  },
  {
   "cell_type": "markdown",
   "id": "11dfb404",
   "metadata": {
    "papermill": {
     "duration": 0.111516,
     "end_time": "2024-05-07T11:17:10.446098",
     "exception": false,
     "start_time": "2024-05-07T11:17:10.334582",
     "status": "completed"
    },
    "tags": []
   },
   "source": [
    "- mean of single column"
   ]
  },
  {
   "cell_type": "code",
   "execution_count": 11,
   "id": "2e898279",
   "metadata": {
    "execution": {
     "iopub.execute_input": "2024-05-07T11:17:10.482011Z",
     "iopub.status.busy": "2024-05-07T11:17:10.481300Z",
     "iopub.status.idle": "2024-05-07T11:17:10.487783Z",
     "shell.execute_reply": "2024-05-07T11:17:10.486875Z"
    },
    "papermill": {
     "duration": 0.027157,
     "end_time": "2024-05-07T11:17:10.490176",
     "exception": false,
     "start_time": "2024-05-07T11:17:10.463019",
     "status": "completed"
    },
    "tags": []
   },
   "outputs": [
    {
     "data": {
      "text/plain": [
       "29.69911764705882"
      ]
     },
     "execution_count": 11,
     "metadata": {},
     "output_type": "execute_result"
    }
   ],
   "source": [
    "data['Age'].mean()"
   ]
  },
  {
   "cell_type": "markdown",
   "id": "b393d4cb",
   "metadata": {
    "papermill": {
     "duration": 0.018799,
     "end_time": "2024-05-07T11:17:10.526177",
     "exception": false,
     "start_time": "2024-05-07T11:17:10.507378",
     "status": "completed"
    },
    "tags": []
   },
   "source": [
    "- Median of age col"
   ]
  },
  {
   "cell_type": "code",
   "execution_count": 12,
   "id": "e5411567",
   "metadata": {
    "execution": {
     "iopub.execute_input": "2024-05-07T11:17:10.564010Z",
     "iopub.status.busy": "2024-05-07T11:17:10.563286Z",
     "iopub.status.idle": "2024-05-07T11:17:10.570866Z",
     "shell.execute_reply": "2024-05-07T11:17:10.569665Z"
    },
    "papermill": {
     "duration": 0.02934,
     "end_time": "2024-05-07T11:17:10.573831",
     "exception": false,
     "start_time": "2024-05-07T11:17:10.544491",
     "status": "completed"
    },
    "tags": []
   },
   "outputs": [
    {
     "data": {
      "text/plain": [
       "28.0"
      ]
     },
     "execution_count": 12,
     "metadata": {},
     "output_type": "execute_result"
    }
   ],
   "source": [
    "data['Age'].median()"
   ]
  },
  {
   "cell_type": "markdown",
   "id": "a0b93ee2",
   "metadata": {
    "papermill": {
     "duration": 0.017096,
     "end_time": "2024-05-07T11:17:10.609590",
     "exception": false,
     "start_time": "2024-05-07T11:17:10.592494",
     "status": "completed"
    },
    "tags": []
   },
   "source": [
    "- Standard deviation of Age col"
   ]
  },
  {
   "cell_type": "code",
   "execution_count": 13,
   "id": "2afa1348",
   "metadata": {
    "execution": {
     "iopub.execute_input": "2024-05-07T11:17:10.645851Z",
     "iopub.status.busy": "2024-05-07T11:17:10.645435Z",
     "iopub.status.idle": "2024-05-07T11:17:10.653518Z",
     "shell.execute_reply": "2024-05-07T11:17:10.652216Z"
    },
    "papermill": {
     "duration": 0.029358,
     "end_time": "2024-05-07T11:17:10.655927",
     "exception": false,
     "start_time": "2024-05-07T11:17:10.626569",
     "status": "completed"
    },
    "tags": []
   },
   "outputs": [
    {
     "data": {
      "text/plain": [
       "14.526497332334042"
      ]
     },
     "execution_count": 13,
     "metadata": {},
     "output_type": "execute_result"
    }
   ],
   "source": [
    "data['Age'].std()"
   ]
  },
  {
   "cell_type": "markdown",
   "id": "cd244065",
   "metadata": {
    "papermill": {
     "duration": 0.01746,
     "end_time": "2024-05-07T11:17:10.690792",
     "exception": false,
     "start_time": "2024-05-07T11:17:10.673332",
     "status": "completed"
    },
    "tags": []
   },
   "source": [
    "- Variance of Age col"
   ]
  },
  {
   "cell_type": "code",
   "execution_count": 14,
   "id": "35273300",
   "metadata": {
    "execution": {
     "iopub.execute_input": "2024-05-07T11:17:10.730570Z",
     "iopub.status.busy": "2024-05-07T11:17:10.729085Z",
     "iopub.status.idle": "2024-05-07T11:17:10.738449Z",
     "shell.execute_reply": "2024-05-07T11:17:10.737062Z"
    },
    "papermill": {
     "duration": 0.031235,
     "end_time": "2024-05-07T11:17:10.741019",
     "exception": false,
     "start_time": "2024-05-07T11:17:10.709784",
     "status": "completed"
    },
    "tags": []
   },
   "outputs": [
    {
     "data": {
      "text/plain": [
       "211.01912474630802"
      ]
     },
     "execution_count": 14,
     "metadata": {},
     "output_type": "execute_result"
    }
   ],
   "source": [
    "data['Age'].var()"
   ]
  },
  {
   "cell_type": "markdown",
   "id": "96194fa1",
   "metadata": {
    "papermill": {
     "duration": 0.01771,
     "end_time": "2024-05-07T11:17:10.776372",
     "exception": false,
     "start_time": "2024-05-07T11:17:10.758662",
     "status": "completed"
    },
    "tags": []
   },
   "source": [
    "- return minimum value in col"
   ]
  },
  {
   "cell_type": "code",
   "execution_count": 15,
   "id": "f7d51acd",
   "metadata": {
    "execution": {
     "iopub.execute_input": "2024-05-07T11:17:10.815566Z",
     "iopub.status.busy": "2024-05-07T11:17:10.814085Z",
     "iopub.status.idle": "2024-05-07T11:17:10.823466Z",
     "shell.execute_reply": "2024-05-07T11:17:10.822234Z"
    },
    "papermill": {
     "duration": 0.031217,
     "end_time": "2024-05-07T11:17:10.825824",
     "exception": false,
     "start_time": "2024-05-07T11:17:10.794607",
     "status": "completed"
    },
    "tags": []
   },
   "outputs": [
    {
     "data": {
      "text/plain": [
       "0.42"
      ]
     },
     "execution_count": 15,
     "metadata": {},
     "output_type": "execute_result"
    }
   ],
   "source": [
    "data['Age'].min()"
   ]
  },
  {
   "cell_type": "markdown",
   "id": "8d6b607b",
   "metadata": {
    "papermill": {
     "duration": 0.018684,
     "end_time": "2024-05-07T11:17:10.861972",
     "exception": false,
     "start_time": "2024-05-07T11:17:10.843288",
     "status": "completed"
    },
    "tags": []
   },
   "source": [
    "- return maximum value in col"
   ]
  },
  {
   "cell_type": "code",
   "execution_count": 16,
   "id": "fc1fd61c",
   "metadata": {
    "execution": {
     "iopub.execute_input": "2024-05-07T11:17:10.899750Z",
     "iopub.status.busy": "2024-05-07T11:17:10.899047Z",
     "iopub.status.idle": "2024-05-07T11:17:10.905695Z",
     "shell.execute_reply": "2024-05-07T11:17:10.904822Z"
    },
    "papermill": {
     "duration": 0.028418,
     "end_time": "2024-05-07T11:17:10.908001",
     "exception": false,
     "start_time": "2024-05-07T11:17:10.879583",
     "status": "completed"
    },
    "tags": []
   },
   "outputs": [
    {
     "data": {
      "text/plain": [
       "80.0"
      ]
     },
     "execution_count": 16,
     "metadata": {},
     "output_type": "execute_result"
    }
   ],
   "source": [
    "data['Age'].max()"
   ]
  },
  {
   "cell_type": "markdown",
   "id": "8e77b9fa",
   "metadata": {
    "papermill": {
     "duration": 0.017336,
     "end_time": "2024-05-07T11:17:10.942993",
     "exception": false,
     "start_time": "2024-05-07T11:17:10.925657",
     "status": "completed"
    },
    "tags": []
   },
   "source": [
    "- returns number of non-null values in df"
   ]
  },
  {
   "cell_type": "code",
   "execution_count": 17,
   "id": "d97a6f42",
   "metadata": {
    "execution": {
     "iopub.execute_input": "2024-05-07T11:17:10.980919Z",
     "iopub.status.busy": "2024-05-07T11:17:10.980506Z",
     "iopub.status.idle": "2024-05-07T11:17:10.993131Z",
     "shell.execute_reply": "2024-05-07T11:17:10.991758Z"
    },
    "papermill": {
     "duration": 0.035558,
     "end_time": "2024-05-07T11:17:10.996288",
     "exception": false,
     "start_time": "2024-05-07T11:17:10.960730",
     "status": "completed"
    },
    "tags": []
   },
   "outputs": [
    {
     "data": {
      "text/plain": [
       "PassengerId    891\n",
       "Survived       891\n",
       "Pclass         891\n",
       "Name           891\n",
       "Sex            891\n",
       "Age            714\n",
       "SibSp          891\n",
       "Parch          891\n",
       "Ticket         891\n",
       "Fare           891\n",
       "Cabin          204\n",
       "Embarked       889\n",
       "dtype: int64"
      ]
     },
     "execution_count": 17,
     "metadata": {},
     "output_type": "execute_result"
    }
   ],
   "source": [
    "data.count()"
   ]
  },
  {
   "cell_type": "markdown",
   "id": "005019f7",
   "metadata": {
    "papermill": {
     "duration": 0.01771,
     "end_time": "2024-05-07T11:17:11.032800",
     "exception": false,
     "start_time": "2024-05-07T11:17:11.015090",
     "status": "completed"
    },
    "tags": []
   },
   "source": [
    "- returns number of non-null values in col"
   ]
  },
  {
   "cell_type": "code",
   "execution_count": 18,
   "id": "eb674cbf",
   "metadata": {
    "execution": {
     "iopub.execute_input": "2024-05-07T11:17:11.071533Z",
     "iopub.status.busy": "2024-05-07T11:17:11.071017Z",
     "iopub.status.idle": "2024-05-07T11:17:11.080966Z",
     "shell.execute_reply": "2024-05-07T11:17:11.078953Z"
    },
    "papermill": {
     "duration": 0.033461,
     "end_time": "2024-05-07T11:17:11.084201",
     "exception": false,
     "start_time": "2024-05-07T11:17:11.050740",
     "status": "completed"
    },
    "tags": []
   },
   "outputs": [
    {
     "data": {
      "text/plain": [
       "714"
      ]
     },
     "execution_count": 18,
     "metadata": {},
     "output_type": "execute_result"
    }
   ],
   "source": [
    "data['Age'].count()"
   ]
  },
  {
   "cell_type": "markdown",
   "id": "c404b6fc",
   "metadata": {
    "papermill": {
     "duration": 0.018205,
     "end_time": "2024-05-07T11:17:11.121940",
     "exception": false,
     "start_time": "2024-05-07T11:17:11.103735",
     "status": "completed"
    },
    "tags": []
   },
   "source": [
    "- Returns numeric value null values exists.\n"
   ]
  },
  {
   "cell_type": "code",
   "execution_count": 19,
   "id": "6be59a0f",
   "metadata": {
    "execution": {
     "iopub.execute_input": "2024-05-07T11:17:11.160818Z",
     "iopub.status.busy": "2024-05-07T11:17:11.160355Z",
     "iopub.status.idle": "2024-05-07T11:17:11.184642Z",
     "shell.execute_reply": "2024-05-07T11:17:11.183106Z"
    },
    "papermill": {
     "duration": 0.047351,
     "end_time": "2024-05-07T11:17:11.187506",
     "exception": false,
     "start_time": "2024-05-07T11:17:11.140155",
     "status": "completed"
    },
    "tags": []
   },
   "outputs": [
    {
     "data": {
      "text/html": [
       "<div>\n",
       "<style scoped>\n",
       "    .dataframe tbody tr th:only-of-type {\n",
       "        vertical-align: middle;\n",
       "    }\n",
       "\n",
       "    .dataframe tbody tr th {\n",
       "        vertical-align: top;\n",
       "    }\n",
       "\n",
       "    .dataframe thead th {\n",
       "        text-align: right;\n",
       "    }\n",
       "</style>\n",
       "<table border=\"1\" class=\"dataframe\">\n",
       "  <thead>\n",
       "    <tr style=\"text-align: right;\">\n",
       "      <th></th>\n",
       "      <th>PassengerId</th>\n",
       "      <th>Survived</th>\n",
       "      <th>Pclass</th>\n",
       "      <th>Name</th>\n",
       "      <th>Sex</th>\n",
       "      <th>Age</th>\n",
       "      <th>SibSp</th>\n",
       "      <th>Parch</th>\n",
       "      <th>Ticket</th>\n",
       "      <th>Fare</th>\n",
       "      <th>Cabin</th>\n",
       "      <th>Embarked</th>\n",
       "    </tr>\n",
       "  </thead>\n",
       "  <tbody>\n",
       "    <tr>\n",
       "      <th>0</th>\n",
       "      <td>False</td>\n",
       "      <td>False</td>\n",
       "      <td>False</td>\n",
       "      <td>False</td>\n",
       "      <td>False</td>\n",
       "      <td>False</td>\n",
       "      <td>False</td>\n",
       "      <td>False</td>\n",
       "      <td>False</td>\n",
       "      <td>False</td>\n",
       "      <td>True</td>\n",
       "      <td>False</td>\n",
       "    </tr>\n",
       "    <tr>\n",
       "      <th>1</th>\n",
       "      <td>False</td>\n",
       "      <td>False</td>\n",
       "      <td>False</td>\n",
       "      <td>False</td>\n",
       "      <td>False</td>\n",
       "      <td>False</td>\n",
       "      <td>False</td>\n",
       "      <td>False</td>\n",
       "      <td>False</td>\n",
       "      <td>False</td>\n",
       "      <td>False</td>\n",
       "      <td>False</td>\n",
       "    </tr>\n",
       "    <tr>\n",
       "      <th>2</th>\n",
       "      <td>False</td>\n",
       "      <td>False</td>\n",
       "      <td>False</td>\n",
       "      <td>False</td>\n",
       "      <td>False</td>\n",
       "      <td>False</td>\n",
       "      <td>False</td>\n",
       "      <td>False</td>\n",
       "      <td>False</td>\n",
       "      <td>False</td>\n",
       "      <td>True</td>\n",
       "      <td>False</td>\n",
       "    </tr>\n",
       "    <tr>\n",
       "      <th>3</th>\n",
       "      <td>False</td>\n",
       "      <td>False</td>\n",
       "      <td>False</td>\n",
       "      <td>False</td>\n",
       "      <td>False</td>\n",
       "      <td>False</td>\n",
       "      <td>False</td>\n",
       "      <td>False</td>\n",
       "      <td>False</td>\n",
       "      <td>False</td>\n",
       "      <td>False</td>\n",
       "      <td>False</td>\n",
       "    </tr>\n",
       "    <tr>\n",
       "      <th>4</th>\n",
       "      <td>False</td>\n",
       "      <td>False</td>\n",
       "      <td>False</td>\n",
       "      <td>False</td>\n",
       "      <td>False</td>\n",
       "      <td>False</td>\n",
       "      <td>False</td>\n",
       "      <td>False</td>\n",
       "      <td>False</td>\n",
       "      <td>False</td>\n",
       "      <td>True</td>\n",
       "      <td>False</td>\n",
       "    </tr>\n",
       "    <tr>\n",
       "      <th>...</th>\n",
       "      <td>...</td>\n",
       "      <td>...</td>\n",
       "      <td>...</td>\n",
       "      <td>...</td>\n",
       "      <td>...</td>\n",
       "      <td>...</td>\n",
       "      <td>...</td>\n",
       "      <td>...</td>\n",
       "      <td>...</td>\n",
       "      <td>...</td>\n",
       "      <td>...</td>\n",
       "      <td>...</td>\n",
       "    </tr>\n",
       "    <tr>\n",
       "      <th>886</th>\n",
       "      <td>False</td>\n",
       "      <td>False</td>\n",
       "      <td>False</td>\n",
       "      <td>False</td>\n",
       "      <td>False</td>\n",
       "      <td>False</td>\n",
       "      <td>False</td>\n",
       "      <td>False</td>\n",
       "      <td>False</td>\n",
       "      <td>False</td>\n",
       "      <td>True</td>\n",
       "      <td>False</td>\n",
       "    </tr>\n",
       "    <tr>\n",
       "      <th>887</th>\n",
       "      <td>False</td>\n",
       "      <td>False</td>\n",
       "      <td>False</td>\n",
       "      <td>False</td>\n",
       "      <td>False</td>\n",
       "      <td>False</td>\n",
       "      <td>False</td>\n",
       "      <td>False</td>\n",
       "      <td>False</td>\n",
       "      <td>False</td>\n",
       "      <td>False</td>\n",
       "      <td>False</td>\n",
       "    </tr>\n",
       "    <tr>\n",
       "      <th>888</th>\n",
       "      <td>False</td>\n",
       "      <td>False</td>\n",
       "      <td>False</td>\n",
       "      <td>False</td>\n",
       "      <td>False</td>\n",
       "      <td>True</td>\n",
       "      <td>False</td>\n",
       "      <td>False</td>\n",
       "      <td>False</td>\n",
       "      <td>False</td>\n",
       "      <td>True</td>\n",
       "      <td>False</td>\n",
       "    </tr>\n",
       "    <tr>\n",
       "      <th>889</th>\n",
       "      <td>False</td>\n",
       "      <td>False</td>\n",
       "      <td>False</td>\n",
       "      <td>False</td>\n",
       "      <td>False</td>\n",
       "      <td>False</td>\n",
       "      <td>False</td>\n",
       "      <td>False</td>\n",
       "      <td>False</td>\n",
       "      <td>False</td>\n",
       "      <td>False</td>\n",
       "      <td>False</td>\n",
       "    </tr>\n",
       "    <tr>\n",
       "      <th>890</th>\n",
       "      <td>False</td>\n",
       "      <td>False</td>\n",
       "      <td>False</td>\n",
       "      <td>False</td>\n",
       "      <td>False</td>\n",
       "      <td>False</td>\n",
       "      <td>False</td>\n",
       "      <td>False</td>\n",
       "      <td>False</td>\n",
       "      <td>False</td>\n",
       "      <td>True</td>\n",
       "      <td>False</td>\n",
       "    </tr>\n",
       "  </tbody>\n",
       "</table>\n",
       "<p>891 rows × 12 columns</p>\n",
       "</div>"
      ],
      "text/plain": [
       "     PassengerId  Survived  Pclass   Name    Sex    Age  SibSp  Parch  Ticket  \\\n",
       "0          False     False   False  False  False  False  False  False   False   \n",
       "1          False     False   False  False  False  False  False  False   False   \n",
       "2          False     False   False  False  False  False  False  False   False   \n",
       "3          False     False   False  False  False  False  False  False   False   \n",
       "4          False     False   False  False  False  False  False  False   False   \n",
       "..           ...       ...     ...    ...    ...    ...    ...    ...     ...   \n",
       "886        False     False   False  False  False  False  False  False   False   \n",
       "887        False     False   False  False  False  False  False  False   False   \n",
       "888        False     False   False  False  False   True  False  False   False   \n",
       "889        False     False   False  False  False  False  False  False   False   \n",
       "890        False     False   False  False  False  False  False  False   False   \n",
       "\n",
       "      Fare  Cabin  Embarked  \n",
       "0    False   True     False  \n",
       "1    False  False     False  \n",
       "2    False   True     False  \n",
       "3    False  False     False  \n",
       "4    False   True     False  \n",
       "..     ...    ...       ...  \n",
       "886  False   True     False  \n",
       "887  False  False     False  \n",
       "888  False   True     False  \n",
       "889  False  False     False  \n",
       "890  False   True     False  \n",
       "\n",
       "[891 rows x 12 columns]"
      ]
     },
     "execution_count": 19,
     "metadata": {},
     "output_type": "execute_result"
    }
   ],
   "source": [
    "data.isnull()"
   ]
  },
  {
   "cell_type": "markdown",
   "id": "977e99a2",
   "metadata": {
    "papermill": {
     "duration": 0.019861,
     "end_time": "2024-05-07T11:17:11.226986",
     "exception": false,
     "start_time": "2024-05-07T11:17:11.207125",
     "status": "completed"
    },
    "tags": []
   },
   "source": [
    "- Total number of null value in each col"
   ]
  },
  {
   "cell_type": "code",
   "execution_count": 20,
   "id": "6acdc3a3",
   "metadata": {
    "execution": {
     "iopub.execute_input": "2024-05-07T11:17:11.266903Z",
     "iopub.status.busy": "2024-05-07T11:17:11.266499Z",
     "iopub.status.idle": "2024-05-07T11:17:11.275796Z",
     "shell.execute_reply": "2024-05-07T11:17:11.274939Z"
    },
    "papermill": {
     "duration": 0.033151,
     "end_time": "2024-05-07T11:17:11.279277",
     "exception": false,
     "start_time": "2024-05-07T11:17:11.246126",
     "status": "completed"
    },
    "tags": []
   },
   "outputs": [
    {
     "data": {
      "text/plain": [
       "PassengerId      0\n",
       "Survived         0\n",
       "Pclass           0\n",
       "Name             0\n",
       "Sex              0\n",
       "Age            177\n",
       "SibSp            0\n",
       "Parch            0\n",
       "Ticket           0\n",
       "Fare             0\n",
       "Cabin          687\n",
       "Embarked         2\n",
       "dtype: int64"
      ]
     },
     "execution_count": 20,
     "metadata": {},
     "output_type": "execute_result"
    }
   ],
   "source": [
    "data.isnull().sum()"
   ]
  },
  {
   "cell_type": "markdown",
   "id": "beeac552",
   "metadata": {
    "papermill": {
     "duration": 0.018913,
     "end_time": "2024-05-07T11:17:11.319584",
     "exception": false,
     "start_time": "2024-05-07T11:17:11.300671",
     "status": "completed"
    },
    "tags": []
   },
   "source": [
    "- Returns total number of null data"
   ]
  },
  {
   "cell_type": "code",
   "execution_count": 21,
   "id": "9d65fbf6",
   "metadata": {
    "execution": {
     "iopub.execute_input": "2024-05-07T11:17:11.364546Z",
     "iopub.status.busy": "2024-05-07T11:17:11.364105Z",
     "iopub.status.idle": "2024-05-07T11:17:11.374598Z",
     "shell.execute_reply": "2024-05-07T11:17:11.373096Z"
    },
    "papermill": {
     "duration": 0.036748,
     "end_time": "2024-05-07T11:17:11.377859",
     "exception": false,
     "start_time": "2024-05-07T11:17:11.341111",
     "status": "completed"
    },
    "tags": []
   },
   "outputs": [
    {
     "data": {
      "text/plain": [
       "866"
      ]
     },
     "execution_count": 21,
     "metadata": {},
     "output_type": "execute_result"
    }
   ],
   "source": [
    "data.isnull().sum().sum()"
   ]
  },
  {
   "cell_type": "markdown",
   "id": "4dcfe78e",
   "metadata": {
    "papermill": {
     "duration": 0.020572,
     "end_time": "2024-05-07T11:17:11.418335",
     "exception": false,
     "start_time": "2024-05-07T11:17:11.397763",
     "status": "completed"
    },
    "tags": []
   },
   "source": [
    "# Plotting\n",
    "\n"
   ]
  },
  {
   "cell_type": "markdown",
   "id": "9766e7b0",
   "metadata": {
    "papermill": {
     "duration": 0.019631,
     "end_time": "2024-05-07T11:17:11.457957",
     "exception": false,
     "start_time": "2024-05-07T11:17:11.438326",
     "status": "completed"
    },
    "tags": []
   },
   "source": [
    "- Histrogram"
   ]
  },
  {
   "cell_type": "code",
   "execution_count": 22,
   "id": "966f231d",
   "metadata": {
    "execution": {
     "iopub.execute_input": "2024-05-07T11:17:11.502006Z",
     "iopub.status.busy": "2024-05-07T11:17:11.501601Z",
     "iopub.status.idle": "2024-05-07T11:17:12.064767Z",
     "shell.execute_reply": "2024-05-07T11:17:12.063366Z"
    },
    "papermill": {
     "duration": 0.589311,
     "end_time": "2024-05-07T11:17:12.068130",
     "exception": false,
     "start_time": "2024-05-07T11:17:11.478819",
     "status": "completed"
    },
    "tags": []
   },
   "outputs": [
    {
     "data": {
      "text/plain": [
       "<Axes: ylabel='Frequency'>"
      ]
     },
     "execution_count": 22,
     "metadata": {},
     "output_type": "execute_result"
    },
    {
     "data": {
      "image/png": "[encoded data removed]",
      "text/plain": [
       "<Figure size 640x480 with 1 Axes>"
      ]
     },
     "metadata": {},
     "output_type": "display_data"
    }
   ],
   "source": [
    "data['Age'].plot.hist()"
   ]
  },
  {
   "cell_type": "markdown",
   "id": "7a76a472",
   "metadata": {
    "papermill": {
     "duration": 0.030653,
     "end_time": "2024-05-07T11:17:12.127781",
     "exception": false,
     "start_time": "2024-05-07T11:17:12.097128",
     "status": "completed"
    },
    "tags": []
   },
   "source": [
    "- Scatter plot"
   ]
  },
  {
   "cell_type": "code",
   "execution_count": 23,
   "id": "78802fbf",
   "metadata": {
    "execution": {
     "iopub.execute_input": "2024-05-07T11:17:12.179085Z",
     "iopub.status.busy": "2024-05-07T11:17:12.178599Z",
     "iopub.status.idle": "2024-05-07T11:17:12.457842Z",
     "shell.execute_reply": "2024-05-07T11:17:12.456184Z"
    },
    "papermill": {
     "duration": 0.306793,
     "end_time": "2024-05-07T11:17:12.461798",
     "exception": false,
     "start_time": "2024-05-07T11:17:12.155005",
     "status": "completed"
    },
    "tags": []
   },
   "outputs": [
    {
     "data": {
      "text/plain": [
       "<Axes: xlabel='Fare', ylabel='Sex'>"
      ]
     },
     "execution_count": 23,
     "metadata": {},
     "output_type": "execute_result"
    },
    {
     "data": {
      "image/png": "[encoded data removed]",
      "text/plain": [
       "<Figure size 640x480 with 1 Axes>"
      ]
     },
     "metadata": {},
     "output_type": "display_data"
    }
   ],
   "source": [
    "data.plot.scatter(x='Fare', y='Sex')"
   ]
  },
  {
   "cell_type": "code",
   "execution_count": 24,
   "id": "6302e30a",
   "metadata": {
    "execution": {
     "iopub.execute_input": "2024-05-07T11:17:12.506746Z",
     "iopub.status.busy": "2024-05-07T11:17:12.505338Z",
     "iopub.status.idle": "2024-05-07T11:17:12.847910Z",
     "shell.execute_reply": "2024-05-07T11:17:12.846346Z"
    },
    "papermill": {
     "duration": 0.367335,
     "end_time": "2024-05-07T11:17:12.850573",
     "exception": false,
     "start_time": "2024-05-07T11:17:12.483238",
     "status": "completed"
    },
    "tags": []
   },
   "outputs": [
    {
     "data": {
      "text/plain": [
       "<Axes: xlabel='Age', ylabel='Survived'>"
      ]
     },
     "execution_count": 24,
     "metadata": {},
     "output_type": "execute_result"
    },
    {
     "data": {
      "image/png": "[encoded data removed]",
      "text/plain": [
       "<Figure size 640x480 with 1 Axes>"
      ]
     },
     "metadata": {},
     "output_type": "display_data"
    }
   ],
   "source": [
    "data.plot.scatter(x='Age', y='Survived')"
   ]
  },
  {
   "cell_type": "markdown",
   "id": "0ab59058",
   "metadata": {
    "papermill": {
     "duration": 0.019677,
     "end_time": "2024-05-07T11:17:12.891909",
     "exception": false,
     "start_time": "2024-05-07T11:17:12.872232",
     "status": "completed"
    },
    "tags": []
   },
   "source": [
    "# PDF\n"
   ]
  },
  {
   "cell_type": "code",
   "execution_count": 25,
   "id": "eb09a9f3",
   "metadata": {
    "execution": {
     "iopub.execute_input": "2024-05-07T11:17:12.934770Z",
     "iopub.status.busy": "2024-05-07T11:17:12.934275Z",
     "iopub.status.idle": "2024-05-07T11:17:13.567789Z",
     "shell.execute_reply": "2024-05-07T11:17:13.566141Z"
    },
    "papermill": {
     "duration": 0.658983,
     "end_time": "2024-05-07T11:17:13.571357",
     "exception": false,
     "start_time": "2024-05-07T11:17:12.912374",
     "status": "completed"
    },
    "tags": []
   },
   "outputs": [
    {
     "name": "stderr",
     "output_type": "stream",
     "text": [
      "/opt/conda/lib/python3.10/site-packages/seaborn/_oldcore.py:1119: FutureWarning: use_inf_as_na option is deprecated and will be removed in a future version. Convert inf values to NaN before operating instead.\n",
      "  with pd.option_context('mode.use_inf_as_na', True):\n",
      "/opt/conda/lib/python3.10/site-packages/seaborn/_oldcore.py:1119: FutureWarning: use_inf_as_na option is deprecated and will be removed in a future version. Convert inf values to NaN before operating instead.\n",
      "  with pd.option_context('mode.use_inf_as_na', True):\n"
     ]
    },
    {
     "data": {
      "text/plain": [
       "Text(0, 0.5, 'Density')"
      ]
     },
     "execution_count": 25,
     "metadata": {},
     "output_type": "execute_result"
    },
    {
     "data": {
      "image/png": "[encoded data removed]",
      "text/plain": [
       "<Figure size 1000x600 with 1 Axes>"
      ]
     },
     "metadata": {},
     "output_type": "display_data"
    }
   ],
   "source": [
    "plt.figure(figsize=(10, 6))\n",
    "sns.kdeplot(data['Age'])\n",
    "sns.histplot(data['Age'], kde=True, stat='density', color='skyblue', bins=30, element='step')\n",
    "plt.title('Probability Density Function (PDF)')\n",
    "plt.xlabel('Value')\n",
    "plt.ylabel('Density')"
   ]
  },
  {
   "cell_type": "markdown",
   "id": "da04c745",
   "metadata": {
    "papermill": {
     "duration": 0.028178,
     "end_time": "2024-05-07T11:17:13.627560",
     "exception": false,
     "start_time": "2024-05-07T11:17:13.599382",
     "status": "completed"
    },
    "tags": []
   },
   "source": [
    "# CDF"
   ]
  },
  {
   "cell_type": "code",
   "execution_count": 26,
   "id": "6ef63e66",
   "metadata": {
    "execution": {
     "iopub.execute_input": "2024-05-07T11:17:13.676905Z",
     "iopub.status.busy": "2024-05-07T11:17:13.675917Z",
     "iopub.status.idle": "2024-05-07T11:17:14.187379Z",
     "shell.execute_reply": "2024-05-07T11:17:14.185964Z"
    },
    "papermill": {
     "duration": 0.539945,
     "end_time": "2024-05-07T11:17:14.190461",
     "exception": false,
     "start_time": "2024-05-07T11:17:13.650516",
     "status": "completed"
    },
    "tags": []
   },
   "outputs": [
    {
     "name": "stderr",
     "output_type": "stream",
     "text": [
      "/opt/conda/lib/python3.10/site-packages/seaborn/_oldcore.py:1119: FutureWarning: use_inf_as_na option is deprecated and will be removed in a future version. Convert inf values to NaN before operating instead.\n",
      "  with pd.option_context('mode.use_inf_as_na', True):\n"
     ]
    },
    {
     "data": {
      "text/plain": [
       "Text(0, 0.5, 'Density')"
      ]
     },
     "execution_count": 26,
     "metadata": {},
     "output_type": "execute_result"
    },
    {
     "data": {
      "image/png": "[encoded data removed]",
      "text/plain": [
       "<Figure size 1000x600 with 1 Axes>"
      ]
     },
     "metadata": {},
     "output_type": "display_data"
    }
   ],
   "source": [
    "plt.figure(figsize=(10, 6))\n",
    "sns.histplot(data['Age'], cumulative=True, stat='density', color='green', bins=30)\n",
    "plt.title('Cumulative Distribution Function (CDF)')\n",
    "plt.xlabel('Value')\n",
    "plt.ylabel('Density')"
   ]
  },
  {
   "cell_type": "code",
   "execution_count": null,
   "id": "61aef770",
   "metadata": {
    "papermill": {
     "duration": 0.023753,
     "end_time": "2024-05-07T11:17:14.238239",
     "exception": false,
     "start_time": "2024-05-07T11:17:14.214486",
     "status": "completed"
    },
    "tags": []
   },
   "outputs": [],
   "source": []
  }
 ],
 "metadata": {
  "kaggle": {
   "accelerator": "none",
   "dataSources": [
    {
     "datasetId": 4379678,
     "sourceId": 7518666,
     "sourceType": "datasetVersion"
    }
   ],
   "dockerImageVersionId": 30698,
   "isGpuEnabled": false,
   "isInternetEnabled": false,
   "language": "python",
   "sourceType": "notebook"
  },
  "kernelspec": {
   "display_name": "Python 3",
   "language": "python",
   "name": "python3"
  },
  "language_info": {
   "codemirror_mode": {
    "name": "ipython",
    "version": 3
   },
   "file_extension": ".py",
   "mimetype": "text/x-python",
   "name": "python",
   "nbconvert_exporter": "python",
   "pygments_lexer": "ipython3",
   "version": "3.10.13"
  },
  "papermill": {
   "default_parameters": {},
   "duration": 11.718452,
   "end_time": "2024-05-07T11:17:15.187092",
   "environment_variables": {},
   "exception": null,
   "input_path": "__notebook__.ipynb",
   "output_path": "__notebook__.ipynb",
   "parameters": {},
   "start_time": "2024-05-07T11:17:03.468640",
   "version": "2.5.0"
  }
 },
 "nbformat": 4,
 "nbformat_minor": 5
}
