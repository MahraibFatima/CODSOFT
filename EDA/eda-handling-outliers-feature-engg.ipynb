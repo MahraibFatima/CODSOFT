{
 "cells": [
  {
   "cell_type": "markdown",
   "id": "5702579f",
   "metadata": {
    "papermill": {
     "duration": 0.019455,
     "end_time": "2024-07-03T09:02:16.800761",
     "exception": false,
     "start_time": "2024-07-03T09:02:16.781306",
     "status": "completed"
    },
    "tags": []
   },
   "source": [
    "## Observation on data"
   ]
  },
  {
   "cell_type": "code",
   "execution_count": 1,
   "id": "9010ed95",
   "metadata": {
    "_cell_guid": "b1076dfc-b9ad-4769-8c92-a6c4dae69d19",
    "_uuid": "8f2839f25d086af736a60e9eeb907d3b93b6e0e5",
    "execution": {
     "iopub.execute_input": "2024-07-03T09:02:16.838164Z",
     "iopub.status.busy": "2024-07-03T09:02:16.837785Z",
     "iopub.status.idle": "2024-07-03T09:02:17.846711Z",
     "shell.execute_reply": "2024-07-03T09:02:17.845614Z"
    },
    "papermill": {
     "duration": 1.030744,
     "end_time": "2024-07-03T09:02:17.849369",
     "exception": false,
     "start_time": "2024-07-03T09:02:16.818625",
     "status": "completed"
    },
    "tags": []
   },
   "outputs": [
    {
     "name": "stdout",
     "output_type": "stream",
     "text": [
      "/kaggle/input/covid-data/Covid.csv\n"
     ]
    }
   ],
   "source": [
    "import numpy as np\n",
    "import pandas as pd \n",
    "\n",
    "import os\n",
    "for dirname, _, filenames in os.walk('/kaggle/input'):\n",
    "    for filename in filenames:\n",
    "        print(os.path.join(dirname, filename))\n"
   ]
  },
  {
   "cell_type": "code",
   "execution_count": 2,
   "id": "482f4b84",
   "metadata": {
    "execution": {
     "iopub.execute_input": "2024-07-03T09:02:17.890652Z",
     "iopub.status.busy": "2024-07-03T09:02:17.890150Z",
     "iopub.status.idle": "2024-07-03T09:02:17.914106Z",
     "shell.execute_reply": "2024-07-03T09:02:17.913068Z"
    },
    "papermill": {
     "duration": 0.04589,
     "end_time": "2024-07-03T09:02:17.916710",
     "exception": false,
     "start_time": "2024-07-03T09:02:17.870820",
     "status": "completed"
    },
    "tags": []
   },
   "outputs": [],
   "source": [
    "df = pd.read_csv('/kaggle/input/covid-data/Covid.csv')"
   ]
  },
  {
   "cell_type": "code",
   "execution_count": 3,
   "id": "35b64f1e",
   "metadata": {
    "execution": {
     "iopub.execute_input": "2024-07-03T09:02:17.954593Z",
     "iopub.status.busy": "2024-07-03T09:02:17.954199Z",
     "iopub.status.idle": "2024-07-03T09:02:17.984669Z",
     "shell.execute_reply": "2024-07-03T09:02:17.983702Z"
    },
    "papermill": {
     "duration": 0.052704,
     "end_time": "2024-07-03T09:02:17.987368",
     "exception": false,
     "start_time": "2024-07-03T09:02:17.934664",
     "status": "completed"
    },
    "tags": []
   },
   "outputs": [
    {
     "data": {
      "text/html": [
       "<div>\n",
       "<style scoped>\n",
       "    .dataframe tbody tr th:only-of-type {\n",
       "        vertical-align: middle;\n",
       "    }\n",
       "\n",
       "    .dataframe tbody tr th {\n",
       "        vertical-align: top;\n",
       "    }\n",
       "\n",
       "    .dataframe thead th {\n",
       "        text-align: right;\n",
       "    }\n",
       "</style>\n",
       "<table border=\"1\" class=\"dataframe\">\n",
       "  <thead>\n",
       "    <tr style=\"text-align: right;\">\n",
       "      <th></th>\n",
       "      <th>#</th>\n",
       "      <th>Country,\\nOther</th>\n",
       "      <th>Total\\nCases</th>\n",
       "      <th>Total\\nDeaths</th>\n",
       "      <th>New\\nDeaths</th>\n",
       "      <th>Total\\nRecovered</th>\n",
       "      <th>Active\\nCases</th>\n",
       "      <th>Serious,\\nCritical</th>\n",
       "      <th>Tot Cases/\\n1M pop</th>\n",
       "      <th>Deaths/\\n1M pop</th>\n",
       "      <th>Total\\nTests</th>\n",
       "      <th>Tests/\\n1M pop</th>\n",
       "      <th>Population</th>\n",
       "    </tr>\n",
       "  </thead>\n",
       "  <tbody>\n",
       "    <tr>\n",
       "      <th>0</th>\n",
       "      <td>1</td>\n",
       "      <td>USA</td>\n",
       "      <td>98,166,904</td>\n",
       "      <td>1,084,282</td>\n",
       "      <td>NaN</td>\n",
       "      <td>94,962,112</td>\n",
       "      <td>2,120,510</td>\n",
       "      <td>2,970</td>\n",
       "      <td>293,206</td>\n",
       "      <td>3,239</td>\n",
       "      <td>1,118,158,870</td>\n",
       "      <td>3,339,729</td>\n",
       "      <td>334,805,269</td>\n",
       "    </tr>\n",
       "    <tr>\n",
       "      <th>1</th>\n",
       "      <td>2</td>\n",
       "      <td>India</td>\n",
       "      <td>44,587,307</td>\n",
       "      <td>528,629</td>\n",
       "      <td>NaN</td>\n",
       "      <td>44,019,095</td>\n",
       "      <td>39,583</td>\n",
       "      <td>698</td>\n",
       "      <td>31,698</td>\n",
       "      <td>376</td>\n",
       "      <td>894,416,853</td>\n",
       "      <td>635,857</td>\n",
       "      <td>1,406,631,776</td>\n",
       "    </tr>\n",
       "    <tr>\n",
       "      <th>2</th>\n",
       "      <td>3</td>\n",
       "      <td>France</td>\n",
       "      <td>35,342,950</td>\n",
       "      <td>155,078</td>\n",
       "      <td>NaN</td>\n",
       "      <td>34,527,115</td>\n",
       "      <td>660,757</td>\n",
       "      <td>869</td>\n",
       "      <td>538,892</td>\n",
       "      <td>2,365</td>\n",
       "      <td>271,490,188</td>\n",
       "      <td>4,139,547</td>\n",
       "      <td>65,584,518</td>\n",
       "    </tr>\n",
       "    <tr>\n",
       "      <th>3</th>\n",
       "      <td>4</td>\n",
       "      <td>Brazil</td>\n",
       "      <td>34,706,757</td>\n",
       "      <td>686,027</td>\n",
       "      <td>NaN</td>\n",
       "      <td>33,838,636</td>\n",
       "      <td>182,094</td>\n",
       "      <td>8,318</td>\n",
       "      <td>161,162</td>\n",
       "      <td>3,186</td>\n",
       "      <td>63,776,166</td>\n",
       "      <td>296,146</td>\n",
       "      <td>215,353,593</td>\n",
       "    </tr>\n",
       "    <tr>\n",
       "      <th>4</th>\n",
       "      <td>5</td>\n",
       "      <td>Germany</td>\n",
       "      <td>33,312,373</td>\n",
       "      <td>149,948</td>\n",
       "      <td>NaN</td>\n",
       "      <td>32,315,200</td>\n",
       "      <td>847,225</td>\n",
       "      <td>1,406</td>\n",
       "      <td>397,126</td>\n",
       "      <td>1,788</td>\n",
       "      <td>122,332,384</td>\n",
       "      <td>1,458,359</td>\n",
       "      <td>83,883,596</td>\n",
       "    </tr>\n",
       "  </tbody>\n",
       "</table>\n",
       "</div>"
      ],
      "text/plain": [
       "   # Country,\\nOther Total\\nCases Total\\nDeaths  New\\nDeaths Total\\nRecovered  \\\n",
       "0  1             USA   98,166,904     1,084,282          NaN       94,962,112   \n",
       "1  2           India   44,587,307       528,629          NaN       44,019,095   \n",
       "2  3          France   35,342,950       155,078          NaN       34,527,115   \n",
       "3  4          Brazil   34,706,757       686,027          NaN       33,838,636   \n",
       "4  5         Germany   33,312,373       149,948          NaN       32,315,200   \n",
       "\n",
       "  Active\\nCases Serious,\\nCritical Tot Cases/\\n1M pop Deaths/\\n1M pop  \\\n",
       "0     2,120,510              2,970            293,206           3,239   \n",
       "1        39,583                698             31,698             376   \n",
       "2       660,757                869            538,892           2,365   \n",
       "3       182,094              8,318            161,162           3,186   \n",
       "4       847,225              1,406            397,126           1,788   \n",
       "\n",
       "    Total\\nTests Tests/\\n1M pop     Population  \n",
       "0  1,118,158,870      3,339,729    334,805,269  \n",
       "1    894,416,853        635,857  1,406,631,776  \n",
       "2    271,490,188      4,139,547     65,584,518  \n",
       "3     63,776,166        296,146    215,353,593  \n",
       "4    122,332,384      1,458,359     83,883,596  "
      ]
     },
     "execution_count": 3,
     "metadata": {},
     "output_type": "execute_result"
    }
   ],
   "source": [
    "df.head()"
   ]
  },
  {
   "cell_type": "code",
   "execution_count": 4,
   "id": "6308a01e",
   "metadata": {
    "execution": {
     "iopub.execute_input": "2024-07-03T09:02:18.026552Z",
     "iopub.status.busy": "2024-07-03T09:02:18.026176Z",
     "iopub.status.idle": "2024-07-03T09:02:18.032650Z",
     "shell.execute_reply": "2024-07-03T09:02:18.031706Z"
    },
    "papermill": {
     "duration": 0.028696,
     "end_time": "2024-07-03T09:02:18.035062",
     "exception": false,
     "start_time": "2024-07-03T09:02:18.006366",
     "status": "completed"
    },
    "tags": []
   },
   "outputs": [
    {
     "data": {
      "text/plain": [
       "(230, 13)"
      ]
     },
     "execution_count": 4,
     "metadata": {},
     "output_type": "execute_result"
    }
   ],
   "source": [
    "df.shape"
   ]
  },
  {
   "cell_type": "code",
   "execution_count": 5,
   "id": "f6bb528e",
   "metadata": {
    "execution": {
     "iopub.execute_input": "2024-07-03T09:02:18.074404Z",
     "iopub.status.busy": "2024-07-03T09:02:18.073497Z",
     "iopub.status.idle": "2024-07-03T09:02:18.101661Z",
     "shell.execute_reply": "2024-07-03T09:02:18.100695Z"
    },
    "papermill": {
     "duration": 0.050465,
     "end_time": "2024-07-03T09:02:18.104019",
     "exception": false,
     "start_time": "2024-07-03T09:02:18.053554",
     "status": "completed"
    },
    "tags": []
   },
   "outputs": [
    {
     "data": {
      "text/html": [
       "<div>\n",
       "<style scoped>\n",
       "    .dataframe tbody tr th:only-of-type {\n",
       "        vertical-align: middle;\n",
       "    }\n",
       "\n",
       "    .dataframe tbody tr th {\n",
       "        vertical-align: top;\n",
       "    }\n",
       "\n",
       "    .dataframe thead th {\n",
       "        text-align: right;\n",
       "    }\n",
       "</style>\n",
       "<table border=\"1\" class=\"dataframe\">\n",
       "  <thead>\n",
       "    <tr style=\"text-align: right;\">\n",
       "      <th></th>\n",
       "      <th>#</th>\n",
       "      <th>Country,\\nOther</th>\n",
       "      <th>Total\\nCases</th>\n",
       "      <th>Total\\nDeaths</th>\n",
       "      <th>New\\nDeaths</th>\n",
       "      <th>Total\\nRecovered</th>\n",
       "      <th>Active\\nCases</th>\n",
       "      <th>Serious,\\nCritical</th>\n",
       "      <th>Tot Cases/\\n1M pop</th>\n",
       "      <th>Deaths/\\n1M pop</th>\n",
       "      <th>Total\\nTests</th>\n",
       "      <th>Tests/\\n1M pop</th>\n",
       "      <th>Population</th>\n",
       "    </tr>\n",
       "  </thead>\n",
       "  <tbody>\n",
       "    <tr>\n",
       "      <th>50</th>\n",
       "      <td>51</td>\n",
       "      <td>Jordan</td>\n",
       "      <td>1,746,997</td>\n",
       "      <td>14,122</td>\n",
       "      <td>NaN</td>\n",
       "      <td>1,731,007</td>\n",
       "      <td>1,868</td>\n",
       "      <td>59</td>\n",
       "      <td>169,597</td>\n",
       "      <td>1,371</td>\n",
       "      <td>17,201,885</td>\n",
       "      <td>1,669,945</td>\n",
       "      <td>10,300,869</td>\n",
       "    </tr>\n",
       "    <tr>\n",
       "      <th>69</th>\n",
       "      <td>70</td>\n",
       "      <td>Nepal</td>\n",
       "      <td>999,712</td>\n",
       "      <td>12,018</td>\n",
       "      <td>NaN</td>\n",
       "      <td>986,617</td>\n",
       "      <td>1,077</td>\n",
       "      <td>NaN</td>\n",
       "      <td>33,075</td>\n",
       "      <td>398</td>\n",
       "      <td>5,936,702</td>\n",
       "      <td>196,413</td>\n",
       "      <td>30,225,582</td>\n",
       "    </tr>\n",
       "    <tr>\n",
       "      <th>76</th>\n",
       "      <td>77</td>\n",
       "      <td>Saudi Arabia</td>\n",
       "      <td>816,389</td>\n",
       "      <td>9,351</td>\n",
       "      <td>NaN</td>\n",
       "      <td>803,546</td>\n",
       "      <td>3,492</td>\n",
       "      <td>32</td>\n",
       "      <td>22,776</td>\n",
       "      <td>261</td>\n",
       "      <td>44,321,147</td>\n",
       "      <td>1,236,470</td>\n",
       "      <td>35,844,909</td>\n",
       "    </tr>\n",
       "    <tr>\n",
       "      <th>16</th>\n",
       "      <td>17</td>\n",
       "      <td>Iran</td>\n",
       "      <td>7,548,320</td>\n",
       "      <td>144,421</td>\n",
       "      <td>NaN</td>\n",
       "      <td>7,325,370</td>\n",
       "      <td>78,529</td>\n",
       "      <td>157</td>\n",
       "      <td>87,748</td>\n",
       "      <td>1,679</td>\n",
       "      <td>54,095,556</td>\n",
       "      <td>628,851</td>\n",
       "      <td>86,022,837</td>\n",
       "    </tr>\n",
       "    <tr>\n",
       "      <th>26</th>\n",
       "      <td>27</td>\n",
       "      <td>Malaysia</td>\n",
       "      <td>4,838,872</td>\n",
       "      <td>36,369</td>\n",
       "      <td>NaN</td>\n",
       "      <td>4,777,329</td>\n",
       "      <td>25,174</td>\n",
       "      <td>43</td>\n",
       "      <td>145,832</td>\n",
       "      <td>1,096</td>\n",
       "      <td>64,604,259</td>\n",
       "      <td>1,947,021</td>\n",
       "      <td>33,181,072</td>\n",
       "    </tr>\n",
       "  </tbody>\n",
       "</table>\n",
       "</div>"
      ],
      "text/plain": [
       "     # Country,\\nOther Total\\nCases Total\\nDeaths  New\\nDeaths  \\\n",
       "50  51          Jordan    1,746,997        14,122          NaN   \n",
       "69  70           Nepal      999,712        12,018          NaN   \n",
       "76  77    Saudi Arabia      816,389         9,351          NaN   \n",
       "16  17            Iran    7,548,320       144,421          NaN   \n",
       "26  27        Malaysia    4,838,872        36,369          NaN   \n",
       "\n",
       "   Total\\nRecovered Active\\nCases Serious,\\nCritical Tot Cases/\\n1M pop  \\\n",
       "50        1,731,007         1,868                 59            169,597   \n",
       "69          986,617         1,077                NaN             33,075   \n",
       "76          803,546         3,492                 32             22,776   \n",
       "16        7,325,370        78,529                157             87,748   \n",
       "26        4,777,329        25,174                 43            145,832   \n",
       "\n",
       "   Deaths/\\n1M pop Total\\nTests Tests/\\n1M pop  Population  \n",
       "50           1,371   17,201,885      1,669,945  10,300,869  \n",
       "69             398    5,936,702        196,413  30,225,582  \n",
       "76             261   44,321,147      1,236,470  35,844,909  \n",
       "16           1,679   54,095,556        628,851  86,022,837  \n",
       "26           1,096   64,604,259      1,947,021  33,181,072  "
      ]
     },
     "execution_count": 5,
     "metadata": {},
     "output_type": "execute_result"
    }
   ],
   "source": [
    "df.sample(5)"
   ]
  },
  {
   "cell_type": "code",
   "execution_count": 6,
   "id": "c779bf7e",
   "metadata": {
    "execution": {
     "iopub.execute_input": "2024-07-03T09:02:18.143814Z",
     "iopub.status.busy": "2024-07-03T09:02:18.143368Z",
     "iopub.status.idle": "2024-07-03T09:02:18.154259Z",
     "shell.execute_reply": "2024-07-03T09:02:18.153305Z"
    },
    "papermill": {
     "duration": 0.033568,
     "end_time": "2024-07-03T09:02:18.156565",
     "exception": false,
     "start_time": "2024-07-03T09:02:18.122997",
     "status": "completed"
    },
    "tags": []
   },
   "outputs": [
    {
     "data": {
      "text/plain": [
       "#                       0\n",
       "Country,\\nOther         0\n",
       "Total\\nCases            0\n",
       "Total\\nDeaths           5\n",
       "New\\nDeaths           227\n",
       "Total\\nRecovered       16\n",
       "Active\\nCases          15\n",
       "Serious,\\nCritical     83\n",
       "Tot Cases/\\n1M pop      2\n",
       "Deaths/\\n1M pop         7\n",
       "Total\\nTests           16\n",
       "Tests/\\n1M pop         16\n",
       "Population              2\n",
       "dtype: int64"
      ]
     },
     "execution_count": 6,
     "metadata": {},
     "output_type": "execute_result"
    }
   ],
   "source": [
    "df.isnull().sum()"
   ]
  },
  {
   "cell_type": "markdown",
   "id": "dd2fc904",
   "metadata": {
    "papermill": {
     "duration": 0.019443,
     "end_time": "2024-07-03T09:02:18.195546",
     "exception": false,
     "start_time": "2024-07-03T09:02:18.176103",
     "status": "completed"
    },
    "tags": []
   },
   "source": [
    "## Drop unnecessary col"
   ]
  },
  {
   "cell_type": "markdown",
   "id": "22dd112b",
   "metadata": {
    "papermill": {
     "duration": 0.018735,
     "end_time": "2024-07-03T09:02:18.233340",
     "exception": false,
     "start_time": "2024-07-03T09:02:18.214605",
     "status": "completed"
    },
    "tags": []
   },
   "source": [
    " total 230 rows and in col 'New\\nDeaths' 227 are missing val. drop this col."
   ]
  },
  {
   "cell_type": "code",
   "execution_count": 7,
   "id": "f8dd4b89",
   "metadata": {
    "execution": {
     "iopub.execute_input": "2024-07-03T09:02:18.272848Z",
     "iopub.status.busy": "2024-07-03T09:02:18.272466Z",
     "iopub.status.idle": "2024-07-03T09:02:18.280349Z",
     "shell.execute_reply": "2024-07-03T09:02:18.279320Z"
    },
    "papermill": {
     "duration": 0.030291,
     "end_time": "2024-07-03T09:02:18.282628",
     "exception": false,
     "start_time": "2024-07-03T09:02:18.252337",
     "status": "completed"
    },
    "tags": []
   },
   "outputs": [],
   "source": [
    "df = df.drop(['New\\nDeaths','Country,\\nOther','Tot Cases/\\n1M pop','Deaths/\\n1M pop', 'Tests/\\n1M pop', 'Total\\nTests', 'Population'], axis=1)\n"
   ]
  },
  {
   "cell_type": "code",
   "execution_count": 8,
   "id": "25aab074",
   "metadata": {
    "execution": {
     "iopub.execute_input": "2024-07-03T09:02:18.322131Z",
     "iopub.status.busy": "2024-07-03T09:02:18.321737Z",
     "iopub.status.idle": "2024-07-03T09:02:18.328771Z",
     "shell.execute_reply": "2024-07-03T09:02:18.327623Z"
    },
    "papermill": {
     "duration": 0.029524,
     "end_time": "2024-07-03T09:02:18.331076",
     "exception": false,
     "start_time": "2024-07-03T09:02:18.301552",
     "status": "completed"
    },
    "tags": []
   },
   "outputs": [
    {
     "data": {
      "text/plain": [
       "(230, 6)"
      ]
     },
     "execution_count": 8,
     "metadata": {},
     "output_type": "execute_result"
    }
   ],
   "source": [
    "df.shape"
   ]
  },
  {
   "cell_type": "markdown",
   "id": "f82e20f5",
   "metadata": {
    "papermill": {
     "duration": 0.018857,
     "end_time": "2024-07-03T09:02:18.368889",
     "exception": false,
     "start_time": "2024-07-03T09:02:18.350032",
     "status": "completed"
    },
    "tags": []
   },
   "source": [
    "## Rename Columns"
   ]
  },
  {
   "cell_type": "code",
   "execution_count": 9,
   "id": "9f5cbf8b",
   "metadata": {
    "execution": {
     "iopub.execute_input": "2024-07-03T09:02:18.408436Z",
     "iopub.status.busy": "2024-07-03T09:02:18.408051Z",
     "iopub.status.idle": "2024-07-03T09:02:18.415027Z",
     "shell.execute_reply": "2024-07-03T09:02:18.414059Z"
    },
    "papermill": {
     "duration": 0.029348,
     "end_time": "2024-07-03T09:02:18.417231",
     "exception": false,
     "start_time": "2024-07-03T09:02:18.387883",
     "status": "completed"
    },
    "tags": []
   },
   "outputs": [
    {
     "data": {
      "text/plain": [
       "Index(['#', 'Total\\nCases', 'Total\\nDeaths', 'Total\\nRecovered',\n",
       "       'Active\\nCases', 'Serious,\\nCritical'],\n",
       "      dtype='object')"
      ]
     },
     "execution_count": 9,
     "metadata": {},
     "output_type": "execute_result"
    }
   ],
   "source": [
    "df.columns"
   ]
  },
  {
   "cell_type": "code",
   "execution_count": 10,
   "id": "f466315c",
   "metadata": {
    "execution": {
     "iopub.execute_input": "2024-07-03T09:02:18.457255Z",
     "iopub.status.busy": "2024-07-03T09:02:18.456853Z",
     "iopub.status.idle": "2024-07-03T09:02:18.462690Z",
     "shell.execute_reply": "2024-07-03T09:02:18.461727Z"
    },
    "papermill": {
     "duration": 0.028481,
     "end_time": "2024-07-03T09:02:18.464910",
     "exception": false,
     "start_time": "2024-07-03T09:02:18.436429",
     "status": "completed"
    },
    "tags": []
   },
   "outputs": [],
   "source": [
    "df.rename(columns={ 'Total\\nCases': 'TotalCases',\n",
    "                    'Total\\nDeaths': 'TotalDeaths', 'Total\\nRecovered': 'TotalRecovered',\n",
    "                    'Active\\nCases': 'ActiveCases', 'Serious,\\nCritical': 'SeriousCritical',\n",
    "                  }, inplace=True)"
   ]
  },
  {
   "cell_type": "code",
   "execution_count": 11,
   "id": "743505ab",
   "metadata": {
    "execution": {
     "iopub.execute_input": "2024-07-03T09:02:18.505442Z",
     "iopub.status.busy": "2024-07-03T09:02:18.504530Z",
     "iopub.status.idle": "2024-07-03T09:02:18.517266Z",
     "shell.execute_reply": "2024-07-03T09:02:18.516157Z"
    },
    "papermill": {
     "duration": 0.035536,
     "end_time": "2024-07-03T09:02:18.519557",
     "exception": false,
     "start_time": "2024-07-03T09:02:18.484021",
     "status": "completed"
    },
    "tags": []
   },
   "outputs": [
    {
     "data": {
      "text/html": [
       "<div>\n",
       "<style scoped>\n",
       "    .dataframe tbody tr th:only-of-type {\n",
       "        vertical-align: middle;\n",
       "    }\n",
       "\n",
       "    .dataframe tbody tr th {\n",
       "        vertical-align: top;\n",
       "    }\n",
       "\n",
       "    .dataframe thead th {\n",
       "        text-align: right;\n",
       "    }\n",
       "</style>\n",
       "<table border=\"1\" class=\"dataframe\">\n",
       "  <thead>\n",
       "    <tr style=\"text-align: right;\">\n",
       "      <th></th>\n",
       "      <th>#</th>\n",
       "      <th>TotalCases</th>\n",
       "      <th>TotalDeaths</th>\n",
       "      <th>TotalRecovered</th>\n",
       "      <th>ActiveCases</th>\n",
       "      <th>SeriousCritical</th>\n",
       "    </tr>\n",
       "  </thead>\n",
       "  <tbody>\n",
       "    <tr>\n",
       "      <th>0</th>\n",
       "      <td>1</td>\n",
       "      <td>98,166,904</td>\n",
       "      <td>1,084,282</td>\n",
       "      <td>94,962,112</td>\n",
       "      <td>2,120,510</td>\n",
       "      <td>2,970</td>\n",
       "    </tr>\n",
       "    <tr>\n",
       "      <th>1</th>\n",
       "      <td>2</td>\n",
       "      <td>44,587,307</td>\n",
       "      <td>528,629</td>\n",
       "      <td>44,019,095</td>\n",
       "      <td>39,583</td>\n",
       "      <td>698</td>\n",
       "    </tr>\n",
       "    <tr>\n",
       "      <th>2</th>\n",
       "      <td>3</td>\n",
       "      <td>35,342,950</td>\n",
       "      <td>155,078</td>\n",
       "      <td>34,527,115</td>\n",
       "      <td>660,757</td>\n",
       "      <td>869</td>\n",
       "    </tr>\n",
       "    <tr>\n",
       "      <th>3</th>\n",
       "      <td>4</td>\n",
       "      <td>34,706,757</td>\n",
       "      <td>686,027</td>\n",
       "      <td>33,838,636</td>\n",
       "      <td>182,094</td>\n",
       "      <td>8,318</td>\n",
       "    </tr>\n",
       "    <tr>\n",
       "      <th>4</th>\n",
       "      <td>5</td>\n",
       "      <td>33,312,373</td>\n",
       "      <td>149,948</td>\n",
       "      <td>32,315,200</td>\n",
       "      <td>847,225</td>\n",
       "      <td>1,406</td>\n",
       "    </tr>\n",
       "  </tbody>\n",
       "</table>\n",
       "</div>"
      ],
      "text/plain": [
       "   #  TotalCases TotalDeaths TotalRecovered ActiveCases SeriousCritical\n",
       "0  1  98,166,904   1,084,282     94,962,112   2,120,510           2,970\n",
       "1  2  44,587,307     528,629     44,019,095      39,583             698\n",
       "2  3  35,342,950     155,078     34,527,115     660,757             869\n",
       "3  4  34,706,757     686,027     33,838,636     182,094           8,318\n",
       "4  5  33,312,373     149,948     32,315,200     847,225           1,406"
      ]
     },
     "execution_count": 11,
     "metadata": {},
     "output_type": "execute_result"
    }
   ],
   "source": [
    "df.head(5)"
   ]
  },
  {
   "cell_type": "code",
   "execution_count": 12,
   "id": "626e60a3",
   "metadata": {
    "execution": {
     "iopub.execute_input": "2024-07-03T09:02:18.560499Z",
     "iopub.status.busy": "2024-07-03T09:02:18.559623Z",
     "iopub.status.idle": "2024-07-03T09:02:18.568286Z",
     "shell.execute_reply": "2024-07-03T09:02:18.567263Z"
    },
    "papermill": {
     "duration": 0.031706,
     "end_time": "2024-07-03T09:02:18.570669",
     "exception": false,
     "start_time": "2024-07-03T09:02:18.538963",
     "status": "completed"
    },
    "tags": []
   },
   "outputs": [
    {
     "data": {
      "text/plain": [
       "#                   0\n",
       "TotalCases          0\n",
       "TotalDeaths         5\n",
       "TotalRecovered     16\n",
       "ActiveCases        15\n",
       "SeriousCritical    83\n",
       "dtype: int64"
      ]
     },
     "execution_count": 12,
     "metadata": {},
     "output_type": "execute_result"
    }
   ],
   "source": [
    "df.isnull().sum()"
   ]
  },
  {
   "cell_type": "code",
   "execution_count": 13,
   "id": "2c74ba57",
   "metadata": {
    "execution": {
     "iopub.execute_input": "2024-07-03T09:02:18.611979Z",
     "iopub.status.busy": "2024-07-03T09:02:18.611581Z",
     "iopub.status.idle": "2024-07-03T09:02:18.637566Z",
     "shell.execute_reply": "2024-07-03T09:02:18.636303Z"
    },
    "papermill": {
     "duration": 0.049684,
     "end_time": "2024-07-03T09:02:18.640032",
     "exception": false,
     "start_time": "2024-07-03T09:02:18.590348",
     "status": "completed"
    },
    "tags": []
   },
   "outputs": [
    {
     "name": "stdout",
     "output_type": "stream",
     "text": [
      "<class 'pandas.core.frame.DataFrame'>\n",
      "RangeIndex: 230 entries, 0 to 229\n",
      "Data columns (total 6 columns):\n",
      " #   Column           Non-Null Count  Dtype \n",
      "---  ------           --------------  ----- \n",
      " 0   #                230 non-null    int64 \n",
      " 1   TotalCases       230 non-null    object\n",
      " 2   TotalDeaths      225 non-null    object\n",
      " 3   TotalRecovered   214 non-null    object\n",
      " 4   ActiveCases      215 non-null    object\n",
      " 5   SeriousCritical  147 non-null    object\n",
      "dtypes: int64(1), object(5)\n",
      "memory usage: 10.9+ KB\n"
     ]
    }
   ],
   "source": [
    "df.info()"
   ]
  },
  {
   "cell_type": "markdown",
   "id": "f33b1b03",
   "metadata": {
    "papermill": {
     "duration": 0.019438,
     "end_time": "2024-07-03T09:02:18.679262",
     "exception": false,
     "start_time": "2024-07-03T09:02:18.659824",
     "status": "completed"
    },
    "tags": []
   },
   "source": [
    "## Modify datatype"
   ]
  },
  {
   "cell_type": "code",
   "execution_count": 14,
   "id": "83d3901a",
   "metadata": {
    "execution": {
     "iopub.execute_input": "2024-07-03T09:02:18.721141Z",
     "iopub.status.busy": "2024-07-03T09:02:18.720199Z",
     "iopub.status.idle": "2024-07-03T09:02:18.727087Z",
     "shell.execute_reply": "2024-07-03T09:02:18.726119Z"
    },
    "papermill": {
     "duration": 0.030388,
     "end_time": "2024-07-03T09:02:18.729467",
     "exception": false,
     "start_time": "2024-07-03T09:02:18.699079",
     "status": "completed"
    },
    "tags": []
   },
   "outputs": [
    {
     "data": {
      "text/plain": [
       "Index(['#', 'TotalCases', 'TotalDeaths', 'TotalRecovered', 'ActiveCases',\n",
       "       'SeriousCritical'],\n",
       "      dtype='object')"
      ]
     },
     "execution_count": 14,
     "metadata": {},
     "output_type": "execute_result"
    }
   ],
   "source": [
    "df.columns"
   ]
  },
  {
   "cell_type": "code",
   "execution_count": 15,
   "id": "438ba97c",
   "metadata": {
    "execution": {
     "iopub.execute_input": "2024-07-03T09:02:18.771474Z",
     "iopub.status.busy": "2024-07-03T09:02:18.770793Z",
     "iopub.status.idle": "2024-07-03T09:02:18.783951Z",
     "shell.execute_reply": "2024-07-03T09:02:18.782925Z"
    },
    "papermill": {
     "duration": 0.037186,
     "end_time": "2024-07-03T09:02:18.786417",
     "exception": false,
     "start_time": "2024-07-03T09:02:18.749231",
     "status": "completed"
    },
    "tags": []
   },
   "outputs": [],
   "source": [
    "columns_to_convert = [ 'TotalCases', 'TotalDeaths', 'TotalRecovered', 'ActiveCases',\n",
    "       'SeriousCritical']\n",
    "\n",
    "# Remove commas and convert to integers\n",
    "for column in columns_to_convert:\n",
    "    # Ensure the column is treated as string before replacing commas and converting\n",
    "    df[column] = pd.to_numeric(df[column].astype(str).str.replace(',', ''), errors='coerce').astype('Float64')\n"
   ]
  },
  {
   "cell_type": "code",
   "execution_count": 16,
   "id": "9d1e2735",
   "metadata": {
    "execution": {
     "iopub.execute_input": "2024-07-03T09:02:18.828125Z",
     "iopub.status.busy": "2024-07-03T09:02:18.827761Z",
     "iopub.status.idle": "2024-07-03T09:02:18.838928Z",
     "shell.execute_reply": "2024-07-03T09:02:18.837684Z"
    },
    "papermill": {
     "duration": 0.035371,
     "end_time": "2024-07-03T09:02:18.841601",
     "exception": false,
     "start_time": "2024-07-03T09:02:18.806230",
     "status": "completed"
    },
    "tags": []
   },
   "outputs": [
    {
     "name": "stdout",
     "output_type": "stream",
     "text": [
      "<class 'pandas.core.frame.DataFrame'>\n",
      "RangeIndex: 230 entries, 0 to 229\n",
      "Data columns (total 6 columns):\n",
      " #   Column           Non-Null Count  Dtype  \n",
      "---  ------           --------------  -----  \n",
      " 0   #                230 non-null    int64  \n",
      " 1   TotalCases       230 non-null    Float64\n",
      " 2   TotalDeaths      225 non-null    Float64\n",
      " 3   TotalRecovered   214 non-null    Float64\n",
      " 4   ActiveCases      215 non-null    Float64\n",
      " 5   SeriousCritical  147 non-null    Float64\n",
      "dtypes: Float64(5), int64(1)\n",
      "memory usage: 12.0 KB\n"
     ]
    }
   ],
   "source": [
    "df.info()"
   ]
  },
  {
   "cell_type": "code",
   "execution_count": 17,
   "id": "b61b43bb",
   "metadata": {
    "execution": {
     "iopub.execute_input": "2024-07-03T09:02:18.886052Z",
     "iopub.status.busy": "2024-07-03T09:02:18.885353Z",
     "iopub.status.idle": "2024-07-03T09:02:18.901695Z",
     "shell.execute_reply": "2024-07-03T09:02:18.900592Z"
    },
    "papermill": {
     "duration": 0.042689,
     "end_time": "2024-07-03T09:02:18.904238",
     "exception": false,
     "start_time": "2024-07-03T09:02:18.861549",
     "status": "completed"
    },
    "tags": []
   },
   "outputs": [
    {
     "data": {
      "text/html": [
       "<div>\n",
       "<style scoped>\n",
       "    .dataframe tbody tr th:only-of-type {\n",
       "        vertical-align: middle;\n",
       "    }\n",
       "\n",
       "    .dataframe tbody tr th {\n",
       "        vertical-align: top;\n",
       "    }\n",
       "\n",
       "    .dataframe thead th {\n",
       "        text-align: right;\n",
       "    }\n",
       "</style>\n",
       "<table border=\"1\" class=\"dataframe\">\n",
       "  <thead>\n",
       "    <tr style=\"text-align: right;\">\n",
       "      <th></th>\n",
       "      <th>#</th>\n",
       "      <th>TotalCases</th>\n",
       "      <th>TotalDeaths</th>\n",
       "      <th>TotalRecovered</th>\n",
       "      <th>ActiveCases</th>\n",
       "      <th>SeriousCritical</th>\n",
       "    </tr>\n",
       "  </thead>\n",
       "  <tbody>\n",
       "    <tr>\n",
       "      <th>75</th>\n",
       "      <td>76</td>\n",
       "      <td>821162.0</td>\n",
       "      <td>9910.0</td>\n",
       "      <td>810181.0</td>\n",
       "      <td>1071.0</td>\n",
       "      <td>&lt;NA&gt;</td>\n",
       "    </tr>\n",
       "    <tr>\n",
       "      <th>9</th>\n",
       "      <td>10</td>\n",
       "      <td>20948470.0</td>\n",
       "      <td>387163.0</td>\n",
       "      <td>19979763.0</td>\n",
       "      <td>581544.0</td>\n",
       "      <td>2300.0</td>\n",
       "    </tr>\n",
       "    <tr>\n",
       "      <th>229</th>\n",
       "      <td>230</td>\n",
       "      <td>9.0</td>\n",
       "      <td>2.0</td>\n",
       "      <td>7.0</td>\n",
       "      <td>0.0</td>\n",
       "      <td>&lt;NA&gt;</td>\n",
       "    </tr>\n",
       "    <tr>\n",
       "      <th>113</th>\n",
       "      <td>114</td>\n",
       "      <td>206083.0</td>\n",
       "      <td>2991.0</td>\n",
       "      <td>196406.0</td>\n",
       "      <td>6686.0</td>\n",
       "      <td>131.0</td>\n",
       "    </tr>\n",
       "    <tr>\n",
       "      <th>180</th>\n",
       "      <td>181</td>\n",
       "      <td>18154.0</td>\n",
       "      <td>148.0</td>\n",
       "      <td>17969.0</td>\n",
       "      <td>37.0</td>\n",
       "      <td>&lt;NA&gt;</td>\n",
       "    </tr>\n",
       "  </tbody>\n",
       "</table>\n",
       "</div>"
      ],
      "text/plain": [
       "       #  TotalCases  TotalDeaths  TotalRecovered  ActiveCases  \\\n",
       "75    76    821162.0       9910.0        810181.0       1071.0   \n",
       "9     10  20948470.0     387163.0      19979763.0     581544.0   \n",
       "229  230         9.0          2.0             7.0          0.0   \n",
       "113  114    206083.0       2991.0        196406.0       6686.0   \n",
       "180  181     18154.0        148.0         17969.0         37.0   \n",
       "\n",
       "     SeriousCritical  \n",
       "75              <NA>  \n",
       "9             2300.0  \n",
       "229             <NA>  \n",
       "113            131.0  \n",
       "180             <NA>  "
      ]
     },
     "execution_count": 17,
     "metadata": {},
     "output_type": "execute_result"
    }
   ],
   "source": [
    "df.sample(5)"
   ]
  },
  {
   "cell_type": "code",
   "execution_count": 18,
   "id": "b3464507",
   "metadata": {
    "execution": {
     "iopub.execute_input": "2024-07-03T09:02:19.009670Z",
     "iopub.status.busy": "2024-07-03T09:02:19.009268Z",
     "iopub.status.idle": "2024-07-03T09:02:20.405707Z",
     "shell.execute_reply": "2024-07-03T09:02:20.404572Z"
    },
    "papermill": {
     "duration": 1.483272,
     "end_time": "2024-07-03T09:02:20.408526",
     "exception": false,
     "start_time": "2024-07-03T09:02:18.925254",
     "status": "completed"
    },
    "tags": []
   },
   "outputs": [],
   "source": [
    "import matplotlib.pyplot as plt\n",
    "import seaborn as sns"
   ]
  },
  {
   "cell_type": "markdown",
   "id": "dcc8a8fe",
   "metadata": {
    "execution": {
     "iopub.execute_input": "2024-07-02T15:34:37.709586Z",
     "iopub.status.busy": "2024-07-02T15:34:37.709105Z",
     "iopub.status.idle": "2024-07-02T15:34:37.715574Z",
     "shell.execute_reply": "2024-07-02T15:34:37.713874Z",
     "shell.execute_reply.started": "2024-07-02T15:34:37.709551Z"
    },
    "papermill": {
     "duration": 0.020391,
     "end_time": "2024-07-03T09:02:20.449507",
     "exception": false,
     "start_time": "2024-07-03T09:02:20.429116",
     "status": "completed"
    },
    "tags": []
   },
   "source": [
    "## Handling outliers"
   ]
  },
  {
   "cell_type": "markdown",
   "id": "4cd91bac",
   "metadata": {
    "papermill": {
     "duration": 0.019902,
     "end_time": "2024-07-03T09:02:20.489840",
     "exception": false,
     "start_time": "2024-07-03T09:02:20.469938",
     "status": "completed"
    },
    "tags": []
   },
   "source": [
    "### TotalCases - col"
   ]
  },
  {
   "cell_type": "code",
   "execution_count": 19,
   "id": "d63018d3",
   "metadata": {
    "execution": {
     "iopub.execute_input": "2024-07-03T09:02:20.532446Z",
     "iopub.status.busy": "2024-07-03T09:02:20.532053Z",
     "iopub.status.idle": "2024-07-03T09:02:21.089918Z",
     "shell.execute_reply": "2024-07-03T09:02:21.088762Z"
    },
    "papermill": {
     "duration": 0.582335,
     "end_time": "2024-07-03T09:02:21.092670",
     "exception": false,
     "start_time": "2024-07-03T09:02:20.510335",
     "status": "completed"
    },
    "tags": []
   },
   "outputs": [
    {
     "name": "stderr",
     "output_type": "stream",
     "text": [
      "/opt/conda/lib/python3.10/site-packages/seaborn/_oldcore.py:1119: FutureWarning: use_inf_as_na option is deprecated and will be removed in a future version. Convert inf values to NaN before operating instead.\n",
      "  with pd.option_context('mode.use_inf_as_na', True):\n"
     ]
    },
    {
     "data": {
      "image/png": "[encoded data removed]",
      "text/plain": [
       "<Figure size 1600x800 with 2 Axes>"
      ]
     },
     "metadata": {},
     "output_type": "display_data"
    }
   ],
   "source": [
    "plt.figure(figsize=(16,8))\n",
    "plt.subplot(2,2,1)\n",
    "sns.kdeplot(df['TotalCases'])\n",
    "plt.subplot(2,2,2)\n",
    "sns.boxplot(df['TotalCases'])\n",
    "\n",
    "plt.show()"
   ]
  },
  {
   "cell_type": "markdown",
   "id": "0f02555a",
   "metadata": {
    "papermill": {
     "duration": 0.021006,
     "end_time": "2024-07-03T09:02:21.134840",
     "exception": false,
     "start_time": "2024-07-03T09:02:21.113834",
     "status": "completed"
    },
    "tags": []
   },
   "source": [
    "## By Winsorization"
   ]
  },
  {
   "cell_type": "markdown",
   "id": "03013ebf",
   "metadata": {
    "papermill": {
     "duration": 0.020517,
     "end_time": "2024-07-03T09:02:21.176465",
     "exception": false,
     "start_time": "2024-07-03T09:02:21.155948",
     "status": "completed"
    },
    "tags": []
   },
   "source": [
    "### Finding the IQR for TotalCases"
   ]
  },
  {
   "cell_type": "code",
   "execution_count": 20,
   "id": "c1d9976a",
   "metadata": {
    "execution": {
     "iopub.execute_input": "2024-07-03T09:02:21.220372Z",
     "iopub.status.busy": "2024-07-03T09:02:21.219984Z",
     "iopub.status.idle": "2024-07-03T09:02:21.230117Z",
     "shell.execute_reply": "2024-07-03T09:02:21.228958Z"
    },
    "papermill": {
     "duration": 0.034904,
     "end_time": "2024-07-03T09:02:21.232355",
     "exception": false,
     "start_time": "2024-07-03T09:02:21.197451",
     "status": "completed"
    },
    "tags": []
   },
   "outputs": [
    {
     "name": "stdout",
     "output_type": "stream",
     "text": [
      "percentile75: 1256286.0\n",
      "iqr: 1232637.0\n",
      "Upper limit: 3105241.5\n",
      "Lower limit: -1825306.5\n"
     ]
    }
   ],
   "source": [
    "percentile25 = df['TotalCases'].quantile(0.25)\n",
    "percentile75 = df['TotalCases'].quantile(0.75)\n",
    "print(\"percentile75:\",percentile75)\n",
    "iqr = percentile75 - percentile25\n",
    "print(\"iqr:\",iqr)\n",
    "upper_limit = percentile75 + 1.5 * iqr\n",
    "lower_limit = percentile25 - 1.5 * iqr\n",
    "print(\"Upper limit:\",upper_limit)\n",
    "print(\"Lower limit:\",lower_limit)"
   ]
  },
  {
   "cell_type": "markdown",
   "id": "4268a4e4",
   "metadata": {
    "papermill": {
     "duration": 0.020947,
     "end_time": "2024-07-03T09:02:21.274699",
     "exception": false,
     "start_time": "2024-07-03T09:02:21.253752",
     "status": "completed"
    },
    "tags": []
   },
   "source": [
    "### Find outliers"
   ]
  },
  {
   "cell_type": "code",
   "execution_count": 21,
   "id": "568c08ab",
   "metadata": {
    "execution": {
     "iopub.execute_input": "2024-07-03T09:02:21.318504Z",
     "iopub.status.busy": "2024-07-03T09:02:21.318093Z",
     "iopub.status.idle": "2024-07-03T09:02:21.340235Z",
     "shell.execute_reply": "2024-07-03T09:02:21.338845Z"
    },
    "papermill": {
     "duration": 0.047147,
     "end_time": "2024-07-03T09:02:21.342879",
     "exception": false,
     "start_time": "2024-07-03T09:02:21.295732",
     "status": "completed"
    },
    "tags": []
   },
   "outputs": [
    {
     "data": {
      "text/html": [
       "<div>\n",
       "<style scoped>\n",
       "    .dataframe tbody tr th:only-of-type {\n",
       "        vertical-align: middle;\n",
       "    }\n",
       "\n",
       "    .dataframe tbody tr th {\n",
       "        vertical-align: top;\n",
       "    }\n",
       "\n",
       "    .dataframe thead th {\n",
       "        text-align: right;\n",
       "    }\n",
       "</style>\n",
       "<table border=\"1\" class=\"dataframe\">\n",
       "  <thead>\n",
       "    <tr style=\"text-align: right;\">\n",
       "      <th></th>\n",
       "      <th>#</th>\n",
       "      <th>TotalCases</th>\n",
       "      <th>TotalDeaths</th>\n",
       "      <th>TotalRecovered</th>\n",
       "      <th>ActiveCases</th>\n",
       "      <th>SeriousCritical</th>\n",
       "    </tr>\n",
       "  </thead>\n",
       "  <tbody>\n",
       "    <tr>\n",
       "      <th>0</th>\n",
       "      <td>1</td>\n",
       "      <td>98166904.0</td>\n",
       "      <td>1084282.0</td>\n",
       "      <td>94962112.0</td>\n",
       "      <td>2120510.0</td>\n",
       "      <td>2970.0</td>\n",
       "    </tr>\n",
       "    <tr>\n",
       "      <th>1</th>\n",
       "      <td>2</td>\n",
       "      <td>44587307.0</td>\n",
       "      <td>528629.0</td>\n",
       "      <td>44019095.0</td>\n",
       "      <td>39583.0</td>\n",
       "      <td>698.0</td>\n",
       "    </tr>\n",
       "    <tr>\n",
       "      <th>2</th>\n",
       "      <td>3</td>\n",
       "      <td>35342950.0</td>\n",
       "      <td>155078.0</td>\n",
       "      <td>34527115.0</td>\n",
       "      <td>660757.0</td>\n",
       "      <td>869.0</td>\n",
       "    </tr>\n",
       "    <tr>\n",
       "      <th>3</th>\n",
       "      <td>4</td>\n",
       "      <td>34706757.0</td>\n",
       "      <td>686027.0</td>\n",
       "      <td>33838636.0</td>\n",
       "      <td>182094.0</td>\n",
       "      <td>8318.0</td>\n",
       "    </tr>\n",
       "    <tr>\n",
       "      <th>4</th>\n",
       "      <td>5</td>\n",
       "      <td>33312373.0</td>\n",
       "      <td>149948.0</td>\n",
       "      <td>32315200.0</td>\n",
       "      <td>847225.0</td>\n",
       "      <td>1406.0</td>\n",
       "    </tr>\n",
       "    <tr>\n",
       "      <th>5</th>\n",
       "      <td>6</td>\n",
       "      <td>24769101.0</td>\n",
       "      <td>28406.0</td>\n",
       "      <td>24013461.0</td>\n",
       "      <td>727234.0</td>\n",
       "      <td>352.0</td>\n",
       "    </tr>\n",
       "    <tr>\n",
       "      <th>6</th>\n",
       "      <td>7</td>\n",
       "      <td>23621952.0</td>\n",
       "      <td>189919.0</td>\n",
       "      <td>23347871.0</td>\n",
       "      <td>84162.0</td>\n",
       "      <td>146.0</td>\n",
       "    </tr>\n",
       "    <tr>\n",
       "      <th>7</th>\n",
       "      <td>8</td>\n",
       "      <td>22432803.0</td>\n",
       "      <td>177054.0</td>\n",
       "      <td>21779604.0</td>\n",
       "      <td>476145.0</td>\n",
       "      <td>141.0</td>\n",
       "    </tr>\n",
       "    <tr>\n",
       "      <th>8</th>\n",
       "      <td>9</td>\n",
       "      <td>21229216.0</td>\n",
       "      <td>44678.0</td>\n",
       "      <td>20380089.0</td>\n",
       "      <td>804449.0</td>\n",
       "      <td>204.0</td>\n",
       "    </tr>\n",
       "    <tr>\n",
       "      <th>9</th>\n",
       "      <td>10</td>\n",
       "      <td>20948470.0</td>\n",
       "      <td>387163.0</td>\n",
       "      <td>19979763.0</td>\n",
       "      <td>581544.0</td>\n",
       "      <td>2300.0</td>\n",
       "    </tr>\n",
       "    <tr>\n",
       "      <th>10</th>\n",
       "      <td>11</td>\n",
       "      <td>16873793.0</td>\n",
       "      <td>101139.0</td>\n",
       "      <td>16754301.0</td>\n",
       "      <td>18353.0</td>\n",
       "      <td>975.0</td>\n",
       "    </tr>\n",
       "    <tr>\n",
       "      <th>11</th>\n",
       "      <td>12</td>\n",
       "      <td>13412263.0</td>\n",
       "      <td>114084.0</td>\n",
       "      <td>13218892.0</td>\n",
       "      <td>79287.0</td>\n",
       "      <td>339.0</td>\n",
       "    </tr>\n",
       "    <tr>\n",
       "      <th>12</th>\n",
       "      <td>13</td>\n",
       "      <td>11477886.0</td>\n",
       "      <td>43148.0</td>\n",
       "      <td>10590917.0</td>\n",
       "      <td>843821.0</td>\n",
       "      <td>106.0</td>\n",
       "    </tr>\n",
       "    <tr>\n",
       "      <th>13</th>\n",
       "      <td>14</td>\n",
       "      <td>10209239.0</td>\n",
       "      <td>14984.0</td>\n",
       "      <td>10133494.0</td>\n",
       "      <td>60761.0</td>\n",
       "      <td>49.0</td>\n",
       "    </tr>\n",
       "    <tr>\n",
       "      <th>14</th>\n",
       "      <td>15</td>\n",
       "      <td>9708420.0</td>\n",
       "      <td>129897.0</td>\n",
       "      <td>9563348.0</td>\n",
       "      <td>15175.0</td>\n",
       "      <td>294.0</td>\n",
       "    </tr>\n",
       "    <tr>\n",
       "      <th>15</th>\n",
       "      <td>16</td>\n",
       "      <td>8422336.0</td>\n",
       "      <td>22643.0</td>\n",
       "      <td>8362464.0</td>\n",
       "      <td>37229.0</td>\n",
       "      <td>35.0</td>\n",
       "    </tr>\n",
       "    <tr>\n",
       "      <th>16</th>\n",
       "      <td>17</td>\n",
       "      <td>7548320.0</td>\n",
       "      <td>144421.0</td>\n",
       "      <td>7325370.0</td>\n",
       "      <td>78529.0</td>\n",
       "      <td>157.0</td>\n",
       "    </tr>\n",
       "    <tr>\n",
       "      <th>17</th>\n",
       "      <td>18</td>\n",
       "      <td>7084488.0</td>\n",
       "      <td>330065.0</td>\n",
       "      <td>6353953.0</td>\n",
       "      <td>400470.0</td>\n",
       "      <td>4798.0</td>\n",
       "    </tr>\n",
       "    <tr>\n",
       "      <th>18</th>\n",
       "      <td>19</td>\n",
       "      <td>6429767.0</td>\n",
       "      <td>158093.0</td>\n",
       "      <td>6253317.0</td>\n",
       "      <td>18357.0</td>\n",
       "      <td>2771.0</td>\n",
       "    </tr>\n",
       "    <tr>\n",
       "      <th>19</th>\n",
       "      <td>20</td>\n",
       "      <td>6417941.0</td>\n",
       "      <td>11003.0</td>\n",
       "      <td>5603195.0</td>\n",
       "      <td>803743.0</td>\n",
       "      <td>&lt;NA&gt;</td>\n",
       "    </tr>\n",
       "    <tr>\n",
       "      <th>20</th>\n",
       "      <td>21</td>\n",
       "      <td>6307372.0</td>\n",
       "      <td>141794.0</td>\n",
       "      <td>6134690.0</td>\n",
       "      <td>30888.0</td>\n",
       "      <td>342.0</td>\n",
       "    </tr>\n",
       "    <tr>\n",
       "      <th>21</th>\n",
       "      <td>22</td>\n",
       "      <td>6289672.0</td>\n",
       "      <td>117539.0</td>\n",
       "      <td>5335940.0</td>\n",
       "      <td>836193.0</td>\n",
       "      <td>3086.0</td>\n",
       "    </tr>\n",
       "    <tr>\n",
       "      <th>22</th>\n",
       "      <td>23</td>\n",
       "      <td>5490639.0</td>\n",
       "      <td>25024.0</td>\n",
       "      <td>5394788.0</td>\n",
       "      <td>70827.0</td>\n",
       "      <td>61.0</td>\n",
       "    </tr>\n",
       "    <tr>\n",
       "      <th>23</th>\n",
       "      <td>24</td>\n",
       "      <td>5177217.0</td>\n",
       "      <td>109206.0</td>\n",
       "      <td>4973554.0</td>\n",
       "      <td>94457.0</td>\n",
       "      <td>177.0</td>\n",
       "    </tr>\n",
       "    <tr>\n",
       "      <th>24</th>\n",
       "      <td>25</td>\n",
       "      <td>5118512.0</td>\n",
       "      <td>20738.0</td>\n",
       "      <td>5006572.0</td>\n",
       "      <td>91202.0</td>\n",
       "      <td>47.0</td>\n",
       "    </tr>\n",
       "    <tr>\n",
       "      <th>25</th>\n",
       "      <td>26</td>\n",
       "      <td>4920192.0</td>\n",
       "      <td>33111.0</td>\n",
       "      <td>4836903.0</td>\n",
       "      <td>50178.0</td>\n",
       "      <td>115.0</td>\n",
       "    </tr>\n",
       "    <tr>\n",
       "      <th>26</th>\n",
       "      <td>27</td>\n",
       "      <td>4838872.0</td>\n",
       "      <td>36369.0</td>\n",
       "      <td>4777329.0</td>\n",
       "      <td>25174.0</td>\n",
       "      <td>43.0</td>\n",
       "    </tr>\n",
       "    <tr>\n",
       "      <th>27</th>\n",
       "      <td>28</td>\n",
       "      <td>4772813.0</td>\n",
       "      <td>74.0</td>\n",
       "      <td>4772739.0</td>\n",
       "      <td>0.0</td>\n",
       "      <td>&lt;NA&gt;</td>\n",
       "    </tr>\n",
       "    <tr>\n",
       "      <th>28</th>\n",
       "      <td>29</td>\n",
       "      <td>4681309.0</td>\n",
       "      <td>32767.0</td>\n",
       "      <td>4642083.0</td>\n",
       "      <td>6459.0</td>\n",
       "      <td>1496.0</td>\n",
       "    </tr>\n",
       "    <tr>\n",
       "      <th>29</th>\n",
       "      <td>30</td>\n",
       "      <td>4661096.0</td>\n",
       "      <td>11698.0</td>\n",
       "      <td>4641394.0</td>\n",
       "      <td>8004.0</td>\n",
       "      <td>101.0</td>\n",
       "    </tr>\n",
       "    <tr>\n",
       "      <th>30</th>\n",
       "      <td>31</td>\n",
       "      <td>4620377.0</td>\n",
       "      <td>61141.0</td>\n",
       "      <td>4540886.0</td>\n",
       "      <td>18350.0</td>\n",
       "      <td>124.0</td>\n",
       "    </tr>\n",
       "    <tr>\n",
       "      <th>31</th>\n",
       "      <td>32</td>\n",
       "      <td>4533249.0</td>\n",
       "      <td>32659.0</td>\n",
       "      <td>4451569.0</td>\n",
       "      <td>49021.0</td>\n",
       "      <td>48.0</td>\n",
       "    </tr>\n",
       "    <tr>\n",
       "      <th>32</th>\n",
       "      <td>33</td>\n",
       "      <td>4233468.0</td>\n",
       "      <td>44992.0</td>\n",
       "      <td>4131367.0</td>\n",
       "      <td>57109.0</td>\n",
       "      <td>99.0</td>\n",
       "    </tr>\n",
       "    <tr>\n",
       "      <th>33</th>\n",
       "      <td>34</td>\n",
       "      <td>4143085.0</td>\n",
       "      <td>216539.0</td>\n",
       "      <td>3914598.0</td>\n",
       "      <td>11948.0</td>\n",
       "      <td>147.0</td>\n",
       "    </tr>\n",
       "    <tr>\n",
       "      <th>34</th>\n",
       "      <td>35</td>\n",
       "      <td>4100480.0</td>\n",
       "      <td>41059.0</td>\n",
       "      <td>4035333.0</td>\n",
       "      <td>24088.0</td>\n",
       "      <td>39.0</td>\n",
       "    </tr>\n",
       "    <tr>\n",
       "      <th>35</th>\n",
       "      <td>36</td>\n",
       "      <td>4084307.0</td>\n",
       "      <td>14183.0</td>\n",
       "      <td>4012833.0</td>\n",
       "      <td>57291.0</td>\n",
       "      <td>54.0</td>\n",
       "    </tr>\n",
       "    <tr>\n",
       "      <th>36</th>\n",
       "      <td>37</td>\n",
       "      <td>4018769.0</td>\n",
       "      <td>102185.0</td>\n",
       "      <td>3909265.0</td>\n",
       "      <td>7319.0</td>\n",
       "      <td>192.0</td>\n",
       "    </tr>\n",
       "    <tr>\n",
       "      <th>37</th>\n",
       "      <td>38</td>\n",
       "      <td>3945566.0</td>\n",
       "      <td>62916.0</td>\n",
       "      <td>3854478.0</td>\n",
       "      <td>28172.0</td>\n",
       "      <td>696.0</td>\n",
       "    </tr>\n",
       "    <tr>\n",
       "      <th>38</th>\n",
       "      <td>39</td>\n",
       "      <td>3267370.0</td>\n",
       "      <td>67016.0</td>\n",
       "      <td>3180124.0</td>\n",
       "      <td>20230.0</td>\n",
       "      <td>123.0</td>\n",
       "    </tr>\n",
       "    <tr>\n",
       "      <th>39</th>\n",
       "      <td>40</td>\n",
       "      <td>3110831.0</td>\n",
       "      <td>7065.0</td>\n",
       "      <td>3093396.0</td>\n",
       "      <td>10370.0</td>\n",
       "      <td>&lt;NA&gt;</td>\n",
       "    </tr>\n",
       "  </tbody>\n",
       "</table>\n",
       "</div>"
      ],
      "text/plain": [
       "     #  TotalCases  TotalDeaths  TotalRecovered  ActiveCases  SeriousCritical\n",
       "0    1  98166904.0    1084282.0      94962112.0    2120510.0           2970.0\n",
       "1    2  44587307.0     528629.0      44019095.0      39583.0            698.0\n",
       "2    3  35342950.0     155078.0      34527115.0     660757.0            869.0\n",
       "3    4  34706757.0     686027.0      33838636.0     182094.0           8318.0\n",
       "4    5  33312373.0     149948.0      32315200.0     847225.0           1406.0\n",
       "5    6  24769101.0      28406.0      24013461.0     727234.0            352.0\n",
       "6    7  23621952.0     189919.0      23347871.0      84162.0            146.0\n",
       "7    8  22432803.0     177054.0      21779604.0     476145.0            141.0\n",
       "8    9  21229216.0      44678.0      20380089.0     804449.0            204.0\n",
       "9   10  20948470.0     387163.0      19979763.0     581544.0           2300.0\n",
       "10  11  16873793.0     101139.0      16754301.0      18353.0            975.0\n",
       "11  12  13412263.0     114084.0      13218892.0      79287.0            339.0\n",
       "12  13  11477886.0      43148.0      10590917.0     843821.0            106.0\n",
       "13  14  10209239.0      14984.0      10133494.0      60761.0             49.0\n",
       "14  15   9708420.0     129897.0       9563348.0      15175.0            294.0\n",
       "15  16   8422336.0      22643.0       8362464.0      37229.0             35.0\n",
       "16  17   7548320.0     144421.0       7325370.0      78529.0            157.0\n",
       "17  18   7084488.0     330065.0       6353953.0     400470.0           4798.0\n",
       "18  19   6429767.0     158093.0       6253317.0      18357.0           2771.0\n",
       "19  20   6417941.0      11003.0       5603195.0     803743.0             <NA>\n",
       "20  21   6307372.0     141794.0       6134690.0      30888.0            342.0\n",
       "21  22   6289672.0     117539.0       5335940.0     836193.0           3086.0\n",
       "22  23   5490639.0      25024.0       5394788.0      70827.0             61.0\n",
       "23  24   5177217.0     109206.0       4973554.0      94457.0            177.0\n",
       "24  25   5118512.0      20738.0       5006572.0      91202.0             47.0\n",
       "25  26   4920192.0      33111.0       4836903.0      50178.0            115.0\n",
       "26  27   4838872.0      36369.0       4777329.0      25174.0             43.0\n",
       "27  28   4772813.0         74.0       4772739.0          0.0             <NA>\n",
       "28  29   4681309.0      32767.0       4642083.0       6459.0           1496.0\n",
       "29  30   4661096.0      11698.0       4641394.0       8004.0            101.0\n",
       "30  31   4620377.0      61141.0       4540886.0      18350.0            124.0\n",
       "31  32   4533249.0      32659.0       4451569.0      49021.0             48.0\n",
       "32  33   4233468.0      44992.0       4131367.0      57109.0             99.0\n",
       "33  34   4143085.0     216539.0       3914598.0      11948.0            147.0\n",
       "34  35   4100480.0      41059.0       4035333.0      24088.0             39.0\n",
       "35  36   4084307.0      14183.0       4012833.0      57291.0             54.0\n",
       "36  37   4018769.0     102185.0       3909265.0       7319.0            192.0\n",
       "37  38   3945566.0      62916.0       3854478.0      28172.0            696.0\n",
       "38  39   3267370.0      67016.0       3180124.0      20230.0            123.0\n",
       "39  40   3110831.0       7065.0       3093396.0      10370.0             <NA>"
      ]
     },
     "execution_count": 21,
     "metadata": {},
     "output_type": "execute_result"
    }
   ],
   "source": [
    "df[df['TotalCases'] > upper_limit]"
   ]
  },
  {
   "cell_type": "code",
   "execution_count": 22,
   "id": "b64ca2c9",
   "metadata": {
    "execution": {
     "iopub.execute_input": "2024-07-03T09:02:21.388938Z",
     "iopub.status.busy": "2024-07-03T09:02:21.388500Z",
     "iopub.status.idle": "2024-07-03T09:02:21.400663Z",
     "shell.execute_reply": "2024-07-03T09:02:21.399527Z"
    },
    "papermill": {
     "duration": 0.037953,
     "end_time": "2024-07-03T09:02:21.402985",
     "exception": false,
     "start_time": "2024-07-03T09:02:21.365032",
     "status": "completed"
    },
    "tags": []
   },
   "outputs": [
    {
     "data": {
      "text/html": [
       "<div>\n",
       "<style scoped>\n",
       "    .dataframe tbody tr th:only-of-type {\n",
       "        vertical-align: middle;\n",
       "    }\n",
       "\n",
       "    .dataframe tbody tr th {\n",
       "        vertical-align: top;\n",
       "    }\n",
       "\n",
       "    .dataframe thead th {\n",
       "        text-align: right;\n",
       "    }\n",
       "</style>\n",
       "<table border=\"1\" class=\"dataframe\">\n",
       "  <thead>\n",
       "    <tr style=\"text-align: right;\">\n",
       "      <th></th>\n",
       "      <th>#</th>\n",
       "      <th>TotalCases</th>\n",
       "      <th>TotalDeaths</th>\n",
       "      <th>TotalRecovered</th>\n",
       "      <th>ActiveCases</th>\n",
       "      <th>SeriousCritical</th>\n",
       "    </tr>\n",
       "  </thead>\n",
       "  <tbody>\n",
       "  </tbody>\n",
       "</table>\n",
       "</div>"
      ],
      "text/plain": [
       "Empty DataFrame\n",
       "Columns: [#, TotalCases, TotalDeaths, TotalRecovered, ActiveCases, SeriousCritical]\n",
       "Index: []"
      ]
     },
     "execution_count": 22,
     "metadata": {},
     "output_type": "execute_result"
    }
   ],
   "source": [
    "df[df['TotalCases'] < lower_limit]"
   ]
  },
  {
   "cell_type": "markdown",
   "id": "87628fe5",
   "metadata": {
    "execution": {
     "iopub.execute_input": "2024-07-03T07:48:55.332270Z",
     "iopub.status.busy": "2024-07-03T07:48:55.331256Z",
     "iopub.status.idle": "2024-07-03T07:48:55.741969Z",
     "shell.execute_reply": "2024-07-03T07:48:55.740530Z",
     "shell.execute_reply.started": "2024-07-03T07:48:55.332235Z"
    },
    "papermill": {
     "duration": 0.022019,
     "end_time": "2024-07-03T09:02:21.447222",
     "exception": false,
     "start_time": "2024-07-03T09:02:21.425203",
     "status": "completed"
    },
    "tags": []
   },
   "source": [
    "capping"
   ]
  },
  {
   "cell_type": "code",
   "execution_count": 23,
   "id": "8338aef2",
   "metadata": {
    "execution": {
     "iopub.execute_input": "2024-07-03T09:02:21.493228Z",
     "iopub.status.busy": "2024-07-03T09:02:21.492830Z",
     "iopub.status.idle": "2024-07-03T09:02:21.500363Z",
     "shell.execute_reply": "2024-07-03T09:02:21.499414Z"
    },
    "papermill": {
     "duration": 0.033319,
     "end_time": "2024-07-03T09:02:21.502709",
     "exception": false,
     "start_time": "2024-07-03T09:02:21.469390",
     "status": "completed"
    },
    "tags": []
   },
   "outputs": [],
   "source": [
    "new_df_cap = df.copy()\n",
    "\n",
    "new_df_cap['TotalCases'] = np.where(\n",
    "    new_df_cap['TotalCases'] > upper_limit,\n",
    "    upper_limit,\n",
    "    np.where(\n",
    "        new_df_cap['TotalCases'] < lower_limit,\n",
    "        lower_limit,\n",
    "        new_df_cap['TotalCases']\n",
    "    )\n",
    ")"
   ]
  },
  {
   "cell_type": "code",
   "execution_count": 24,
   "id": "eaaea324",
   "metadata": {
    "execution": {
     "iopub.execute_input": "2024-07-03T09:02:21.548661Z",
     "iopub.status.busy": "2024-07-03T09:02:21.548266Z",
     "iopub.status.idle": "2024-07-03T09:02:21.554763Z",
     "shell.execute_reply": "2024-07-03T09:02:21.553727Z"
    },
    "papermill": {
     "duration": 0.032239,
     "end_time": "2024-07-03T09:02:21.557076",
     "exception": false,
     "start_time": "2024-07-03T09:02:21.524837",
     "status": "completed"
    },
    "tags": []
   },
   "outputs": [
    {
     "data": {
      "text/plain": [
       "(230, 6)"
      ]
     },
     "execution_count": 24,
     "metadata": {},
     "output_type": "execute_result"
    }
   ],
   "source": [
    "new_df_cap.shape"
   ]
  },
  {
   "cell_type": "markdown",
   "id": "18259c3d",
   "metadata": {
    "papermill": {
     "duration": 0.022312,
     "end_time": "2024-07-03T09:02:21.601648",
     "exception": false,
     "start_time": "2024-07-03T09:02:21.579336",
     "status": "completed"
    },
    "tags": []
   },
   "source": [
    "## Comparing before and after Winsorization"
   ]
  },
  {
   "cell_type": "code",
   "execution_count": 25,
   "id": "799c2d40",
   "metadata": {
    "execution": {
     "iopub.execute_input": "2024-07-03T09:02:21.648757Z",
     "iopub.status.busy": "2024-07-03T09:02:21.647910Z",
     "iopub.status.idle": "2024-07-03T09:02:23.022789Z",
     "shell.execute_reply": "2024-07-03T09:02:23.021554Z"
    },
    "papermill": {
     "duration": 1.401329,
     "end_time": "2024-07-03T09:02:23.025586",
     "exception": false,
     "start_time": "2024-07-03T09:02:21.624257",
     "status": "completed"
    },
    "tags": []
   },
   "outputs": [
    {
     "name": "stderr",
     "output_type": "stream",
     "text": [
      "/opt/conda/lib/python3.10/site-packages/seaborn/_oldcore.py:1119: FutureWarning: use_inf_as_na option is deprecated and will be removed in a future version. Convert inf values to NaN before operating instead.\n",
      "  with pd.option_context('mode.use_inf_as_na', True):\n",
      "/opt/conda/lib/python3.10/site-packages/seaborn/_oldcore.py:1119: FutureWarning: use_inf_as_na option is deprecated and will be removed in a future version. Convert inf values to NaN before operating instead.\n",
      "  with pd.option_context('mode.use_inf_as_na', True):\n"
     ]
    },
    {
     "data": {
      "image/png": "[encoded data removed]",
      "text/plain": [
       "<Figure size 1600x800 with 4 Axes>"
      ]
     },
     "metadata": {},
     "output_type": "display_data"
    }
   ],
   "source": [
    "plt.figure(figsize=(16,8))\n",
    "\n",
    "plt.subplot(2,2,1)\n",
    "sns.histplot(df['TotalCases'], kde=True, color='b')\n",
    "plt.title('Distribution of TotalCases')\n",
    "plt.xlabel('TotalCases')\n",
    "plt.ylabel('Density')\n",
    "\n",
    "\n",
    "#plt.subplot(2,2,1)\n",
    "#sns.distplot(df['TotalCases'])\n",
    "\n",
    "plt.subplot(2,2,2)\n",
    "sns.boxplot(df['TotalCases'], color='b')\n",
    "plt.title('Distribution of TotalCases')\n",
    "plt.xlabel('TotalCases')\n",
    "plt.ylabel('Density')\n",
    "\n",
    "\n",
    "plt.subplot(2,2,3)\n",
    "sns.histplot(new_df_cap['TotalCases'], kde=True, color='b')\n",
    "plt.title('Distribution of TotalCases')\n",
    "plt.xlabel('TotalCases')\n",
    "plt.ylabel('Density')\n",
    "\n",
    "plt.subplot(2,2,4)\n",
    "sns.boxplot(new_df_cap['TotalCases'], color='b')\n",
    "plt.title('Distribution of TotalCases')\n",
    "plt.xlabel('TotalCases')\n",
    "plt.ylabel('Density')\n",
    "\n",
    "\n",
    "plt.show()"
   ]
  },
  {
   "cell_type": "code",
   "execution_count": 26,
   "id": "4740257a",
   "metadata": {
    "execution": {
     "iopub.execute_input": "2024-07-03T09:02:23.074702Z",
     "iopub.status.busy": "2024-07-03T09:02:23.074278Z",
     "iopub.status.idle": "2024-07-03T09:02:23.079261Z",
     "shell.execute_reply": "2024-07-03T09:02:23.078217Z"
    },
    "papermill": {
     "duration": 0.032128,
     "end_time": "2024-07-03T09:02:23.081517",
     "exception": false,
     "start_time": "2024-07-03T09:02:23.049389",
     "status": "completed"
    },
    "tags": []
   },
   "outputs": [],
   "source": [
    "df = new_df_cap"
   ]
  },
  {
   "cell_type": "code",
   "execution_count": 27,
   "id": "14900102",
   "metadata": {
    "execution": {
     "iopub.execute_input": "2024-07-03T09:02:23.130314Z",
     "iopub.status.busy": "2024-07-03T09:02:23.129916Z",
     "iopub.status.idle": "2024-07-03T09:02:23.147971Z",
     "shell.execute_reply": "2024-07-03T09:02:23.146530Z"
    },
    "papermill": {
     "duration": 0.045767,
     "end_time": "2024-07-03T09:02:23.150825",
     "exception": false,
     "start_time": "2024-07-03T09:02:23.105058",
     "status": "completed"
    },
    "tags": []
   },
   "outputs": [
    {
     "data": {
      "text/html": [
       "<div>\n",
       "<style scoped>\n",
       "    .dataframe tbody tr th:only-of-type {\n",
       "        vertical-align: middle;\n",
       "    }\n",
       "\n",
       "    .dataframe tbody tr th {\n",
       "        vertical-align: top;\n",
       "    }\n",
       "\n",
       "    .dataframe thead th {\n",
       "        text-align: right;\n",
       "    }\n",
       "</style>\n",
       "<table border=\"1\" class=\"dataframe\">\n",
       "  <thead>\n",
       "    <tr style=\"text-align: right;\">\n",
       "      <th></th>\n",
       "      <th>#</th>\n",
       "      <th>TotalCases</th>\n",
       "      <th>TotalDeaths</th>\n",
       "      <th>TotalRecovered</th>\n",
       "      <th>ActiveCases</th>\n",
       "      <th>SeriousCritical</th>\n",
       "    </tr>\n",
       "  </thead>\n",
       "  <tbody>\n",
       "    <tr>\n",
       "      <th>0</th>\n",
       "      <td>1</td>\n",
       "      <td>3105241.5</td>\n",
       "      <td>1084282.0</td>\n",
       "      <td>94962112.0</td>\n",
       "      <td>2120510.0</td>\n",
       "      <td>2970.0</td>\n",
       "    </tr>\n",
       "    <tr>\n",
       "      <th>1</th>\n",
       "      <td>2</td>\n",
       "      <td>3105241.5</td>\n",
       "      <td>528629.0</td>\n",
       "      <td>44019095.0</td>\n",
       "      <td>39583.0</td>\n",
       "      <td>698.0</td>\n",
       "    </tr>\n",
       "    <tr>\n",
       "      <th>2</th>\n",
       "      <td>3</td>\n",
       "      <td>3105241.5</td>\n",
       "      <td>155078.0</td>\n",
       "      <td>34527115.0</td>\n",
       "      <td>660757.0</td>\n",
       "      <td>869.0</td>\n",
       "    </tr>\n",
       "    <tr>\n",
       "      <th>3</th>\n",
       "      <td>4</td>\n",
       "      <td>3105241.5</td>\n",
       "      <td>686027.0</td>\n",
       "      <td>33838636.0</td>\n",
       "      <td>182094.0</td>\n",
       "      <td>8318.0</td>\n",
       "    </tr>\n",
       "    <tr>\n",
       "      <th>4</th>\n",
       "      <td>5</td>\n",
       "      <td>3105241.5</td>\n",
       "      <td>149948.0</td>\n",
       "      <td>32315200.0</td>\n",
       "      <td>847225.0</td>\n",
       "      <td>1406.0</td>\n",
       "    </tr>\n",
       "  </tbody>\n",
       "</table>\n",
       "</div>"
      ],
      "text/plain": [
       "   #  TotalCases  TotalDeaths  TotalRecovered  ActiveCases  SeriousCritical\n",
       "0  1   3105241.5    1084282.0      94962112.0    2120510.0           2970.0\n",
       "1  2   3105241.5     528629.0      44019095.0      39583.0            698.0\n",
       "2  3   3105241.5     155078.0      34527115.0     660757.0            869.0\n",
       "3  4   3105241.5     686027.0      33838636.0     182094.0           8318.0\n",
       "4  5   3105241.5     149948.0      32315200.0     847225.0           1406.0"
      ]
     },
     "execution_count": 27,
     "metadata": {},
     "output_type": "execute_result"
    }
   ],
   "source": [
    "df.head()"
   ]
  },
  {
   "cell_type": "markdown",
   "id": "bcec55e2",
   "metadata": {
    "papermill": {
     "duration": 0.02471,
     "end_time": "2024-07-03T09:02:23.206796",
     "exception": false,
     "start_time": "2024-07-03T09:02:23.182086",
     "status": "completed"
    },
    "tags": []
   },
   "source": [
    "## By FunctionTransformer"
   ]
  },
  {
   "cell_type": "code",
   "execution_count": 28,
   "id": "57ec07b7",
   "metadata": {
    "execution": {
     "iopub.execute_input": "2024-07-03T09:02:23.260554Z",
     "iopub.status.busy": "2024-07-03T09:02:23.259721Z",
     "iopub.status.idle": "2024-07-03T09:02:24.106480Z",
     "shell.execute_reply": "2024-07-03T09:02:24.105413Z"
    },
    "papermill": {
     "duration": 0.877505,
     "end_time": "2024-07-03T09:02:24.108921",
     "exception": false,
     "start_time": "2024-07-03T09:02:23.231416",
     "status": "completed"
    },
    "tags": []
   },
   "outputs": [
    {
     "name": "stderr",
     "output_type": "stream",
     "text": [
      "/opt/conda/lib/python3.10/site-packages/seaborn/_oldcore.py:1119: FutureWarning: use_inf_as_na option is deprecated and will be removed in a future version. Convert inf values to NaN before operating instead.\n",
      "  with pd.option_context('mode.use_inf_as_na', True):\n"
     ]
    },
    {
     "data": {
      "image/png": "[encoded data removed]",
      "text/plain": [
       "<Figure size 1500x1000 with 2 Axes>"
      ]
     },
     "metadata": {},
     "output_type": "display_data"
    }
   ],
   "source": [
    "plt.figure(figsize=(15,10))\n",
    "\n",
    "plt.subplot(2,2,1)\n",
    "sns.histplot(df['TotalDeaths'], kde=False, color='b')\n",
    "plt.title('Distribution of TotalDeaths')\n",
    "plt.xlabel('TotalDeaths')\n",
    "plt.ylabel('Density')\n",
    "\n",
    "plt.subplot(2,2,2)\n",
    "sns.boxplot(df['TotalDeaths'], color='b')\n",
    "plt.title('Distribution of TotalDeaths')\n",
    "plt.xlabel('TotalDeaths')\n",
    "plt.ylabel('Density')\n",
    "\n",
    "plt.show()"
   ]
  },
  {
   "cell_type": "code",
   "execution_count": 29,
   "id": "d7e5b5ed",
   "metadata": {
    "execution": {
     "iopub.execute_input": "2024-07-03T09:02:24.159505Z",
     "iopub.status.busy": "2024-07-03T09:02:24.158583Z",
     "iopub.status.idle": "2024-07-03T09:02:24.164844Z",
     "shell.execute_reply": "2024-07-03T09:02:24.163867Z"
    },
    "papermill": {
     "duration": 0.034358,
     "end_time": "2024-07-03T09:02:24.167528",
     "exception": false,
     "start_time": "2024-07-03T09:02:24.133170",
     "status": "completed"
    },
    "tags": []
   },
   "outputs": [
    {
     "name": "stdout",
     "output_type": "stream",
     "text": [
      "Skewness:  7.083746708979543\n"
     ]
    }
   ],
   "source": [
    "print(\"Skewness: \", df['TotalDeaths'].skew())"
   ]
  },
  {
   "cell_type": "markdown",
   "id": "108ab310",
   "metadata": {
    "papermill": {
     "duration": 0.024149,
     "end_time": "2024-07-03T09:02:24.216164",
     "exception": false,
     "start_time": "2024-07-03T09:02:24.192015",
     "status": "completed"
    },
    "tags": []
   },
   "source": [
    "> right  skewed data"
   ]
  },
  {
   "cell_type": "code",
   "execution_count": 30,
   "id": "1be77cc9",
   "metadata": {
    "execution": {
     "iopub.execute_input": "2024-07-03T09:02:24.267318Z",
     "iopub.status.busy": "2024-07-03T09:02:24.266518Z",
     "iopub.status.idle": "2024-07-03T09:02:24.429256Z",
     "shell.execute_reply": "2024-07-03T09:02:24.428179Z"
    },
    "papermill": {
     "duration": 0.191318,
     "end_time": "2024-07-03T09:02:24.432082",
     "exception": false,
     "start_time": "2024-07-03T09:02:24.240764",
     "status": "completed"
    },
    "tags": []
   },
   "outputs": [],
   "source": [
    "from sklearn.preprocessing import FunctionTransformer\n",
    "transformer = FunctionTransformer(np.log1p)"
   ]
  },
  {
   "cell_type": "code",
   "execution_count": 31,
   "id": "c3a51e38",
   "metadata": {
    "execution": {
     "iopub.execute_input": "2024-07-03T09:02:24.483284Z",
     "iopub.status.busy": "2024-07-03T09:02:24.482886Z",
     "iopub.status.idle": "2024-07-03T09:02:24.488965Z",
     "shell.execute_reply": "2024-07-03T09:02:24.487846Z"
    },
    "papermill": {
     "duration": 0.034196,
     "end_time": "2024-07-03T09:02:24.491298",
     "exception": false,
     "start_time": "2024-07-03T09:02:24.457102",
     "status": "completed"
    },
    "tags": []
   },
   "outputs": [],
   "source": [
    "df['TotalDeaths']=transformer.transform(df['TotalDeaths'])"
   ]
  },
  {
   "cell_type": "code",
   "execution_count": 32,
   "id": "53e25be9",
   "metadata": {
    "execution": {
     "iopub.execute_input": "2024-07-03T09:02:24.542926Z",
     "iopub.status.busy": "2024-07-03T09:02:24.542484Z",
     "iopub.status.idle": "2024-07-03T09:02:24.550749Z",
     "shell.execute_reply": "2024-07-03T09:02:24.549644Z"
    },
    "papermill": {
     "duration": 0.03683,
     "end_time": "2024-07-03T09:02:24.553168",
     "exception": false,
     "start_time": "2024-07-03T09:02:24.516338",
     "status": "completed"
    },
    "tags": []
   },
   "outputs": [
    {
     "data": {
      "text/plain": [
       "-0.2287522248044566"
      ]
     },
     "execution_count": 32,
     "metadata": {},
     "output_type": "execute_result"
    }
   ],
   "source": [
    "df['TotalDeaths'].skew()"
   ]
  },
  {
   "cell_type": "markdown",
   "id": "76ac47f4",
   "metadata": {
    "papermill": {
     "duration": 0.024343,
     "end_time": "2024-07-03T09:02:24.602358",
     "exception": false,
     "start_time": "2024-07-03T09:02:24.578015",
     "status": "completed"
    },
    "tags": []
   },
   "source": [
    "##  After FunctionTransformer"
   ]
  },
  {
   "cell_type": "code",
   "execution_count": 33,
   "id": "f692c41f",
   "metadata": {
    "execution": {
     "iopub.execute_input": "2024-07-03T09:02:24.654846Z",
     "iopub.status.busy": "2024-07-03T09:02:24.654324Z",
     "iopub.status.idle": "2024-07-03T09:02:25.175913Z",
     "shell.execute_reply": "2024-07-03T09:02:25.174863Z"
    },
    "papermill": {
     "duration": 0.551165,
     "end_time": "2024-07-03T09:02:25.178666",
     "exception": false,
     "start_time": "2024-07-03T09:02:24.627501",
     "status": "completed"
    },
    "tags": []
   },
   "outputs": [
    {
     "name": "stderr",
     "output_type": "stream",
     "text": [
      "/opt/conda/lib/python3.10/site-packages/seaborn/_oldcore.py:1119: FutureWarning: use_inf_as_na option is deprecated and will be removed in a future version. Convert inf values to NaN before operating instead.\n",
      "  with pd.option_context('mode.use_inf_as_na', True):\n"
     ]
    },
    {
     "data": {
      "image/png": "[encoded data removed]",
      "text/plain": [
       "<Figure size 1500x1000 with 2 Axes>"
      ]
     },
     "metadata": {},
     "output_type": "display_data"
    }
   ],
   "source": [
    "plt.figure(figsize=(15,10))\n",
    "\n",
    "plt.subplot(2,2,1)\n",
    "sns.histplot(df['TotalDeaths'], kde=True, color='b')\n",
    "plt.title('Distribution of TotalDeaths')\n",
    "plt.xlabel('TotalDeaths')\n",
    "plt.ylabel('Density')\n",
    "\n",
    "plt.subplot(2,2,2)\n",
    "sns.boxplot(df['TotalDeaths'], color='b')\n",
    "plt.title('Distribution of TotalDeaths')\n",
    "plt.xlabel('TotalDeaths')\n",
    "plt.ylabel('Density')\n",
    "\n",
    "plt.show()"
   ]
  },
  {
   "cell_type": "code",
   "execution_count": 34,
   "id": "05c24fff",
   "metadata": {
    "execution": {
     "iopub.execute_input": "2024-07-03T09:02:25.230832Z",
     "iopub.status.busy": "2024-07-03T09:02:25.230398Z",
     "iopub.status.idle": "2024-07-03T09:02:25.245457Z",
     "shell.execute_reply": "2024-07-03T09:02:25.244368Z"
    },
    "papermill": {
     "duration": 0.043956,
     "end_time": "2024-07-03T09:02:25.247907",
     "exception": false,
     "start_time": "2024-07-03T09:02:25.203951",
     "status": "completed"
    },
    "tags": []
   },
   "outputs": [
    {
     "data": {
      "text/html": [
       "<div>\n",
       "<style scoped>\n",
       "    .dataframe tbody tr th:only-of-type {\n",
       "        vertical-align: middle;\n",
       "    }\n",
       "\n",
       "    .dataframe tbody tr th {\n",
       "        vertical-align: top;\n",
       "    }\n",
       "\n",
       "    .dataframe thead th {\n",
       "        text-align: right;\n",
       "    }\n",
       "</style>\n",
       "<table border=\"1\" class=\"dataframe\">\n",
       "  <thead>\n",
       "    <tr style=\"text-align: right;\">\n",
       "      <th></th>\n",
       "      <th>#</th>\n",
       "      <th>TotalCases</th>\n",
       "      <th>TotalDeaths</th>\n",
       "      <th>TotalRecovered</th>\n",
       "      <th>ActiveCases</th>\n",
       "      <th>SeriousCritical</th>\n",
       "    </tr>\n",
       "  </thead>\n",
       "  <tbody>\n",
       "    <tr>\n",
       "      <th>0</th>\n",
       "      <td>1</td>\n",
       "      <td>3105241.5</td>\n",
       "      <td>13.896429</td>\n",
       "      <td>94962112.0</td>\n",
       "      <td>2120510.0</td>\n",
       "      <td>2970.0</td>\n",
       "    </tr>\n",
       "    <tr>\n",
       "      <th>1</th>\n",
       "      <td>2</td>\n",
       "      <td>3105241.5</td>\n",
       "      <td>13.178044</td>\n",
       "      <td>44019095.0</td>\n",
       "      <td>39583.0</td>\n",
       "      <td>698.0</td>\n",
       "    </tr>\n",
       "    <tr>\n",
       "      <th>2</th>\n",
       "      <td>3</td>\n",
       "      <td>3105241.5</td>\n",
       "      <td>11.95169</td>\n",
       "      <td>34527115.0</td>\n",
       "      <td>660757.0</td>\n",
       "      <td>869.0</td>\n",
       "    </tr>\n",
       "    <tr>\n",
       "      <th>3</th>\n",
       "      <td>4</td>\n",
       "      <td>3105241.5</td>\n",
       "      <td>13.438674</td>\n",
       "      <td>33838636.0</td>\n",
       "      <td>182094.0</td>\n",
       "      <td>8318.0</td>\n",
       "    </tr>\n",
       "    <tr>\n",
       "      <th>4</th>\n",
       "      <td>5</td>\n",
       "      <td>3105241.5</td>\n",
       "      <td>11.918051</td>\n",
       "      <td>32315200.0</td>\n",
       "      <td>847225.0</td>\n",
       "      <td>1406.0</td>\n",
       "    </tr>\n",
       "  </tbody>\n",
       "</table>\n",
       "</div>"
      ],
      "text/plain": [
       "   #  TotalCases  TotalDeaths  TotalRecovered  ActiveCases  SeriousCritical\n",
       "0  1   3105241.5    13.896429      94962112.0    2120510.0           2970.0\n",
       "1  2   3105241.5    13.178044      44019095.0      39583.0            698.0\n",
       "2  3   3105241.5     11.95169      34527115.0     660757.0            869.0\n",
       "3  4   3105241.5    13.438674      33838636.0     182094.0           8318.0\n",
       "4  5   3105241.5    11.918051      32315200.0     847225.0           1406.0"
      ]
     },
     "execution_count": 34,
     "metadata": {},
     "output_type": "execute_result"
    }
   ],
   "source": [
    "df.head()"
   ]
  },
  {
   "cell_type": "markdown",
   "id": "c575e86d",
   "metadata": {
    "papermill": {
     "duration": 0.025301,
     "end_time": "2024-07-03T09:02:25.298652",
     "exception": false,
     "start_time": "2024-07-03T09:02:25.273351",
     "status": "completed"
    },
    "tags": []
   },
   "source": [
    "## By Zscore"
   ]
  },
  {
   "cell_type": "code",
   "execution_count": 35,
   "id": "98aa601e",
   "metadata": {
    "execution": {
     "iopub.execute_input": "2024-07-03T09:02:25.350876Z",
     "iopub.status.busy": "2024-07-03T09:02:25.350440Z",
     "iopub.status.idle": "2024-07-03T09:02:25.357904Z",
     "shell.execute_reply": "2024-07-03T09:02:25.356887Z"
    },
    "papermill": {
     "duration": 0.036347,
     "end_time": "2024-07-03T09:02:25.360090",
     "exception": false,
     "start_time": "2024-07-03T09:02:25.323743",
     "status": "completed"
    },
    "tags": []
   },
   "outputs": [
    {
     "data": {
      "text/plain": [
       "6.04765862422462"
      ]
     },
     "execution_count": 35,
     "metadata": {},
     "output_type": "execute_result"
    }
   ],
   "source": [
    "df['SeriousCritical'].skew()"
   ]
  },
  {
   "cell_type": "markdown",
   "id": "e633474b",
   "metadata": {
    "papermill": {
     "duration": 0.02577,
     "end_time": "2024-07-03T09:02:25.411304",
     "exception": false,
     "start_time": "2024-07-03T09:02:25.385534",
     "status": "completed"
    },
    "tags": []
   },
   "source": [
    "> right skewed data"
   ]
  },
  {
   "cell_type": "code",
   "execution_count": 36,
   "id": "8f1fba16",
   "metadata": {
    "execution": {
     "iopub.execute_input": "2024-07-03T09:02:25.464451Z",
     "iopub.status.busy": "2024-07-03T09:02:25.464053Z",
     "iopub.status.idle": "2024-07-03T09:02:25.931406Z",
     "shell.execute_reply": "2024-07-03T09:02:25.930358Z"
    },
    "papermill": {
     "duration": 0.497245,
     "end_time": "2024-07-03T09:02:25.934219",
     "exception": false,
     "start_time": "2024-07-03T09:02:25.436974",
     "status": "completed"
    },
    "tags": []
   },
   "outputs": [
    {
     "name": "stderr",
     "output_type": "stream",
     "text": [
      "/opt/conda/lib/python3.10/site-packages/seaborn/_oldcore.py:1119: FutureWarning: use_inf_as_na option is deprecated and will be removed in a future version. Convert inf values to NaN before operating instead.\n",
      "  with pd.option_context('mode.use_inf_as_na', True):\n"
     ]
    },
    {
     "data": {
      "text/plain": [
       "Text(-16.805555555555557, 0.5, 'Density')"
      ]
     },
     "execution_count": 36,
     "metadata": {},
     "output_type": "execute_result"
    },
    {
     "data": {
      "text/plain": [
       "<Figure size 1500x1000 with 0 Axes>"
      ]
     },
     "metadata": {},
     "output_type": "display_data"
    },
    {
     "data": {
      "image/png": "[encoded data removed]",
      "text/plain": [
       "<Figure size 500x500 with 1 Axes>"
      ]
     },
     "metadata": {},
     "output_type": "display_data"
    }
   ],
   "source": [
    "plt.figure(figsize=(15,10))\n",
    "\n",
    "#plt.subplot(2,2,1)\n",
    "sns.displot(df['SeriousCritical'], kind=\"kde\")\n",
    "plt.title('Distribution of SeriousCritical')\n",
    "plt.xlabel('SeriousCritical')\n",
    "plt.ylabel('Density')\n",
    "\n",
    "#plt.show()"
   ]
  },
  {
   "cell_type": "code",
   "execution_count": 37,
   "id": "c56b6a4a",
   "metadata": {
    "execution": {
     "iopub.execute_input": "2024-07-03T09:02:25.990261Z",
     "iopub.status.busy": "2024-07-03T09:02:25.989859Z",
     "iopub.status.idle": "2024-07-03T09:02:25.997919Z",
     "shell.execute_reply": "2024-07-03T09:02:25.996727Z"
    },
    "papermill": {
     "duration": 0.03872,
     "end_time": "2024-07-03T09:02:26.000503",
     "exception": false,
     "start_time": "2024-07-03T09:02:25.961783",
     "status": "completed"
    },
    "tags": []
   },
   "outputs": [
    {
     "name": "stdout",
     "output_type": "stream",
     "text": [
      "Mean value of cgpa 270.2244897959184\n",
      "Std value of cgpa 922.6982008257636\n",
      "Min value of cgpa 1.0\n",
      "Max value of cgpa 8318.0\n"
     ]
    }
   ],
   "source": [
    "print(\"Mean value of cgpa\",df['SeriousCritical'].mean())\n",
    "print(\"Std value of cgpa\",df['SeriousCritical'].std())\n",
    "print(\"Min value of cgpa\",df['SeriousCritical'].min())\n",
    "print(\"Max value of cgpa\",df['SeriousCritical'].max())"
   ]
  },
  {
   "cell_type": "markdown",
   "id": "b87f1e94",
   "metadata": {
    "papermill": {
     "duration": 0.027313,
     "end_time": "2024-07-03T09:02:26.054802",
     "exception": false,
     "start_time": "2024-07-03T09:02:26.027489",
     "status": "completed"
    },
    "tags": []
   },
   "source": [
    "### Finding the boundary values"
   ]
  },
  {
   "cell_type": "code",
   "execution_count": 38,
   "id": "ea0c737d",
   "metadata": {
    "execution": {
     "iopub.execute_input": "2024-07-03T09:02:26.110396Z",
     "iopub.status.busy": "2024-07-03T09:02:26.109996Z",
     "iopub.status.idle": "2024-07-03T09:02:26.116988Z",
     "shell.execute_reply": "2024-07-03T09:02:26.115947Z"
    },
    "papermill": {
     "duration": 0.038587,
     "end_time": "2024-07-03T09:02:26.120119",
     "exception": false,
     "start_time": "2024-07-03T09:02:26.081532",
     "status": "completed"
    },
    "tags": []
   },
   "outputs": [
    {
     "name": "stdout",
     "output_type": "stream",
     "text": [
      "Highest allowed 3038.319092273209\n",
      "Lowest allowed -2497.870112681372\n"
     ]
    }
   ],
   "source": [
    "print(\"Highest allowed\",df['SeriousCritical'].mean() + 3*df['SeriousCritical'].std())\n",
    "print(\"Lowest allowed\",df['SeriousCritical'].mean() - 3*df['SeriousCritical'].std())"
   ]
  },
  {
   "cell_type": "code",
   "execution_count": 39,
   "id": "09b15a1b",
   "metadata": {
    "execution": {
     "iopub.execute_input": "2024-07-03T09:02:26.175547Z",
     "iopub.status.busy": "2024-07-03T09:02:26.175134Z",
     "iopub.status.idle": "2024-07-03T09:02:26.194771Z",
     "shell.execute_reply": "2024-07-03T09:02:26.193710Z"
    },
    "papermill": {
     "duration": 0.050105,
     "end_time": "2024-07-03T09:02:26.197047",
     "exception": false,
     "start_time": "2024-07-03T09:02:26.146942",
     "status": "completed"
    },
    "tags": []
   },
   "outputs": [
    {
     "data": {
      "text/html": [
       "<div>\n",
       "<style scoped>\n",
       "    .dataframe tbody tr th:only-of-type {\n",
       "        vertical-align: middle;\n",
       "    }\n",
       "\n",
       "    .dataframe tbody tr th {\n",
       "        vertical-align: top;\n",
       "    }\n",
       "\n",
       "    .dataframe thead th {\n",
       "        text-align: right;\n",
       "    }\n",
       "</style>\n",
       "<table border=\"1\" class=\"dataframe\">\n",
       "  <thead>\n",
       "    <tr style=\"text-align: right;\">\n",
       "      <th></th>\n",
       "      <th>#</th>\n",
       "      <th>TotalCases</th>\n",
       "      <th>TotalDeaths</th>\n",
       "      <th>TotalRecovered</th>\n",
       "      <th>ActiveCases</th>\n",
       "      <th>SeriousCritical</th>\n",
       "    </tr>\n",
       "  </thead>\n",
       "  <tbody>\n",
       "    <tr>\n",
       "      <th>0</th>\n",
       "      <td>1</td>\n",
       "      <td>3105241.5</td>\n",
       "      <td>13.896429</td>\n",
       "      <td>94962112.0</td>\n",
       "      <td>2120510.0</td>\n",
       "      <td>2970.0</td>\n",
       "    </tr>\n",
       "    <tr>\n",
       "      <th>1</th>\n",
       "      <td>2</td>\n",
       "      <td>3105241.5</td>\n",
       "      <td>13.178044</td>\n",
       "      <td>44019095.0</td>\n",
       "      <td>39583.0</td>\n",
       "      <td>698.0</td>\n",
       "    </tr>\n",
       "    <tr>\n",
       "      <th>2</th>\n",
       "      <td>3</td>\n",
       "      <td>3105241.5</td>\n",
       "      <td>11.95169</td>\n",
       "      <td>34527115.0</td>\n",
       "      <td>660757.0</td>\n",
       "      <td>869.0</td>\n",
       "    </tr>\n",
       "    <tr>\n",
       "      <th>3</th>\n",
       "      <td>4</td>\n",
       "      <td>3105241.5</td>\n",
       "      <td>13.438674</td>\n",
       "      <td>33838636.0</td>\n",
       "      <td>182094.0</td>\n",
       "      <td>8318.0</td>\n",
       "    </tr>\n",
       "    <tr>\n",
       "      <th>4</th>\n",
       "      <td>5</td>\n",
       "      <td>3105241.5</td>\n",
       "      <td>11.918051</td>\n",
       "      <td>32315200.0</td>\n",
       "      <td>847225.0</td>\n",
       "      <td>1406.0</td>\n",
       "    </tr>\n",
       "    <tr>\n",
       "      <th>...</th>\n",
       "      <td>...</td>\n",
       "      <td>...</td>\n",
       "      <td>...</td>\n",
       "      <td>...</td>\n",
       "      <td>...</td>\n",
       "      <td>...</td>\n",
       "    </tr>\n",
       "    <tr>\n",
       "      <th>211</th>\n",
       "      <td>212</td>\n",
       "      <td>6380.0</td>\n",
       "      <td>3.610918</td>\n",
       "      <td>6321.0</td>\n",
       "      <td>23.0</td>\n",
       "      <td>4.0</td>\n",
       "    </tr>\n",
       "    <tr>\n",
       "      <th>213</th>\n",
       "      <td>214</td>\n",
       "      <td>5460.0</td>\n",
       "      <td>1.94591</td>\n",
       "      <td>5444.0</td>\n",
       "      <td>10.0</td>\n",
       "      <td>1.0</td>\n",
       "    </tr>\n",
       "    <tr>\n",
       "      <th>216</th>\n",
       "      <td>217</td>\n",
       "      <td>3865.0</td>\n",
       "      <td>2.564949</td>\n",
       "      <td>3848.0</td>\n",
       "      <td>5.0</td>\n",
       "      <td>4.0</td>\n",
       "    </tr>\n",
       "    <tr>\n",
       "      <th>217</th>\n",
       "      <td>218</td>\n",
       "      <td>3430.0</td>\n",
       "      <td>2.639057</td>\n",
       "      <td>2703.0</td>\n",
       "      <td>714.0</td>\n",
       "      <td>3.0</td>\n",
       "    </tr>\n",
       "    <tr>\n",
       "      <th>218</th>\n",
       "      <td>219</td>\n",
       "      <td>3188.0</td>\n",
       "      <td>0.693147</td>\n",
       "      <td>2449.0</td>\n",
       "      <td>738.0</td>\n",
       "      <td>1.0</td>\n",
       "    </tr>\n",
       "  </tbody>\n",
       "</table>\n",
       "<p>134 rows × 6 columns</p>\n",
       "</div>"
      ],
      "text/plain": [
       "       #  TotalCases  TotalDeaths  TotalRecovered  ActiveCases  \\\n",
       "0      1   3105241.5    13.896429      94962112.0    2120510.0   \n",
       "1      2   3105241.5    13.178044      44019095.0      39583.0   \n",
       "2      3   3105241.5     11.95169      34527115.0     660757.0   \n",
       "3      4   3105241.5    13.438674      33838636.0     182094.0   \n",
       "4      5   3105241.5    11.918051      32315200.0     847225.0   \n",
       "..   ...         ...          ...             ...          ...   \n",
       "211  212      6380.0     3.610918          6321.0         23.0   \n",
       "213  214      5460.0      1.94591          5444.0         10.0   \n",
       "216  217      3865.0     2.564949          3848.0          5.0   \n",
       "217  218      3430.0     2.639057          2703.0        714.0   \n",
       "218  219      3188.0     0.693147          2449.0        738.0   \n",
       "\n",
       "     SeriousCritical  \n",
       "0             2970.0  \n",
       "1              698.0  \n",
       "2              869.0  \n",
       "3             8318.0  \n",
       "4             1406.0  \n",
       "..               ...  \n",
       "211              4.0  \n",
       "213              1.0  \n",
       "216              4.0  \n",
       "217              3.0  \n",
       "218              1.0  \n",
       "\n",
       "[134 rows x 6 columns]"
      ]
     },
     "execution_count": 39,
     "metadata": {},
     "output_type": "execute_result"
    }
   ],
   "source": [
    "new_df = df[(df['SeriousCritical'] > 8.80) | (df['SeriousCritical'] < 5.11)]\n",
    "new_df"
   ]
  },
  {
   "cell_type": "code",
   "execution_count": 40,
   "id": "0de051f7",
   "metadata": {
    "execution": {
     "iopub.execute_input": "2024-07-03T09:02:26.253387Z",
     "iopub.status.busy": "2024-07-03T09:02:26.252987Z",
     "iopub.status.idle": "2024-07-03T09:02:26.269978Z",
     "shell.execute_reply": "2024-07-03T09:02:26.268930Z"
    },
    "papermill": {
     "duration": 0.048281,
     "end_time": "2024-07-03T09:02:26.272642",
     "exception": false,
     "start_time": "2024-07-03T09:02:26.224361",
     "status": "completed"
    },
    "tags": []
   },
   "outputs": [
    {
     "data": {
      "text/html": [
       "<div>\n",
       "<style scoped>\n",
       "    .dataframe tbody tr th:only-of-type {\n",
       "        vertical-align: middle;\n",
       "    }\n",
       "\n",
       "    .dataframe tbody tr th {\n",
       "        vertical-align: top;\n",
       "    }\n",
       "\n",
       "    .dataframe thead th {\n",
       "        text-align: right;\n",
       "    }\n",
       "</style>\n",
       "<table border=\"1\" class=\"dataframe\">\n",
       "  <thead>\n",
       "    <tr style=\"text-align: right;\">\n",
       "      <th></th>\n",
       "      <th>#</th>\n",
       "      <th>TotalCases</th>\n",
       "      <th>TotalDeaths</th>\n",
       "      <th>TotalRecovered</th>\n",
       "      <th>ActiveCases</th>\n",
       "      <th>SeriousCritical</th>\n",
       "      <th>SeriousCritical_zscore</th>\n",
       "    </tr>\n",
       "  </thead>\n",
       "  <tbody>\n",
       "    <tr>\n",
       "      <th>0</th>\n",
       "      <td>1</td>\n",
       "      <td>3105241.5</td>\n",
       "      <td>13.896429</td>\n",
       "      <td>94962112.0</td>\n",
       "      <td>2120510.0</td>\n",
       "      <td>2970.0</td>\n",
       "      <td>2.925957</td>\n",
       "    </tr>\n",
       "    <tr>\n",
       "      <th>1</th>\n",
       "      <td>2</td>\n",
       "      <td>3105241.5</td>\n",
       "      <td>13.178044</td>\n",
       "      <td>44019095.0</td>\n",
       "      <td>39583.0</td>\n",
       "      <td>698.0</td>\n",
       "      <td>0.463614</td>\n",
       "    </tr>\n",
       "    <tr>\n",
       "      <th>2</th>\n",
       "      <td>3</td>\n",
       "      <td>3105241.5</td>\n",
       "      <td>11.95169</td>\n",
       "      <td>34527115.0</td>\n",
       "      <td>660757.0</td>\n",
       "      <td>869.0</td>\n",
       "      <td>0.64894</td>\n",
       "    </tr>\n",
       "    <tr>\n",
       "      <th>3</th>\n",
       "      <td>4</td>\n",
       "      <td>3105241.5</td>\n",
       "      <td>13.438674</td>\n",
       "      <td>33838636.0</td>\n",
       "      <td>182094.0</td>\n",
       "      <td>8318.0</td>\n",
       "      <td>8.722002</td>\n",
       "    </tr>\n",
       "    <tr>\n",
       "      <th>4</th>\n",
       "      <td>5</td>\n",
       "      <td>3105241.5</td>\n",
       "      <td>11.918051</td>\n",
       "      <td>32315200.0</td>\n",
       "      <td>847225.0</td>\n",
       "      <td>1406.0</td>\n",
       "      <td>1.230928</td>\n",
       "    </tr>\n",
       "  </tbody>\n",
       "</table>\n",
       "</div>"
      ],
      "text/plain": [
       "   #  TotalCases  TotalDeaths  TotalRecovered  ActiveCases  SeriousCritical  \\\n",
       "0  1   3105241.5    13.896429      94962112.0    2120510.0           2970.0   \n",
       "1  2   3105241.5    13.178044      44019095.0      39583.0            698.0   \n",
       "2  3   3105241.5     11.95169      34527115.0     660757.0            869.0   \n",
       "3  4   3105241.5    13.438674      33838636.0     182094.0           8318.0   \n",
       "4  5   3105241.5    11.918051      32315200.0     847225.0           1406.0   \n",
       "\n",
       "   SeriousCritical_zscore  \n",
       "0                2.925957  \n",
       "1                0.463614  \n",
       "2                 0.64894  \n",
       "3                8.722002  \n",
       "4                1.230928  "
      ]
     },
     "execution_count": 40,
     "metadata": {},
     "output_type": "execute_result"
    }
   ],
   "source": [
    "df['SeriousCritical_zscore'] = (df['SeriousCritical'] - df['SeriousCritical'].mean())/df['SeriousCritical'].std()\n",
    "df.head()"
   ]
  },
  {
   "cell_type": "code",
   "execution_count": 41,
   "id": "ff4ca950",
   "metadata": {
    "execution": {
     "iopub.execute_input": "2024-07-03T09:02:26.330050Z",
     "iopub.status.busy": "2024-07-03T09:02:26.329631Z",
     "iopub.status.idle": "2024-07-03T09:02:26.346018Z",
     "shell.execute_reply": "2024-07-03T09:02:26.344986Z"
    },
    "papermill": {
     "duration": 0.04816,
     "end_time": "2024-07-03T09:02:26.348468",
     "exception": false,
     "start_time": "2024-07-03T09:02:26.300308",
     "status": "completed"
    },
    "tags": []
   },
   "outputs": [
    {
     "data": {
      "text/html": [
       "<div>\n",
       "<style scoped>\n",
       "    .dataframe tbody tr th:only-of-type {\n",
       "        vertical-align: middle;\n",
       "    }\n",
       "\n",
       "    .dataframe tbody tr th {\n",
       "        vertical-align: top;\n",
       "    }\n",
       "\n",
       "    .dataframe thead th {\n",
       "        text-align: right;\n",
       "    }\n",
       "</style>\n",
       "<table border=\"1\" class=\"dataframe\">\n",
       "  <thead>\n",
       "    <tr style=\"text-align: right;\">\n",
       "      <th></th>\n",
       "      <th>#</th>\n",
       "      <th>TotalCases</th>\n",
       "      <th>TotalDeaths</th>\n",
       "      <th>TotalRecovered</th>\n",
       "      <th>ActiveCases</th>\n",
       "      <th>SeriousCritical</th>\n",
       "      <th>SeriousCritical_zscore</th>\n",
       "    </tr>\n",
       "  </thead>\n",
       "  <tbody>\n",
       "    <tr>\n",
       "      <th>3</th>\n",
       "      <td>4</td>\n",
       "      <td>3105241.5</td>\n",
       "      <td>13.438674</td>\n",
       "      <td>33838636.0</td>\n",
       "      <td>182094.0</td>\n",
       "      <td>8318.0</td>\n",
       "      <td>8.722002</td>\n",
       "    </tr>\n",
       "    <tr>\n",
       "      <th>17</th>\n",
       "      <td>18</td>\n",
       "      <td>3105241.5</td>\n",
       "      <td>12.707048</td>\n",
       "      <td>6353953.0</td>\n",
       "      <td>400470.0</td>\n",
       "      <td>4798.0</td>\n",
       "      <td>4.907103</td>\n",
       "    </tr>\n",
       "    <tr>\n",
       "      <th>21</th>\n",
       "      <td>22</td>\n",
       "      <td>3105241.5</td>\n",
       "      <td>11.674534</td>\n",
       "      <td>5335940.0</td>\n",
       "      <td>836193.0</td>\n",
       "      <td>3086.0</td>\n",
       "      <td>3.051676</td>\n",
       "    </tr>\n",
       "  </tbody>\n",
       "</table>\n",
       "</div>"
      ],
      "text/plain": [
       "     #  TotalCases  TotalDeaths  TotalRecovered  ActiveCases  SeriousCritical  \\\n",
       "3    4   3105241.5    13.438674      33838636.0     182094.0           8318.0   \n",
       "17  18   3105241.5    12.707048       6353953.0     400470.0           4798.0   \n",
       "21  22   3105241.5    11.674534       5335940.0     836193.0           3086.0   \n",
       "\n",
       "    SeriousCritical_zscore  \n",
       "3                 8.722002  \n",
       "17                4.907103  \n",
       "21                3.051676  "
      ]
     },
     "execution_count": 41,
     "metadata": {},
     "output_type": "execute_result"
    }
   ],
   "source": [
    "df[(df['SeriousCritical_zscore'] > 3) | (df['SeriousCritical_zscore'] < -3)]"
   ]
  },
  {
   "cell_type": "code",
   "execution_count": 42,
   "id": "425f0acd",
   "metadata": {
    "execution": {
     "iopub.execute_input": "2024-07-03T09:02:26.406228Z",
     "iopub.status.busy": "2024-07-03T09:02:26.405511Z",
     "iopub.status.idle": "2024-07-03T09:02:26.412734Z",
     "shell.execute_reply": "2024-07-03T09:02:26.411650Z"
    },
    "papermill": {
     "duration": 0.038698,
     "end_time": "2024-07-03T09:02:26.415036",
     "exception": false,
     "start_time": "2024-07-03T09:02:26.376338",
     "status": "completed"
    },
    "tags": []
   },
   "outputs": [],
   "source": [
    "df = df[(df['SeriousCritical_zscore'] < 3) & (df['SeriousCritical_zscore'] > -3)]"
   ]
  },
  {
   "cell_type": "code",
   "execution_count": 43,
   "id": "fa261b44",
   "metadata": {
    "execution": {
     "iopub.execute_input": "2024-07-03T09:02:26.473011Z",
     "iopub.status.busy": "2024-07-03T09:02:26.472089Z",
     "iopub.status.idle": "2024-07-03T09:02:26.479853Z",
     "shell.execute_reply": "2024-07-03T09:02:26.478753Z"
    },
    "papermill": {
     "duration": 0.039489,
     "end_time": "2024-07-03T09:02:26.482189",
     "exception": false,
     "start_time": "2024-07-03T09:02:26.442700",
     "status": "completed"
    },
    "tags": []
   },
   "outputs": [
    {
     "data": {
      "text/plain": [
       "4.355269907733461"
      ]
     },
     "execution_count": 43,
     "metadata": {},
     "output_type": "execute_result"
    }
   ],
   "source": [
    "df['SeriousCritical'].skew()"
   ]
  },
  {
   "cell_type": "markdown",
   "id": "6a591321",
   "metadata": {
    "papermill": {
     "duration": 0.027713,
     "end_time": "2024-07-03T09:02:26.537757",
     "exception": false,
     "start_time": "2024-07-03T09:02:26.510044",
     "status": "completed"
    },
    "tags": []
   },
   "source": [
    "while befor skewness is \"6.04765862422462\""
   ]
  },
  {
   "cell_type": "code",
   "execution_count": 44,
   "id": "32ef29dd",
   "metadata": {
    "execution": {
     "iopub.execute_input": "2024-07-03T09:02:26.595318Z",
     "iopub.status.busy": "2024-07-03T09:02:26.594943Z",
     "iopub.status.idle": "2024-07-03T09:02:27.288581Z",
     "shell.execute_reply": "2024-07-03T09:02:27.287551Z"
    },
    "papermill": {
     "duration": 0.725747,
     "end_time": "2024-07-03T09:02:27.291320",
     "exception": false,
     "start_time": "2024-07-03T09:02:26.565573",
     "status": "completed"
    },
    "tags": []
   },
   "outputs": [
    {
     "name": "stderr",
     "output_type": "stream",
     "text": [
      "/opt/conda/lib/python3.10/site-packages/seaborn/_oldcore.py:1119: FutureWarning: use_inf_as_na option is deprecated and will be removed in a future version. Convert inf values to NaN before operating instead.\n",
      "  with pd.option_context('mode.use_inf_as_na', True):\n"
     ]
    },
    {
     "data": {
      "text/plain": [
       "Text(-25.555555555555557, 0.5, 'Density')"
      ]
     },
     "execution_count": 44,
     "metadata": {},
     "output_type": "execute_result"
    },
    {
     "data": {
      "text/plain": [
       "<Figure size 1500x1000 with 0 Axes>"
      ]
     },
     "metadata": {},
     "output_type": "display_data"
    },
    {
     "data": {
      "image/png": "[encoded data removed]",
      "text/plain": [
       "<Figure size 500x500 with 1 Axes>"
      ]
     },
     "metadata": {},
     "output_type": "display_data"
    }
   ],
   "source": [
    "plt.figure(figsize=(15,10))\n",
    "\n",
    "#plt.subplot(2,2,1)\n",
    "sns.displot(df['SeriousCritical'], kind=\"kde\")\n",
    "plt.title('Distribution of SeriousCritical')\n",
    "plt.xlabel('SeriousCritical')\n",
    "plt.ylabel('Density')\n",
    "\n",
    "#plt.show()"
   ]
  },
  {
   "cell_type": "markdown",
   "id": "2f287fba",
   "metadata": {
    "papermill": {
     "duration": 0.028491,
     "end_time": "2024-07-03T09:02:27.348822",
     "exception": false,
     "start_time": "2024-07-03T09:02:27.320331",
     "status": "completed"
    },
    "tags": []
   },
   "source": [
    "### still it improves it's scale"
   ]
  },
  {
   "cell_type": "code",
   "execution_count": null,
   "id": "66e52fdd",
   "metadata": {
    "papermill": {
     "duration": 0.028521,
     "end_time": "2024-07-03T09:02:27.406371",
     "exception": false,
     "start_time": "2024-07-03T09:02:27.377850",
     "status": "completed"
    },
    "tags": []
   },
   "outputs": [],
   "source": []
  }
 ],
 "metadata": {
  "kaggle": {
   "accelerator": "none",
   "dataSources": [
    {
     "datasetId": 3740167,
     "sourceId": 6474658,
     "sourceType": "datasetVersion"
    }
   ],
   "dockerImageVersionId": 30732,
   "isGpuEnabled": false,
   "isInternetEnabled": true,
   "language": "python",
   "sourceType": "notebook"
  },
  "kernelspec": {
   "display_name": "Python 3",
   "language": "python",
   "name": "python3"
  },
  "language_info": {
   "codemirror_mode": {
    "name": "ipython",
    "version": 3
   },
   "file_extension": ".py",
   "mimetype": "text/x-python",
   "name": "python",
   "nbconvert_exporter": "python",
   "pygments_lexer": "ipython3",
   "version": "3.10.13"
  },
  "papermill": {
   "default_parameters": {},
   "duration": 14.321096,
   "end_time": "2024-07-03T09:02:28.057179",
   "environment_variables": {},
   "exception": null,
   "input_path": "__notebook__.ipynb",
   "output_path": "__notebook__.ipynb",
   "parameters": {},
   "start_time": "2024-07-03T09:02:13.736083",
   "version": "2.5.0"
  }
 },
 "nbformat": 4,
 "nbformat_minor": 5
}
