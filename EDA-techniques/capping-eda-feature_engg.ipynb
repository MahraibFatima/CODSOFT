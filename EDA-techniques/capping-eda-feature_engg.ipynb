{
 "cells": [
  {
   "cell_type": "markdown",
   "id": "8c4676bd",
   "metadata": {
    "papermill": {
     "duration": 0.009915,
     "end_time": "2024-07-02T15:45:03.425342",
     "exception": false,
     "start_time": "2024-07-02T15:45:03.415427",
     "status": "completed"
    },
    "tags": []
   },
   "source": [
    "## Observation on data"
   ]
  },
  {
   "cell_type": "code",
   "execution_count": 1,
   "id": "08c0f51c",
   "metadata": {
    "_cell_guid": "b1076dfc-b9ad-4769-8c92-a6c4dae69d19",
    "_uuid": "8f2839f25d086af736a60e9eeb907d3b93b6e0e5",
    "execution": {
     "iopub.execute_input": "2024-07-02T15:45:03.446476Z",
     "iopub.status.busy": "2024-07-02T15:45:03.446042Z",
     "iopub.status.idle": "2024-07-02T15:45:04.356572Z",
     "shell.execute_reply": "2024-07-02T15:45:04.355434Z"
    },
    "papermill": {
     "duration": 0.924118,
     "end_time": "2024-07-02T15:45:04.359178",
     "exception": false,
     "start_time": "2024-07-02T15:45:03.435060",
     "status": "completed"
    },
    "tags": []
   },
   "outputs": [
    {
     "name": "stdout",
     "output_type": "stream",
     "text": [
      "/kaggle/input/covid-data/Covid.csv\n"
     ]
    }
   ],
   "source": [
    "import numpy as np # linear algebra\n",
    "import pandas as pd # data processing, CSV file I/O (e.g. pd.read_csv)\n",
    "\n",
    "import os\n",
    "for dirname, _, filenames in os.walk('/kaggle/input'):\n",
    "    for filename in filenames:\n",
    "        print(os.path.join(dirname, filename))\n"
   ]
  },
  {
   "cell_type": "code",
   "execution_count": 2,
   "id": "c537e317",
   "metadata": {
    "execution": {
     "iopub.execute_input": "2024-07-02T15:45:04.380658Z",
     "iopub.status.busy": "2024-07-02T15:45:04.380172Z",
     "iopub.status.idle": "2024-07-02T15:45:04.405880Z",
     "shell.execute_reply": "2024-07-02T15:45:04.404909Z"
    },
    "papermill": {
     "duration": 0.039836,
     "end_time": "2024-07-02T15:45:04.408670",
     "exception": false,
     "start_time": "2024-07-02T15:45:04.368834",
     "status": "completed"
    },
    "tags": []
   },
   "outputs": [],
   "source": [
    "df = pd.read_csv('/kaggle/input/covid-data/Covid.csv')"
   ]
  },
  {
   "cell_type": "code",
   "execution_count": 3,
   "id": "a9664910",
   "metadata": {
    "execution": {
     "iopub.execute_input": "2024-07-02T15:45:04.431065Z",
     "iopub.status.busy": "2024-07-02T15:45:04.429982Z",
     "iopub.status.idle": "2024-07-02T15:45:04.460900Z",
     "shell.execute_reply": "2024-07-02T15:45:04.459826Z"
    },
    "papermill": {
     "duration": 0.044586,
     "end_time": "2024-07-02T15:45:04.463421",
     "exception": false,
     "start_time": "2024-07-02T15:45:04.418835",
     "status": "completed"
    },
    "tags": []
   },
   "outputs": [
    {
     "data": {
      "text/html": [
       "<div>\n",
       "<style scoped>\n",
       "    .dataframe tbody tr th:only-of-type {\n",
       "        vertical-align: middle;\n",
       "    }\n",
       "\n",
       "    .dataframe tbody tr th {\n",
       "        vertical-align: top;\n",
       "    }\n",
       "\n",
       "    .dataframe thead th {\n",
       "        text-align: right;\n",
       "    }\n",
       "</style>\n",
       "<table border=\"1\" class=\"dataframe\">\n",
       "  <thead>\n",
       "    <tr style=\"text-align: right;\">\n",
       "      <th></th>\n",
       "      <th>#</th>\n",
       "      <th>Country,\\nOther</th>\n",
       "      <th>Total\\nCases</th>\n",
       "      <th>Total\\nDeaths</th>\n",
       "      <th>New\\nDeaths</th>\n",
       "      <th>Total\\nRecovered</th>\n",
       "      <th>Active\\nCases</th>\n",
       "      <th>Serious,\\nCritical</th>\n",
       "      <th>Tot Cases/\\n1M pop</th>\n",
       "      <th>Deaths/\\n1M pop</th>\n",
       "      <th>Total\\nTests</th>\n",
       "      <th>Tests/\\n1M pop</th>\n",
       "      <th>Population</th>\n",
       "    </tr>\n",
       "  </thead>\n",
       "  <tbody>\n",
       "    <tr>\n",
       "      <th>0</th>\n",
       "      <td>1</td>\n",
       "      <td>USA</td>\n",
       "      <td>98,166,904</td>\n",
       "      <td>1,084,282</td>\n",
       "      <td>NaN</td>\n",
       "      <td>94,962,112</td>\n",
       "      <td>2,120,510</td>\n",
       "      <td>2,970</td>\n",
       "      <td>293,206</td>\n",
       "      <td>3,239</td>\n",
       "      <td>1,118,158,870</td>\n",
       "      <td>3,339,729</td>\n",
       "      <td>334,805,269</td>\n",
       "    </tr>\n",
       "    <tr>\n",
       "      <th>1</th>\n",
       "      <td>2</td>\n",
       "      <td>India</td>\n",
       "      <td>44,587,307</td>\n",
       "      <td>528,629</td>\n",
       "      <td>NaN</td>\n",
       "      <td>44,019,095</td>\n",
       "      <td>39,583</td>\n",
       "      <td>698</td>\n",
       "      <td>31,698</td>\n",
       "      <td>376</td>\n",
       "      <td>894,416,853</td>\n",
       "      <td>635,857</td>\n",
       "      <td>1,406,631,776</td>\n",
       "    </tr>\n",
       "    <tr>\n",
       "      <th>2</th>\n",
       "      <td>3</td>\n",
       "      <td>France</td>\n",
       "      <td>35,342,950</td>\n",
       "      <td>155,078</td>\n",
       "      <td>NaN</td>\n",
       "      <td>34,527,115</td>\n",
       "      <td>660,757</td>\n",
       "      <td>869</td>\n",
       "      <td>538,892</td>\n",
       "      <td>2,365</td>\n",
       "      <td>271,490,188</td>\n",
       "      <td>4,139,547</td>\n",
       "      <td>65,584,518</td>\n",
       "    </tr>\n",
       "    <tr>\n",
       "      <th>3</th>\n",
       "      <td>4</td>\n",
       "      <td>Brazil</td>\n",
       "      <td>34,706,757</td>\n",
       "      <td>686,027</td>\n",
       "      <td>NaN</td>\n",
       "      <td>33,838,636</td>\n",
       "      <td>182,094</td>\n",
       "      <td>8,318</td>\n",
       "      <td>161,162</td>\n",
       "      <td>3,186</td>\n",
       "      <td>63,776,166</td>\n",
       "      <td>296,146</td>\n",
       "      <td>215,353,593</td>\n",
       "    </tr>\n",
       "    <tr>\n",
       "      <th>4</th>\n",
       "      <td>5</td>\n",
       "      <td>Germany</td>\n",
       "      <td>33,312,373</td>\n",
       "      <td>149,948</td>\n",
       "      <td>NaN</td>\n",
       "      <td>32,315,200</td>\n",
       "      <td>847,225</td>\n",
       "      <td>1,406</td>\n",
       "      <td>397,126</td>\n",
       "      <td>1,788</td>\n",
       "      <td>122,332,384</td>\n",
       "      <td>1,458,359</td>\n",
       "      <td>83,883,596</td>\n",
       "    </tr>\n",
       "  </tbody>\n",
       "</table>\n",
       "</div>"
      ],
      "text/plain": [
       "   # Country,\\nOther Total\\nCases Total\\nDeaths  New\\nDeaths Total\\nRecovered  \\\n",
       "0  1             USA   98,166,904     1,084,282          NaN       94,962,112   \n",
       "1  2           India   44,587,307       528,629          NaN       44,019,095   \n",
       "2  3          France   35,342,950       155,078          NaN       34,527,115   \n",
       "3  4          Brazil   34,706,757       686,027          NaN       33,838,636   \n",
       "4  5         Germany   33,312,373       149,948          NaN       32,315,200   \n",
       "\n",
       "  Active\\nCases Serious,\\nCritical Tot Cases/\\n1M pop Deaths/\\n1M pop  \\\n",
       "0     2,120,510              2,970            293,206           3,239   \n",
       "1        39,583                698             31,698             376   \n",
       "2       660,757                869            538,892           2,365   \n",
       "3       182,094              8,318            161,162           3,186   \n",
       "4       847,225              1,406            397,126           1,788   \n",
       "\n",
       "    Total\\nTests Tests/\\n1M pop     Population  \n",
       "0  1,118,158,870      3,339,729    334,805,269  \n",
       "1    894,416,853        635,857  1,406,631,776  \n",
       "2    271,490,188      4,139,547     65,584,518  \n",
       "3     63,776,166        296,146    215,353,593  \n",
       "4    122,332,384      1,458,359     83,883,596  "
      ]
     },
     "execution_count": 3,
     "metadata": {},
     "output_type": "execute_result"
    }
   ],
   "source": [
    "df.head()"
   ]
  },
  {
   "cell_type": "code",
   "execution_count": 4,
   "id": "1b546246",
   "metadata": {
    "execution": {
     "iopub.execute_input": "2024-07-02T15:45:04.485817Z",
     "iopub.status.busy": "2024-07-02T15:45:04.485447Z",
     "iopub.status.idle": "2024-07-02T15:45:04.491777Z",
     "shell.execute_reply": "2024-07-02T15:45:04.490808Z"
    },
    "papermill": {
     "duration": 0.020671,
     "end_time": "2024-07-02T15:45:04.494047",
     "exception": false,
     "start_time": "2024-07-02T15:45:04.473376",
     "status": "completed"
    },
    "tags": []
   },
   "outputs": [
    {
     "data": {
      "text/plain": [
       "(230, 13)"
      ]
     },
     "execution_count": 4,
     "metadata": {},
     "output_type": "execute_result"
    }
   ],
   "source": [
    "df.shape"
   ]
  },
  {
   "cell_type": "code",
   "execution_count": 5,
   "id": "19a4b81c",
   "metadata": {
    "execution": {
     "iopub.execute_input": "2024-07-02T15:45:04.516168Z",
     "iopub.status.busy": "2024-07-02T15:45:04.515212Z",
     "iopub.status.idle": "2024-07-02T15:45:04.539226Z",
     "shell.execute_reply": "2024-07-02T15:45:04.538184Z"
    },
    "papermill": {
     "duration": 0.037316,
     "end_time": "2024-07-02T15:45:04.541386",
     "exception": false,
     "start_time": "2024-07-02T15:45:04.504070",
     "status": "completed"
    },
    "tags": []
   },
   "outputs": [
    {
     "data": {
      "text/html": [
       "<div>\n",
       "<style scoped>\n",
       "    .dataframe tbody tr th:only-of-type {\n",
       "        vertical-align: middle;\n",
       "    }\n",
       "\n",
       "    .dataframe tbody tr th {\n",
       "        vertical-align: top;\n",
       "    }\n",
       "\n",
       "    .dataframe thead th {\n",
       "        text-align: right;\n",
       "    }\n",
       "</style>\n",
       "<table border=\"1\" class=\"dataframe\">\n",
       "  <thead>\n",
       "    <tr style=\"text-align: right;\">\n",
       "      <th></th>\n",
       "      <th>#</th>\n",
       "      <th>Country,\\nOther</th>\n",
       "      <th>Total\\nCases</th>\n",
       "      <th>Total\\nDeaths</th>\n",
       "      <th>New\\nDeaths</th>\n",
       "      <th>Total\\nRecovered</th>\n",
       "      <th>Active\\nCases</th>\n",
       "      <th>Serious,\\nCritical</th>\n",
       "      <th>Tot Cases/\\n1M pop</th>\n",
       "      <th>Deaths/\\n1M pop</th>\n",
       "      <th>Total\\nTests</th>\n",
       "      <th>Tests/\\n1M pop</th>\n",
       "      <th>Population</th>\n",
       "    </tr>\n",
       "  </thead>\n",
       "  <tbody>\n",
       "    <tr>\n",
       "      <th>193</th>\n",
       "      <td>194</td>\n",
       "      <td>Greenland</td>\n",
       "      <td>11,971</td>\n",
       "      <td>21</td>\n",
       "      <td>NaN</td>\n",
       "      <td>2,761</td>\n",
       "      <td>9,189</td>\n",
       "      <td>4</td>\n",
       "      <td>210,117</td>\n",
       "      <td>369</td>\n",
       "      <td>164,926</td>\n",
       "      <td>2,894,810</td>\n",
       "      <td>56,973</td>\n",
       "    </tr>\n",
       "    <tr>\n",
       "      <th>67</th>\n",
       "      <td>68</td>\n",
       "      <td>UAE</td>\n",
       "      <td>1,027,031</td>\n",
       "      <td>2,345</td>\n",
       "      <td>NaN</td>\n",
       "      <td>1,006,369</td>\n",
       "      <td>18,317</td>\n",
       "      <td>NaN</td>\n",
       "      <td>101,870</td>\n",
       "      <td>233</td>\n",
       "      <td>190,586,733</td>\n",
       "      <td>18,904,066</td>\n",
       "      <td>10,081,785</td>\n",
       "    </tr>\n",
       "    <tr>\n",
       "      <th>208</th>\n",
       "      <td>209</td>\n",
       "      <td>St. Vincent Grenadines</td>\n",
       "      <td>7,112</td>\n",
       "      <td>115</td>\n",
       "      <td>NaN</td>\n",
       "      <td>6,641</td>\n",
       "      <td>356</td>\n",
       "      <td>NaN</td>\n",
       "      <td>63,756</td>\n",
       "      <td>1,031</td>\n",
       "      <td>100,856</td>\n",
       "      <td>904,125</td>\n",
       "      <td>111,551</td>\n",
       "    </tr>\n",
       "    <tr>\n",
       "      <th>80</th>\n",
       "      <td>81</td>\n",
       "      <td>Kuwait</td>\n",
       "      <td>658,520</td>\n",
       "      <td>2,563</td>\n",
       "      <td>NaN</td>\n",
       "      <td>655,316</td>\n",
       "      <td>641</td>\n",
       "      <td>3</td>\n",
       "      <td>150,336</td>\n",
       "      <td>585</td>\n",
       "      <td>8,365,279</td>\n",
       "      <td>1,909,739</td>\n",
       "      <td>4,380,326</td>\n",
       "    </tr>\n",
       "    <tr>\n",
       "      <th>201</th>\n",
       "      <td>202</td>\n",
       "      <td>Antigua and Barbuda</td>\n",
       "      <td>9,098</td>\n",
       "      <td>146</td>\n",
       "      <td>NaN</td>\n",
       "      <td>8,923</td>\n",
       "      <td>29</td>\n",
       "      <td>1</td>\n",
       "      <td>91,429</td>\n",
       "      <td>1,467</td>\n",
       "      <td>18,901</td>\n",
       "      <td>189,943</td>\n",
       "      <td>99,509</td>\n",
       "    </tr>\n",
       "  </tbody>\n",
       "</table>\n",
       "</div>"
      ],
      "text/plain": [
       "       #         Country,\\nOther Total\\nCases Total\\nDeaths  New\\nDeaths  \\\n",
       "193  194               Greenland       11,971            21          NaN   \n",
       "67    68                     UAE    1,027,031         2,345          NaN   \n",
       "208  209  St. Vincent Grenadines        7,112           115          NaN   \n",
       "80    81                  Kuwait      658,520         2,563          NaN   \n",
       "201  202     Antigua and Barbuda        9,098           146          NaN   \n",
       "\n",
       "    Total\\nRecovered Active\\nCases Serious,\\nCritical Tot Cases/\\n1M pop  \\\n",
       "193            2,761         9,189                  4            210,117   \n",
       "67         1,006,369        18,317                NaN            101,870   \n",
       "208            6,641           356                NaN             63,756   \n",
       "80           655,316           641                  3            150,336   \n",
       "201            8,923            29                  1             91,429   \n",
       "\n",
       "    Deaths/\\n1M pop Total\\nTests Tests/\\n1M pop  Population  \n",
       "193             369      164,926      2,894,810      56,973  \n",
       "67              233  190,586,733     18,904,066  10,081,785  \n",
       "208           1,031      100,856        904,125     111,551  \n",
       "80              585    8,365,279      1,909,739   4,380,326  \n",
       "201           1,467       18,901        189,943      99,509  "
      ]
     },
     "execution_count": 5,
     "metadata": {},
     "output_type": "execute_result"
    }
   ],
   "source": [
    "df.sample(5)"
   ]
  },
  {
   "cell_type": "code",
   "execution_count": 6,
   "id": "1c149ee1",
   "metadata": {
    "execution": {
     "iopub.execute_input": "2024-07-02T15:45:04.564554Z",
     "iopub.status.busy": "2024-07-02T15:45:04.564202Z",
     "iopub.status.idle": "2024-07-02T15:45:04.575051Z",
     "shell.execute_reply": "2024-07-02T15:45:04.573931Z"
    },
    "papermill": {
     "duration": 0.024883,
     "end_time": "2024-07-02T15:45:04.577157",
     "exception": false,
     "start_time": "2024-07-02T15:45:04.552274",
     "status": "completed"
    },
    "tags": []
   },
   "outputs": [
    {
     "data": {
      "text/plain": [
       "#                       0\n",
       "Country,\\nOther         0\n",
       "Total\\nCases            0\n",
       "Total\\nDeaths           5\n",
       "New\\nDeaths           227\n",
       "Total\\nRecovered       16\n",
       "Active\\nCases          15\n",
       "Serious,\\nCritical     83\n",
       "Tot Cases/\\n1M pop      2\n",
       "Deaths/\\n1M pop         7\n",
       "Total\\nTests           16\n",
       "Tests/\\n1M pop         16\n",
       "Population              2\n",
       "dtype: int64"
      ]
     },
     "execution_count": 6,
     "metadata": {},
     "output_type": "execute_result"
    }
   ],
   "source": [
    "df.isnull().sum()"
   ]
  },
  {
   "cell_type": "markdown",
   "id": "8f8f9a7e",
   "metadata": {
    "papermill": {
     "duration": 0.009909,
     "end_time": "2024-07-02T15:45:04.597330",
     "exception": false,
     "start_time": "2024-07-02T15:45:04.587421",
     "status": "completed"
    },
    "tags": []
   },
   "source": [
    "## Drop unnecessary col"
   ]
  },
  {
   "cell_type": "markdown",
   "id": "715c89c9",
   "metadata": {
    "papermill": {
     "duration": 0.010003,
     "end_time": "2024-07-02T15:45:04.617850",
     "exception": false,
     "start_time": "2024-07-02T15:45:04.607847",
     "status": "completed"
    },
    "tags": []
   },
   "source": [
    " total 230 rows and in col 'New\\nDeaths' 227 are missing val. drop this col."
   ]
  },
  {
   "cell_type": "code",
   "execution_count": 7,
   "id": "8d7967cc",
   "metadata": {
    "execution": {
     "iopub.execute_input": "2024-07-02T15:45:04.640771Z",
     "iopub.status.busy": "2024-07-02T15:45:04.639816Z",
     "iopub.status.idle": "2024-07-02T15:45:04.647487Z",
     "shell.execute_reply": "2024-07-02T15:45:04.646401Z"
    },
    "papermill": {
     "duration": 0.021631,
     "end_time": "2024-07-02T15:45:04.649878",
     "exception": false,
     "start_time": "2024-07-02T15:45:04.628247",
     "status": "completed"
    },
    "tags": []
   },
   "outputs": [],
   "source": [
    "df = df.drop(['New\\nDeaths','Country,\\nOther','Tot Cases/\\n1M pop','Deaths/\\n1M pop', 'Tests/\\n1M pop',], axis=1)\n"
   ]
  },
  {
   "cell_type": "code",
   "execution_count": 8,
   "id": "ef5b41e5",
   "metadata": {
    "execution": {
     "iopub.execute_input": "2024-07-02T15:45:04.672599Z",
     "iopub.status.busy": "2024-07-02T15:45:04.672223Z",
     "iopub.status.idle": "2024-07-02T15:45:04.679073Z",
     "shell.execute_reply": "2024-07-02T15:45:04.678018Z"
    },
    "papermill": {
     "duration": 0.020827,
     "end_time": "2024-07-02T15:45:04.681460",
     "exception": false,
     "start_time": "2024-07-02T15:45:04.660633",
     "status": "completed"
    },
    "tags": []
   },
   "outputs": [
    {
     "data": {
      "text/plain": [
       "(230, 8)"
      ]
     },
     "execution_count": 8,
     "metadata": {},
     "output_type": "execute_result"
    }
   ],
   "source": [
    "df.shape"
   ]
  },
  {
   "cell_type": "markdown",
   "id": "aba41037",
   "metadata": {
    "papermill": {
     "duration": 0.010062,
     "end_time": "2024-07-02T15:45:04.702549",
     "exception": false,
     "start_time": "2024-07-02T15:45:04.692487",
     "status": "completed"
    },
    "tags": []
   },
   "source": [
    "## Rename Columns"
   ]
  },
  {
   "cell_type": "code",
   "execution_count": 9,
   "id": "4755c504",
   "metadata": {
    "execution": {
     "iopub.execute_input": "2024-07-02T15:45:04.725304Z",
     "iopub.status.busy": "2024-07-02T15:45:04.724907Z",
     "iopub.status.idle": "2024-07-02T15:45:04.731419Z",
     "shell.execute_reply": "2024-07-02T15:45:04.730443Z"
    },
    "papermill": {
     "duration": 0.020201,
     "end_time": "2024-07-02T15:45:04.733459",
     "exception": false,
     "start_time": "2024-07-02T15:45:04.713258",
     "status": "completed"
    },
    "tags": []
   },
   "outputs": [
    {
     "data": {
      "text/plain": [
       "Index(['#', 'Total\\nCases', 'Total\\nDeaths', 'Total\\nRecovered',\n",
       "       'Active\\nCases', 'Serious,\\nCritical', 'Total\\nTests', 'Population'],\n",
       "      dtype='object')"
      ]
     },
     "execution_count": 9,
     "metadata": {},
     "output_type": "execute_result"
    }
   ],
   "source": [
    "df.columns"
   ]
  },
  {
   "cell_type": "code",
   "execution_count": 10,
   "id": "b9fb36cc",
   "metadata": {
    "execution": {
     "iopub.execute_input": "2024-07-02T15:45:04.756156Z",
     "iopub.status.busy": "2024-07-02T15:45:04.755732Z",
     "iopub.status.idle": "2024-07-02T15:45:04.761917Z",
     "shell.execute_reply": "2024-07-02T15:45:04.760901Z"
    },
    "papermill": {
     "duration": 0.020264,
     "end_time": "2024-07-02T15:45:04.764108",
     "exception": false,
     "start_time": "2024-07-02T15:45:04.743844",
     "status": "completed"
    },
    "tags": []
   },
   "outputs": [],
   "source": [
    "df.rename(columns={ 'Total\\nCases': 'TotalCases',\n",
    "                    'Total\\nDeaths': 'TotalDeaths', 'Total\\nRecovered': 'TotalRecovered',\n",
    "                    'Active\\nCases': 'ActiveCases', 'Serious,\\nCritical': 'SeriousCritical',\n",
    "                    'Tot Cases/\\n1M pop': 'TotCases/pop', 'Deaths/\\n1M pop': 'Deaths/pop',\n",
    "                    'Total\\nTests': 'TotalTests', 'Tests/\\n1M pop': 'Tests/pop',\n",
    "                  }, inplace=True)"
   ]
  },
  {
   "cell_type": "code",
   "execution_count": 11,
   "id": "fe00357f",
   "metadata": {
    "execution": {
     "iopub.execute_input": "2024-07-02T15:45:04.786743Z",
     "iopub.status.busy": "2024-07-02T15:45:04.786376Z",
     "iopub.status.idle": "2024-07-02T15:45:04.799402Z",
     "shell.execute_reply": "2024-07-02T15:45:04.798292Z"
    },
    "papermill": {
     "duration": 0.026816,
     "end_time": "2024-07-02T15:45:04.801541",
     "exception": false,
     "start_time": "2024-07-02T15:45:04.774725",
     "status": "completed"
    },
    "tags": []
   },
   "outputs": [
    {
     "data": {
      "text/html": [
       "<div>\n",
       "<style scoped>\n",
       "    .dataframe tbody tr th:only-of-type {\n",
       "        vertical-align: middle;\n",
       "    }\n",
       "\n",
       "    .dataframe tbody tr th {\n",
       "        vertical-align: top;\n",
       "    }\n",
       "\n",
       "    .dataframe thead th {\n",
       "        text-align: right;\n",
       "    }\n",
       "</style>\n",
       "<table border=\"1\" class=\"dataframe\">\n",
       "  <thead>\n",
       "    <tr style=\"text-align: right;\">\n",
       "      <th></th>\n",
       "      <th>#</th>\n",
       "      <th>TotalCases</th>\n",
       "      <th>TotalDeaths</th>\n",
       "      <th>TotalRecovered</th>\n",
       "      <th>ActiveCases</th>\n",
       "      <th>SeriousCritical</th>\n",
       "      <th>TotalTests</th>\n",
       "      <th>Population</th>\n",
       "    </tr>\n",
       "  </thead>\n",
       "  <tbody>\n",
       "    <tr>\n",
       "      <th>0</th>\n",
       "      <td>1</td>\n",
       "      <td>98,166,904</td>\n",
       "      <td>1,084,282</td>\n",
       "      <td>94,962,112</td>\n",
       "      <td>2,120,510</td>\n",
       "      <td>2,970</td>\n",
       "      <td>1,118,158,870</td>\n",
       "      <td>334,805,269</td>\n",
       "    </tr>\n",
       "    <tr>\n",
       "      <th>1</th>\n",
       "      <td>2</td>\n",
       "      <td>44,587,307</td>\n",
       "      <td>528,629</td>\n",
       "      <td>44,019,095</td>\n",
       "      <td>39,583</td>\n",
       "      <td>698</td>\n",
       "      <td>894,416,853</td>\n",
       "      <td>1,406,631,776</td>\n",
       "    </tr>\n",
       "    <tr>\n",
       "      <th>2</th>\n",
       "      <td>3</td>\n",
       "      <td>35,342,950</td>\n",
       "      <td>155,078</td>\n",
       "      <td>34,527,115</td>\n",
       "      <td>660,757</td>\n",
       "      <td>869</td>\n",
       "      <td>271,490,188</td>\n",
       "      <td>65,584,518</td>\n",
       "    </tr>\n",
       "    <tr>\n",
       "      <th>3</th>\n",
       "      <td>4</td>\n",
       "      <td>34,706,757</td>\n",
       "      <td>686,027</td>\n",
       "      <td>33,838,636</td>\n",
       "      <td>182,094</td>\n",
       "      <td>8,318</td>\n",
       "      <td>63,776,166</td>\n",
       "      <td>215,353,593</td>\n",
       "    </tr>\n",
       "    <tr>\n",
       "      <th>4</th>\n",
       "      <td>5</td>\n",
       "      <td>33,312,373</td>\n",
       "      <td>149,948</td>\n",
       "      <td>32,315,200</td>\n",
       "      <td>847,225</td>\n",
       "      <td>1,406</td>\n",
       "      <td>122,332,384</td>\n",
       "      <td>83,883,596</td>\n",
       "    </tr>\n",
       "  </tbody>\n",
       "</table>\n",
       "</div>"
      ],
      "text/plain": [
       "   #  TotalCases TotalDeaths TotalRecovered ActiveCases SeriousCritical  \\\n",
       "0  1  98,166,904   1,084,282     94,962,112   2,120,510           2,970   \n",
       "1  2  44,587,307     528,629     44,019,095      39,583             698   \n",
       "2  3  35,342,950     155,078     34,527,115     660,757             869   \n",
       "3  4  34,706,757     686,027     33,838,636     182,094           8,318   \n",
       "4  5  33,312,373     149,948     32,315,200     847,225           1,406   \n",
       "\n",
       "      TotalTests     Population  \n",
       "0  1,118,158,870    334,805,269  \n",
       "1    894,416,853  1,406,631,776  \n",
       "2    271,490,188     65,584,518  \n",
       "3     63,776,166    215,353,593  \n",
       "4    122,332,384     83,883,596  "
      ]
     },
     "execution_count": 11,
     "metadata": {},
     "output_type": "execute_result"
    }
   ],
   "source": [
    "df.head(5)"
   ]
  },
  {
   "cell_type": "code",
   "execution_count": 12,
   "id": "1e8e2bc4",
   "metadata": {
    "execution": {
     "iopub.execute_input": "2024-07-02T15:45:04.824896Z",
     "iopub.status.busy": "2024-07-02T15:45:04.824541Z",
     "iopub.status.idle": "2024-07-02T15:45:04.832985Z",
     "shell.execute_reply": "2024-07-02T15:45:04.831870Z"
    },
    "papermill": {
     "duration": 0.022699,
     "end_time": "2024-07-02T15:45:04.835195",
     "exception": false,
     "start_time": "2024-07-02T15:45:04.812496",
     "status": "completed"
    },
    "tags": []
   },
   "outputs": [
    {
     "data": {
      "text/plain": [
       "#                   0\n",
       "TotalCases          0\n",
       "TotalDeaths         5\n",
       "TotalRecovered     16\n",
       "ActiveCases        15\n",
       "SeriousCritical    83\n",
       "TotalTests         16\n",
       "Population          2\n",
       "dtype: int64"
      ]
     },
     "execution_count": 12,
     "metadata": {},
     "output_type": "execute_result"
    }
   ],
   "source": [
    "df.isnull().sum()"
   ]
  },
  {
   "cell_type": "code",
   "execution_count": 13,
   "id": "51c440a5",
   "metadata": {
    "execution": {
     "iopub.execute_input": "2024-07-02T15:45:04.858797Z",
     "iopub.status.busy": "2024-07-02T15:45:04.857915Z",
     "iopub.status.idle": "2024-07-02T15:45:04.876797Z",
     "shell.execute_reply": "2024-07-02T15:45:04.875729Z"
    },
    "papermill": {
     "duration": 0.033215,
     "end_time": "2024-07-02T15:45:04.879209",
     "exception": false,
     "start_time": "2024-07-02T15:45:04.845994",
     "status": "completed"
    },
    "tags": []
   },
   "outputs": [
    {
     "name": "stdout",
     "output_type": "stream",
     "text": [
      "<class 'pandas.core.frame.DataFrame'>\n",
      "RangeIndex: 230 entries, 0 to 229\n",
      "Data columns (total 8 columns):\n",
      " #   Column           Non-Null Count  Dtype \n",
      "---  ------           --------------  ----- \n",
      " 0   #                230 non-null    int64 \n",
      " 1   TotalCases       230 non-null    object\n",
      " 2   TotalDeaths      225 non-null    object\n",
      " 3   TotalRecovered   214 non-null    object\n",
      " 4   ActiveCases      215 non-null    object\n",
      " 5   SeriousCritical  147 non-null    object\n",
      " 6   TotalTests       214 non-null    object\n",
      " 7   Population       228 non-null    object\n",
      "dtypes: int64(1), object(7)\n",
      "memory usage: 14.5+ KB\n"
     ]
    }
   ],
   "source": [
    "df.info()"
   ]
  },
  {
   "cell_type": "markdown",
   "id": "e302349f",
   "metadata": {
    "papermill": {
     "duration": 0.010589,
     "end_time": "2024-07-02T15:45:04.900939",
     "exception": false,
     "start_time": "2024-07-02T15:45:04.890350",
     "status": "completed"
    },
    "tags": []
   },
   "source": [
    "## Modify datatype"
   ]
  },
  {
   "cell_type": "code",
   "execution_count": 14,
   "id": "a53b2ec2",
   "metadata": {
    "execution": {
     "iopub.execute_input": "2024-07-02T15:45:04.924843Z",
     "iopub.status.busy": "2024-07-02T15:45:04.923931Z",
     "iopub.status.idle": "2024-07-02T15:45:04.930676Z",
     "shell.execute_reply": "2024-07-02T15:45:04.929703Z"
    },
    "papermill": {
     "duration": 0.02125,
     "end_time": "2024-07-02T15:45:04.932949",
     "exception": false,
     "start_time": "2024-07-02T15:45:04.911699",
     "status": "completed"
    },
    "tags": []
   },
   "outputs": [
    {
     "data": {
      "text/plain": [
       "Index(['#', 'TotalCases', 'TotalDeaths', 'TotalRecovered', 'ActiveCases',\n",
       "       'SeriousCritical', 'TotalTests', 'Population'],\n",
       "      dtype='object')"
      ]
     },
     "execution_count": 14,
     "metadata": {},
     "output_type": "execute_result"
    }
   ],
   "source": [
    "df.columns"
   ]
  },
  {
   "cell_type": "code",
   "execution_count": 15,
   "id": "a3448f48",
   "metadata": {
    "execution": {
     "iopub.execute_input": "2024-07-02T15:45:04.956870Z",
     "iopub.status.busy": "2024-07-02T15:45:04.956456Z",
     "iopub.status.idle": "2024-07-02T15:45:04.972220Z",
     "shell.execute_reply": "2024-07-02T15:45:04.971198Z"
    },
    "papermill": {
     "duration": 0.030579,
     "end_time": "2024-07-02T15:45:04.974681",
     "exception": false,
     "start_time": "2024-07-02T15:45:04.944102",
     "status": "completed"
    },
    "tags": []
   },
   "outputs": [],
   "source": [
    "columns_to_convert = [ 'TotalCases', 'TotalDeaths', 'TotalRecovered', 'ActiveCases',\n",
    "       'SeriousCritical', 'TotalTests', 'Population']\n",
    "\n",
    "# Remove commas and convert to integers\n",
    "for column in columns_to_convert:\n",
    "    # Ensure the column is treated as string before replacing commas and converting\n",
    "    df[column] = pd.to_numeric(df[column].astype(str).str.replace(',', ''), errors='coerce').astype('Float64')\n"
   ]
  },
  {
   "cell_type": "code",
   "execution_count": 16,
   "id": "51338ffc",
   "metadata": {
    "_kg_hide-input": true,
    "execution": {
     "iopub.execute_input": "2024-07-02T15:45:04.998445Z",
     "iopub.status.busy": "2024-07-02T15:45:04.998058Z",
     "iopub.status.idle": "2024-07-02T15:45:05.002546Z",
     "shell.execute_reply": "2024-07-02T15:45:05.001507Z"
    },
    "papermill": {
     "duration": 0.019055,
     "end_time": "2024-07-02T15:45:05.004819",
     "exception": false,
     "start_time": "2024-07-02T15:45:04.985764",
     "status": "completed"
    },
    "tags": []
   },
   "outputs": [],
   "source": [
    "#columns_to_convert = df.columns.difference(['#', 'Country'])\n",
    "#df[columns_to_convert] = df[columns_to_convert].apply(pd.to_numeric, errors='coerce')"
   ]
  },
  {
   "cell_type": "code",
   "execution_count": 17,
   "id": "919f6a2c",
   "metadata": {
    "execution": {
     "iopub.execute_input": "2024-07-02T15:45:05.028957Z",
     "iopub.status.busy": "2024-07-02T15:45:05.028579Z",
     "iopub.status.idle": "2024-07-02T15:45:05.040111Z",
     "shell.execute_reply": "2024-07-02T15:45:05.038901Z"
    },
    "papermill": {
     "duration": 0.026075,
     "end_time": "2024-07-02T15:45:05.042380",
     "exception": false,
     "start_time": "2024-07-02T15:45:05.016305",
     "status": "completed"
    },
    "tags": []
   },
   "outputs": [
    {
     "name": "stdout",
     "output_type": "stream",
     "text": [
      "<class 'pandas.core.frame.DataFrame'>\n",
      "RangeIndex: 230 entries, 0 to 229\n",
      "Data columns (total 8 columns):\n",
      " #   Column           Non-Null Count  Dtype  \n",
      "---  ------           --------------  -----  \n",
      " 0   #                230 non-null    int64  \n",
      " 1   TotalCases       230 non-null    Float64\n",
      " 2   TotalDeaths      225 non-null    Float64\n",
      " 3   TotalRecovered   214 non-null    Float64\n",
      " 4   ActiveCases      215 non-null    Float64\n",
      " 5   SeriousCritical  147 non-null    Float64\n",
      " 6   TotalTests       214 non-null    Float64\n",
      " 7   Population       228 non-null    Float64\n",
      "dtypes: Float64(7), int64(1)\n",
      "memory usage: 16.1 KB\n"
     ]
    }
   ],
   "source": [
    "df.info()"
   ]
  },
  {
   "cell_type": "code",
   "execution_count": 18,
   "id": "bc6ba5bd",
   "metadata": {
    "execution": {
     "iopub.execute_input": "2024-07-02T15:45:05.066298Z",
     "iopub.status.busy": "2024-07-02T15:45:05.065914Z",
     "iopub.status.idle": "2024-07-02T15:45:05.081828Z",
     "shell.execute_reply": "2024-07-02T15:45:05.080876Z"
    },
    "papermill": {
     "duration": 0.030416,
     "end_time": "2024-07-02T15:45:05.083984",
     "exception": false,
     "start_time": "2024-07-02T15:45:05.053568",
     "status": "completed"
    },
    "tags": []
   },
   "outputs": [
    {
     "data": {
      "text/html": [
       "<div>\n",
       "<style scoped>\n",
       "    .dataframe tbody tr th:only-of-type {\n",
       "        vertical-align: middle;\n",
       "    }\n",
       "\n",
       "    .dataframe tbody tr th {\n",
       "        vertical-align: top;\n",
       "    }\n",
       "\n",
       "    .dataframe thead th {\n",
       "        text-align: right;\n",
       "    }\n",
       "</style>\n",
       "<table border=\"1\" class=\"dataframe\">\n",
       "  <thead>\n",
       "    <tr style=\"text-align: right;\">\n",
       "      <th></th>\n",
       "      <th>#</th>\n",
       "      <th>TotalCases</th>\n",
       "      <th>TotalDeaths</th>\n",
       "      <th>TotalRecovered</th>\n",
       "      <th>ActiveCases</th>\n",
       "      <th>SeriousCritical</th>\n",
       "      <th>TotalTests</th>\n",
       "      <th>Population</th>\n",
       "    </tr>\n",
       "  </thead>\n",
       "  <tbody>\n",
       "    <tr>\n",
       "      <th>186</th>\n",
       "      <td>187</td>\n",
       "      <td>15747.0</td>\n",
       "      <td>74.0</td>\n",
       "      <td>15651.0</td>\n",
       "      <td>22.0</td>\n",
       "      <td>&lt;NA&gt;</td>\n",
       "      <td>228799.0</td>\n",
       "      <td>72344.0</td>\n",
       "    </tr>\n",
       "    <tr>\n",
       "      <th>163</th>\n",
       "      <td>164</td>\n",
       "      <td>34658.0</td>\n",
       "      <td>28.0</td>\n",
       "      <td>&lt;NA&gt;</td>\n",
       "      <td>&lt;NA&gt;</td>\n",
       "      <td>5.0</td>\n",
       "      <td>778000.0</td>\n",
       "      <td>49233.0</td>\n",
       "    </tr>\n",
       "    <tr>\n",
       "      <th>220</th>\n",
       "      <td>221</td>\n",
       "      <td>1396.0</td>\n",
       "      <td>8.0</td>\n",
       "      <td>1353.0</td>\n",
       "      <td>35.0</td>\n",
       "      <td>&lt;NA&gt;</td>\n",
       "      <td>17579.0</td>\n",
       "      <td>4965.0</td>\n",
       "    </tr>\n",
       "    <tr>\n",
       "      <th>215</th>\n",
       "      <td>216</td>\n",
       "      <td>4611.0</td>\n",
       "      <td>1.0</td>\n",
       "      <td>4605.0</td>\n",
       "      <td>5.0</td>\n",
       "      <td>&lt;NA&gt;</td>\n",
       "      <td>20509.0</td>\n",
       "      <td>10903.0</td>\n",
       "    </tr>\n",
       "    <tr>\n",
       "      <th>90</th>\n",
       "      <td>91</td>\n",
       "      <td>493563.0</td>\n",
       "      <td>7572.0</td>\n",
       "      <td>471918.0</td>\n",
       "      <td>14073.0</td>\n",
       "      <td>1.0</td>\n",
       "      <td>5258807.0</td>\n",
       "      <td>120812698.0</td>\n",
       "    </tr>\n",
       "  </tbody>\n",
       "</table>\n",
       "</div>"
      ],
      "text/plain": [
       "       #  TotalCases  TotalDeaths  TotalRecovered  ActiveCases  \\\n",
       "186  187     15747.0         74.0         15651.0         22.0   \n",
       "163  164     34658.0         28.0            <NA>         <NA>   \n",
       "220  221      1396.0          8.0          1353.0         35.0   \n",
       "215  216      4611.0          1.0          4605.0          5.0   \n",
       "90    91    493563.0       7572.0        471918.0      14073.0   \n",
       "\n",
       "     SeriousCritical  TotalTests   Population  \n",
       "186             <NA>    228799.0      72344.0  \n",
       "163              5.0    778000.0      49233.0  \n",
       "220             <NA>     17579.0       4965.0  \n",
       "215             <NA>     20509.0      10903.0  \n",
       "90               1.0   5258807.0  120812698.0  "
      ]
     },
     "execution_count": 18,
     "metadata": {},
     "output_type": "execute_result"
    }
   ],
   "source": [
    "df.sample(5)"
   ]
  },
  {
   "cell_type": "code",
   "execution_count": 19,
   "id": "4fd7e1b2",
   "metadata": {
    "execution": {
     "iopub.execute_input": "2024-07-02T15:45:05.108276Z",
     "iopub.status.busy": "2024-07-02T15:45:05.107876Z",
     "iopub.status.idle": "2024-07-02T15:45:06.467622Z",
     "shell.execute_reply": "2024-07-02T15:45:06.466600Z"
    },
    "papermill": {
     "duration": 1.375657,
     "end_time": "2024-07-02T15:45:06.470887",
     "exception": false,
     "start_time": "2024-07-02T15:45:05.095230",
     "status": "completed"
    },
    "tags": []
   },
   "outputs": [],
   "source": [
    "import matplotlib.pyplot as plt\n",
    "import seaborn as sns"
   ]
  },
  {
   "cell_type": "markdown",
   "id": "5ba1f9d8",
   "metadata": {
    "execution": {
     "iopub.execute_input": "2024-07-02T15:34:37.709586Z",
     "iopub.status.busy": "2024-07-02T15:34:37.709105Z",
     "iopub.status.idle": "2024-07-02T15:34:37.715574Z",
     "shell.execute_reply": "2024-07-02T15:34:37.713874Z",
     "shell.execute_reply.started": "2024-07-02T15:34:37.709551Z"
    },
    "papermill": {
     "duration": 0.011254,
     "end_time": "2024-07-02T15:45:06.499352",
     "exception": false,
     "start_time": "2024-07-02T15:45:06.488098",
     "status": "completed"
    },
    "tags": []
   },
   "source": [
    "## Handling outliers"
   ]
  },
  {
   "cell_type": "markdown",
   "id": "ee918773",
   "metadata": {
    "papermill": {
     "duration": 0.072829,
     "end_time": "2024-07-02T15:45:06.583421",
     "exception": false,
     "start_time": "2024-07-02T15:45:06.510592",
     "status": "completed"
    },
    "tags": []
   },
   "source": [
    "## TotalCases"
   ]
  },
  {
   "cell_type": "code",
   "execution_count": 20,
   "id": "5d899c00",
   "metadata": {
    "execution": {
     "iopub.execute_input": "2024-07-02T15:45:06.608568Z",
     "iopub.status.busy": "2024-07-02T15:45:06.607442Z",
     "iopub.status.idle": "2024-07-02T15:45:07.110584Z",
     "shell.execute_reply": "2024-07-02T15:45:07.109455Z"
    },
    "papermill": {
     "duration": 0.518183,
     "end_time": "2024-07-02T15:45:07.112943",
     "exception": false,
     "start_time": "2024-07-02T15:45:06.594760",
     "status": "completed"
    },
    "tags": []
   },
   "outputs": [
    {
     "name": "stderr",
     "output_type": "stream",
     "text": [
      "/opt/conda/lib/python3.10/site-packages/seaborn/_oldcore.py:1119: FutureWarning: use_inf_as_na option is deprecated and will be removed in a future version. Convert inf values to NaN before operating instead.\n",
      "  with pd.option_context('mode.use_inf_as_na', True):\n"
     ]
    },
    {
     "data": {
      "image/png": "[encoded data removed]",
      "text/plain": [
       "<Figure size 1600x800 with 2 Axes>"
      ]
     },
     "metadata": {},
     "output_type": "display_data"
    }
   ],
   "source": [
    "plt.figure(figsize=(16,8))\n",
    "plt.subplot(2,2,1)\n",
    "sns.kdeplot(df['TotalCases'])\n",
    "plt.subplot(2,2,2)\n",
    "sns.boxplot(df['TotalCases'])\n",
    "\n",
    "plt.show()"
   ]
  },
  {
   "cell_type": "markdown",
   "id": "ce8e9c03",
   "metadata": {
    "papermill": {
     "duration": 0.011662,
     "end_time": "2024-07-02T15:45:07.137200",
     "exception": false,
     "start_time": "2024-07-02T15:45:07.125538",
     "status": "completed"
    },
    "tags": []
   },
   "source": [
    "## Finding the IQR for TotalCases"
   ]
  },
  {
   "cell_type": "code",
   "execution_count": 21,
   "id": "abc9c07a",
   "metadata": {
    "execution": {
     "iopub.execute_input": "2024-07-02T15:45:07.163860Z",
     "iopub.status.busy": "2024-07-02T15:45:07.162868Z",
     "iopub.status.idle": "2024-07-02T15:45:07.172907Z",
     "shell.execute_reply": "2024-07-02T15:45:07.171849Z"
    },
    "papermill": {
     "duration": 0.02572,
     "end_time": "2024-07-02T15:45:07.174974",
     "exception": false,
     "start_time": "2024-07-02T15:45:07.149254",
     "status": "completed"
    },
    "tags": []
   },
   "outputs": [
    {
     "name": "stdout",
     "output_type": "stream",
     "text": [
      "percentile75: 1256286.0\n",
      "iqr: 1232637.0\n",
      "Upper limit: 3105241.5\n",
      "Lower limit: -1825306.5\n"
     ]
    }
   ],
   "source": [
    "percentile25 = df['TotalCases'].quantile(0.25)\n",
    "percentile75 = df['TotalCases'].quantile(0.75)\n",
    "print(\"percentile75:\",percentile75)\n",
    "iqr = percentile75 - percentile25\n",
    "print(\"iqr:\",iqr)\n",
    "upper_limit = percentile75 + 1.5 * iqr\n",
    "lower_limit = percentile25 - 1.5 * iqr\n",
    "print(\"Upper limit:\",upper_limit)\n",
    "print(\"Lower limit:\",lower_limit)"
   ]
  },
  {
   "cell_type": "markdown",
   "id": "c2259bc4",
   "metadata": {
    "papermill": {
     "duration": 0.011764,
     "end_time": "2024-07-02T15:45:07.198860",
     "exception": false,
     "start_time": "2024-07-02T15:45:07.187096",
     "status": "completed"
    },
    "tags": []
   },
   "source": [
    "### find outliers"
   ]
  },
  {
   "cell_type": "code",
   "execution_count": 22,
   "id": "959fbdaf",
   "metadata": {
    "execution": {
     "iopub.execute_input": "2024-07-02T15:45:07.226531Z",
     "iopub.status.busy": "2024-07-02T15:45:07.226167Z",
     "iopub.status.idle": "2024-07-02T15:45:07.248663Z",
     "shell.execute_reply": "2024-07-02T15:45:07.247538Z"
    },
    "papermill": {
     "duration": 0.040107,
     "end_time": "2024-07-02T15:45:07.250938",
     "exception": false,
     "start_time": "2024-07-02T15:45:07.210831",
     "status": "completed"
    },
    "tags": []
   },
   "outputs": [
    {
     "data": {
      "text/html": [
       "<div>\n",
       "<style scoped>\n",
       "    .dataframe tbody tr th:only-of-type {\n",
       "        vertical-align: middle;\n",
       "    }\n",
       "\n",
       "    .dataframe tbody tr th {\n",
       "        vertical-align: top;\n",
       "    }\n",
       "\n",
       "    .dataframe thead th {\n",
       "        text-align: right;\n",
       "    }\n",
       "</style>\n",
       "<table border=\"1\" class=\"dataframe\">\n",
       "  <thead>\n",
       "    <tr style=\"text-align: right;\">\n",
       "      <th></th>\n",
       "      <th>#</th>\n",
       "      <th>TotalCases</th>\n",
       "      <th>TotalDeaths</th>\n",
       "      <th>TotalRecovered</th>\n",
       "      <th>ActiveCases</th>\n",
       "      <th>SeriousCritical</th>\n",
       "      <th>TotalTests</th>\n",
       "      <th>Population</th>\n",
       "    </tr>\n",
       "  </thead>\n",
       "  <tbody>\n",
       "    <tr>\n",
       "      <th>0</th>\n",
       "      <td>1</td>\n",
       "      <td>98166904.0</td>\n",
       "      <td>1084282.0</td>\n",
       "      <td>94962112.0</td>\n",
       "      <td>2120510.0</td>\n",
       "      <td>2970.0</td>\n",
       "      <td>1118158870.0</td>\n",
       "      <td>334805269.0</td>\n",
       "    </tr>\n",
       "    <tr>\n",
       "      <th>1</th>\n",
       "      <td>2</td>\n",
       "      <td>44587307.0</td>\n",
       "      <td>528629.0</td>\n",
       "      <td>44019095.0</td>\n",
       "      <td>39583.0</td>\n",
       "      <td>698.0</td>\n",
       "      <td>894416853.0</td>\n",
       "      <td>1406631776.0</td>\n",
       "    </tr>\n",
       "    <tr>\n",
       "      <th>2</th>\n",
       "      <td>3</td>\n",
       "      <td>35342950.0</td>\n",
       "      <td>155078.0</td>\n",
       "      <td>34527115.0</td>\n",
       "      <td>660757.0</td>\n",
       "      <td>869.0</td>\n",
       "      <td>271490188.0</td>\n",
       "      <td>65584518.0</td>\n",
       "    </tr>\n",
       "    <tr>\n",
       "      <th>3</th>\n",
       "      <td>4</td>\n",
       "      <td>34706757.0</td>\n",
       "      <td>686027.0</td>\n",
       "      <td>33838636.0</td>\n",
       "      <td>182094.0</td>\n",
       "      <td>8318.0</td>\n",
       "      <td>63776166.0</td>\n",
       "      <td>215353593.0</td>\n",
       "    </tr>\n",
       "    <tr>\n",
       "      <th>4</th>\n",
       "      <td>5</td>\n",
       "      <td>33312373.0</td>\n",
       "      <td>149948.0</td>\n",
       "      <td>32315200.0</td>\n",
       "      <td>847225.0</td>\n",
       "      <td>1406.0</td>\n",
       "      <td>122332384.0</td>\n",
       "      <td>83883596.0</td>\n",
       "    </tr>\n",
       "    <tr>\n",
       "      <th>5</th>\n",
       "      <td>6</td>\n",
       "      <td>24769101.0</td>\n",
       "      <td>28406.0</td>\n",
       "      <td>24013461.0</td>\n",
       "      <td>727234.0</td>\n",
       "      <td>352.0</td>\n",
       "      <td>15804065.0</td>\n",
       "      <td>51329899.0</td>\n",
       "    </tr>\n",
       "    <tr>\n",
       "      <th>6</th>\n",
       "      <td>7</td>\n",
       "      <td>23621952.0</td>\n",
       "      <td>189919.0</td>\n",
       "      <td>23347871.0</td>\n",
       "      <td>84162.0</td>\n",
       "      <td>146.0</td>\n",
       "      <td>522526476.0</td>\n",
       "      <td>68497907.0</td>\n",
       "    </tr>\n",
       "    <tr>\n",
       "      <th>7</th>\n",
       "      <td>8</td>\n",
       "      <td>22432803.0</td>\n",
       "      <td>177054.0</td>\n",
       "      <td>21779604.0</td>\n",
       "      <td>476145.0</td>\n",
       "      <td>141.0</td>\n",
       "      <td>246636495.0</td>\n",
       "      <td>60262770.0</td>\n",
       "    </tr>\n",
       "    <tr>\n",
       "      <th>8</th>\n",
       "      <td>9</td>\n",
       "      <td>21229216.0</td>\n",
       "      <td>44678.0</td>\n",
       "      <td>20380089.0</td>\n",
       "      <td>804449.0</td>\n",
       "      <td>204.0</td>\n",
       "      <td>76201407.0</td>\n",
       "      <td>125584838.0</td>\n",
       "    </tr>\n",
       "    <tr>\n",
       "      <th>9</th>\n",
       "      <td>10</td>\n",
       "      <td>20948470.0</td>\n",
       "      <td>387163.0</td>\n",
       "      <td>19979763.0</td>\n",
       "      <td>581544.0</td>\n",
       "      <td>2300.0</td>\n",
       "      <td>273400000.0</td>\n",
       "      <td>145805947.0</td>\n",
       "    </tr>\n",
       "    <tr>\n",
       "      <th>10</th>\n",
       "      <td>11</td>\n",
       "      <td>16873793.0</td>\n",
       "      <td>101139.0</td>\n",
       "      <td>16754301.0</td>\n",
       "      <td>18353.0</td>\n",
       "      <td>975.0</td>\n",
       "      <td>162743369.0</td>\n",
       "      <td>85561976.0</td>\n",
       "    </tr>\n",
       "    <tr>\n",
       "      <th>11</th>\n",
       "      <td>12</td>\n",
       "      <td>13412263.0</td>\n",
       "      <td>114084.0</td>\n",
       "      <td>13218892.0</td>\n",
       "      <td>79287.0</td>\n",
       "      <td>339.0</td>\n",
       "      <td>471036328.0</td>\n",
       "      <td>46719142.0</td>\n",
       "    </tr>\n",
       "    <tr>\n",
       "      <th>12</th>\n",
       "      <td>13</td>\n",
       "      <td>11477886.0</td>\n",
       "      <td>43148.0</td>\n",
       "      <td>10590917.0</td>\n",
       "      <td>843821.0</td>\n",
       "      <td>106.0</td>\n",
       "      <td>85826548.0</td>\n",
       "      <td>98953541.0</td>\n",
       "    </tr>\n",
       "    <tr>\n",
       "      <th>13</th>\n",
       "      <td>14</td>\n",
       "      <td>10209239.0</td>\n",
       "      <td>14984.0</td>\n",
       "      <td>10133494.0</td>\n",
       "      <td>60761.0</td>\n",
       "      <td>49.0</td>\n",
       "      <td>78835048.0</td>\n",
       "      <td>26068792.0</td>\n",
       "    </tr>\n",
       "    <tr>\n",
       "      <th>14</th>\n",
       "      <td>15</td>\n",
       "      <td>9708420.0</td>\n",
       "      <td>129897.0</td>\n",
       "      <td>9563348.0</td>\n",
       "      <td>15175.0</td>\n",
       "      <td>294.0</td>\n",
       "      <td>35716069.0</td>\n",
       "      <td>46010234.0</td>\n",
       "    </tr>\n",
       "    <tr>\n",
       "      <th>15</th>\n",
       "      <td>16</td>\n",
       "      <td>8422336.0</td>\n",
       "      <td>22643.0</td>\n",
       "      <td>8362464.0</td>\n",
       "      <td>37229.0</td>\n",
       "      <td>35.0</td>\n",
       "      <td>21107399.0</td>\n",
       "      <td>17211447.0</td>\n",
       "    </tr>\n",
       "    <tr>\n",
       "      <th>16</th>\n",
       "      <td>17</td>\n",
       "      <td>7548320.0</td>\n",
       "      <td>144421.0</td>\n",
       "      <td>7325370.0</td>\n",
       "      <td>78529.0</td>\n",
       "      <td>157.0</td>\n",
       "      <td>54095556.0</td>\n",
       "      <td>86022837.0</td>\n",
       "    </tr>\n",
       "    <tr>\n",
       "      <th>17</th>\n",
       "      <td>18</td>\n",
       "      <td>7084488.0</td>\n",
       "      <td>330065.0</td>\n",
       "      <td>6353953.0</td>\n",
       "      <td>400470.0</td>\n",
       "      <td>4798.0</td>\n",
       "      <td>18393211.0</td>\n",
       "      <td>131562772.0</td>\n",
       "    </tr>\n",
       "    <tr>\n",
       "      <th>18</th>\n",
       "      <td>19</td>\n",
       "      <td>6429767.0</td>\n",
       "      <td>158093.0</td>\n",
       "      <td>6253317.0</td>\n",
       "      <td>18357.0</td>\n",
       "      <td>2771.0</td>\n",
       "      <td>108656989.0</td>\n",
       "      <td>279134505.0</td>\n",
       "    </tr>\n",
       "    <tr>\n",
       "      <th>19</th>\n",
       "      <td>20</td>\n",
       "      <td>6417941.0</td>\n",
       "      <td>11003.0</td>\n",
       "      <td>5603195.0</td>\n",
       "      <td>803743.0</td>\n",
       "      <td>&lt;NA&gt;</td>\n",
       "      <td>25998416.0</td>\n",
       "      <td>23888595.0</td>\n",
       "    </tr>\n",
       "    <tr>\n",
       "      <th>20</th>\n",
       "      <td>21</td>\n",
       "      <td>6307372.0</td>\n",
       "      <td>141794.0</td>\n",
       "      <td>6134690.0</td>\n",
       "      <td>30888.0</td>\n",
       "      <td>342.0</td>\n",
       "      <td>36572720.0</td>\n",
       "      <td>51512762.0</td>\n",
       "    </tr>\n",
       "    <tr>\n",
       "      <th>21</th>\n",
       "      <td>22</td>\n",
       "      <td>6289672.0</td>\n",
       "      <td>117539.0</td>\n",
       "      <td>5335940.0</td>\n",
       "      <td>836193.0</td>\n",
       "      <td>3086.0</td>\n",
       "      <td>37335609.0</td>\n",
       "      <td>37739785.0</td>\n",
       "    </tr>\n",
       "    <tr>\n",
       "      <th>22</th>\n",
       "      <td>23</td>\n",
       "      <td>5490639.0</td>\n",
       "      <td>25024.0</td>\n",
       "      <td>5394788.0</td>\n",
       "      <td>70827.0</td>\n",
       "      <td>61.0</td>\n",
       "      <td>44988307.0</td>\n",
       "      <td>10140570.0</td>\n",
       "    </tr>\n",
       "    <tr>\n",
       "      <th>23</th>\n",
       "      <td>24</td>\n",
       "      <td>5177217.0</td>\n",
       "      <td>109206.0</td>\n",
       "      <td>4973554.0</td>\n",
       "      <td>94457.0</td>\n",
       "      <td>177.0</td>\n",
       "      <td>19521252.0</td>\n",
       "      <td>43192122.0</td>\n",
       "    </tr>\n",
       "    <tr>\n",
       "      <th>24</th>\n",
       "      <td>25</td>\n",
       "      <td>5118512.0</td>\n",
       "      <td>20738.0</td>\n",
       "      <td>5006572.0</td>\n",
       "      <td>91202.0</td>\n",
       "      <td>47.0</td>\n",
       "      <td>197543761.0</td>\n",
       "      <td>9066710.0</td>\n",
       "    </tr>\n",
       "    <tr>\n",
       "      <th>25</th>\n",
       "      <td>26</td>\n",
       "      <td>4920192.0</td>\n",
       "      <td>33111.0</td>\n",
       "      <td>4836903.0</td>\n",
       "      <td>50178.0</td>\n",
       "      <td>115.0</td>\n",
       "      <td>94139966.0</td>\n",
       "      <td>10316637.0</td>\n",
       "    </tr>\n",
       "    <tr>\n",
       "      <th>26</th>\n",
       "      <td>27</td>\n",
       "      <td>4838872.0</td>\n",
       "      <td>36369.0</td>\n",
       "      <td>4777329.0</td>\n",
       "      <td>25174.0</td>\n",
       "      <td>43.0</td>\n",
       "      <td>64604259.0</td>\n",
       "      <td>33181072.0</td>\n",
       "    </tr>\n",
       "    <tr>\n",
       "      <th>27</th>\n",
       "      <td>28</td>\n",
       "      <td>4772813.0</td>\n",
       "      <td>74.0</td>\n",
       "      <td>4772739.0</td>\n",
       "      <td>0.0</td>\n",
       "      <td>&lt;NA&gt;</td>\n",
       "      <td>&lt;NA&gt;</td>\n",
       "      <td>25990679.0</td>\n",
       "    </tr>\n",
       "    <tr>\n",
       "      <th>28</th>\n",
       "      <td>29</td>\n",
       "      <td>4681309.0</td>\n",
       "      <td>32767.0</td>\n",
       "      <td>4642083.0</td>\n",
       "      <td>6459.0</td>\n",
       "      <td>1496.0</td>\n",
       "      <td>17270775.0</td>\n",
       "      <td>70078203.0</td>\n",
       "    </tr>\n",
       "    <tr>\n",
       "      <th>29</th>\n",
       "      <td>30</td>\n",
       "      <td>4661096.0</td>\n",
       "      <td>11698.0</td>\n",
       "      <td>4641394.0</td>\n",
       "      <td>8004.0</td>\n",
       "      <td>101.0</td>\n",
       "      <td>41373364.0</td>\n",
       "      <td>9326000.0</td>\n",
       "    </tr>\n",
       "    <tr>\n",
       "      <th>30</th>\n",
       "      <td>31</td>\n",
       "      <td>4620377.0</td>\n",
       "      <td>61141.0</td>\n",
       "      <td>4540886.0</td>\n",
       "      <td>18350.0</td>\n",
       "      <td>124.0</td>\n",
       "      <td>45128974.0</td>\n",
       "      <td>19250195.0</td>\n",
       "    </tr>\n",
       "    <tr>\n",
       "      <th>31</th>\n",
       "      <td>32</td>\n",
       "      <td>4533249.0</td>\n",
       "      <td>32659.0</td>\n",
       "      <td>4451569.0</td>\n",
       "      <td>49021.0</td>\n",
       "      <td>48.0</td>\n",
       "      <td>35555508.0</td>\n",
       "      <td>11668278.0</td>\n",
       "    </tr>\n",
       "    <tr>\n",
       "      <th>32</th>\n",
       "      <td>33</td>\n",
       "      <td>4233468.0</td>\n",
       "      <td>44992.0</td>\n",
       "      <td>4131367.0</td>\n",
       "      <td>57109.0</td>\n",
       "      <td>99.0</td>\n",
       "      <td>64928884.0</td>\n",
       "      <td>38388419.0</td>\n",
       "    </tr>\n",
       "    <tr>\n",
       "      <th>33</th>\n",
       "      <td>34</td>\n",
       "      <td>4143085.0</td>\n",
       "      <td>216539.0</td>\n",
       "      <td>3914598.0</td>\n",
       "      <td>11948.0</td>\n",
       "      <td>147.0</td>\n",
       "      <td>35126382.0</td>\n",
       "      <td>33684208.0</td>\n",
       "    </tr>\n",
       "    <tr>\n",
       "      <th>34</th>\n",
       "      <td>35</td>\n",
       "      <td>4100480.0</td>\n",
       "      <td>41059.0</td>\n",
       "      <td>4035333.0</td>\n",
       "      <td>24088.0</td>\n",
       "      <td>39.0</td>\n",
       "      <td>56212735.0</td>\n",
       "      <td>10736784.0</td>\n",
       "    </tr>\n",
       "    <tr>\n",
       "      <th>35</th>\n",
       "      <td>36</td>\n",
       "      <td>4084307.0</td>\n",
       "      <td>14183.0</td>\n",
       "      <td>4012833.0</td>\n",
       "      <td>57291.0</td>\n",
       "      <td>54.0</td>\n",
       "      <td>22318542.0</td>\n",
       "      <td>8773637.0</td>\n",
       "    </tr>\n",
       "    <tr>\n",
       "      <th>36</th>\n",
       "      <td>37</td>\n",
       "      <td>4018769.0</td>\n",
       "      <td>102185.0</td>\n",
       "      <td>3909265.0</td>\n",
       "      <td>7319.0</td>\n",
       "      <td>192.0</td>\n",
       "      <td>26174429.0</td>\n",
       "      <td>60756135.0</td>\n",
       "    </tr>\n",
       "    <tr>\n",
       "      <th>37</th>\n",
       "      <td>38</td>\n",
       "      <td>3945566.0</td>\n",
       "      <td>62916.0</td>\n",
       "      <td>3854478.0</td>\n",
       "      <td>28172.0</td>\n",
       "      <td>696.0</td>\n",
       "      <td>32796350.0</td>\n",
       "      <td>112508994.0</td>\n",
       "    </tr>\n",
       "    <tr>\n",
       "      <th>38</th>\n",
       "      <td>39</td>\n",
       "      <td>3267370.0</td>\n",
       "      <td>67016.0</td>\n",
       "      <td>3180124.0</td>\n",
       "      <td>20230.0</td>\n",
       "      <td>123.0</td>\n",
       "      <td>25094131.0</td>\n",
       "      <td>19031335.0</td>\n",
       "    </tr>\n",
       "    <tr>\n",
       "      <th>39</th>\n",
       "      <td>40</td>\n",
       "      <td>3110831.0</td>\n",
       "      <td>7065.0</td>\n",
       "      <td>3093396.0</td>\n",
       "      <td>10370.0</td>\n",
       "      <td>&lt;NA&gt;</td>\n",
       "      <td>128397719.0</td>\n",
       "      <td>5834950.0</td>\n",
       "    </tr>\n",
       "  </tbody>\n",
       "</table>\n",
       "</div>"
      ],
      "text/plain": [
       "     #  TotalCases  TotalDeaths  TotalRecovered  ActiveCases  SeriousCritical  \\\n",
       "0    1  98166904.0    1084282.0      94962112.0    2120510.0           2970.0   \n",
       "1    2  44587307.0     528629.0      44019095.0      39583.0            698.0   \n",
       "2    3  35342950.0     155078.0      34527115.0     660757.0            869.0   \n",
       "3    4  34706757.0     686027.0      33838636.0     182094.0           8318.0   \n",
       "4    5  33312373.0     149948.0      32315200.0     847225.0           1406.0   \n",
       "5    6  24769101.0      28406.0      24013461.0     727234.0            352.0   \n",
       "6    7  23621952.0     189919.0      23347871.0      84162.0            146.0   \n",
       "7    8  22432803.0     177054.0      21779604.0     476145.0            141.0   \n",
       "8    9  21229216.0      44678.0      20380089.0     804449.0            204.0   \n",
       "9   10  20948470.0     387163.0      19979763.0     581544.0           2300.0   \n",
       "10  11  16873793.0     101139.0      16754301.0      18353.0            975.0   \n",
       "11  12  13412263.0     114084.0      13218892.0      79287.0            339.0   \n",
       "12  13  11477886.0      43148.0      10590917.0     843821.0            106.0   \n",
       "13  14  10209239.0      14984.0      10133494.0      60761.0             49.0   \n",
       "14  15   9708420.0     129897.0       9563348.0      15175.0            294.0   \n",
       "15  16   8422336.0      22643.0       8362464.0      37229.0             35.0   \n",
       "16  17   7548320.0     144421.0       7325370.0      78529.0            157.0   \n",
       "17  18   7084488.0     330065.0       6353953.0     400470.0           4798.0   \n",
       "18  19   6429767.0     158093.0       6253317.0      18357.0           2771.0   \n",
       "19  20   6417941.0      11003.0       5603195.0     803743.0             <NA>   \n",
       "20  21   6307372.0     141794.0       6134690.0      30888.0            342.0   \n",
       "21  22   6289672.0     117539.0       5335940.0     836193.0           3086.0   \n",
       "22  23   5490639.0      25024.0       5394788.0      70827.0             61.0   \n",
       "23  24   5177217.0     109206.0       4973554.0      94457.0            177.0   \n",
       "24  25   5118512.0      20738.0       5006572.0      91202.0             47.0   \n",
       "25  26   4920192.0      33111.0       4836903.0      50178.0            115.0   \n",
       "26  27   4838872.0      36369.0       4777329.0      25174.0             43.0   \n",
       "27  28   4772813.0         74.0       4772739.0          0.0             <NA>   \n",
       "28  29   4681309.0      32767.0       4642083.0       6459.0           1496.0   \n",
       "29  30   4661096.0      11698.0       4641394.0       8004.0            101.0   \n",
       "30  31   4620377.0      61141.0       4540886.0      18350.0            124.0   \n",
       "31  32   4533249.0      32659.0       4451569.0      49021.0             48.0   \n",
       "32  33   4233468.0      44992.0       4131367.0      57109.0             99.0   \n",
       "33  34   4143085.0     216539.0       3914598.0      11948.0            147.0   \n",
       "34  35   4100480.0      41059.0       4035333.0      24088.0             39.0   \n",
       "35  36   4084307.0      14183.0       4012833.0      57291.0             54.0   \n",
       "36  37   4018769.0     102185.0       3909265.0       7319.0            192.0   \n",
       "37  38   3945566.0      62916.0       3854478.0      28172.0            696.0   \n",
       "38  39   3267370.0      67016.0       3180124.0      20230.0            123.0   \n",
       "39  40   3110831.0       7065.0       3093396.0      10370.0             <NA>   \n",
       "\n",
       "      TotalTests    Population  \n",
       "0   1118158870.0   334805269.0  \n",
       "1    894416853.0  1406631776.0  \n",
       "2    271490188.0    65584518.0  \n",
       "3     63776166.0   215353593.0  \n",
       "4    122332384.0    83883596.0  \n",
       "5     15804065.0    51329899.0  \n",
       "6    522526476.0    68497907.0  \n",
       "7    246636495.0    60262770.0  \n",
       "8     76201407.0   125584838.0  \n",
       "9    273400000.0   145805947.0  \n",
       "10   162743369.0    85561976.0  \n",
       "11   471036328.0    46719142.0  \n",
       "12    85826548.0    98953541.0  \n",
       "13    78835048.0    26068792.0  \n",
       "14    35716069.0    46010234.0  \n",
       "15    21107399.0    17211447.0  \n",
       "16    54095556.0    86022837.0  \n",
       "17    18393211.0   131562772.0  \n",
       "18   108656989.0   279134505.0  \n",
       "19    25998416.0    23888595.0  \n",
       "20    36572720.0    51512762.0  \n",
       "21    37335609.0    37739785.0  \n",
       "22    44988307.0    10140570.0  \n",
       "23    19521252.0    43192122.0  \n",
       "24   197543761.0     9066710.0  \n",
       "25    94139966.0    10316637.0  \n",
       "26    64604259.0    33181072.0  \n",
       "27          <NA>    25990679.0  \n",
       "28    17270775.0    70078203.0  \n",
       "29    41373364.0     9326000.0  \n",
       "30    45128974.0    19250195.0  \n",
       "31    35555508.0    11668278.0  \n",
       "32    64928884.0    38388419.0  \n",
       "33    35126382.0    33684208.0  \n",
       "34    56212735.0    10736784.0  \n",
       "35    22318542.0     8773637.0  \n",
       "36    26174429.0    60756135.0  \n",
       "37    32796350.0   112508994.0  \n",
       "38    25094131.0    19031335.0  \n",
       "39   128397719.0     5834950.0  "
      ]
     },
     "execution_count": 22,
     "metadata": {},
     "output_type": "execute_result"
    }
   ],
   "source": [
    "df[df['TotalCases'] > upper_limit]"
   ]
  },
  {
   "cell_type": "code",
   "execution_count": 23,
   "id": "b181b6aa",
   "metadata": {
    "execution": {
     "iopub.execute_input": "2024-07-02T15:45:07.278087Z",
     "iopub.status.busy": "2024-07-02T15:45:07.277695Z",
     "iopub.status.idle": "2024-07-02T15:45:07.289524Z",
     "shell.execute_reply": "2024-07-02T15:45:07.288517Z"
    },
    "papermill": {
     "duration": 0.027736,
     "end_time": "2024-07-02T15:45:07.291652",
     "exception": false,
     "start_time": "2024-07-02T15:45:07.263916",
     "status": "completed"
    },
    "tags": []
   },
   "outputs": [
    {
     "data": {
      "text/html": [
       "<div>\n",
       "<style scoped>\n",
       "    .dataframe tbody tr th:only-of-type {\n",
       "        vertical-align: middle;\n",
       "    }\n",
       "\n",
       "    .dataframe tbody tr th {\n",
       "        vertical-align: top;\n",
       "    }\n",
       "\n",
       "    .dataframe thead th {\n",
       "        text-align: right;\n",
       "    }\n",
       "</style>\n",
       "<table border=\"1\" class=\"dataframe\">\n",
       "  <thead>\n",
       "    <tr style=\"text-align: right;\">\n",
       "      <th></th>\n",
       "      <th>#</th>\n",
       "      <th>TotalCases</th>\n",
       "      <th>TotalDeaths</th>\n",
       "      <th>TotalRecovered</th>\n",
       "      <th>ActiveCases</th>\n",
       "      <th>SeriousCritical</th>\n",
       "      <th>TotalTests</th>\n",
       "      <th>Population</th>\n",
       "    </tr>\n",
       "  </thead>\n",
       "  <tbody>\n",
       "  </tbody>\n",
       "</table>\n",
       "</div>"
      ],
      "text/plain": [
       "Empty DataFrame\n",
       "Columns: [#, TotalCases, TotalDeaths, TotalRecovered, ActiveCases, SeriousCritical, TotalTests, Population]\n",
       "Index: []"
      ]
     },
     "execution_count": 23,
     "metadata": {},
     "output_type": "execute_result"
    }
   ],
   "source": [
    "df[df['TotalCases'] < lower_limit]"
   ]
  },
  {
   "cell_type": "markdown",
   "id": "244d42aa",
   "metadata": {
    "papermill": {
     "duration": 0.013128,
     "end_time": "2024-07-02T15:45:07.317943",
     "exception": false,
     "start_time": "2024-07-02T15:45:07.304815",
     "status": "completed"
    },
    "tags": []
   },
   "source": [
    "## Cappingg to TotalCases"
   ]
  },
  {
   "cell_type": "code",
   "execution_count": 24,
   "id": "bda0bb0f",
   "metadata": {
    "execution": {
     "iopub.execute_input": "2024-07-02T15:45:07.345688Z",
     "iopub.status.busy": "2024-07-02T15:45:07.345317Z",
     "iopub.status.idle": "2024-07-02T15:45:07.352834Z",
     "shell.execute_reply": "2024-07-02T15:45:07.351786Z"
    },
    "papermill": {
     "duration": 0.024216,
     "end_time": "2024-07-02T15:45:07.355216",
     "exception": false,
     "start_time": "2024-07-02T15:45:07.331000",
     "status": "completed"
    },
    "tags": []
   },
   "outputs": [],
   "source": [
    "new_df_cap = df.copy()\n",
    "\n",
    "new_df_cap['TotalCases'] = np.where(\n",
    "    new_df_cap['TotalCases'] > upper_limit,\n",
    "    upper_limit,\n",
    "    np.where(\n",
    "        new_df_cap['TotalCases'] < lower_limit,\n",
    "        lower_limit,\n",
    "        new_df_cap['TotalCases']\n",
    "    )\n",
    ")"
   ]
  },
  {
   "cell_type": "code",
   "execution_count": 25,
   "id": "3e0f8519",
   "metadata": {
    "execution": {
     "iopub.execute_input": "2024-07-02T15:45:07.383503Z",
     "iopub.status.busy": "2024-07-02T15:45:07.382622Z",
     "iopub.status.idle": "2024-07-02T15:45:07.389050Z",
     "shell.execute_reply": "2024-07-02T15:45:07.387953Z"
    },
    "papermill": {
     "duration": 0.023072,
     "end_time": "2024-07-02T15:45:07.391401",
     "exception": false,
     "start_time": "2024-07-02T15:45:07.368329",
     "status": "completed"
    },
    "tags": []
   },
   "outputs": [
    {
     "data": {
      "text/plain": [
       "(230, 8)"
      ]
     },
     "execution_count": 25,
     "metadata": {},
     "output_type": "execute_result"
    }
   ],
   "source": [
    "new_df_cap.shape"
   ]
  },
  {
   "cell_type": "markdown",
   "id": "c88f02dd",
   "metadata": {
    "papermill": {
     "duration": 0.012563,
     "end_time": "2024-07-02T15:45:07.416896",
     "exception": false,
     "start_time": "2024-07-02T15:45:07.404333",
     "status": "completed"
    },
    "tags": []
   },
   "source": [
    "## Comparing before and after capping"
   ]
  },
  {
   "cell_type": "code",
   "execution_count": 26,
   "id": "2c4b8222",
   "metadata": {
    "execution": {
     "iopub.execute_input": "2024-07-02T15:45:07.445048Z",
     "iopub.status.busy": "2024-07-02T15:45:07.443994Z",
     "iopub.status.idle": "2024-07-02T15:45:08.656820Z",
     "shell.execute_reply": "2024-07-02T15:45:08.655800Z"
    },
    "papermill": {
     "duration": 1.229822,
     "end_time": "2024-07-02T15:45:08.659524",
     "exception": false,
     "start_time": "2024-07-02T15:45:07.429702",
     "status": "completed"
    },
    "tags": []
   },
   "outputs": [
    {
     "name": "stderr",
     "output_type": "stream",
     "text": [
      "/opt/conda/lib/python3.10/site-packages/seaborn/_oldcore.py:1119: FutureWarning: use_inf_as_na option is deprecated and will be removed in a future version. Convert inf values to NaN before operating instead.\n",
      "  with pd.option_context('mode.use_inf_as_na', True):\n",
      "/opt/conda/lib/python3.10/site-packages/seaborn/_oldcore.py:1119: FutureWarning: use_inf_as_na option is deprecated and will be removed in a future version. Convert inf values to NaN before operating instead.\n",
      "  with pd.option_context('mode.use_inf_as_na', True):\n"
     ]
    },
    {
     "data": {
      "image/png": "[encoded data removed]",
      "text/plain": [
       "<Figure size 1600x800 with 4 Axes>"
      ]
     },
     "metadata": {},
     "output_type": "display_data"
    }
   ],
   "source": [
    "plt.figure(figsize=(16,8))\n",
    "\n",
    "plt.subplot(2,2,1)\n",
    "sns.histplot(df['TotalCases'], kde=True, color='b')\n",
    "plt.title('Distribution of TotalCases')\n",
    "plt.xlabel('TotalCases')\n",
    "plt.ylabel('Density')\n",
    "\n",
    "\n",
    "#plt.subplot(2,2,1)\n",
    "#sns.distplot(df['TotalCases'])\n",
    "\n",
    "plt.subplot(2,2,2)\n",
    "sns.boxplot(df['TotalCases'], color='b')\n",
    "plt.title('Distribution of TotalCases')\n",
    "plt.xlabel('TotalCases')\n",
    "plt.ylabel('Density')\n",
    "\n",
    "\n",
    "plt.subplot(2,2,3)\n",
    "sns.histplot(new_df_cap['TotalCases'], kde=True, color='b')\n",
    "plt.title('Distribution of TotalCases')\n",
    "plt.xlabel('TotalCases')\n",
    "plt.ylabel('Density')\n",
    "\n",
    "plt.subplot(2,2,4)\n",
    "sns.boxplot(new_df_cap['TotalCases'], color='b')\n",
    "plt.title('Distribution of TotalCases')\n",
    "plt.xlabel('TotalCases')\n",
    "plt.ylabel('Density')\n",
    "\n",
    "\n",
    "plt.show()"
   ]
  },
  {
   "cell_type": "code",
   "execution_count": 27,
   "id": "a4ab106c",
   "metadata": {
    "execution": {
     "iopub.execute_input": "2024-07-02T15:45:08.689612Z",
     "iopub.status.busy": "2024-07-02T15:45:08.689228Z",
     "iopub.status.idle": "2024-07-02T15:45:08.694518Z",
     "shell.execute_reply": "2024-07-02T15:45:08.693452Z"
    },
    "papermill": {
     "duration": 0.023278,
     "end_time": "2024-07-02T15:45:08.696879",
     "exception": false,
     "start_time": "2024-07-02T15:45:08.673601",
     "status": "completed"
    },
    "tags": []
   },
   "outputs": [],
   "source": [
    "df= new_df_cap"
   ]
  },
  {
   "cell_type": "markdown",
   "id": "d5abafde",
   "metadata": {
    "papermill": {
     "duration": 0.013859,
     "end_time": "2024-07-02T15:45:08.724879",
     "exception": false,
     "start_time": "2024-07-02T15:45:08.711020",
     "status": "completed"
    },
    "tags": []
   },
   "source": [
    "## TotalDeaths"
   ]
  },
  {
   "cell_type": "code",
   "execution_count": 28,
   "id": "8adedba3",
   "metadata": {
    "execution": {
     "iopub.execute_input": "2024-07-02T15:45:08.754413Z",
     "iopub.status.busy": "2024-07-02T15:45:08.754027Z",
     "iopub.status.idle": "2024-07-02T15:45:09.416949Z",
     "shell.execute_reply": "2024-07-02T15:45:09.415552Z"
    },
    "papermill": {
     "duration": 0.680754,
     "end_time": "2024-07-02T15:45:09.419511",
     "exception": false,
     "start_time": "2024-07-02T15:45:08.738757",
     "status": "completed"
    },
    "tags": []
   },
   "outputs": [
    {
     "name": "stderr",
     "output_type": "stream",
     "text": [
      "/opt/conda/lib/python3.10/site-packages/seaborn/_oldcore.py:1119: FutureWarning: use_inf_as_na option is deprecated and will be removed in a future version. Convert inf values to NaN before operating instead.\n",
      "  with pd.option_context('mode.use_inf_as_na', True):\n"
     ]
    },
    {
     "data": {
      "image/png": "[encoded data removed]",
      "text/plain": [
       "<Figure size 1600x800 with 2 Axes>"
      ]
     },
     "metadata": {},
     "output_type": "display_data"
    }
   ],
   "source": [
    "plt.figure(figsize=(16,8))\n",
    "\n",
    "plt.subplot(2,2,3)\n",
    "sns.histplot(df['TotalDeaths'])\n",
    "plt.subplot(2,2,4)\n",
    "sns.boxplot(df['TotalDeaths'])\n",
    "\n",
    "\n",
    "plt.show()"
   ]
  },
  {
   "cell_type": "markdown",
   "id": "6345356f",
   "metadata": {
    "papermill": {
     "duration": 0.017041,
     "end_time": "2024-07-02T15:45:09.454454",
     "exception": false,
     "start_time": "2024-07-02T15:45:09.437413",
     "status": "completed"
    },
    "tags": []
   },
   "source": [
    "## Finding the IQR for TotalDeath"
   ]
  },
  {
   "cell_type": "code",
   "execution_count": 29,
   "id": "25632fd4",
   "metadata": {
    "execution": {
     "iopub.execute_input": "2024-07-02T15:45:09.485277Z",
     "iopub.status.busy": "2024-07-02T15:45:09.484875Z",
     "iopub.status.idle": "2024-07-02T15:45:09.494262Z",
     "shell.execute_reply": "2024-07-02T15:45:09.493263Z"
    },
    "papermill": {
     "duration": 0.027873,
     "end_time": "2024-07-02T15:45:09.496888",
     "exception": false,
     "start_time": "2024-07-02T15:45:09.469015",
     "status": "completed"
    },
    "tags": []
   },
   "outputs": [
    {
     "name": "stdout",
     "output_type": "stream",
     "text": [
      "percentile75: 14122.0\n",
      "iqr: 13920.0\n",
      "Upper limit: 35002.0\n",
      "Lower limit: -20678.0\n"
     ]
    }
   ],
   "source": [
    "percentile25 = df['TotalDeaths'].quantile(0.25)\n",
    "percentile75 = df['TotalDeaths'].quantile(0.75)\n",
    "print(\"percentile75:\",percentile75)\n",
    "iqr = percentile75 - percentile25\n",
    "print(\"iqr:\",iqr)\n",
    "upper_limit = percentile75 + 1.5 * iqr\n",
    "lower_limit = percentile25 - 1.5 * iqr\n",
    "print(\"Upper limit:\",upper_limit)\n",
    "print(\"Lower limit:\",lower_limit)"
   ]
  },
  {
   "cell_type": "markdown",
   "id": "c8430d28",
   "metadata": {
    "papermill": {
     "duration": 0.014997,
     "end_time": "2024-07-02T15:45:09.526684",
     "exception": false,
     "start_time": "2024-07-02T15:45:09.511687",
     "status": "completed"
    },
    "tags": []
   },
   "source": [
    "## Cappingg to TotalDeath"
   ]
  },
  {
   "cell_type": "code",
   "execution_count": 30,
   "id": "18006262",
   "metadata": {
    "execution": {
     "iopub.execute_input": "2024-07-02T15:45:09.566620Z",
     "iopub.status.busy": "2024-07-02T15:45:09.565823Z",
     "iopub.status.idle": "2024-07-02T15:45:09.573974Z",
     "shell.execute_reply": "2024-07-02T15:45:09.572887Z"
    },
    "papermill": {
     "duration": 0.028588,
     "end_time": "2024-07-02T15:45:09.576638",
     "exception": false,
     "start_time": "2024-07-02T15:45:09.548050",
     "status": "completed"
    },
    "tags": []
   },
   "outputs": [],
   "source": [
    "new_df_cap = df.copy()\n",
    "new_df_cap.fillna({'TotalDeaths': -9999}, inplace=True) \n",
    "new_df_cap['TotalDeaths'] = np.where(\n",
    "    new_df_cap['TotalDeaths'] > upper_limit,  \n",
    "    upper_limit,  \n",
    "    np.where(\n",
    "        new_df_cap['TotalDeaths'] < lower_limit,  \n",
    "        lower_limit,  \n",
    "        new_df_cap['TotalDeaths']  \n",
    "    )\n",
    ")"
   ]
  },
  {
   "cell_type": "markdown",
   "id": "9edace3c",
   "metadata": {
    "execution": {
     "iopub.execute_input": "2024-07-02T05:49:31.153305Z",
     "iopub.status.busy": "2024-07-02T05:49:31.152556Z",
     "iopub.status.idle": "2024-07-02T05:49:31.157873Z",
     "shell.execute_reply": "2024-07-02T05:49:31.156715Z",
     "shell.execute_reply.started": "2024-07-02T05:49:31.153266Z"
    },
    "papermill": {
     "duration": 0.016548,
     "end_time": "2024-07-02T15:45:09.613438",
     "exception": false,
     "start_time": "2024-07-02T15:45:09.596890",
     "status": "completed"
    },
    "tags": []
   },
   "source": [
    "## Comparing before and after capping"
   ]
  },
  {
   "cell_type": "code",
   "execution_count": 31,
   "id": "69fa6055",
   "metadata": {
    "execution": {
     "iopub.execute_input": "2024-07-02T15:45:09.644478Z",
     "iopub.status.busy": "2024-07-02T15:45:09.643441Z",
     "iopub.status.idle": "2024-07-02T15:45:10.877708Z",
     "shell.execute_reply": "2024-07-02T15:45:10.876635Z"
    },
    "papermill": {
     "duration": 1.252103,
     "end_time": "2024-07-02T15:45:10.879859",
     "exception": false,
     "start_time": "2024-07-02T15:45:09.627756",
     "status": "completed"
    },
    "tags": []
   },
   "outputs": [
    {
     "name": "stderr",
     "output_type": "stream",
     "text": [
      "/opt/conda/lib/python3.10/site-packages/seaborn/_oldcore.py:1119: FutureWarning: use_inf_as_na option is deprecated and will be removed in a future version. Convert inf values to NaN before operating instead.\n",
      "  with pd.option_context('mode.use_inf_as_na', True):\n",
      "/opt/conda/lib/python3.10/site-packages/seaborn/_oldcore.py:1119: FutureWarning: use_inf_as_na option is deprecated and will be removed in a future version. Convert inf values to NaN before operating instead.\n",
      "  with pd.option_context('mode.use_inf_as_na', True):\n"
     ]
    },
    {
     "data": {
      "image/png": "[encoded data removed]",
      "text/plain": [
       "<Figure size 1600x800 with 4 Axes>"
      ]
     },
     "metadata": {},
     "output_type": "display_data"
    }
   ],
   "source": [
    "plt.figure(figsize=(16,8))\n",
    "\n",
    "plt.subplot(2,2,1)\n",
    "sns.histplot(df['TotalDeaths'], kde=True, color='b')\n",
    "plt.title('Distribution of TotalCases')\n",
    "plt.xlabel('TotalCases')\n",
    "plt.ylabel('Density')\n",
    "\n",
    "\n",
    "#plt.subplot(2,2,1)\n",
    "#sns.distplot(df['TotalCases'])\n",
    "\n",
    "plt.subplot(2,2,2)\n",
    "sns.boxplot(df['TotalDeaths'], color='b')\n",
    "plt.title('Distribution of TotalCases')\n",
    "plt.xlabel('TotalCases')\n",
    "plt.ylabel('Density')\n",
    "\n",
    "\n",
    "plt.subplot(2,2,3)\n",
    "sns.histplot(new_df_cap['TotalDeaths'], kde=True, color='b')\n",
    "plt.title('Distribution of TotalCases')\n",
    "plt.xlabel('TotalCases')\n",
    "plt.ylabel('Density')\n",
    "\n",
    "plt.subplot(2,2,4)\n",
    "sns.boxplot(new_df_cap['TotalDeaths'], color='b')\n",
    "plt.title('Distribution of TotalCases')\n",
    "plt.xlabel('TotalCases')\n",
    "plt.ylabel('Density')\n",
    "\n",
    "\n",
    "plt.show()"
   ]
  },
  {
   "cell_type": "code",
   "execution_count": null,
   "id": "d0b97bee",
   "metadata": {
    "papermill": {
     "duration": 0.015477,
     "end_time": "2024-07-02T15:45:10.911515",
     "exception": false,
     "start_time": "2024-07-02T15:45:10.896038",
     "status": "completed"
    },
    "tags": []
   },
   "outputs": [],
   "source": []
  }
 ],
 "metadata": {
  "kaggle": {
   "accelerator": "none",
   "dataSources": [
    {
     "datasetId": 3740167,
     "sourceId": 6474658,
     "sourceType": "datasetVersion"
    }
   ],
   "dockerImageVersionId": 30732,
   "isGpuEnabled": false,
   "isInternetEnabled": true,
   "language": "python",
   "sourceType": "notebook"
  },
  "kernelspec": {
   "display_name": "Python 3",
   "language": "python",
   "name": "python3"
  },
  "language_info": {
   "codemirror_mode": {
    "name": "ipython",
    "version": 3
   },
   "file_extension": ".py",
   "mimetype": "text/x-python",
   "name": "python",
   "nbconvert_exporter": "python",
   "pygments_lexer": "ipython3",
   "version": "3.10.13"
  },
  "papermill": {
   "default_parameters": {},
   "duration": 11.045102,
   "end_time": "2024-07-02T15:45:11.649163",
   "environment_variables": {},
   "exception": null,
   "input_path": "__notebook__.ipynb",
   "output_path": "__notebook__.ipynb",
   "parameters": {},
   "start_time": "2024-07-02T15:45:00.604061",
   "version": "2.5.0"
  }
 },
 "nbformat": 4,
 "nbformat_minor": 5
}
