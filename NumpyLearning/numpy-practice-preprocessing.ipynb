{
 "cells": [
  {
   "cell_type": "code",
   "execution_count": 1,
   "id": "32af08f9",
   "metadata": {
    "_cell_guid": "b1076dfc-b9ad-4769-8c92-a6c4dae69d19",
    "_uuid": "8f2839f25d086af736a60e9eeb907d3b93b6e0e5",
    "execution": {
     "iopub.execute_input": "2024-05-08T20:00:35.192392Z",
     "iopub.status.busy": "2024-05-08T20:00:35.189742Z",
     "iopub.status.idle": "2024-05-08T20:00:35.207168Z",
     "shell.execute_reply": "2024-05-08T20:00:35.205962Z"
    },
    "papermill": {
     "duration": 0.075644,
     "end_time": "2024-05-08T20:00:35.211311",
     "exception": false,
     "start_time": "2024-05-08T20:00:35.135667",
     "status": "completed"
    },
    "tags": []
   },
   "outputs": [],
   "source": [
    "import numpy as np "
   ]
  },
  {
   "cell_type": "markdown",
   "id": "5244a534",
   "metadata": {
    "papermill": {
     "duration": 0.053679,
     "end_time": "2024-05-08T20:00:35.319018",
     "exception": false,
     "start_time": "2024-05-08T20:00:35.265339",
     "status": "completed"
    },
    "tags": []
   },
   "source": [
    "# Creating Arrays"
   ]
  },
  {
   "cell_type": "markdown",
   "id": "3814464b",
   "metadata": {
    "papermill": {
     "duration": 0.050937,
     "end_time": "2024-05-08T20:00:35.421606",
     "exception": false,
     "start_time": "2024-05-08T20:00:35.370669",
     "status": "completed"
    },
    "tags": []
   },
   "source": [
    "#### 1D array"
   ]
  },
  {
   "cell_type": "code",
   "execution_count": 2,
   "id": "758cf94f",
   "metadata": {
    "execution": {
     "iopub.execute_input": "2024-05-08T20:00:35.525511Z",
     "iopub.status.busy": "2024-05-08T20:00:35.524937Z",
     "iopub.status.idle": "2024-05-08T20:00:35.536977Z",
     "shell.execute_reply": "2024-05-08T20:00:35.535997Z"
    },
    "papermill": {
     "duration": 0.066002,
     "end_time": "2024-05-08T20:00:35.540055",
     "exception": false,
     "start_time": "2024-05-08T20:00:35.474053",
     "status": "completed"
    },
    "tags": []
   },
   "outputs": [
    {
     "data": {
      "text/plain": [
       "array([1, 2, 3])"
      ]
     },
     "execution_count": 2,
     "metadata": {},
     "output_type": "execute_result"
    }
   ],
   "source": [
    "np.array([1,2,3])"
   ]
  },
  {
   "cell_type": "markdown",
   "id": "a1bfa076",
   "metadata": {
    "papermill": {
     "duration": 0.05523,
     "end_time": "2024-05-08T20:00:35.649476",
     "exception": false,
     "start_time": "2024-05-08T20:00:35.594246",
     "status": "completed"
    },
    "tags": []
   },
   "source": [
    "#### 2D array"
   ]
  },
  {
   "cell_type": "code",
   "execution_count": 3,
   "id": "d2657661",
   "metadata": {
    "execution": {
     "iopub.execute_input": "2024-05-08T20:00:35.751056Z",
     "iopub.status.busy": "2024-05-08T20:00:35.750296Z",
     "iopub.status.idle": "2024-05-08T20:00:35.758596Z",
     "shell.execute_reply": "2024-05-08T20:00:35.757434Z"
    },
    "papermill": {
     "duration": 0.061739,
     "end_time": "2024-05-08T20:00:35.761290",
     "exception": false,
     "start_time": "2024-05-08T20:00:35.699551",
     "status": "completed"
    },
    "tags": []
   },
   "outputs": [
    {
     "data": {
      "text/plain": [
       "array([[1, 2, 3],\n",
       "       [4, 5, 6]])"
      ]
     },
     "execution_count": 3,
     "metadata": {},
     "output_type": "execute_result"
    }
   ],
   "source": [
    "np.array([(1,2,3), (4,5,6)])"
   ]
  },
  {
   "cell_type": "markdown",
   "id": "13e99759",
   "metadata": {
    "papermill": {
     "duration": 0.048613,
     "end_time": "2024-05-08T20:00:35.930692",
     "exception": false,
     "start_time": "2024-05-08T20:00:35.882079",
     "status": "completed"
    },
    "tags": []
   },
   "source": [
    "#### 1D array of length 2 having 0s."
   ]
  },
  {
   "cell_type": "code",
   "execution_count": 4,
   "id": "c8dc4869",
   "metadata": {
    "execution": {
     "iopub.execute_input": "2024-05-08T20:00:36.034459Z",
     "iopub.status.busy": "2024-05-08T20:00:36.033536Z",
     "iopub.status.idle": "2024-05-08T20:00:36.042919Z",
     "shell.execute_reply": "2024-05-08T20:00:36.041462Z"
    },
    "papermill": {
     "duration": 0.06653,
     "end_time": "2024-05-08T20:00:36.046395",
     "exception": false,
     "start_time": "2024-05-08T20:00:35.979865",
     "status": "completed"
    },
    "tags": []
   },
   "outputs": [
    {
     "data": {
      "text/plain": [
       "array([0., 0.])"
      ]
     },
     "execution_count": 4,
     "metadata": {},
     "output_type": "execute_result"
    }
   ],
   "source": [
    "np.zeros(2)"
   ]
  },
  {
   "cell_type": "markdown",
   "id": "d0d2cfa7",
   "metadata": {
    "papermill": {
     "duration": 0.048753,
     "end_time": "2024-05-08T20:00:36.150879",
     "exception": false,
     "start_time": "2024-05-08T20:00:36.102126",
     "status": "completed"
    },
    "tags": []
   },
   "source": [
    "#### 2D array of length 2*3 having 0s."
   ]
  },
  {
   "cell_type": "code",
   "execution_count": 5,
   "id": "1ee6710a",
   "metadata": {
    "execution": {
     "iopub.execute_input": "2024-05-08T20:00:36.250681Z",
     "iopub.status.busy": "2024-05-08T20:00:36.249832Z",
     "iopub.status.idle": "2024-05-08T20:00:36.257746Z",
     "shell.execute_reply": "2024-05-08T20:00:36.256531Z"
    },
    "papermill": {
     "duration": 0.059681,
     "end_time": "2024-05-08T20:00:36.260253",
     "exception": false,
     "start_time": "2024-05-08T20:00:36.200572",
     "status": "completed"
    },
    "tags": []
   },
   "outputs": [
    {
     "data": {
      "text/plain": [
       "array([[0., 0., 0.],\n",
       "       [0., 0., 0.]])"
      ]
     },
     "execution_count": 5,
     "metadata": {},
     "output_type": "execute_result"
    }
   ],
   "source": [
    "np.zeros((2,3))"
   ]
  },
  {
   "cell_type": "markdown",
   "id": "e50e89f4",
   "metadata": {
    "papermill": {
     "duration": 0.049282,
     "end_time": "2024-05-08T20:00:36.363214",
     "exception": false,
     "start_time": "2024-05-08T20:00:36.313932",
     "status": "completed"
    },
    "tags": []
   },
   "source": [
    "#### 1D array of length 2 having 1s."
   ]
  },
  {
   "cell_type": "code",
   "execution_count": 6,
   "id": "5a322787",
   "metadata": {
    "execution": {
     "iopub.execute_input": "2024-05-08T20:00:36.465173Z",
     "iopub.status.busy": "2024-05-08T20:00:36.464347Z",
     "iopub.status.idle": "2024-05-08T20:00:36.472665Z",
     "shell.execute_reply": "2024-05-08T20:00:36.471380Z"
    },
    "papermill": {
     "duration": 0.061813,
     "end_time": "2024-05-08T20:00:36.475328",
     "exception": false,
     "start_time": "2024-05-08T20:00:36.413515",
     "status": "completed"
    },
    "tags": []
   },
   "outputs": [
    {
     "data": {
      "text/plain": [
       "array([1., 1.])"
      ]
     },
     "execution_count": 6,
     "metadata": {},
     "output_type": "execute_result"
    }
   ],
   "source": [
    "np.ones(2)"
   ]
  },
  {
   "cell_type": "markdown",
   "id": "97db28ad",
   "metadata": {
    "papermill": {
     "duration": 0.050148,
     "end_time": "2024-05-08T20:00:36.576907",
     "exception": false,
     "start_time": "2024-05-08T20:00:36.526759",
     "status": "completed"
    },
    "tags": []
   },
   "source": [
    "#### 2D array of length 2*3 having 1s."
   ]
  },
  {
   "cell_type": "code",
   "execution_count": 7,
   "id": "5ed2bd55",
   "metadata": {
    "execution": {
     "iopub.execute_input": "2024-05-08T20:00:36.681139Z",
     "iopub.status.busy": "2024-05-08T20:00:36.680490Z",
     "iopub.status.idle": "2024-05-08T20:00:36.688102Z",
     "shell.execute_reply": "2024-05-08T20:00:36.686921Z"
    },
    "papermill": {
     "duration": 0.062954,
     "end_time": "2024-05-08T20:00:36.690979",
     "exception": false,
     "start_time": "2024-05-08T20:00:36.628025",
     "status": "completed"
    },
    "tags": []
   },
   "outputs": [
    {
     "data": {
      "text/plain": [
       "array([[1., 1., 1.],\n",
       "       [1., 1., 1.]])"
      ]
     },
     "execution_count": 7,
     "metadata": {},
     "output_type": "execute_result"
    }
   ],
   "source": [
    "np.ones((2,3))"
   ]
  },
  {
   "cell_type": "markdown",
   "id": "7894cf9b",
   "metadata": {
    "papermill": {
     "duration": 0.047918,
     "end_time": "2024-05-08T20:00:36.788358",
     "exception": false,
     "start_time": "2024-05-08T20:00:36.740440",
     "status": "completed"
    },
    "tags": []
   },
   "source": [
    "#### Identical matrix"
   ]
  },
  {
   "cell_type": "code",
   "execution_count": 8,
   "id": "e387e6fa",
   "metadata": {
    "execution": {
     "iopub.execute_input": "2024-05-08T20:00:36.887240Z",
     "iopub.status.busy": "2024-05-08T20:00:36.886391Z",
     "iopub.status.idle": "2024-05-08T20:00:36.895050Z",
     "shell.execute_reply": "2024-05-08T20:00:36.893677Z"
    },
    "papermill": {
     "duration": 0.061546,
     "end_time": "2024-05-08T20:00:36.898122",
     "exception": false,
     "start_time": "2024-05-08T20:00:36.836576",
     "status": "completed"
    },
    "tags": []
   },
   "outputs": [
    {
     "data": {
      "text/plain": [
       "array([[1., 0., 0., 0., 0.],\n",
       "       [0., 1., 0., 0., 0.],\n",
       "       [0., 0., 1., 0., 0.],\n",
       "       [0., 0., 0., 1., 0.],\n",
       "       [0., 0., 0., 0., 1.]])"
      ]
     },
     "execution_count": 8,
     "metadata": {},
     "output_type": "execute_result"
    }
   ],
   "source": [
    "np.eye(5)"
   ]
  },
  {
   "cell_type": "markdown",
   "id": "eb065183",
   "metadata": {
    "papermill": {
     "duration": 0.047581,
     "end_time": "2024-05-08T20:00:36.997848",
     "exception": false,
     "start_time": "2024-05-08T20:00:36.950267",
     "status": "completed"
    },
    "tags": []
   },
   "source": [
    "#### Array of 6 evenly divided values from 0 to 100"
   ]
  },
  {
   "cell_type": "code",
   "execution_count": 9,
   "id": "397271fd",
   "metadata": {
    "execution": {
     "iopub.execute_input": "2024-05-08T20:00:37.101508Z",
     "iopub.status.busy": "2024-05-08T20:00:37.101056Z",
     "iopub.status.idle": "2024-05-08T20:00:37.109010Z",
     "shell.execute_reply": "2024-05-08T20:00:37.107586Z"
    },
    "papermill": {
     "duration": 0.06347,
     "end_time": "2024-05-08T20:00:37.111860",
     "exception": false,
     "start_time": "2024-05-08T20:00:37.048390",
     "status": "completed"
    },
    "tags": []
   },
   "outputs": [
    {
     "data": {
      "text/plain": [
       "array([  1. ,  20.8,  40.6,  60.4,  80.2, 100. ])"
      ]
     },
     "execution_count": 9,
     "metadata": {},
     "output_type": "execute_result"
    }
   ],
   "source": [
    "np.linspace(1, 100, 6)"
   ]
  },
  {
   "cell_type": "markdown",
   "id": "ad46c8b5",
   "metadata": {
    "papermill": {
     "duration": 0.050632,
     "end_time": "2024-05-08T20:00:37.211724",
     "exception": false,
     "start_time": "2024-05-08T20:00:37.161092",
     "status": "completed"
    },
    "tags": []
   },
   "source": [
    "#### Array of 5 evenly divided values from 0 to 5"
   ]
  },
  {
   "cell_type": "code",
   "execution_count": 10,
   "id": "ee822c79",
   "metadata": {
    "execution": {
     "iopub.execute_input": "2024-05-08T20:00:37.317530Z",
     "iopub.status.busy": "2024-05-08T20:00:37.317080Z",
     "iopub.status.idle": "2024-05-08T20:00:37.325876Z",
     "shell.execute_reply": "2024-05-08T20:00:37.324524Z"
    },
    "papermill": {
     "duration": 0.064539,
     "end_time": "2024-05-08T20:00:37.328590",
     "exception": false,
     "start_time": "2024-05-08T20:00:37.264051",
     "status": "completed"
    },
    "tags": []
   },
   "outputs": [
    {
     "data": {
      "text/plain": [
       "array([ 1.  , 13.25, 25.5 , 37.75, 50.  ])"
      ]
     },
     "execution_count": 10,
     "metadata": {},
     "output_type": "execute_result"
    }
   ],
   "source": [
    "np.linspace(1,50, 5)\n",
    "#exactly like 5 number theory "
   ]
  },
  {
   "cell_type": "markdown",
   "id": "4333a772",
   "metadata": {
    "papermill": {
     "duration": 0.052553,
     "end_time": "2024-05-08T20:00:37.435063",
     "exception": false,
     "start_time": "2024-05-08T20:00:37.382510",
     "status": "completed"
    },
    "tags": []
   },
   "source": [
    "#### Arrange \n",
    "\n",
    "> syntax:\n",
    "\n",
    "> np.arange(start, end, range to jump)\n",
    "- Array of values from 0 to less than 100 with step 10"
   ]
  },
  {
   "cell_type": "code",
   "execution_count": 11,
   "id": "6dbafb6b",
   "metadata": {
    "execution": {
     "iopub.execute_input": "2024-05-08T20:00:37.534699Z",
     "iopub.status.busy": "2024-05-08T20:00:37.533980Z",
     "iopub.status.idle": "2024-05-08T20:00:37.544555Z",
     "shell.execute_reply": "2024-05-08T20:00:37.542906Z"
    },
    "papermill": {
     "duration": 0.063522,
     "end_time": "2024-05-08T20:00:37.547513",
     "exception": false,
     "start_time": "2024-05-08T20:00:37.483991",
     "status": "completed"
    },
    "tags": []
   },
   "outputs": [
    {
     "data": {
      "text/plain": [
       "array([ 1, 11, 21, 31, 41, 51, 61, 71, 81, 91])"
      ]
     },
     "execution_count": 11,
     "metadata": {},
     "output_type": "execute_result"
    }
   ],
   "source": [
    "np.arange(1, 100, 10)"
   ]
  },
  {
   "cell_type": "markdown",
   "id": "20c7c3aa",
   "metadata": {
    "papermill": {
     "duration": 0.052379,
     "end_time": "2024-05-08T20:00:37.653225",
     "exception": false,
     "start_time": "2024-05-08T20:00:37.600846",
     "status": "completed"
    },
    "tags": []
   },
   "source": [
    "#### 2x3 array with all values 8"
   ]
  },
  {
   "cell_type": "code",
   "execution_count": 12,
   "id": "435f3a2d",
   "metadata": {
    "execution": {
     "iopub.execute_input": "2024-05-08T20:00:37.762556Z",
     "iopub.status.busy": "2024-05-08T20:00:37.762054Z",
     "iopub.status.idle": "2024-05-08T20:00:37.770986Z",
     "shell.execute_reply": "2024-05-08T20:00:37.769667Z"
    },
    "papermill": {
     "duration": 0.069042,
     "end_time": "2024-05-08T20:00:37.773736",
     "exception": false,
     "start_time": "2024-05-08T20:00:37.704694",
     "status": "completed"
    },
    "tags": []
   },
   "outputs": [
    {
     "data": {
      "text/plain": [
       "array([[8, 8, 8],\n",
       "       [8, 8, 8]])"
      ]
     },
     "execution_count": 12,
     "metadata": {},
     "output_type": "execute_result"
    }
   ],
   "source": [
    "np.full((2,3), 8)"
   ]
  },
  {
   "cell_type": "markdown",
   "id": "9d438c03",
   "metadata": {
    "papermill": {
     "duration": 0.051279,
     "end_time": "2024-05-08T20:00:37.875915",
     "exception": false,
     "start_time": "2024-05-08T20:00:37.824636",
     "status": "completed"
    },
    "tags": []
   },
   "source": [
    "#### Random flaoting values \n",
    "> 2*3 array of random floats between 0-100"
   ]
  },
  {
   "cell_type": "code",
   "execution_count": 13,
   "id": "00de4ff4",
   "metadata": {
    "execution": {
     "iopub.execute_input": "2024-05-08T20:00:37.980359Z",
     "iopub.status.busy": "2024-05-08T20:00:37.979916Z",
     "iopub.status.idle": "2024-05-08T20:00:37.988482Z",
     "shell.execute_reply": "2024-05-08T20:00:37.987066Z"
    },
    "papermill": {
     "duration": 0.06216,
     "end_time": "2024-05-08T20:00:37.991036",
     "exception": false,
     "start_time": "2024-05-08T20:00:37.928876",
     "status": "completed"
    },
    "tags": []
   },
   "outputs": [
    {
     "data": {
      "text/plain": [
       "array([[6.00785212, 9.36193217, 9.45855705],\n",
       "       [5.97681023, 0.62687359, 9.64385263]])"
      ]
     },
     "execution_count": 13,
     "metadata": {},
     "output_type": "execute_result"
    }
   ],
   "source": [
    "np.random.rand(2,3)*10"
   ]
  },
  {
   "cell_type": "markdown",
   "id": "30d2e9c4",
   "metadata": {
    "papermill": {
     "duration": 0.054618,
     "end_time": "2024-05-08T20:00:38.098790",
     "exception": false,
     "start_time": "2024-05-08T20:00:38.044172",
     "status": "completed"
    },
    "tags": []
   },
   "source": [
    "#### Random flaoting values \n",
    "> 2*3 array of random int val from 0 to given range"
   ]
  },
  {
   "cell_type": "code",
   "execution_count": 14,
   "id": "455c7e46",
   "metadata": {
    "execution": {
     "iopub.execute_input": "2024-05-08T20:00:38.204264Z",
     "iopub.status.busy": "2024-05-08T20:00:38.203837Z",
     "iopub.status.idle": "2024-05-08T20:00:38.215893Z",
     "shell.execute_reply": "2024-05-08T20:00:38.214206Z"
    },
    "papermill": {
     "duration": 0.069225,
     "end_time": "2024-05-08T20:00:38.219366",
     "exception": false,
     "start_time": "2024-05-08T20:00:38.150141",
     "status": "completed"
    },
    "tags": []
   },
   "outputs": [
    {
     "data": {
      "text/plain": [
       "array([[0, 4, 3],\n",
       "       [0, 2, 1]])"
      ]
     },
     "execution_count": 14,
     "metadata": {},
     "output_type": "execute_result"
    }
   ],
   "source": [
    "np.random.randint(5, size= (2,3))"
   ]
  },
  {
   "cell_type": "markdown",
   "id": "b02899d3",
   "metadata": {
    "papermill": {
     "duration": 0.053954,
     "end_time": "2024-05-08T20:00:38.326175",
     "exception": false,
     "start_time": "2024-05-08T20:00:38.272221",
     "status": "completed"
    },
    "tags": []
   },
   "source": [
    "# Inspecting Properties "
   ]
  },
  {
   "cell_type": "code",
   "execution_count": 15,
   "id": "1bee7be4",
   "metadata": {
    "execution": {
     "iopub.execute_input": "2024-05-08T20:00:38.430257Z",
     "iopub.status.busy": "2024-05-08T20:00:38.429510Z",
     "iopub.status.idle": "2024-05-08T20:00:38.435856Z",
     "shell.execute_reply": "2024-05-08T20:00:38.434371Z"
    },
    "papermill": {
     "duration": 0.061152,
     "end_time": "2024-05-08T20:00:38.438991",
     "exception": false,
     "start_time": "2024-05-08T20:00:38.377839",
     "status": "completed"
    },
    "tags": []
   },
   "outputs": [],
   "source": [
    "arr= np.random.rand(2,3)*10"
   ]
  },
  {
   "cell_type": "code",
   "execution_count": 16,
   "id": "916abf9b",
   "metadata": {
    "execution": {
     "iopub.execute_input": "2024-05-08T20:00:38.539487Z",
     "iopub.status.busy": "2024-05-08T20:00:38.539059Z",
     "iopub.status.idle": "2024-05-08T20:00:38.545719Z",
     "shell.execute_reply": "2024-05-08T20:00:38.544637Z"
    },
    "papermill": {
     "duration": 0.06041,
     "end_time": "2024-05-08T20:00:38.548253",
     "exception": false,
     "start_time": "2024-05-08T20:00:38.487843",
     "status": "completed"
    },
    "tags": []
   },
   "outputs": [
    {
     "data": {
      "text/plain": [
       "array([[6.81163136, 7.98830059, 0.89370917],\n",
       "       [3.32744691, 2.04141097, 3.91136214]])"
      ]
     },
     "execution_count": 16,
     "metadata": {},
     "output_type": "execute_result"
    }
   ],
   "source": [
    "arr"
   ]
  },
  {
   "cell_type": "markdown",
   "id": "dc711e0a",
   "metadata": {
    "papermill": {
     "duration": 0.052143,
     "end_time": "2024-05-08T20:00:38.654917",
     "exception": false,
     "start_time": "2024-05-08T20:00:38.602774",
     "status": "completed"
    },
    "tags": []
   },
   "source": [
    "####  Returns number of elements in arr"
   ]
  },
  {
   "cell_type": "code",
   "execution_count": 17,
   "id": "4260d1c5",
   "metadata": {
    "execution": {
     "iopub.execute_input": "2024-05-08T20:00:38.765833Z",
     "iopub.status.busy": "2024-05-08T20:00:38.765109Z",
     "iopub.status.idle": "2024-05-08T20:00:38.775544Z",
     "shell.execute_reply": "2024-05-08T20:00:38.773690Z"
    },
    "papermill": {
     "duration": 0.070777,
     "end_time": "2024-05-08T20:00:38.779008",
     "exception": false,
     "start_time": "2024-05-08T20:00:38.708231",
     "status": "completed"
    },
    "tags": []
   },
   "outputs": [
    {
     "data": {
      "text/plain": [
       "6"
      ]
     },
     "execution_count": 17,
     "metadata": {},
     "output_type": "execute_result"
    }
   ],
   "source": [
    "arr.size"
   ]
  },
  {
   "cell_type": "markdown",
   "id": "1bbaa946",
   "metadata": {
    "papermill": {
     "duration": 0.056404,
     "end_time": "2024-05-08T20:00:38.889152",
     "exception": false,
     "start_time": "2024-05-08T20:00:38.832748",
     "status": "completed"
    },
    "tags": []
   },
   "source": [
    "####  Returns dimensions of arr"
   ]
  },
  {
   "cell_type": "code",
   "execution_count": 18,
   "id": "e3f7bc11",
   "metadata": {
    "execution": {
     "iopub.execute_input": "2024-05-08T20:00:38.994858Z",
     "iopub.status.busy": "2024-05-08T20:00:38.994493Z",
     "iopub.status.idle": "2024-05-08T20:00:39.001856Z",
     "shell.execute_reply": "2024-05-08T20:00:39.000567Z"
    },
    "papermill": {
     "duration": 0.064436,
     "end_time": "2024-05-08T20:00:39.004266",
     "exception": false,
     "start_time": "2024-05-08T20:00:38.939830",
     "status": "completed"
    },
    "tags": []
   },
   "outputs": [
    {
     "data": {
      "text/plain": [
       "(2, 3)"
      ]
     },
     "execution_count": 18,
     "metadata": {},
     "output_type": "execute_result"
    }
   ],
   "source": [
    "arr.shape"
   ]
  },
  {
   "cell_type": "markdown",
   "id": "bfb52e1e",
   "metadata": {
    "papermill": {
     "duration": 0.050056,
     "end_time": "2024-05-08T20:00:39.104776",
     "exception": false,
     "start_time": "2024-05-08T20:00:39.054720",
     "status": "completed"
    },
    "tags": []
   },
   "source": [
    "#### Return type of ele of arr"
   ]
  },
  {
   "cell_type": "code",
   "execution_count": 19,
   "id": "a94f84e0",
   "metadata": {
    "execution": {
     "iopub.execute_input": "2024-05-08T20:00:39.208965Z",
     "iopub.status.busy": "2024-05-08T20:00:39.208572Z",
     "iopub.status.idle": "2024-05-08T20:00:39.215936Z",
     "shell.execute_reply": "2024-05-08T20:00:39.214628Z"
    },
    "papermill": {
     "duration": 0.061663,
     "end_time": "2024-05-08T20:00:39.218350",
     "exception": false,
     "start_time": "2024-05-08T20:00:39.156687",
     "status": "completed"
    },
    "tags": []
   },
   "outputs": [
    {
     "data": {
      "text/plain": [
       "dtype('float64')"
      ]
     },
     "execution_count": 19,
     "metadata": {},
     "output_type": "execute_result"
    }
   ],
   "source": [
    "arr.dtype"
   ]
  },
  {
   "cell_type": "markdown",
   "id": "de268bf9",
   "metadata": {
    "papermill": {
     "duration": 0.049105,
     "end_time": "2024-05-08T20:00:39.316869",
     "exception": false,
     "start_time": "2024-05-08T20:00:39.267764",
     "status": "completed"
    },
    "tags": []
   },
   "source": [
    "#### Convert arr elements to dtype"
   ]
  },
  {
   "cell_type": "code",
   "execution_count": 20,
   "id": "8300501b",
   "metadata": {
    "execution": {
     "iopub.execute_input": "2024-05-08T20:00:39.419796Z",
     "iopub.status.busy": "2024-05-08T20:00:39.419409Z",
     "iopub.status.idle": "2024-05-08T20:00:39.424556Z",
     "shell.execute_reply": "2024-05-08T20:00:39.423163Z"
    },
    "papermill": {
     "duration": 0.060182,
     "end_time": "2024-05-08T20:00:39.427029",
     "exception": false,
     "start_time": "2024-05-08T20:00:39.366847",
     "status": "completed"
    },
    "tags": []
   },
   "outputs": [],
   "source": [
    "arr= arr.astype('int64')"
   ]
  },
  {
   "cell_type": "code",
   "execution_count": 21,
   "id": "817db4d7",
   "metadata": {
    "execution": {
     "iopub.execute_input": "2024-05-08T20:00:39.544400Z",
     "iopub.status.busy": "2024-05-08T20:00:39.543746Z",
     "iopub.status.idle": "2024-05-08T20:00:39.552193Z",
     "shell.execute_reply": "2024-05-08T20:00:39.550807Z"
    },
    "papermill": {
     "duration": 0.076719,
     "end_time": "2024-05-08T20:00:39.555135",
     "exception": false,
     "start_time": "2024-05-08T20:00:39.478416",
     "status": "completed"
    },
    "tags": []
   },
   "outputs": [
    {
     "data": {
      "text/plain": [
       "array([[6, 7, 0],\n",
       "       [3, 2, 3]])"
      ]
     },
     "execution_count": 21,
     "metadata": {},
     "output_type": "execute_result"
    }
   ],
   "source": [
    "arr"
   ]
  },
  {
   "cell_type": "markdown",
   "id": "b83fd2db",
   "metadata": {
    "papermill": {
     "duration": 0.050369,
     "end_time": "2024-05-08T20:00:39.666227",
     "exception": false,
     "start_time": "2024-05-08T20:00:39.615858",
     "status": "completed"
    },
    "tags": []
   },
   "source": [
    "####  Convert arr to a Python list"
   ]
  },
  {
   "cell_type": "code",
   "execution_count": 22,
   "id": "f0a36710",
   "metadata": {
    "execution": {
     "iopub.execute_input": "2024-05-08T20:00:39.795097Z",
     "iopub.status.busy": "2024-05-08T20:00:39.793606Z",
     "iopub.status.idle": "2024-05-08T20:00:39.804341Z",
     "shell.execute_reply": "2024-05-08T20:00:39.803080Z"
    },
    "papermill": {
     "duration": 0.085752,
     "end_time": "2024-05-08T20:00:39.807412",
     "exception": false,
     "start_time": "2024-05-08T20:00:39.721660",
     "status": "completed"
    },
    "tags": []
   },
   "outputs": [
    {
     "data": {
      "text/plain": [
       "[[6, 7, 0], [3, 2, 3]]"
      ]
     },
     "execution_count": 22,
     "metadata": {},
     "output_type": "execute_result"
    }
   ],
   "source": [
    "arr.tolist()"
   ]
  },
  {
   "cell_type": "markdown",
   "id": "c5bfeef2",
   "metadata": {
    "papermill": {
     "duration": 0.053494,
     "end_time": "2024-05-08T20:00:39.917951",
     "exception": false,
     "start_time": "2024-05-08T20:00:39.864457",
     "status": "completed"
    },
    "tags": []
   },
   "source": [
    "#### View documentation for any method of np"
   ]
  },
  {
   "cell_type": "code",
   "execution_count": 23,
   "id": "391eac83",
   "metadata": {
    "execution": {
     "iopub.execute_input": "2024-05-08T20:00:40.044844Z",
     "iopub.status.busy": "2024-05-08T20:00:40.044337Z",
     "iopub.status.idle": "2024-05-08T20:00:40.051666Z",
     "shell.execute_reply": "2024-05-08T20:00:40.050346Z"
    },
    "papermill": {
     "duration": 0.068867,
     "end_time": "2024-05-08T20:00:40.054249",
     "exception": false,
     "start_time": "2024-05-08T20:00:39.985382",
     "status": "completed"
    },
    "tags": []
   },
   "outputs": [
    {
     "name": "stdout",
     "output_type": "stream",
     "text": [
      "Return the shape of an array.\n",
      "\n",
      "Parameters\n",
      "----------\n",
      "a : array_like\n",
      "    Input array.\n",
      "\n",
      "Returns\n",
      "-------\n",
      "shape : tuple of ints\n",
      "    The elements of the shape tuple give the lengths of the\n",
      "    corresponding array dimensions.\n",
      "\n",
      "See Also\n",
      "--------\n",
      "len : ``len(a)`` is equivalent to ``np.shape(a)[0]`` for N-D arrays with\n",
      "      ``N>=1``.\n",
      "ndarray.shape : Equivalent array method.\n",
      "\n",
      "Examples\n",
      "--------\n",
      ">>> np.shape(np.eye(3))\n",
      "(3, 3)\n",
      ">>> np.shape([[1, 3]])\n",
      "(1, 2)\n",
      ">>> np.shape([0])\n",
      "(1,)\n",
      ">>> np.shape(0)\n",
      "()\n",
      "\n",
      ">>> a = np.array([(1, 2), (3, 4), (5, 6)],\n",
      "...              dtype=[('x', 'i4'), ('y', 'i4')])\n",
      ">>> np.shape(a)\n",
      "(3,)\n",
      ">>> a.shape\n",
      "(3,)\n"
     ]
    }
   ],
   "source": [
    "np.info(np.shape)"
   ]
  },
  {
   "cell_type": "markdown",
   "id": "db9ce954",
   "metadata": {
    "papermill": {
     "duration": 0.049298,
     "end_time": "2024-05-08T20:00:40.158996",
     "exception": false,
     "start_time": "2024-05-08T20:00:40.109698",
     "status": "completed"
    },
    "tags": []
   },
   "source": [
    "# Copying/ Sorting/ Reshaping "
   ]
  },
  {
   "cell_type": "markdown",
   "id": "ef8758b4",
   "metadata": {
    "papermill": {
     "duration": 0.055817,
     "end_time": "2024-05-08T20:00:40.264778",
     "exception": false,
     "start_time": "2024-05-08T20:00:40.208961",
     "status": "completed"
    },
    "tags": []
   },
   "source": [
    "#### Copies arr to new memory"
   ]
  },
  {
   "cell_type": "code",
   "execution_count": 24,
   "id": "1639c1de",
   "metadata": {
    "execution": {
     "iopub.execute_input": "2024-05-08T20:00:40.369124Z",
     "iopub.status.busy": "2024-05-08T20:00:40.367991Z",
     "iopub.status.idle": "2024-05-08T20:00:40.374012Z",
     "shell.execute_reply": "2024-05-08T20:00:40.372846Z"
    },
    "papermill": {
     "duration": 0.061809,
     "end_time": "2024-05-08T20:00:40.376726",
     "exception": false,
     "start_time": "2024-05-08T20:00:40.314917",
     "status": "completed"
    },
    "tags": []
   },
   "outputs": [],
   "source": [
    "array = np.copy(arr)"
   ]
  },
  {
   "cell_type": "code",
   "execution_count": 25,
   "id": "ee27cfc6",
   "metadata": {
    "execution": {
     "iopub.execute_input": "2024-05-08T20:00:40.484503Z",
     "iopub.status.busy": "2024-05-08T20:00:40.483534Z",
     "iopub.status.idle": "2024-05-08T20:00:40.491722Z",
     "shell.execute_reply": "2024-05-08T20:00:40.490353Z"
    },
    "papermill": {
     "duration": 0.06498,
     "end_time": "2024-05-08T20:00:40.494565",
     "exception": false,
     "start_time": "2024-05-08T20:00:40.429585",
     "status": "completed"
    },
    "tags": []
   },
   "outputs": [
    {
     "data": {
      "text/plain": [
       "array([[6, 7, 0],\n",
       "       [3, 2, 3]])"
      ]
     },
     "execution_count": 25,
     "metadata": {},
     "output_type": "execute_result"
    }
   ],
   "source": [
    "array"
   ]
  },
  {
   "cell_type": "markdown",
   "id": "69c596cc",
   "metadata": {
    "papermill": {
     "duration": 0.053012,
     "end_time": "2024-05-08T20:00:40.598109",
     "exception": false,
     "start_time": "2024-05-08T20:00:40.545097",
     "status": "completed"
    },
    "tags": []
   },
   "source": [
    "#### Creates view of arr elements with dtype"
   ]
  },
  {
   "cell_type": "code",
   "execution_count": 26,
   "id": "8b968a8e",
   "metadata": {
    "execution": {
     "iopub.execute_input": "2024-05-08T20:00:40.709073Z",
     "iopub.status.busy": "2024-05-08T20:00:40.708567Z",
     "iopub.status.idle": "2024-05-08T20:00:40.717603Z",
     "shell.execute_reply": "2024-05-08T20:00:40.716374Z"
    },
    "papermill": {
     "duration": 0.070014,
     "end_time": "2024-05-08T20:00:40.720530",
     "exception": false,
     "start_time": "2024-05-08T20:00:40.650516",
     "status": "completed"
    },
    "tags": []
   },
   "outputs": [
    {
     "data": {
      "text/plain": [
       "array([[3.0e-323, 3.5e-323, 0.0e+000],\n",
       "       [1.5e-323, 9.9e-324, 1.5e-323]])"
      ]
     },
     "execution_count": 26,
     "metadata": {},
     "output_type": "execute_result"
    }
   ],
   "source": [
    "array.view('float64')"
   ]
  },
  {
   "cell_type": "code",
   "execution_count": 27,
   "id": "0011b0ee",
   "metadata": {
    "execution": {
     "iopub.execute_input": "2024-05-08T20:00:40.828656Z",
     "iopub.status.busy": "2024-05-08T20:00:40.827497Z",
     "iopub.status.idle": "2024-05-08T20:00:40.834642Z",
     "shell.execute_reply": "2024-05-08T20:00:40.833441Z"
    },
    "papermill": {
     "duration": 0.065212,
     "end_time": "2024-05-08T20:00:40.837474",
     "exception": false,
     "start_time": "2024-05-08T20:00:40.772262",
     "status": "completed"
    },
    "tags": []
   },
   "outputs": [
    {
     "name": "stdout",
     "output_type": "stream",
     "text": [
      "[[6 7 0]\n",
      " [3 2 3]]\n"
     ]
    }
   ],
   "source": [
    "print(array)"
   ]
  },
  {
   "cell_type": "markdown",
   "id": "a418c881",
   "metadata": {
    "papermill": {
     "duration": 0.056713,
     "end_time": "2024-05-08T20:00:40.947659",
     "exception": false,
     "start_time": "2024-05-08T20:00:40.890946",
     "status": "completed"
    },
    "tags": []
   },
   "source": [
    "#### Transpose of array"
   ]
  },
  {
   "cell_type": "code",
   "execution_count": 28,
   "id": "4f49ae36",
   "metadata": {
    "execution": {
     "iopub.execute_input": "2024-05-08T20:00:41.055180Z",
     "iopub.status.busy": "2024-05-08T20:00:41.053826Z",
     "iopub.status.idle": "2024-05-08T20:00:41.061939Z",
     "shell.execute_reply": "2024-05-08T20:00:41.060613Z"
    },
    "papermill": {
     "duration": 0.064101,
     "end_time": "2024-05-08T20:00:41.064624",
     "exception": false,
     "start_time": "2024-05-08T20:00:41.000523",
     "status": "completed"
    },
    "tags": []
   },
   "outputs": [
    {
     "data": {
      "text/plain": [
       "array([[6, 3],\n",
       "       [7, 2],\n",
       "       [0, 3]])"
      ]
     },
     "execution_count": 28,
     "metadata": {},
     "output_type": "execute_result"
    }
   ],
   "source": [
    "array.T"
   ]
  },
  {
   "cell_type": "code",
   "execution_count": 29,
   "id": "6098a754",
   "metadata": {
    "execution": {
     "iopub.execute_input": "2024-05-08T20:00:41.172072Z",
     "iopub.status.busy": "2024-05-08T20:00:41.171409Z",
     "iopub.status.idle": "2024-05-08T20:00:41.178434Z",
     "shell.execute_reply": "2024-05-08T20:00:41.177294Z"
    },
    "papermill": {
     "duration": 0.06543,
     "end_time": "2024-05-08T20:00:41.180810",
     "exception": false,
     "start_time": "2024-05-08T20:00:41.115380",
     "status": "completed"
    },
    "tags": []
   },
   "outputs": [
    {
     "data": {
      "text/plain": [
       "(2, 3)"
      ]
     },
     "execution_count": 29,
     "metadata": {},
     "output_type": "execute_result"
    }
   ],
   "source": [
    "array.shape"
   ]
  },
  {
   "cell_type": "markdown",
   "id": "a98cde09",
   "metadata": {
    "papermill": {
     "duration": 0.050394,
     "end_time": "2024-05-08T20:00:41.282566",
     "exception": false,
     "start_time": "2024-05-08T20:00:41.232172",
     "status": "completed"
    },
    "tags": []
   },
   "source": [
    "#### Reshapes array to 3 rows, 2 columns without changing data"
   ]
  },
  {
   "cell_type": "code",
   "execution_count": 30,
   "id": "56d715bc",
   "metadata": {
    "execution": {
     "iopub.execute_input": "2024-05-08T20:00:41.388129Z",
     "iopub.status.busy": "2024-05-08T20:00:41.387453Z",
     "iopub.status.idle": "2024-05-08T20:00:41.395585Z",
     "shell.execute_reply": "2024-05-08T20:00:41.394235Z"
    },
    "papermill": {
     "duration": 0.064191,
     "end_time": "2024-05-08T20:00:41.398439",
     "exception": false,
     "start_time": "2024-05-08T20:00:41.334248",
     "status": "completed"
    },
    "tags": []
   },
   "outputs": [
    {
     "data": {
      "text/plain": [
       "array([[6, 7],\n",
       "       [0, 3],\n",
       "       [2, 3]])"
      ]
     },
     "execution_count": 30,
     "metadata": {},
     "output_type": "execute_result"
    }
   ],
   "source": [
    "array.reshape(3,2)"
   ]
  },
  {
   "cell_type": "markdown",
   "id": "2b04f0cb",
   "metadata": {
    "papermill": {
     "duration": 0.050389,
     "end_time": "2024-05-08T20:00:41.500522",
     "exception": false,
     "start_time": "2024-05-08T20:00:41.450133",
     "status": "completed"
    },
    "tags": []
   },
   "source": [
    "#### Changes array shape to m*n & fill new val with 0s"
   ]
  },
  {
   "cell_type": "code",
   "execution_count": 31,
   "id": "636cc5af",
   "metadata": {
    "execution": {
     "iopub.execute_input": "2024-05-08T20:00:41.609182Z",
     "iopub.status.busy": "2024-05-08T20:00:41.608773Z",
     "iopub.status.idle": "2024-05-08T20:00:41.614327Z",
     "shell.execute_reply": "2024-05-08T20:00:41.613019Z"
    },
    "papermill": {
     "duration": 0.066202,
     "end_time": "2024-05-08T20:00:41.618122",
     "exception": false,
     "start_time": "2024-05-08T20:00:41.551920",
     "status": "completed"
    },
    "tags": []
   },
   "outputs": [],
   "source": [
    "array.resize((5, 4), refcheck=False)\n"
   ]
  },
  {
   "cell_type": "code",
   "execution_count": 32,
   "id": "512d0833",
   "metadata": {
    "execution": {
     "iopub.execute_input": "2024-05-08T20:00:41.723332Z",
     "iopub.status.busy": "2024-05-08T20:00:41.722909Z",
     "iopub.status.idle": "2024-05-08T20:00:41.729926Z",
     "shell.execute_reply": "2024-05-08T20:00:41.728621Z"
    },
    "papermill": {
     "duration": 0.062646,
     "end_time": "2024-05-08T20:00:41.732726",
     "exception": false,
     "start_time": "2024-05-08T20:00:41.670080",
     "status": "completed"
    },
    "tags": []
   },
   "outputs": [
    {
     "data": {
      "text/plain": [
       "array([[6, 7, 0, 3],\n",
       "       [2, 3, 0, 0],\n",
       "       [0, 0, 0, 0],\n",
       "       [0, 0, 0, 0],\n",
       "       [0, 0, 0, 0]])"
      ]
     },
     "execution_count": 32,
     "metadata": {},
     "output_type": "execute_result"
    }
   ],
   "source": [
    "array"
   ]
  },
  {
   "cell_type": "markdown",
   "id": "9a1b8f8f",
   "metadata": {
    "papermill": {
     "duration": 0.050439,
     "end_time": "2024-05-08T20:00:41.834263",
     "exception": false,
     "start_time": "2024-05-08T20:00:41.783824",
     "status": "completed"
    },
    "tags": []
   },
   "source": [
    "# Adding/ Removing elements "
   ]
  },
  {
   "cell_type": "code",
   "execution_count": 33,
   "id": "ca5c6cd3",
   "metadata": {
    "execution": {
     "iopub.execute_input": "2024-05-08T20:00:41.940837Z",
     "iopub.status.busy": "2024-05-08T20:00:41.940429Z",
     "iopub.status.idle": "2024-05-08T20:00:41.947054Z",
     "shell.execute_reply": "2024-05-08T20:00:41.946189Z"
    },
    "papermill": {
     "duration": 0.061027,
     "end_time": "2024-05-08T20:00:41.949183",
     "exception": false,
     "start_time": "2024-05-08T20:00:41.888156",
     "status": "completed"
    },
    "tags": []
   },
   "outputs": [
    {
     "data": {
      "text/plain": [
       "array([[6, 7, 0],\n",
       "       [3, 2, 3]])"
      ]
     },
     "execution_count": 33,
     "metadata": {},
     "output_type": "execute_result"
    }
   ],
   "source": [
    "arr"
   ]
  },
  {
   "cell_type": "markdown",
   "id": "e2a90eb3",
   "metadata": {
    "papermill": {
     "duration": 0.051611,
     "end_time": "2024-05-08T20:00:42.051674",
     "exception": false,
     "start_time": "2024-05-08T20:00:42.000063",
     "status": "completed"
    },
    "tags": []
   },
   "source": [
    "#### Appends values to end of arr"
   ]
  },
  {
   "cell_type": "code",
   "execution_count": 34,
   "id": "f1ef1528",
   "metadata": {
    "execution": {
     "iopub.execute_input": "2024-05-08T20:00:42.155607Z",
     "iopub.status.busy": "2024-05-08T20:00:42.154976Z",
     "iopub.status.idle": "2024-05-08T20:00:42.160440Z",
     "shell.execute_reply": "2024-05-08T20:00:42.159560Z"
    },
    "papermill": {
     "duration": 0.059169,
     "end_time": "2024-05-08T20:00:42.162642",
     "exception": false,
     "start_time": "2024-05-08T20:00:42.103473",
     "status": "completed"
    },
    "tags": []
   },
   "outputs": [],
   "source": [
    "values = [1,2,3,4,5,6,6,7,8,9,0,2,3,5]\n",
    "array = np.append(arr,values)"
   ]
  },
  {
   "cell_type": "code",
   "execution_count": 35,
   "id": "facb4ae1",
   "metadata": {
    "execution": {
     "iopub.execute_input": "2024-05-08T20:00:42.331256Z",
     "iopub.status.busy": "2024-05-08T20:00:42.330800Z",
     "iopub.status.idle": "2024-05-08T20:00:42.338346Z",
     "shell.execute_reply": "2024-05-08T20:00:42.337050Z"
    },
    "papermill": {
     "duration": 0.127776,
     "end_time": "2024-05-08T20:00:42.341151",
     "exception": false,
     "start_time": "2024-05-08T20:00:42.213375",
     "status": "completed"
    },
    "tags": []
   },
   "outputs": [
    {
     "data": {
      "text/plain": [
       "array([6, 7, 0, 3, 2, 3, 1, 2, 3, 4, 5, 6, 6, 7, 8, 9, 0, 2, 3, 5])"
      ]
     },
     "execution_count": 35,
     "metadata": {},
     "output_type": "execute_result"
    }
   ],
   "source": [
    "array"
   ]
  },
  {
   "cell_type": "markdown",
   "id": "d1efcdbc",
   "metadata": {
    "papermill": {
     "duration": 0.053641,
     "end_time": "2024-05-08T20:00:42.447396",
     "exception": false,
     "start_time": "2024-05-08T20:00:42.393755",
     "status": "completed"
    },
    "tags": []
   },
   "source": [
    "####  Inserts values into array before index n"
   ]
  },
  {
   "cell_type": "code",
   "execution_count": 36,
   "id": "e3c2f7b2",
   "metadata": {
    "execution": {
     "iopub.execute_input": "2024-05-08T20:00:42.552830Z",
     "iopub.status.busy": "2024-05-08T20:00:42.552446Z",
     "iopub.status.idle": "2024-05-08T20:00:42.560510Z",
     "shell.execute_reply": "2024-05-08T20:00:42.559185Z"
    },
    "papermill": {
     "duration": 0.06307,
     "end_time": "2024-05-08T20:00:42.562939",
     "exception": false,
     "start_time": "2024-05-08T20:00:42.499869",
     "status": "completed"
    },
    "tags": []
   },
   "outputs": [
    {
     "data": {
      "text/plain": [
       "array([6, 7, 1, 2, 3, 4, 5, 6, 6, 7, 8, 9, 0, 2, 3, 5, 0, 3, 2, 3, 1, 2,\n",
       "       3, 4, 5, 6, 6, 7, 8, 9, 0, 2, 3, 5])"
      ]
     },
     "execution_count": 36,
     "metadata": {},
     "output_type": "execute_result"
    }
   ],
   "source": [
    "np.insert(array, 2, values)"
   ]
  },
  {
   "cell_type": "markdown",
   "id": "e3d00d30",
   "metadata": {
    "papermill": {
     "duration": 0.051474,
     "end_time": "2024-05-08T20:00:42.667716",
     "exception": false,
     "start_time": "2024-05-08T20:00:42.616242",
     "status": "completed"
    },
    "tags": []
   },
   "source": [
    "####  Deletes row on index n of array"
   ]
  },
  {
   "cell_type": "code",
   "execution_count": 37,
   "id": "d6bc375d",
   "metadata": {
    "execution": {
     "iopub.execute_input": "2024-05-08T20:00:42.774120Z",
     "iopub.status.busy": "2024-05-08T20:00:42.773737Z",
     "iopub.status.idle": "2024-05-08T20:00:42.780926Z",
     "shell.execute_reply": "2024-05-08T20:00:42.779679Z"
    },
    "papermill": {
     "duration": 0.064694,
     "end_time": "2024-05-08T20:00:42.783353",
     "exception": false,
     "start_time": "2024-05-08T20:00:42.718659",
     "status": "completed"
    },
    "tags": []
   },
   "outputs": [
    {
     "data": {
      "text/plain": [
       "array([[6, 7, 0]])"
      ]
     },
     "execution_count": 37,
     "metadata": {},
     "output_type": "execute_result"
    }
   ],
   "source": [
    "array = np.delete(arr,1,axis=0)\n",
    "array"
   ]
  },
  {
   "cell_type": "markdown",
   "id": "3be19596",
   "metadata": {
    "papermill": {
     "duration": 0.051677,
     "end_time": "2024-05-08T20:00:42.886810",
     "exception": false,
     "start_time": "2024-05-08T20:00:42.835133",
     "status": "completed"
    },
    "tags": []
   },
   "source": [
    "#### Deletes column on index n of array"
   ]
  },
  {
   "cell_type": "code",
   "execution_count": 38,
   "id": "3dcf06e0",
   "metadata": {
    "execution": {
     "iopub.execute_input": "2024-05-08T20:00:42.992823Z",
     "iopub.status.busy": "2024-05-08T20:00:42.992442Z",
     "iopub.status.idle": "2024-05-08T20:00:42.999758Z",
     "shell.execute_reply": "2024-05-08T20:00:42.998474Z"
    },
    "papermill": {
     "duration": 0.063984,
     "end_time": "2024-05-08T20:00:43.002041",
     "exception": false,
     "start_time": "2024-05-08T20:00:42.938057",
     "status": "completed"
    },
    "tags": []
   },
   "outputs": [
    {
     "data": {
      "text/plain": [
       "array([[6, 7],\n",
       "       [3, 2]])"
      ]
     },
     "execution_count": 38,
     "metadata": {},
     "output_type": "execute_result"
    }
   ],
   "source": [
    "np.delete(arr,2,axis=1)"
   ]
  },
  {
   "cell_type": "markdown",
   "id": "93b239fa",
   "metadata": {
    "papermill": {
     "duration": 0.051759,
     "end_time": "2024-05-08T20:00:43.106827",
     "exception": false,
     "start_time": "2024-05-08T20:00:43.055068",
     "status": "completed"
    },
    "tags": []
   },
   "source": [
    "# Combining/ Splitting"
   ]
  },
  {
   "cell_type": "code",
   "execution_count": 39,
   "id": "c5cc9e70",
   "metadata": {
    "execution": {
     "iopub.execute_input": "2024-05-08T20:00:43.214144Z",
     "iopub.status.busy": "2024-05-08T20:00:43.213738Z",
     "iopub.status.idle": "2024-05-08T20:00:43.220391Z",
     "shell.execute_reply": "2024-05-08T20:00:43.219010Z"
    },
    "papermill": {
     "duration": 0.061774,
     "end_time": "2024-05-08T20:00:43.222950",
     "exception": false,
     "start_time": "2024-05-08T20:00:43.161176",
     "status": "completed"
    },
    "tags": []
   },
   "outputs": [],
   "source": [
    "arr1 = np.array([(0,1,2), (3,4,5)])\n",
    "arr2 = np.array([(6,7,8), (9,10, 0)])"
   ]
  },
  {
   "cell_type": "code",
   "execution_count": 40,
   "id": "800db295",
   "metadata": {
    "execution": {
     "iopub.execute_input": "2024-05-08T20:00:43.327857Z",
     "iopub.status.busy": "2024-05-08T20:00:43.327445Z",
     "iopub.status.idle": "2024-05-08T20:00:43.335952Z",
     "shell.execute_reply": "2024-05-08T20:00:43.334122Z"
    },
    "papermill": {
     "duration": 0.064253,
     "end_time": "2024-05-08T20:00:43.338522",
     "exception": false,
     "start_time": "2024-05-08T20:00:43.274269",
     "status": "completed"
    },
    "tags": []
   },
   "outputs": [
    {
     "name": "stdout",
     "output_type": "stream",
     "text": [
      "arr1: \n"
     ]
    },
    {
     "data": {
      "text/plain": [
       "array([[0, 1, 2],\n",
       "       [3, 4, 5]])"
      ]
     },
     "execution_count": 40,
     "metadata": {},
     "output_type": "execute_result"
    }
   ],
   "source": [
    "print(\"arr1: \")\n",
    "arr1"
   ]
  },
  {
   "cell_type": "code",
   "execution_count": 41,
   "id": "7439f1f6",
   "metadata": {
    "execution": {
     "iopub.execute_input": "2024-05-08T20:00:43.447207Z",
     "iopub.status.busy": "2024-05-08T20:00:43.446784Z",
     "iopub.status.idle": "2024-05-08T20:00:43.455027Z",
     "shell.execute_reply": "2024-05-08T20:00:43.453378Z"
    },
    "papermill": {
     "duration": 0.065299,
     "end_time": "2024-05-08T20:00:43.457708",
     "exception": false,
     "start_time": "2024-05-08T20:00:43.392409",
     "status": "completed"
    },
    "tags": []
   },
   "outputs": [
    {
     "name": "stdout",
     "output_type": "stream",
     "text": [
      "arr2: \n"
     ]
    },
    {
     "data": {
      "text/plain": [
       "array([[ 6,  7,  8],\n",
       "       [ 9, 10,  0]])"
      ]
     },
     "execution_count": 41,
     "metadata": {},
     "output_type": "execute_result"
    }
   ],
   "source": [
    "print(\"arr2: \")\n",
    "arr2"
   ]
  },
  {
   "cell_type": "markdown",
   "id": "b1b0e16e",
   "metadata": {
    "papermill": {
     "duration": 0.05191,
     "end_time": "2024-05-08T20:00:43.561348",
     "exception": false,
     "start_time": "2024-05-08T20:00:43.509438",
     "status": "completed"
    },
    "tags": []
   },
   "source": [
    "#### Adds arr2 as rows to the end of arr1"
   ]
  },
  {
   "cell_type": "code",
   "execution_count": 42,
   "id": "a1aba796",
   "metadata": {
    "execution": {
     "iopub.execute_input": "2024-05-08T20:00:43.670655Z",
     "iopub.status.busy": "2024-05-08T20:00:43.670243Z",
     "iopub.status.idle": "2024-05-08T20:00:43.677561Z",
     "shell.execute_reply": "2024-05-08T20:00:43.676493Z"
    },
    "papermill": {
     "duration": 0.065412,
     "end_time": "2024-05-08T20:00:43.679886",
     "exception": false,
     "start_time": "2024-05-08T20:00:43.614474",
     "status": "completed"
    },
    "tags": []
   },
   "outputs": [
    {
     "data": {
      "text/plain": [
       "array([[ 0,  1,  2],\n",
       "       [ 3,  4,  5],\n",
       "       [ 6,  7,  8],\n",
       "       [ 9, 10,  0]])"
      ]
     },
     "execution_count": 42,
     "metadata": {},
     "output_type": "execute_result"
    }
   ],
   "source": [
    "np.concatenate((arr1, arr2), axis=0)"
   ]
  },
  {
   "cell_type": "markdown",
   "id": "666ddda2",
   "metadata": {
    "papermill": {
     "duration": 0.051801,
     "end_time": "2024-05-08T20:00:43.785588",
     "exception": false,
     "start_time": "2024-05-08T20:00:43.733787",
     "status": "completed"
    },
    "tags": []
   },
   "source": [
    "#### Adds arr2 as columns to end of arr1"
   ]
  },
  {
   "cell_type": "code",
   "execution_count": 43,
   "id": "271989b9",
   "metadata": {
    "execution": {
     "iopub.execute_input": "2024-05-08T20:00:43.891810Z",
     "iopub.status.busy": "2024-05-08T20:00:43.891127Z",
     "iopub.status.idle": "2024-05-08T20:00:43.898731Z",
     "shell.execute_reply": "2024-05-08T20:00:43.897567Z"
    },
    "papermill": {
     "duration": 0.064144,
     "end_time": "2024-05-08T20:00:43.901333",
     "exception": false,
     "start_time": "2024-05-08T20:00:43.837189",
     "status": "completed"
    },
    "tags": []
   },
   "outputs": [
    {
     "data": {
      "text/plain": [
       "array([[ 0,  1,  2,  6,  7,  8],\n",
       "       [ 3,  4,  5,  9, 10,  0]])"
      ]
     },
     "execution_count": 43,
     "metadata": {},
     "output_type": "execute_result"
    }
   ],
   "source": [
    "np.concatenate((arr1, arr2), axis=1)\n"
   ]
  },
  {
   "cell_type": "markdown",
   "id": "8ce67483",
   "metadata": {
    "papermill": {
     "duration": 0.052055,
     "end_time": "2024-05-08T20:00:44.006523",
     "exception": false,
     "start_time": "2024-05-08T20:00:43.954468",
     "status": "completed"
    },
    "tags": []
   },
   "source": [
    "#### Splits arr into *nth* sub-arrays"
   ]
  },
  {
   "cell_type": "code",
   "execution_count": 44,
   "id": "73f9da7b",
   "metadata": {
    "execution": {
     "iopub.execute_input": "2024-05-08T20:00:44.116660Z",
     "iopub.status.busy": "2024-05-08T20:00:44.116246Z",
     "iopub.status.idle": "2024-05-08T20:00:44.122139Z",
     "shell.execute_reply": "2024-05-08T20:00:44.121254Z"
    },
    "papermill": {
     "duration": 0.06454,
     "end_time": "2024-05-08T20:00:44.124786",
     "exception": false,
     "start_time": "2024-05-08T20:00:44.060246",
     "status": "completed"
    },
    "tags": []
   },
   "outputs": [],
   "source": [
    "arr = arr1"
   ]
  },
  {
   "cell_type": "code",
   "execution_count": 45,
   "id": "95ceb13b",
   "metadata": {
    "execution": {
     "iopub.execute_input": "2024-05-08T20:00:44.230655Z",
     "iopub.status.busy": "2024-05-08T20:00:44.230246Z",
     "iopub.status.idle": "2024-05-08T20:00:44.236060Z",
     "shell.execute_reply": "2024-05-08T20:00:44.234545Z"
    },
    "papermill": {
     "duration": 0.061768,
     "end_time": "2024-05-08T20:00:44.238876",
     "exception": false,
     "start_time": "2024-05-08T20:00:44.177108",
     "status": "completed"
    },
    "tags": []
   },
   "outputs": [],
   "source": [
    "arr1, arr2 = np.split(arr,2) # n=2"
   ]
  },
  {
   "cell_type": "code",
   "execution_count": 46,
   "id": "7538ed72",
   "metadata": {
    "execution": {
     "iopub.execute_input": "2024-05-08T20:00:44.347400Z",
     "iopub.status.busy": "2024-05-08T20:00:44.346977Z",
     "iopub.status.idle": "2024-05-08T20:00:44.354655Z",
     "shell.execute_reply": "2024-05-08T20:00:44.353340Z"
    },
    "papermill": {
     "duration": 0.064288,
     "end_time": "2024-05-08T20:00:44.357189",
     "exception": false,
     "start_time": "2024-05-08T20:00:44.292901",
     "status": "completed"
    },
    "tags": []
   },
   "outputs": [
    {
     "data": {
      "text/plain": [
       "array([[0, 1, 2]])"
      ]
     },
     "execution_count": 46,
     "metadata": {},
     "output_type": "execute_result"
    }
   ],
   "source": [
    "arr1"
   ]
  },
  {
   "cell_type": "code",
   "execution_count": 47,
   "id": "bfc56d34",
   "metadata": {
    "execution": {
     "iopub.execute_input": "2024-05-08T20:00:44.466873Z",
     "iopub.status.busy": "2024-05-08T20:00:44.466485Z",
     "iopub.status.idle": "2024-05-08T20:00:44.473523Z",
     "shell.execute_reply": "2024-05-08T20:00:44.472265Z"
    },
    "papermill": {
     "duration": 0.065518,
     "end_time": "2024-05-08T20:00:44.476291",
     "exception": false,
     "start_time": "2024-05-08T20:00:44.410773",
     "status": "completed"
    },
    "tags": []
   },
   "outputs": [
    {
     "data": {
      "text/plain": [
       "array([[3, 4, 5]])"
      ]
     },
     "execution_count": 47,
     "metadata": {},
     "output_type": "execute_result"
    }
   ],
   "source": [
    "arr2"
   ]
  },
  {
   "cell_type": "markdown",
   "id": "b6ba16ca",
   "metadata": {
    "papermill": {
     "duration": 0.052621,
     "end_time": "2024-05-08T20:00:44.583446",
     "exception": false,
     "start_time": "2024-05-08T20:00:44.530825",
     "status": "completed"
    },
    "tags": []
   },
   "source": [
    "####  Splits arr horizontally on the *nth* index"
   ]
  },
  {
   "cell_type": "code",
   "execution_count": 48,
   "id": "48170e08",
   "metadata": {
    "execution": {
     "iopub.execute_input": "2024-05-08T20:00:44.694817Z",
     "iopub.status.busy": "2024-05-08T20:00:44.693914Z",
     "iopub.status.idle": "2024-05-08T20:00:44.701855Z",
     "shell.execute_reply": "2024-05-08T20:00:44.700989Z"
    },
    "papermill": {
     "duration": 0.064706,
     "end_time": "2024-05-08T20:00:44.704171",
     "exception": false,
     "start_time": "2024-05-08T20:00:44.639465",
     "status": "completed"
    },
    "tags": []
   },
   "outputs": [
    {
     "data": {
      "text/plain": [
       "array([[0, 1, 2],\n",
       "       [3, 4, 5]])"
      ]
     },
     "execution_count": 48,
     "metadata": {},
     "output_type": "execute_result"
    }
   ],
   "source": [
    "arr"
   ]
  },
  {
   "cell_type": "code",
   "execution_count": 49,
   "id": "06946508",
   "metadata": {
    "execution": {
     "iopub.execute_input": "2024-05-08T20:00:44.814300Z",
     "iopub.status.busy": "2024-05-08T20:00:44.813422Z",
     "iopub.status.idle": "2024-05-08T20:00:44.819174Z",
     "shell.execute_reply": "2024-05-08T20:00:44.817496Z"
    },
    "papermill": {
     "duration": 0.063984,
     "end_time": "2024-05-08T20:00:44.821893",
     "exception": false,
     "start_time": "2024-05-08T20:00:44.757909",
     "status": "completed"
    },
    "tags": []
   },
   "outputs": [],
   "source": [
    "arr1, arr2, arr3 = np.hsplit(arr,3) #n=3"
   ]
  },
  {
   "cell_type": "code",
   "execution_count": 50,
   "id": "754e59b4",
   "metadata": {
    "execution": {
     "iopub.execute_input": "2024-05-08T20:00:44.929833Z",
     "iopub.status.busy": "2024-05-08T20:00:44.929420Z",
     "iopub.status.idle": "2024-05-08T20:00:44.935645Z",
     "shell.execute_reply": "2024-05-08T20:00:44.934504Z"
    },
    "papermill": {
     "duration": 0.064266,
     "end_time": "2024-05-08T20:00:44.938358",
     "exception": false,
     "start_time": "2024-05-08T20:00:44.874092",
     "status": "completed"
    },
    "tags": []
   },
   "outputs": [
    {
     "name": "stdout",
     "output_type": "stream",
     "text": [
      "Arr1= [[0]\n",
      " [3]]\n",
      "Arr2= [[1]\n",
      " [4]]\n",
      "Arr3= [[2]\n",
      " [5]]\n"
     ]
    }
   ],
   "source": [
    "print(f\"Arr1= {arr1}\\nArr2= {arr2}\\nArr3= {arr3}\")"
   ]
  },
  {
   "cell_type": "markdown",
   "id": "2fbfa9a8",
   "metadata": {
    "papermill": {
     "duration": 0.051891,
     "end_time": "2024-05-08T20:00:45.043901",
     "exception": false,
     "start_time": "2024-05-08T20:00:44.992010",
     "status": "completed"
    },
    "tags": []
   },
   "source": [
    "# Indexing/ Slicing/ Subsetting"
   ]
  },
  {
   "cell_type": "markdown",
   "id": "a64aef61",
   "metadata": {
    "papermill": {
     "duration": 0.05625,
     "end_time": "2024-05-08T20:00:45.152927",
     "exception": false,
     "start_time": "2024-05-08T20:00:45.096677",
     "status": "completed"
    },
    "tags": []
   },
   "source": [
    "#### 1D aar indexing"
   ]
  },
  {
   "cell_type": "code",
   "execution_count": 51,
   "id": "99ecbbfb",
   "metadata": {
    "execution": {
     "iopub.execute_input": "2024-05-08T20:00:45.268238Z",
     "iopub.status.busy": "2024-05-08T20:00:45.267417Z",
     "iopub.status.idle": "2024-05-08T20:00:45.272265Z",
     "shell.execute_reply": "2024-05-08T20:00:45.271304Z"
    },
    "papermill": {
     "duration": 0.069333,
     "end_time": "2024-05-08T20:00:45.275360",
     "exception": false,
     "start_time": "2024-05-08T20:00:45.206027",
     "status": "completed"
    },
    "tags": []
   },
   "outputs": [],
   "source": [
    "arr= np.array((1,2,3))"
   ]
  },
  {
   "cell_type": "code",
   "execution_count": 52,
   "id": "4bc4bf0c",
   "metadata": {
    "execution": {
     "iopub.execute_input": "2024-05-08T20:00:45.386939Z",
     "iopub.status.busy": "2024-05-08T20:00:45.386170Z",
     "iopub.status.idle": "2024-05-08T20:00:45.392654Z",
     "shell.execute_reply": "2024-05-08T20:00:45.391506Z"
    },
    "papermill": {
     "duration": 0.064122,
     "end_time": "2024-05-08T20:00:45.395157",
     "exception": false,
     "start_time": "2024-05-08T20:00:45.331035",
     "status": "completed"
    },
    "tags": []
   },
   "outputs": [
    {
     "data": {
      "text/plain": [
       "array([1, 2, 3])"
      ]
     },
     "execution_count": 52,
     "metadata": {},
     "output_type": "execute_result"
    }
   ],
   "source": [
    "arr"
   ]
  },
  {
   "cell_type": "code",
   "execution_count": 53,
   "id": "2980e847",
   "metadata": {
    "execution": {
     "iopub.execute_input": "2024-05-08T20:00:45.503607Z",
     "iopub.status.busy": "2024-05-08T20:00:45.503156Z",
     "iopub.status.idle": "2024-05-08T20:00:45.510584Z",
     "shell.execute_reply": "2024-05-08T20:00:45.509367Z"
    },
    "papermill": {
     "duration": 0.065377,
     "end_time": "2024-05-08T20:00:45.513069",
     "exception": false,
     "start_time": "2024-05-08T20:00:45.447692",
     "status": "completed"
    },
    "tags": []
   },
   "outputs": [
    {
     "data": {
      "text/plain": [
       "3"
      ]
     },
     "execution_count": 53,
     "metadata": {},
     "output_type": "execute_result"
    }
   ],
   "source": [
    "arr[2]"
   ]
  },
  {
   "cell_type": "markdown",
   "id": "92b12d9c",
   "metadata": {
    "papermill": {
     "duration": 0.053772,
     "end_time": "2024-05-08T20:00:45.619457",
     "exception": false,
     "start_time": "2024-05-08T20:00:45.565685",
     "status": "completed"
    },
    "tags": []
   },
   "source": [
    "#### Assigns arr ele on index *nth* "
   ]
  },
  {
   "cell_type": "code",
   "execution_count": 54,
   "id": "b953f303",
   "metadata": {
    "execution": {
     "iopub.execute_input": "2024-05-08T20:00:45.729007Z",
     "iopub.status.busy": "2024-05-08T20:00:45.728236Z",
     "iopub.status.idle": "2024-05-08T20:00:45.733234Z",
     "shell.execute_reply": "2024-05-08T20:00:45.731791Z"
    },
    "papermill": {
     "duration": 0.06263,
     "end_time": "2024-05-08T20:00:45.735930",
     "exception": false,
     "start_time": "2024-05-08T20:00:45.673300",
     "status": "completed"
    },
    "tags": []
   },
   "outputs": [],
   "source": [
    "arr[2] = 4"
   ]
  },
  {
   "cell_type": "code",
   "execution_count": 55,
   "id": "299a1b65",
   "metadata": {
    "execution": {
     "iopub.execute_input": "2024-05-08T20:00:45.846992Z",
     "iopub.status.busy": "2024-05-08T20:00:45.846192Z",
     "iopub.status.idle": "2024-05-08T20:00:45.852576Z",
     "shell.execute_reply": "2024-05-08T20:00:45.851486Z"
    },
    "papermill": {
     "duration": 0.065039,
     "end_time": "2024-05-08T20:00:45.855102",
     "exception": false,
     "start_time": "2024-05-08T20:00:45.790063",
     "status": "completed"
    },
    "tags": []
   },
   "outputs": [
    {
     "data": {
      "text/plain": [
       "array([1, 2, 4])"
      ]
     },
     "execution_count": 55,
     "metadata": {},
     "output_type": "execute_result"
    }
   ],
   "source": [
    "arr"
   ]
  },
  {
   "cell_type": "markdown",
   "id": "466df757",
   "metadata": {
    "papermill": {
     "duration": 0.053159,
     "end_time": "2024-05-08T20:00:45.962039",
     "exception": false,
     "start_time": "2024-05-08T20:00:45.908880",
     "status": "completed"
    },
    "tags": []
   },
   "source": [
    "#### Returns the ele at indices 0-n (n excluded) "
   ]
  },
  {
   "cell_type": "code",
   "execution_count": 56,
   "id": "9b87329e",
   "metadata": {
    "execution": {
     "iopub.execute_input": "2024-05-08T20:00:46.071596Z",
     "iopub.status.busy": "2024-05-08T20:00:46.070373Z",
     "iopub.status.idle": "2024-05-08T20:00:46.078253Z",
     "shell.execute_reply": "2024-05-08T20:00:46.077013Z"
    },
    "papermill": {
     "duration": 0.065837,
     "end_time": "2024-05-08T20:00:46.080963",
     "exception": false,
     "start_time": "2024-05-08T20:00:46.015126",
     "status": "completed"
    },
    "tags": []
   },
   "outputs": [
    {
     "data": {
      "text/plain": [
       "array([1, 2])"
      ]
     },
     "execution_count": 56,
     "metadata": {},
     "output_type": "execute_result"
    }
   ],
   "source": [
    "arr[0:2]"
   ]
  },
  {
   "cell_type": "markdown",
   "id": "5ec1af9e",
   "metadata": {
    "papermill": {
     "duration": 0.053636,
     "end_time": "2024-05-08T20:00:46.190656",
     "exception": false,
     "start_time": "2024-05-08T20:00:46.137020",
     "status": "completed"
    },
    "tags": []
   },
   "source": [
    "#### 2D arr indexing"
   ]
  },
  {
   "cell_type": "code",
   "execution_count": 57,
   "id": "25556579",
   "metadata": {
    "execution": {
     "iopub.execute_input": "2024-05-08T20:00:46.302625Z",
     "iopub.status.busy": "2024-05-08T20:00:46.301630Z",
     "iopub.status.idle": "2024-05-08T20:00:46.309258Z",
     "shell.execute_reply": "2024-05-08T20:00:46.308309Z"
    },
    "papermill": {
     "duration": 0.065428,
     "end_time": "2024-05-08T20:00:46.312260",
     "exception": false,
     "start_time": "2024-05-08T20:00:46.246832",
     "status": "completed"
    },
    "tags": []
   },
   "outputs": [],
   "source": [
    "arr = np.array([(1,2,3),(4,5,6)])"
   ]
  },
  {
   "cell_type": "code",
   "execution_count": 58,
   "id": "353d8717",
   "metadata": {
    "execution": {
     "iopub.execute_input": "2024-05-08T20:00:46.430933Z",
     "iopub.status.busy": "2024-05-08T20:00:46.429476Z",
     "iopub.status.idle": "2024-05-08T20:00:46.436890Z",
     "shell.execute_reply": "2024-05-08T20:00:46.435687Z"
    },
    "papermill": {
     "duration": 0.069276,
     "end_time": "2024-05-08T20:00:46.439340",
     "exception": false,
     "start_time": "2024-05-08T20:00:46.370064",
     "status": "completed"
    },
    "tags": []
   },
   "outputs": [
    {
     "data": {
      "text/plain": [
       "array([[1, 2, 3],\n",
       "       [4, 5, 6]])"
      ]
     },
     "execution_count": 58,
     "metadata": {},
     "output_type": "execute_result"
    }
   ],
   "source": [
    "arr"
   ]
  },
  {
   "cell_type": "code",
   "execution_count": 59,
   "id": "f9140083",
   "metadata": {
    "execution": {
     "iopub.execute_input": "2024-05-08T20:00:46.551871Z",
     "iopub.status.busy": "2024-05-08T20:00:46.551487Z",
     "iopub.status.idle": "2024-05-08T20:00:46.558772Z",
     "shell.execute_reply": "2024-05-08T20:00:46.557695Z"
    },
    "papermill": {
     "duration": 0.067427,
     "end_time": "2024-05-08T20:00:46.561152",
     "exception": false,
     "start_time": "2024-05-08T20:00:46.493725",
     "status": "completed"
    },
    "tags": []
   },
   "outputs": [
    {
     "data": {
      "text/plain": [
       "6"
      ]
     },
     "execution_count": 59,
     "metadata": {},
     "output_type": "execute_result"
    }
   ],
   "source": [
    "arr[1,2] # row, col"
   ]
  },
  {
   "cell_type": "markdown",
   "id": "1eadf8cd",
   "metadata": {
    "papermill": {
     "duration": 0.060824,
     "end_time": "2024-05-08T20:00:46.679416",
     "exception": false,
     "start_time": "2024-05-08T20:00:46.618592",
     "status": "completed"
    },
    "tags": []
   },
   "source": [
    "#### Assigns array element on index m*n"
   ]
  },
  {
   "cell_type": "code",
   "execution_count": 60,
   "id": "846d0ea7",
   "metadata": {
    "execution": {
     "iopub.execute_input": "2024-05-08T20:00:46.796378Z",
     "iopub.status.busy": "2024-05-08T20:00:46.795937Z",
     "iopub.status.idle": "2024-05-08T20:00:46.801466Z",
     "shell.execute_reply": "2024-05-08T20:00:46.800160Z"
    },
    "papermill": {
     "duration": 0.063846,
     "end_time": "2024-05-08T20:00:46.804024",
     "exception": false,
     "start_time": "2024-05-08T20:00:46.740178",
     "status": "completed"
    },
    "tags": []
   },
   "outputs": [],
   "source": [
    "arr[1,2] = 10"
   ]
  },
  {
   "cell_type": "code",
   "execution_count": 61,
   "id": "0998b848",
   "metadata": {
    "execution": {
     "iopub.execute_input": "2024-05-08T20:00:46.915501Z",
     "iopub.status.busy": "2024-05-08T20:00:46.915094Z",
     "iopub.status.idle": "2024-05-08T20:00:46.922154Z",
     "shell.execute_reply": "2024-05-08T20:00:46.921153Z"
    },
    "papermill": {
     "duration": 0.065445,
     "end_time": "2024-05-08T20:00:46.924580",
     "exception": false,
     "start_time": "2024-05-08T20:00:46.859135",
     "status": "completed"
    },
    "tags": []
   },
   "outputs": [
    {
     "data": {
      "text/plain": [
       "array([[ 1,  2,  3],\n",
       "       [ 4,  5, 10]])"
      ]
     },
     "execution_count": 61,
     "metadata": {},
     "output_type": "execute_result"
    }
   ],
   "source": [
    "arr"
   ]
  },
  {
   "cell_type": "markdown",
   "id": "9ccc3d3c",
   "metadata": {
    "papermill": {
     "duration": 0.053755,
     "end_time": "2024-05-08T20:00:47.032400",
     "exception": false,
     "start_time": "2024-05-08T20:00:46.978645",
     "status": "completed"
    },
    "tags": []
   },
   "source": [
    "#### Returns the ele at indices 0-n (n excluded) at m"
   ]
  },
  {
   "cell_type": "code",
   "execution_count": 62,
   "id": "57c6fb26",
   "metadata": {
    "execution": {
     "iopub.execute_input": "2024-05-08T20:00:47.149357Z",
     "iopub.status.busy": "2024-05-08T20:00:47.148925Z",
     "iopub.status.idle": "2024-05-08T20:00:47.155385Z",
     "shell.execute_reply": "2024-05-08T20:00:47.154561Z"
    },
    "papermill": {
     "duration": 0.06674,
     "end_time": "2024-05-08T20:00:47.157698",
     "exception": false,
     "start_time": "2024-05-08T20:00:47.090958",
     "status": "completed"
    },
    "tags": []
   },
   "outputs": [
    {
     "data": {
      "text/plain": [
       "array([ 3, 10])"
      ]
     },
     "execution_count": 62,
     "metadata": {},
     "output_type": "execute_result"
    }
   ],
   "source": [
    "arr[0:2,2] # n=2, col=2"
   ]
  },
  {
   "cell_type": "code",
   "execution_count": 63,
   "id": "ad32af72",
   "metadata": {
    "execution": {
     "iopub.execute_input": "2024-05-08T20:00:47.268025Z",
     "iopub.status.busy": "2024-05-08T20:00:47.267315Z",
     "iopub.status.idle": "2024-05-08T20:00:47.273812Z",
     "shell.execute_reply": "2024-05-08T20:00:47.272659Z"
    },
    "papermill": {
     "duration": 0.06465,
     "end_time": "2024-05-08T20:00:47.276200",
     "exception": false,
     "start_time": "2024-05-08T20:00:47.211550",
     "status": "completed"
    },
    "tags": []
   },
   "outputs": [
    {
     "data": {
      "text/plain": [
       "array([[1, 2, 3]])"
      ]
     },
     "execution_count": 63,
     "metadata": {},
     "output_type": "execute_result"
    }
   ],
   "source": [
    "arr[0:1]"
   ]
  },
  {
   "cell_type": "markdown",
   "id": "2445eb33",
   "metadata": {
    "papermill": {
     "duration": 0.054488,
     "end_time": "2024-05-08T20:00:47.384878",
     "exception": false,
     "start_time": "2024-05-08T20:00:47.330390",
     "status": "completed"
    },
    "tags": []
   },
   "source": [
    "#### Returns an array with boolean values"
   ]
  },
  {
   "cell_type": "code",
   "execution_count": 64,
   "id": "61994b01",
   "metadata": {
    "execution": {
     "iopub.execute_input": "2024-05-08T20:00:47.496043Z",
     "iopub.status.busy": "2024-05-08T20:00:47.495666Z",
     "iopub.status.idle": "2024-05-08T20:00:47.500793Z",
     "shell.execute_reply": "2024-05-08T20:00:47.499375Z"
    },
    "papermill": {
     "duration": 0.06424,
     "end_time": "2024-05-08T20:00:47.503387",
     "exception": false,
     "start_time": "2024-05-08T20:00:47.439147",
     "status": "completed"
    },
    "tags": []
   },
   "outputs": [],
   "source": [
    "arr_bool = arr<2"
   ]
  },
  {
   "cell_type": "code",
   "execution_count": 65,
   "id": "7f54aea9",
   "metadata": {
    "execution": {
     "iopub.execute_input": "2024-05-08T20:00:47.616558Z",
     "iopub.status.busy": "2024-05-08T20:00:47.616118Z",
     "iopub.status.idle": "2024-05-08T20:00:47.624207Z",
     "shell.execute_reply": "2024-05-08T20:00:47.622858Z"
    },
    "papermill": {
     "duration": 0.06851,
     "end_time": "2024-05-08T20:00:47.627041",
     "exception": false,
     "start_time": "2024-05-08T20:00:47.558531",
     "status": "completed"
    },
    "tags": []
   },
   "outputs": [
    {
     "data": {
      "text/plain": [
       "array([[ True, False, False],\n",
       "       [False, False, False]])"
      ]
     },
     "execution_count": 65,
     "metadata": {},
     "output_type": "execute_result"
    }
   ],
   "source": [
    "arr_bool"
   ]
  },
  {
   "cell_type": "code",
   "execution_count": 66,
   "id": "356984e1",
   "metadata": {
    "execution": {
     "iopub.execute_input": "2024-05-08T20:00:47.739340Z",
     "iopub.status.busy": "2024-05-08T20:00:47.738875Z",
     "iopub.status.idle": "2024-05-08T20:00:47.746318Z",
     "shell.execute_reply": "2024-05-08T20:00:47.745119Z"
    },
    "papermill": {
     "duration": 0.06648,
     "end_time": "2024-05-08T20:00:47.749038",
     "exception": false,
     "start_time": "2024-05-08T20:00:47.682558",
     "status": "completed"
    },
    "tags": []
   },
   "outputs": [
    {
     "data": {
      "text/plain": [
       "array([[ True,  True,  True],\n",
       "       [ True,  True,  True]])"
      ]
     },
     "execution_count": 66,
     "metadata": {},
     "output_type": "execute_result"
    }
   ],
   "source": [
    "(arr<11) & (arr>-1) # range from -1 to 11"
   ]
  },
  {
   "cell_type": "code",
   "execution_count": 67,
   "id": "9b6be3f7",
   "metadata": {
    "execution": {
     "iopub.execute_input": "2024-05-08T20:00:47.860941Z",
     "iopub.status.busy": "2024-05-08T20:00:47.860560Z",
     "iopub.status.idle": "2024-05-08T20:00:47.867609Z",
     "shell.execute_reply": "2024-05-08T20:00:47.866293Z"
    },
    "papermill": {
     "duration": 0.066485,
     "end_time": "2024-05-08T20:00:47.870523",
     "exception": false,
     "start_time": "2024-05-08T20:00:47.804038",
     "status": "completed"
    },
    "tags": []
   },
   "outputs": [
    {
     "data": {
      "text/plain": [
       "array([[ True, False, False],\n",
       "       [False, False, False]])"
      ]
     },
     "execution_count": 67,
     "metadata": {},
     "output_type": "execute_result"
    }
   ],
   "source": [
    "arr_bool"
   ]
  },
  {
   "cell_type": "markdown",
   "id": "65f82d71",
   "metadata": {
    "papermill": {
     "duration": 0.05534,
     "end_time": "2024-05-08T20:00:47.980716",
     "exception": false,
     "start_time": "2024-05-08T20:00:47.925376",
     "status": "completed"
    },
    "tags": []
   },
   "source": [
    "####  Inverts a boolean array"
   ]
  },
  {
   "cell_type": "code",
   "execution_count": 68,
   "id": "c8aae8ce",
   "metadata": {
    "execution": {
     "iopub.execute_input": "2024-05-08T20:00:48.095528Z",
     "iopub.status.busy": "2024-05-08T20:00:48.095106Z",
     "iopub.status.idle": "2024-05-08T20:00:48.102482Z",
     "shell.execute_reply": "2024-05-08T20:00:48.101428Z"
    },
    "papermill": {
     "duration": 0.066737,
     "end_time": "2024-05-08T20:00:48.105040",
     "exception": false,
     "start_time": "2024-05-08T20:00:48.038303",
     "status": "completed"
    },
    "tags": []
   },
   "outputs": [
    {
     "data": {
      "text/plain": [
       "array([[False,  True,  True],\n",
       "       [ True,  True,  True]])"
      ]
     },
     "execution_count": 68,
     "metadata": {},
     "output_type": "execute_result"
    }
   ],
   "source": [
    "~arr_bool"
   ]
  },
  {
   "cell_type": "markdown",
   "id": "4c81d789",
   "metadata": {
    "papermill": {
     "duration": 0.054075,
     "end_time": "2024-05-08T20:00:48.217045",
     "exception": false,
     "start_time": "2024-05-08T20:00:48.162970",
     "status": "completed"
    },
    "tags": []
   },
   "source": [
    "####  Returns arr elem < or > n"
   ]
  },
  {
   "cell_type": "code",
   "execution_count": 69,
   "id": "70cdbe28",
   "metadata": {
    "execution": {
     "iopub.execute_input": "2024-05-08T20:00:48.329897Z",
     "iopub.status.busy": "2024-05-08T20:00:48.329446Z",
     "iopub.status.idle": "2024-05-08T20:00:48.336099Z",
     "shell.execute_reply": "2024-05-08T20:00:48.335133Z"
    },
    "papermill": {
     "duration": 0.066682,
     "end_time": "2024-05-08T20:00:48.338779",
     "exception": false,
     "start_time": "2024-05-08T20:00:48.272097",
     "status": "completed"
    },
    "tags": []
   },
   "outputs": [
    {
     "data": {
      "text/plain": [
       "array([[ 1,  2,  3],\n",
       "       [ 4,  5, 10]])"
      ]
     },
     "execution_count": 69,
     "metadata": {},
     "output_type": "execute_result"
    }
   ],
   "source": [
    "arr"
   ]
  },
  {
   "cell_type": "code",
   "execution_count": 70,
   "id": "0e935b54",
   "metadata": {
    "execution": {
     "iopub.execute_input": "2024-05-08T20:00:48.452830Z",
     "iopub.status.busy": "2024-05-08T20:00:48.452396Z",
     "iopub.status.idle": "2024-05-08T20:00:48.460010Z",
     "shell.execute_reply": "2024-05-08T20:00:48.458824Z"
    },
    "papermill": {
     "duration": 0.067811,
     "end_time": "2024-05-08T20:00:48.462624",
     "exception": false,
     "start_time": "2024-05-08T20:00:48.394813",
     "status": "completed"
    },
    "tags": []
   },
   "outputs": [
    {
     "data": {
      "text/plain": [
       "array([1, 2, 3, 4])"
      ]
     },
     "execution_count": 70,
     "metadata": {},
     "output_type": "execute_result"
    }
   ],
   "source": [
    "arr[arr<5]"
   ]
  },
  {
   "cell_type": "code",
   "execution_count": 71,
   "id": "d100165b",
   "metadata": {
    "execution": {
     "iopub.execute_input": "2024-05-08T20:00:48.578985Z",
     "iopub.status.busy": "2024-05-08T20:00:48.578611Z",
     "iopub.status.idle": "2024-05-08T20:00:48.585590Z",
     "shell.execute_reply": "2024-05-08T20:00:48.584459Z"
    },
    "papermill": {
     "duration": 0.067897,
     "end_time": "2024-05-08T20:00:48.587995",
     "exception": false,
     "start_time": "2024-05-08T20:00:48.520098",
     "status": "completed"
    },
    "tags": []
   },
   "outputs": [
    {
     "data": {
      "text/plain": [
       "array([ 3,  4,  5, 10])"
      ]
     },
     "execution_count": 71,
     "metadata": {},
     "output_type": "execute_result"
    }
   ],
   "source": [
    "arr[arr>2]"
   ]
  },
  {
   "cell_type": "markdown",
   "id": "ae447a43",
   "metadata": {
    "papermill": {
     "duration": 0.055486,
     "end_time": "2024-05-08T20:00:48.703176",
     "exception": false,
     "start_time": "2024-05-08T20:00:48.647690",
     "status": "completed"
    },
    "tags": []
   },
   "source": [
    "# Scalar Math"
   ]
  },
  {
   "cell_type": "code",
   "execution_count": 72,
   "id": "230674e7",
   "metadata": {
    "execution": {
     "iopub.execute_input": "2024-05-08T20:00:48.821255Z",
     "iopub.status.busy": "2024-05-08T20:00:48.820417Z",
     "iopub.status.idle": "2024-05-08T20:00:48.828445Z",
     "shell.execute_reply": "2024-05-08T20:00:48.827008Z"
    },
    "papermill": {
     "duration": 0.069123,
     "end_time": "2024-05-08T20:00:48.831195",
     "exception": false,
     "start_time": "2024-05-08T20:00:48.762072",
     "status": "completed"
    },
    "tags": []
   },
   "outputs": [
    {
     "data": {
      "text/plain": [
       "array([[ 1,  2,  3],\n",
       "       [ 4,  5, 10]])"
      ]
     },
     "execution_count": 72,
     "metadata": {},
     "output_type": "execute_result"
    }
   ],
   "source": [
    "arr"
   ]
  },
  {
   "cell_type": "markdown",
   "id": "286dc332",
   "metadata": {
    "papermill": {
     "duration": 0.056146,
     "end_time": "2024-05-08T20:00:48.942861",
     "exception": false,
     "start_time": "2024-05-08T20:00:48.886715",
     "status": "completed"
    },
    "tags": []
   },
   "source": [
    "#### Add n to each arr ele"
   ]
  },
  {
   "cell_type": "code",
   "execution_count": 73,
   "id": "e804b501",
   "metadata": {
    "execution": {
     "iopub.execute_input": "2024-05-08T20:00:49.058046Z",
     "iopub.status.busy": "2024-05-08T20:00:49.057038Z",
     "iopub.status.idle": "2024-05-08T20:00:49.064669Z",
     "shell.execute_reply": "2024-05-08T20:00:49.063508Z"
    },
    "papermill": {
     "duration": 0.067391,
     "end_time": "2024-05-08T20:00:49.067244",
     "exception": false,
     "start_time": "2024-05-08T20:00:48.999853",
     "status": "completed"
    },
    "tags": []
   },
   "outputs": [
    {
     "data": {
      "text/plain": [
       "array([[ 2,  3,  4],\n",
       "       [ 5,  6, 11]])"
      ]
     },
     "execution_count": 73,
     "metadata": {},
     "output_type": "execute_result"
    }
   ],
   "source": [
    "np.add(arr,1) # n=1"
   ]
  },
  {
   "cell_type": "markdown",
   "id": "137117d2",
   "metadata": {
    "papermill": {
     "duration": 0.056284,
     "end_time": "2024-05-08T20:00:49.182029",
     "exception": false,
     "start_time": "2024-05-08T20:00:49.125745",
     "status": "completed"
    },
    "tags": []
   },
   "source": [
    "#### subtarct n to each arr ele"
   ]
  },
  {
   "cell_type": "code",
   "execution_count": 74,
   "id": "b5267ca4",
   "metadata": {
    "execution": {
     "iopub.execute_input": "2024-05-08T20:00:49.299327Z",
     "iopub.status.busy": "2024-05-08T20:00:49.298417Z",
     "iopub.status.idle": "2024-05-08T20:00:49.306541Z",
     "shell.execute_reply": "2024-05-08T20:00:49.305253Z"
    },
    "papermill": {
     "duration": 0.068751,
     "end_time": "2024-05-08T20:00:49.309661",
     "exception": false,
     "start_time": "2024-05-08T20:00:49.240910",
     "status": "completed"
    },
    "tags": []
   },
   "outputs": [
    {
     "data": {
      "text/plain": [
       "array([[-1,  0,  1],\n",
       "       [ 2,  3,  8]])"
      ]
     },
     "execution_count": 74,
     "metadata": {},
     "output_type": "execute_result"
    }
   ],
   "source": [
    "np.subtract(arr,2) # n=2"
   ]
  },
  {
   "cell_type": "markdown",
   "id": "f3c2f7a8",
   "metadata": {
    "papermill": {
     "duration": 0.055528,
     "end_time": "2024-05-08T20:00:49.421121",
     "exception": false,
     "start_time": "2024-05-08T20:00:49.365593",
     "status": "completed"
    },
    "tags": []
   },
   "source": [
    "#### Multiply n to each arr ele"
   ]
  },
  {
   "cell_type": "code",
   "execution_count": 75,
   "id": "2fe41b1b",
   "metadata": {
    "execution": {
     "iopub.execute_input": "2024-05-08T20:00:49.543959Z",
     "iopub.status.busy": "2024-05-08T20:00:49.543564Z",
     "iopub.status.idle": "2024-05-08T20:00:49.551404Z",
     "shell.execute_reply": "2024-05-08T20:00:49.550382Z"
    },
    "papermill": {
     "duration": 0.074917,
     "end_time": "2024-05-08T20:00:49.554061",
     "exception": false,
     "start_time": "2024-05-08T20:00:49.479144",
     "status": "completed"
    },
    "tags": []
   },
   "outputs": [
    {
     "data": {
      "text/plain": [
       "array([[ 3,  6,  9],\n",
       "       [12, 15, 30]])"
      ]
     },
     "execution_count": 75,
     "metadata": {},
     "output_type": "execute_result"
    }
   ],
   "source": [
    "np.multiply(arr, 3) # n=3"
   ]
  },
  {
   "cell_type": "markdown",
   "id": "73586a0a",
   "metadata": {
    "papermill": {
     "duration": 0.06923,
     "end_time": "2024-05-08T20:00:49.746669",
     "exception": false,
     "start_time": "2024-05-08T20:00:49.677439",
     "status": "completed"
    },
    "tags": []
   },
   "source": [
    "#### Divide n to each arr ele"
   ]
  },
  {
   "cell_type": "code",
   "execution_count": 76,
   "id": "f237b3ed",
   "metadata": {
    "execution": {
     "iopub.execute_input": "2024-05-08T20:00:49.882129Z",
     "iopub.status.busy": "2024-05-08T20:00:49.881722Z",
     "iopub.status.idle": "2024-05-08T20:00:49.889424Z",
     "shell.execute_reply": "2024-05-08T20:00:49.888110Z"
    },
    "papermill": {
     "duration": 0.069952,
     "end_time": "2024-05-08T20:00:49.892025",
     "exception": false,
     "start_time": "2024-05-08T20:00:49.822073",
     "status": "completed"
    },
    "tags": []
   },
   "outputs": [
    {
     "data": {
      "text/plain": [
       "array([[0.5, 1. , 1.5],\n",
       "       [2. , 2.5, 5. ]])"
      ]
     },
     "execution_count": 76,
     "metadata": {},
     "output_type": "execute_result"
    }
   ],
   "source": [
    "np.divide(arr, 2)"
   ]
  },
  {
   "cell_type": "markdown",
   "id": "06724cbf",
   "metadata": {
    "papermill": {
     "duration": 0.056199,
     "end_time": "2024-05-08T20:00:50.005813",
     "exception": false,
     "start_time": "2024-05-08T20:00:49.949614",
     "status": "completed"
    },
    "tags": []
   },
   "source": [
    "#### power of n to each arr ele"
   ]
  },
  {
   "cell_type": "code",
   "execution_count": 77,
   "id": "bf910b65",
   "metadata": {
    "execution": {
     "iopub.execute_input": "2024-05-08T20:00:50.130142Z",
     "iopub.status.busy": "2024-05-08T20:00:50.129713Z",
     "iopub.status.idle": "2024-05-08T20:00:50.137936Z",
     "shell.execute_reply": "2024-05-08T20:00:50.136474Z"
    },
    "papermill": {
     "duration": 0.076066,
     "end_time": "2024-05-08T20:00:50.140741",
     "exception": false,
     "start_time": "2024-05-08T20:00:50.064675",
     "status": "completed"
    },
    "tags": []
   },
   "outputs": [
    {
     "data": {
      "text/plain": [
       "array([[   1,    8,   27],\n",
       "       [  64,  125, 1000]])"
      ]
     },
     "execution_count": 77,
     "metadata": {},
     "output_type": "execute_result"
    }
   ],
   "source": [
    "np.power(arr, 3)# n=3"
   ]
  },
  {
   "cell_type": "markdown",
   "id": "597b798b",
   "metadata": {
    "papermill": {
     "duration": 0.055579,
     "end_time": "2024-05-08T20:00:50.253540",
     "exception": false,
     "start_time": "2024-05-08T20:00:50.197961",
     "status": "completed"
    },
    "tags": []
   },
   "source": [
    "# Vector Math"
   ]
  },
  {
   "cell_type": "code",
   "execution_count": 78,
   "id": "087bb612",
   "metadata": {
    "execution": {
     "iopub.execute_input": "2024-05-08T20:00:50.368746Z",
     "iopub.status.busy": "2024-05-08T20:00:50.368341Z",
     "iopub.status.idle": "2024-05-08T20:00:50.374967Z",
     "shell.execute_reply": "2024-05-08T20:00:50.374098Z"
    },
    "papermill": {
     "duration": 0.066982,
     "end_time": "2024-05-08T20:00:50.377100",
     "exception": false,
     "start_time": "2024-05-08T20:00:50.310118",
     "status": "completed"
    },
    "tags": []
   },
   "outputs": [
    {
     "data": {
      "text/plain": [
       "array([[1, 2, 3],\n",
       "       [4, 5, 6]])"
      ]
     },
     "execution_count": 78,
     "metadata": {},
     "output_type": "execute_result"
    }
   ],
   "source": [
    "arr1 = np.array([(1,2,3), (4,5,6)])\n",
    "arr1"
   ]
  },
  {
   "cell_type": "code",
   "execution_count": 79,
   "id": "a97af955",
   "metadata": {
    "execution": {
     "iopub.execute_input": "2024-05-08T20:00:50.492451Z",
     "iopub.status.busy": "2024-05-08T20:00:50.492031Z",
     "iopub.status.idle": "2024-05-08T20:00:50.500147Z",
     "shell.execute_reply": "2024-05-08T20:00:50.498836Z"
    },
    "papermill": {
     "duration": 0.068735,
     "end_time": "2024-05-08T20:00:50.502747",
     "exception": false,
     "start_time": "2024-05-08T20:00:50.434012",
     "status": "completed"
    },
    "tags": []
   },
   "outputs": [
    {
     "data": {
      "text/plain": [
       "array([[4, 5, 6],\n",
       "       [7, 8, 9]])"
      ]
     },
     "execution_count": 79,
     "metadata": {},
     "output_type": "execute_result"
    }
   ],
   "source": [
    "arr2 = np.array([(4,5,6), (7,8,9)])\n",
    "arr2"
   ]
  },
  {
   "cell_type": "markdown",
   "id": "46c41305",
   "metadata": {
    "papermill": {
     "duration": 0.060267,
     "end_time": "2024-05-08T20:00:50.620522",
     "exception": false,
     "start_time": "2024-05-08T20:00:50.560255",
     "status": "completed"
    },
    "tags": []
   },
   "source": [
    "#### Vectors Addition"
   ]
  },
  {
   "cell_type": "code",
   "execution_count": 80,
   "id": "694158cb",
   "metadata": {
    "execution": {
     "iopub.execute_input": "2024-05-08T20:00:50.739536Z",
     "iopub.status.busy": "2024-05-08T20:00:50.739107Z",
     "iopub.status.idle": "2024-05-08T20:00:50.746012Z",
     "shell.execute_reply": "2024-05-08T20:00:50.745115Z"
    },
    "papermill": {
     "duration": 0.067293,
     "end_time": "2024-05-08T20:00:50.748478",
     "exception": false,
     "start_time": "2024-05-08T20:00:50.681185",
     "status": "completed"
    },
    "tags": []
   },
   "outputs": [
    {
     "data": {
      "text/plain": [
       "array([[ 5,  7,  9],\n",
       "       [11, 13, 15]])"
      ]
     },
     "execution_count": 80,
     "metadata": {},
     "output_type": "execute_result"
    }
   ],
   "source": [
    "np.add(arr1, arr2)"
   ]
  },
  {
   "cell_type": "markdown",
   "id": "87f83257",
   "metadata": {
    "papermill": {
     "duration": 0.059416,
     "end_time": "2024-05-08T20:00:50.867023",
     "exception": false,
     "start_time": "2024-05-08T20:00:50.807607",
     "status": "completed"
    },
    "tags": []
   },
   "source": [
    "#### Vectors Subtraction "
   ]
  },
  {
   "cell_type": "code",
   "execution_count": 81,
   "id": "9f05bad8",
   "metadata": {
    "execution": {
     "iopub.execute_input": "2024-05-08T20:00:50.985848Z",
     "iopub.status.busy": "2024-05-08T20:00:50.985416Z",
     "iopub.status.idle": "2024-05-08T20:00:50.994256Z",
     "shell.execute_reply": "2024-05-08T20:00:50.992625Z"
    },
    "papermill": {
     "duration": 0.071909,
     "end_time": "2024-05-08T20:00:50.997233",
     "exception": false,
     "start_time": "2024-05-08T20:00:50.925324",
     "status": "completed"
    },
    "tags": []
   },
   "outputs": [
    {
     "data": {
      "text/plain": [
       "array([[3, 3, 3],\n",
       "       [3, 3, 3]])"
      ]
     },
     "execution_count": 81,
     "metadata": {},
     "output_type": "execute_result"
    }
   ],
   "source": [
    "np.subtract(arr2, arr1)"
   ]
  },
  {
   "cell_type": "markdown",
   "id": "3164b7de",
   "metadata": {
    "papermill": {
     "duration": 0.059609,
     "end_time": "2024-05-08T20:00:51.115477",
     "exception": false,
     "start_time": "2024-05-08T20:00:51.055868",
     "status": "completed"
    },
    "tags": []
   },
   "source": [
    "#### Vectors Multiplication "
   ]
  },
  {
   "cell_type": "code",
   "execution_count": 82,
   "id": "6423b481",
   "metadata": {
    "execution": {
     "iopub.execute_input": "2024-05-08T20:00:51.238332Z",
     "iopub.status.busy": "2024-05-08T20:00:51.237885Z",
     "iopub.status.idle": "2024-05-08T20:00:51.245137Z",
     "shell.execute_reply": "2024-05-08T20:00:51.244157Z"
    },
    "papermill": {
     "duration": 0.070043,
     "end_time": "2024-05-08T20:00:51.247770",
     "exception": false,
     "start_time": "2024-05-08T20:00:51.177727",
     "status": "completed"
    },
    "tags": []
   },
   "outputs": [
    {
     "data": {
      "text/plain": [
       "array([[ 4, 10, 18],\n",
       "       [28, 40, 54]])"
      ]
     },
     "execution_count": 82,
     "metadata": {},
     "output_type": "execute_result"
    }
   ],
   "source": [
    "np.multiply(arr1, arr2)"
   ]
  },
  {
   "cell_type": "markdown",
   "id": "206030dc",
   "metadata": {
    "papermill": {
     "duration": 0.056854,
     "end_time": "2024-05-08T20:00:51.362631",
     "exception": false,
     "start_time": "2024-05-08T20:00:51.305777",
     "status": "completed"
    },
    "tags": []
   },
   "source": [
    "#### Vectors Division "
   ]
  },
  {
   "cell_type": "code",
   "execution_count": 83,
   "id": "dadc522e",
   "metadata": {
    "execution": {
     "iopub.execute_input": "2024-05-08T20:00:51.482064Z",
     "iopub.status.busy": "2024-05-08T20:00:51.481608Z",
     "iopub.status.idle": "2024-05-08T20:00:51.489030Z",
     "shell.execute_reply": "2024-05-08T20:00:51.488033Z"
    },
    "papermill": {
     "duration": 0.071356,
     "end_time": "2024-05-08T20:00:51.491587",
     "exception": false,
     "start_time": "2024-05-08T20:00:51.420231",
     "status": "completed"
    },
    "tags": []
   },
   "outputs": [
    {
     "data": {
      "text/plain": [
       "array([[4.  , 2.5 , 2.  ],\n",
       "       [1.75, 1.6 , 1.5 ]])"
      ]
     },
     "execution_count": 83,
     "metadata": {},
     "output_type": "execute_result"
    }
   ],
   "source": [
    "np.divide(arr2, arr1)"
   ]
  },
  {
   "cell_type": "markdown",
   "id": "12700414",
   "metadata": {
    "papermill": {
     "duration": 0.059875,
     "end_time": "2024-05-08T20:00:51.609931",
     "exception": false,
     "start_time": "2024-05-08T20:00:51.550056",
     "status": "completed"
    },
    "tags": []
   },
   "source": [
    "#### Vectors Power "
   ]
  },
  {
   "cell_type": "code",
   "execution_count": 84,
   "id": "9f9a4806",
   "metadata": {
    "execution": {
     "iopub.execute_input": "2024-05-08T20:00:51.733137Z",
     "iopub.status.busy": "2024-05-08T20:00:51.732680Z",
     "iopub.status.idle": "2024-05-08T20:00:51.740747Z",
     "shell.execute_reply": "2024-05-08T20:00:51.739455Z"
    },
    "papermill": {
     "duration": 0.071988,
     "end_time": "2024-05-08T20:00:51.743256",
     "exception": false,
     "start_time": "2024-05-08T20:00:51.671268",
     "status": "completed"
    },
    "tags": []
   },
   "outputs": [
    {
     "data": {
      "text/plain": [
       "array([[       1,       32,      729],\n",
       "       [   16384,   390625, 10077696]])"
      ]
     },
     "execution_count": 84,
     "metadata": {},
     "output_type": "execute_result"
    }
   ],
   "source": [
    "np.power(arr1, arr2)"
   ]
  },
  {
   "cell_type": "markdown",
   "id": "47860204",
   "metadata": {
    "papermill": {
     "duration": 0.057882,
     "end_time": "2024-05-08T20:00:51.858828",
     "exception": false,
     "start_time": "2024-05-08T20:00:51.800946",
     "status": "completed"
    },
    "tags": []
   },
   "source": [
    "#### Array Equal"
   ]
  },
  {
   "cell_type": "markdown",
   "id": "9a4f7e68",
   "metadata": {
    "papermill": {
     "duration": 0.058436,
     "end_time": "2024-05-08T20:00:51.976429",
     "exception": false,
     "start_time": "2024-05-08T20:00:51.917993",
     "status": "completed"
    },
    "tags": []
   },
   "source": [
    ">  Returns True if the arr have the same ele and shape"
   ]
  },
  {
   "cell_type": "code",
   "execution_count": 85,
   "id": "e68dbb77",
   "metadata": {
    "execution": {
     "iopub.execute_input": "2024-05-08T20:00:52.094350Z",
     "iopub.status.busy": "2024-05-08T20:00:52.093948Z",
     "iopub.status.idle": "2024-05-08T20:00:52.101444Z",
     "shell.execute_reply": "2024-05-08T20:00:52.100080Z"
    },
    "papermill": {
     "duration": 0.069587,
     "end_time": "2024-05-08T20:00:52.104136",
     "exception": false,
     "start_time": "2024-05-08T20:00:52.034549",
     "status": "completed"
    },
    "tags": []
   },
   "outputs": [
    {
     "data": {
      "text/plain": [
       "False"
      ]
     },
     "execution_count": 85,
     "metadata": {},
     "output_type": "execute_result"
    }
   ],
   "source": [
    "np.array_equal(arr1,arr2)"
   ]
  },
  {
   "cell_type": "code",
   "execution_count": 86,
   "id": "817bb4a3",
   "metadata": {
    "execution": {
     "iopub.execute_input": "2024-05-08T20:00:52.229035Z",
     "iopub.status.busy": "2024-05-08T20:00:52.228607Z",
     "iopub.status.idle": "2024-05-08T20:00:52.236779Z",
     "shell.execute_reply": "2024-05-08T20:00:52.235392Z"
    },
    "papermill": {
     "duration": 0.075006,
     "end_time": "2024-05-08T20:00:52.240309",
     "exception": false,
     "start_time": "2024-05-08T20:00:52.165303",
     "status": "completed"
    },
    "tags": []
   },
   "outputs": [
    {
     "data": {
      "text/plain": [
       "array([[ 1,  2,  3],\n",
       "       [ 4,  5, 10]])"
      ]
     },
     "execution_count": 86,
     "metadata": {},
     "output_type": "execute_result"
    }
   ],
   "source": [
    "arr"
   ]
  },
  {
   "cell_type": "code",
   "execution_count": 87,
   "id": "21eb28b0",
   "metadata": {
    "execution": {
     "iopub.execute_input": "2024-05-08T20:00:52.358161Z",
     "iopub.status.busy": "2024-05-08T20:00:52.357734Z",
     "iopub.status.idle": "2024-05-08T20:00:52.365117Z",
     "shell.execute_reply": "2024-05-08T20:00:52.364222Z"
    },
    "papermill": {
     "duration": 0.068715,
     "end_time": "2024-05-08T20:00:52.367575",
     "exception": false,
     "start_time": "2024-05-08T20:00:52.298860",
     "status": "completed"
    },
    "tags": []
   },
   "outputs": [
    {
     "data": {
      "text/plain": [
       "array([[1, 2, 3],\n",
       "       [4, 5, 6]])"
      ]
     },
     "execution_count": 87,
     "metadata": {},
     "output_type": "execute_result"
    }
   ],
   "source": [
    "arr = np.array([(1,2,3),(4,5,6)])\n",
    "arr"
   ]
  },
  {
   "cell_type": "markdown",
   "id": "17ff92bf",
   "metadata": {
    "papermill": {
     "duration": 0.057795,
     "end_time": "2024-05-08T20:00:52.483911",
     "exception": false,
     "start_time": "2024-05-08T20:00:52.426116",
     "status": "completed"
    },
    "tags": []
   },
   "source": [
    "#### log of each ele"
   ]
  },
  {
   "cell_type": "code",
   "execution_count": 88,
   "id": "f09f33b3",
   "metadata": {
    "execution": {
     "iopub.execute_input": "2024-05-08T20:00:52.605520Z",
     "iopub.status.busy": "2024-05-08T20:00:52.605074Z",
     "iopub.status.idle": "2024-05-08T20:00:52.612723Z",
     "shell.execute_reply": "2024-05-08T20:00:52.611579Z"
    },
    "papermill": {
     "duration": 0.071319,
     "end_time": "2024-05-08T20:00:52.615356",
     "exception": false,
     "start_time": "2024-05-08T20:00:52.544037",
     "status": "completed"
    },
    "tags": []
   },
   "outputs": [
    {
     "data": {
      "text/plain": [
       "array([[0.        , 0.69314718, 1.09861229],\n",
       "       [1.38629436, 1.60943791, 1.79175947]])"
      ]
     },
     "execution_count": 88,
     "metadata": {},
     "output_type": "execute_result"
    }
   ],
   "source": [
    "np.log(arr)"
   ]
  },
  {
   "cell_type": "markdown",
   "id": "e75ff95e",
   "metadata": {
    "papermill": {
     "duration": 0.058744,
     "end_time": "2024-05-08T20:00:52.733884",
     "exception": false,
     "start_time": "2024-05-08T20:00:52.675140",
     "status": "completed"
    },
    "tags": []
   },
   "source": [
    "#### Sqrt of each ele in the arr"
   ]
  },
  {
   "cell_type": "code",
   "execution_count": 89,
   "id": "9e957711",
   "metadata": {
    "execution": {
     "iopub.execute_input": "2024-05-08T20:00:52.853525Z",
     "iopub.status.busy": "2024-05-08T20:00:52.853067Z",
     "iopub.status.idle": "2024-05-08T20:00:52.860470Z",
     "shell.execute_reply": "2024-05-08T20:00:52.859324Z"
    },
    "papermill": {
     "duration": 0.070693,
     "end_time": "2024-05-08T20:00:52.863125",
     "exception": false,
     "start_time": "2024-05-08T20:00:52.792432",
     "status": "completed"
    },
    "tags": []
   },
   "outputs": [
    {
     "data": {
      "text/plain": [
       "array([[1.        , 1.41421356, 1.73205081],\n",
       "       [2.        , 2.23606798, 2.44948974]])"
      ]
     },
     "execution_count": 89,
     "metadata": {},
     "output_type": "execute_result"
    }
   ],
   "source": [
    "np.sqrt(arr)"
   ]
  },
  {
   "cell_type": "markdown",
   "id": "addc5b4f",
   "metadata": {
    "papermill": {
     "duration": 0.060217,
     "end_time": "2024-05-08T20:00:52.981770",
     "exception": false,
     "start_time": "2024-05-08T20:00:52.921553",
     "status": "completed"
    },
    "tags": []
   },
   "source": [
    "#### sin of each ele"
   ]
  },
  {
   "cell_type": "code",
   "execution_count": 90,
   "id": "68273072",
   "metadata": {
    "execution": {
     "iopub.execute_input": "2024-05-08T20:00:53.104048Z",
     "iopub.status.busy": "2024-05-08T20:00:53.103023Z",
     "iopub.status.idle": "2024-05-08T20:00:53.115755Z",
     "shell.execute_reply": "2024-05-08T20:00:53.114503Z"
    },
    "papermill": {
     "duration": 0.075892,
     "end_time": "2024-05-08T20:00:53.118416",
     "exception": false,
     "start_time": "2024-05-08T20:00:53.042524",
     "status": "completed"
    },
    "tags": []
   },
   "outputs": [
    {
     "data": {
      "text/plain": [
       "array([[ 0.84147098,  0.90929743,  0.14112001],\n",
       "       [-0.7568025 , -0.95892427, -0.2794155 ]])"
      ]
     },
     "execution_count": 90,
     "metadata": {},
     "output_type": "execute_result"
    }
   ],
   "source": [
    "arr = np.sin(arr)\n",
    "arr"
   ]
  },
  {
   "cell_type": "markdown",
   "id": "fc6f3a07",
   "metadata": {
    "papermill": {
     "duration": 0.063738,
     "end_time": "2024-05-08T20:00:53.245238",
     "exception": false,
     "start_time": "2024-05-08T20:00:53.181500",
     "status": "completed"
    },
    "tags": []
   },
   "source": [
    "#### Absolute of each ele in arr"
   ]
  },
  {
   "cell_type": "code",
   "execution_count": 91,
   "id": "7a955f86",
   "metadata": {
    "execution": {
     "iopub.execute_input": "2024-05-08T20:00:53.365321Z",
     "iopub.status.busy": "2024-05-08T20:00:53.364902Z",
     "iopub.status.idle": "2024-05-08T20:00:53.372187Z",
     "shell.execute_reply": "2024-05-08T20:00:53.371060Z"
    },
    "papermill": {
     "duration": 0.071231,
     "end_time": "2024-05-08T20:00:53.374919",
     "exception": false,
     "start_time": "2024-05-08T20:00:53.303688",
     "status": "completed"
    },
    "tags": []
   },
   "outputs": [
    {
     "data": {
      "text/plain": [
       "array([[0.84147098, 0.90929743, 0.14112001],\n",
       "       [0.7568025 , 0.95892427, 0.2794155 ]])"
      ]
     },
     "execution_count": 91,
     "metadata": {},
     "output_type": "execute_result"
    }
   ],
   "source": [
    "arr = np.abs(arr)\n",
    "arr"
   ]
  },
  {
   "cell_type": "markdown",
   "id": "bfb20ab5",
   "metadata": {
    "papermill": {
     "duration": 0.063127,
     "end_time": "2024-05-08T20:00:53.498239",
     "exception": false,
     "start_time": "2024-05-08T20:00:53.435112",
     "status": "completed"
    },
    "tags": []
   },
   "source": [
    "#### Ceil "
   ]
  },
  {
   "cell_type": "markdown",
   "id": "8abaf29e",
   "metadata": {
    "papermill": {
     "duration": 0.058042,
     "end_time": "2024-05-08T20:00:53.614780",
     "exception": false,
     "start_time": "2024-05-08T20:00:53.556738",
     "status": "completed"
    },
    "tags": []
   },
   "source": [
    "> Rounds up to the nearest int"
   ]
  },
  {
   "cell_type": "code",
   "execution_count": 92,
   "id": "518302fb",
   "metadata": {
    "execution": {
     "iopub.execute_input": "2024-05-08T20:00:53.740887Z",
     "iopub.status.busy": "2024-05-08T20:00:53.740508Z",
     "iopub.status.idle": "2024-05-08T20:00:53.748092Z",
     "shell.execute_reply": "2024-05-08T20:00:53.746865Z"
    },
    "papermill": {
     "duration": 0.074616,
     "end_time": "2024-05-08T20:00:53.750716",
     "exception": false,
     "start_time": "2024-05-08T20:00:53.676100",
     "status": "completed"
    },
    "tags": []
   },
   "outputs": [
    {
     "data": {
      "text/plain": [
       "array([[1., 1., 1.],\n",
       "       [1., 1., 1.]])"
      ]
     },
     "execution_count": 92,
     "metadata": {},
     "output_type": "execute_result"
    }
   ],
   "source": [
    "np.ceil(arr)"
   ]
  },
  {
   "cell_type": "markdown",
   "id": "31a0f153",
   "metadata": {
    "papermill": {
     "duration": 0.059184,
     "end_time": "2024-05-08T20:00:53.870038",
     "exception": false,
     "start_time": "2024-05-08T20:00:53.810854",
     "status": "completed"
    },
    "tags": []
   },
   "source": [
    "#### Floor"
   ]
  },
  {
   "cell_type": "markdown",
   "id": "f5959659",
   "metadata": {
    "papermill": {
     "duration": 0.05788,
     "end_time": "2024-05-08T20:00:53.986205",
     "exception": false,
     "start_time": "2024-05-08T20:00:53.928325",
     "status": "completed"
    },
    "tags": []
   },
   "source": [
    "> Rounds down to the nearest int"
   ]
  },
  {
   "cell_type": "code",
   "execution_count": 93,
   "id": "0c84714e",
   "metadata": {
    "execution": {
     "iopub.execute_input": "2024-05-08T20:00:54.105533Z",
     "iopub.status.busy": "2024-05-08T20:00:54.105133Z",
     "iopub.status.idle": "2024-05-08T20:00:54.111883Z",
     "shell.execute_reply": "2024-05-08T20:00:54.110829Z"
    },
    "papermill": {
     "duration": 0.069996,
     "end_time": "2024-05-08T20:00:54.114415",
     "exception": false,
     "start_time": "2024-05-08T20:00:54.044419",
     "status": "completed"
    },
    "tags": []
   },
   "outputs": [
    {
     "data": {
      "text/plain": [
       "array([[0., 0., 0.],\n",
       "       [0., 0., 0.]])"
      ]
     },
     "execution_count": 93,
     "metadata": {},
     "output_type": "execute_result"
    }
   ],
   "source": [
    "np.floor(arr)"
   ]
  },
  {
   "cell_type": "markdown",
   "id": "c8c58331",
   "metadata": {
    "papermill": {
     "duration": 0.05884,
     "end_time": "2024-05-08T20:00:54.232640",
     "exception": false,
     "start_time": "2024-05-08T20:00:54.173800",
     "status": "completed"
    },
    "tags": []
   },
   "source": [
    "#### Round"
   ]
  },
  {
   "cell_type": "markdown",
   "id": "df6fdbe4",
   "metadata": {
    "papermill": {
     "duration": 0.058105,
     "end_time": "2024-05-08T20:00:54.350142",
     "exception": false,
     "start_time": "2024-05-08T20:00:54.292037",
     "status": "completed"
    },
    "tags": []
   },
   "source": [
    "> Rounds to the nearest int"
   ]
  },
  {
   "cell_type": "code",
   "execution_count": 94,
   "id": "dddd6e49",
   "metadata": {
    "execution": {
     "iopub.execute_input": "2024-05-08T20:00:54.469190Z",
     "iopub.status.busy": "2024-05-08T20:00:54.468816Z",
     "iopub.status.idle": "2024-05-08T20:00:54.476514Z",
     "shell.execute_reply": "2024-05-08T20:00:54.475312Z"
    },
    "papermill": {
     "duration": 0.070167,
     "end_time": "2024-05-08T20:00:54.479268",
     "exception": false,
     "start_time": "2024-05-08T20:00:54.409101",
     "status": "completed"
    },
    "tags": []
   },
   "outputs": [
    {
     "data": {
      "text/plain": [
       "array([[1., 1., 0.],\n",
       "       [1., 1., 0.]])"
      ]
     },
     "execution_count": 94,
     "metadata": {},
     "output_type": "execute_result"
    }
   ],
   "source": [
    "np.round(arr)"
   ]
  },
  {
   "cell_type": "markdown",
   "id": "ad052c30",
   "metadata": {
    "papermill": {
     "duration": 0.060058,
     "end_time": "2024-05-08T20:00:54.603898",
     "exception": false,
     "start_time": "2024-05-08T20:00:54.543840",
     "status": "completed"
    },
    "tags": []
   },
   "source": [
    "# Statistics"
   ]
  },
  {
   "cell_type": "code",
   "execution_count": 95,
   "id": "fed0cbb1",
   "metadata": {
    "execution": {
     "iopub.execute_input": "2024-05-08T20:00:54.728219Z",
     "iopub.status.busy": "2024-05-08T20:00:54.727838Z",
     "iopub.status.idle": "2024-05-08T20:00:54.735184Z",
     "shell.execute_reply": "2024-05-08T20:00:54.733681Z"
    },
    "papermill": {
     "duration": 0.073018,
     "end_time": "2024-05-08T20:00:54.737995",
     "exception": false,
     "start_time": "2024-05-08T20:00:54.664977",
     "status": "completed"
    },
    "tags": []
   },
   "outputs": [
    {
     "data": {
      "text/plain": [
       "array([[1, 2, 3],\n",
       "       [4, 5, 6]])"
      ]
     },
     "execution_count": 95,
     "metadata": {},
     "output_type": "execute_result"
    }
   ],
   "source": [
    "arr = np.array([(1,2,3),(4,5,6)])\n",
    "arr"
   ]
  },
  {
   "cell_type": "markdown",
   "id": "cb8401ed",
   "metadata": {
    "papermill": {
     "duration": 0.059189,
     "end_time": "2024-05-08T20:00:54.861603",
     "exception": false,
     "start_time": "2024-05-08T20:00:54.802414",
     "status": "completed"
    },
    "tags": []
   },
   "source": [
    "#### Mean"
   ]
  },
  {
   "cell_type": "markdown",
   "id": "11a30667",
   "metadata": {
    "papermill": {
     "duration": 0.058743,
     "end_time": "2024-05-08T20:00:54.980684",
     "exception": false,
     "start_time": "2024-05-08T20:00:54.921941",
     "status": "completed"
    },
    "tags": []
   },
   "source": [
    "> Returns mean along specific axis"
   ]
  },
  {
   "cell_type": "code",
   "execution_count": 96,
   "id": "d334d9bf",
   "metadata": {
    "execution": {
     "iopub.execute_input": "2024-05-08T20:00:55.106675Z",
     "iopub.status.busy": "2024-05-08T20:00:55.106260Z",
     "iopub.status.idle": "2024-05-08T20:00:55.114865Z",
     "shell.execute_reply": "2024-05-08T20:00:55.113131Z"
    },
    "papermill": {
     "duration": 0.073172,
     "end_time": "2024-05-08T20:00:55.117567",
     "exception": false,
     "start_time": "2024-05-08T20:00:55.044395",
     "status": "completed"
    },
    "tags": []
   },
   "outputs": [
    {
     "data": {
      "text/plain": [
       "array([2.5, 3.5, 4.5])"
      ]
     },
     "execution_count": 96,
     "metadata": {},
     "output_type": "execute_result"
    }
   ],
   "source": [
    "np.mean(arr, axis=0)"
   ]
  },
  {
   "cell_type": "code",
   "execution_count": 97,
   "id": "f0db65d5",
   "metadata": {
    "execution": {
     "iopub.execute_input": "2024-05-08T20:00:55.250801Z",
     "iopub.status.busy": "2024-05-08T20:00:55.250244Z",
     "iopub.status.idle": "2024-05-08T20:00:55.258509Z",
     "shell.execute_reply": "2024-05-08T20:00:55.257231Z"
    },
    "papermill": {
     "duration": 0.082374,
     "end_time": "2024-05-08T20:00:55.262827",
     "exception": false,
     "start_time": "2024-05-08T20:00:55.180453",
     "status": "completed"
    },
    "tags": []
   },
   "outputs": [
    {
     "data": {
      "text/plain": [
       "array([2., 5.])"
      ]
     },
     "execution_count": 97,
     "metadata": {},
     "output_type": "execute_result"
    }
   ],
   "source": [
    "np.mean(arr, axis=1)"
   ]
  },
  {
   "cell_type": "markdown",
   "id": "c221b8f4",
   "metadata": {
    "papermill": {
     "duration": 0.061341,
     "end_time": "2024-05-08T20:00:55.386400",
     "exception": false,
     "start_time": "2024-05-08T20:00:55.325059",
     "status": "completed"
    },
    "tags": []
   },
   "source": [
    "#### Sum"
   ]
  },
  {
   "cell_type": "markdown",
   "id": "692d5540",
   "metadata": {
    "papermill": {
     "duration": 0.059295,
     "end_time": "2024-05-08T20:00:55.508176",
     "exception": false,
     "start_time": "2024-05-08T20:00:55.448881",
     "status": "completed"
    },
    "tags": []
   },
   "source": [
    "> Returns sum of arr"
   ]
  },
  {
   "cell_type": "code",
   "execution_count": 98,
   "id": "b2959cec",
   "metadata": {
    "execution": {
     "iopub.execute_input": "2024-05-08T20:00:55.632092Z",
     "iopub.status.busy": "2024-05-08T20:00:55.631597Z",
     "iopub.status.idle": "2024-05-08T20:00:55.640338Z",
     "shell.execute_reply": "2024-05-08T20:00:55.638848Z"
    },
    "papermill": {
     "duration": 0.075363,
     "end_time": "2024-05-08T20:00:55.643748",
     "exception": false,
     "start_time": "2024-05-08T20:00:55.568385",
     "status": "completed"
    },
    "tags": []
   },
   "outputs": [
    {
     "data": {
      "text/plain": [
       "21"
      ]
     },
     "execution_count": 98,
     "metadata": {},
     "output_type": "execute_result"
    }
   ],
   "source": [
    "arr.sum()"
   ]
  },
  {
   "cell_type": "markdown",
   "id": "33d63782",
   "metadata": {
    "papermill": {
     "duration": 0.060318,
     "end_time": "2024-05-08T20:00:55.764699",
     "exception": false,
     "start_time": "2024-05-08T20:00:55.704381",
     "status": "completed"
    },
    "tags": []
   },
   "source": [
    "### Min"
   ]
  },
  {
   "cell_type": "code",
   "execution_count": 99,
   "id": "863d29b7",
   "metadata": {
    "execution": {
     "iopub.execute_input": "2024-05-08T20:00:55.887684Z",
     "iopub.status.busy": "2024-05-08T20:00:55.887255Z",
     "iopub.status.idle": "2024-05-08T20:00:55.894057Z",
     "shell.execute_reply": "2024-05-08T20:00:55.892911Z"
    },
    "papermill": {
     "duration": 0.070928,
     "end_time": "2024-05-08T20:00:55.896809",
     "exception": false,
     "start_time": "2024-05-08T20:00:55.825881",
     "status": "completed"
    },
    "tags": []
   },
   "outputs": [
    {
     "data": {
      "text/plain": [
       "1"
      ]
     },
     "execution_count": 99,
     "metadata": {},
     "output_type": "execute_result"
    }
   ],
   "source": [
    "arr.min()"
   ]
  },
  {
   "cell_type": "markdown",
   "id": "65e66cd2",
   "metadata": {
    "papermill": {
     "duration": 0.060801,
     "end_time": "2024-05-08T20:00:56.018222",
     "exception": false,
     "start_time": "2024-05-08T20:00:55.957421",
     "status": "completed"
    },
    "tags": []
   },
   "source": [
    "#### Max"
   ]
  },
  {
   "cell_type": "code",
   "execution_count": 100,
   "id": "418369cb",
   "metadata": {
    "execution": {
     "iopub.execute_input": "2024-05-08T20:00:56.141939Z",
     "iopub.status.busy": "2024-05-08T20:00:56.141550Z",
     "iopub.status.idle": "2024-05-08T20:00:56.149056Z",
     "shell.execute_reply": "2024-05-08T20:00:56.147779Z"
    },
    "papermill": {
     "duration": 0.073228,
     "end_time": "2024-05-08T20:00:56.151700",
     "exception": false,
     "start_time": "2024-05-08T20:00:56.078472",
     "status": "completed"
    },
    "tags": []
   },
   "outputs": [
    {
     "data": {
      "text/plain": [
       "array([4, 5, 6])"
      ]
     },
     "execution_count": 100,
     "metadata": {},
     "output_type": "execute_result"
    }
   ],
   "source": [
    "arr.max(axis=0)"
   ]
  },
  {
   "cell_type": "markdown",
   "id": "667e6efb",
   "metadata": {
    "papermill": {
     "duration": 0.061899,
     "end_time": "2024-05-08T20:00:56.277909",
     "exception": false,
     "start_time": "2024-05-08T20:00:56.216010",
     "status": "completed"
    },
    "tags": []
   },
   "source": [
    "#### Variance"
   ]
  },
  {
   "cell_type": "markdown",
   "id": "beb0500d",
   "metadata": {
    "papermill": {
     "duration": 0.060261,
     "end_time": "2024-05-08T20:00:56.401476",
     "exception": false,
     "start_time": "2024-05-08T20:00:56.341215",
     "status": "completed"
    },
    "tags": []
   },
   "source": [
    "> Returns the variance of specific axis"
   ]
  },
  {
   "cell_type": "code",
   "execution_count": 101,
   "id": "c3dce21c",
   "metadata": {
    "execution": {
     "iopub.execute_input": "2024-05-08T20:00:56.523838Z",
     "iopub.status.busy": "2024-05-08T20:00:56.523442Z",
     "iopub.status.idle": "2024-05-08T20:00:56.531174Z",
     "shell.execute_reply": "2024-05-08T20:00:56.529907Z"
    },
    "papermill": {
     "duration": 0.071693,
     "end_time": "2024-05-08T20:00:56.533826",
     "exception": false,
     "start_time": "2024-05-08T20:00:56.462133",
     "status": "completed"
    },
    "tags": []
   },
   "outputs": [
    {
     "data": {
      "text/plain": [
       "array([2.25, 2.25, 2.25])"
      ]
     },
     "execution_count": 101,
     "metadata": {},
     "output_type": "execute_result"
    }
   ],
   "source": [
    "np.var(arr, axis=0)"
   ]
  },
  {
   "cell_type": "markdown",
   "id": "4b00e721",
   "metadata": {
    "papermill": {
     "duration": 0.060863,
     "end_time": "2024-05-08T20:00:56.658076",
     "exception": false,
     "start_time": "2024-05-08T20:00:56.597213",
     "status": "completed"
    },
    "tags": []
   },
   "source": [
    "#### Standard Deviation"
   ]
  },
  {
   "cell_type": "markdown",
   "id": "cc809223",
   "metadata": {
    "papermill": {
     "duration": 0.065065,
     "end_time": "2024-05-08T20:00:56.785502",
     "exception": false,
     "start_time": "2024-05-08T20:00:56.720437",
     "status": "completed"
    },
    "tags": []
   },
   "source": [
    "> Returns the standard deviation of specific axis"
   ]
  },
  {
   "cell_type": "code",
   "execution_count": 102,
   "id": "3c631f5e",
   "metadata": {
    "execution": {
     "iopub.execute_input": "2024-05-08T20:00:56.910530Z",
     "iopub.status.busy": "2024-05-08T20:00:56.909798Z",
     "iopub.status.idle": "2024-05-08T20:00:56.916596Z",
     "shell.execute_reply": "2024-05-08T20:00:56.915647Z"
    },
    "papermill": {
     "duration": 0.07166,
     "end_time": "2024-05-08T20:00:56.918897",
     "exception": false,
     "start_time": "2024-05-08T20:00:56.847237",
     "status": "completed"
    },
    "tags": []
   },
   "outputs": [
    {
     "data": {
      "text/plain": [
       "array([0.81649658, 0.81649658])"
      ]
     },
     "execution_count": 102,
     "metadata": {},
     "output_type": "execute_result"
    }
   ],
   "source": [
    "np.std(arr, axis=1)"
   ]
  },
  {
   "cell_type": "markdown",
   "id": "edaaae5a",
   "metadata": {
    "papermill": {
     "duration": 0.059935,
     "end_time": "2024-05-08T20:00:57.039244",
     "exception": false,
     "start_time": "2024-05-08T20:00:56.979309",
     "status": "completed"
    },
    "tags": []
   },
   "source": [
    "#### Correlation"
   ]
  },
  {
   "cell_type": "markdown",
   "id": "7fe2e9b8",
   "metadata": {
    "papermill": {
     "duration": 0.060246,
     "end_time": "2024-05-08T20:00:57.161924",
     "exception": false,
     "start_time": "2024-05-08T20:00:57.101678",
     "status": "completed"
    },
    "tags": []
   },
   "source": [
    "> Returns correlation coefficient of array"
   ]
  },
  {
   "cell_type": "code",
   "execution_count": 103,
   "id": "afa12f12",
   "metadata": {
    "execution": {
     "iopub.execute_input": "2024-05-08T20:00:57.288049Z",
     "iopub.status.busy": "2024-05-08T20:00:57.287075Z",
     "iopub.status.idle": "2024-05-08T20:00:57.297858Z",
     "shell.execute_reply": "2024-05-08T20:00:57.296967Z"
    },
    "papermill": {
     "duration": 0.075997,
     "end_time": "2024-05-08T20:00:57.300236",
     "exception": false,
     "start_time": "2024-05-08T20:00:57.224239",
     "status": "completed"
    },
    "tags": []
   },
   "outputs": [
    {
     "data": {
      "text/plain": [
       "array([[1., 1.],\n",
       "       [1., 1.]])"
      ]
     },
     "execution_count": 103,
     "metadata": {},
     "output_type": "execute_result"
    }
   ],
   "source": [
    "np.corrcoef(arr) "
   ]
  },
  {
   "cell_type": "code",
   "execution_count": null,
   "id": "928a0b7c",
   "metadata": {
    "papermill": {
     "duration": 0.060878,
     "end_time": "2024-05-08T20:00:57.427313",
     "exception": false,
     "start_time": "2024-05-08T20:00:57.366435",
     "status": "completed"
    },
    "tags": []
   },
   "outputs": [],
   "source": []
  }
 ],
 "metadata": {
  "kaggle": {
   "accelerator": "none",
   "dataSources": [
    {
     "datasetId": 4379678,
     "sourceId": 7518666,
     "sourceType": "datasetVersion"
    }
   ],
   "dockerImageVersionId": 30698,
   "isGpuEnabled": false,
   "isInternetEnabled": true,
   "language": "python",
   "sourceType": "notebook"
  },
  "kernelspec": {
   "display_name": "Python 3",
   "language": "python",
   "name": "python3"
  },
  "language_info": {
   "codemirror_mode": {
    "name": "ipython",
    "version": 3
   },
   "file_extension": ".py",
   "mimetype": "text/x-python",
   "name": "python",
   "nbconvert_exporter": "python",
   "pygments_lexer": "ipython3",
   "version": "3.10.13"
  },
  "papermill": {
   "default_parameters": {},
   "duration": 26.22713,
   "end_time": "2024-05-08T20:00:57.910820",
   "environment_variables": {},
   "exception": null,
   "input_path": "__notebook__.ipynb",
   "output_path": "__notebook__.ipynb",
   "parameters": {},
   "start_time": "2024-05-08T20:00:31.683690",
   "version": "2.5.0"
  }
 },
 "nbformat": 4,
 "nbformat_minor": 5
}
