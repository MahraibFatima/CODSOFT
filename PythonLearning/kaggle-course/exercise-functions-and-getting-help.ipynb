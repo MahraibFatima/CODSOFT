{
 "cells": [
  {
   "cell_type": "markdown",
   "id": "1b758cd0",
   "metadata": {
    "papermill": {
     "duration": 0.007491,
     "end_time": "2024-01-07T14:51:04.336860",
     "exception": false,
     "start_time": "2024-01-07T14:51:04.329369",
     "status": "completed"
    },
    "tags": []
   },
   "source": [
    "**This notebook is an exercise in the [Python](https://www.kaggle.com/learn/python) course.  You can reference the tutorial at [this link](https://www.kaggle.com/colinmorris/functions-and-getting-help).**\n",
    "\n",
    "---\n"
   ]
  },
  {
   "cell_type": "markdown",
   "id": "ccd8b77a",
   "metadata": {
    "papermill": {
     "duration": 0.006259,
     "end_time": "2024-01-07T14:51:04.350078",
     "exception": false,
     "start_time": "2024-01-07T14:51:04.343819",
     "status": "completed"
    },
    "tags": []
   },
   "source": [
    "Functions are powerful. Try writing some yourself.\n",
    "\n",
    "As before, don't forget to run the setup code below before jumping into question 1."
   ]
  },
  {
   "cell_type": "code",
   "execution_count": 1,
   "id": "74c69e99",
   "metadata": {
    "_kg_hide-input": true,
    "_kg_hide-output": true,
    "execution": {
     "iopub.execute_input": "2024-01-07T14:51:04.367283Z",
     "iopub.status.busy": "2024-01-07T14:51:04.366852Z",
     "iopub.status.idle": "2024-01-07T14:51:04.880035Z",
     "shell.execute_reply": "2024-01-07T14:51:04.878604Z"
    },
    "papermill": {
     "duration": 0.525309,
     "end_time": "2024-01-07T14:51:04.882751",
     "exception": false,
     "start_time": "2024-01-07T14:51:04.357442",
     "status": "completed"
    },
    "tags": []
   },
   "outputs": [
    {
     "name": "stdout",
     "output_type": "stream",
     "text": [
      "Setup complete.\n"
     ]
    }
   ],
   "source": [
    "# SETUP. You don't need to worry for now about what this code does or how it works.\n",
    "from learntools.core import binder; binder.bind(globals())\n",
    "from learntools.python.ex2 import *\n",
    "print('Setup complete.')"
   ]
  },
  {
   "cell_type": "markdown",
   "id": "1cdeaecb",
   "metadata": {
    "papermill": {
     "duration": 0.006813,
     "end_time": "2024-01-07T14:51:04.897194",
     "exception": false,
     "start_time": "2024-01-07T14:51:04.890381",
     "status": "completed"
    },
    "tags": []
   },
   "source": [
    "# 1.\n",
    "\n",
    "Complete the body of the following function according to its docstring.\n",
    "\n",
    "HINT: Python has a built-in function `round`."
   ]
  },
  {
   "cell_type": "code",
   "execution_count": 2,
   "id": "7f5f9cf6",
   "metadata": {
    "execution": {
     "iopub.execute_input": "2024-01-07T14:51:04.914542Z",
     "iopub.status.busy": "2024-01-07T14:51:04.913926Z",
     "iopub.status.idle": "2024-01-07T14:51:04.928433Z",
     "shell.execute_reply": "2024-01-07T14:51:04.926678Z"
    },
    "papermill": {
     "duration": 0.026592,
     "end_time": "2024-01-07T14:51:04.931585",
     "exception": false,
     "start_time": "2024-01-07T14:51:04.904993",
     "status": "completed"
    },
    "tags": []
   },
   "outputs": [
    {
     "data": {
      "application/javascript": [
       "parent.postMessage({\"jupyterEvent\": \"custom.exercise_interaction\", \"data\": {\"outcomeType\": 1, \"valueTowardsCompletion\": 0.16666666666666666, \"interactionType\": 1, \"questionType\": 2, \"questionId\": \"1_RoundFunctionProblem\", \"learnToolsVersion\": \"0.3.4\", \"failureMessage\": \"\", \"exceptionClass\": \"\", \"trace\": \"\"}}, \"*\")"
      ],
      "text/plain": [
       "<IPython.core.display.Javascript object>"
      ]
     },
     "metadata": {},
     "output_type": "display_data"
    },
    {
     "data": {
      "text/markdown": [
       "<span style=\"color:#33cc33\">Correct</span>"
      ],
      "text/plain": [
       "Correct"
      ]
     },
     "metadata": {},
     "output_type": "display_data"
    }
   ],
   "source": [
    "def round_to_two_places(num):\n",
    "    \"\"\"Return the given number rounded to two decimal places. \n",
    "    \n",
    "    >>> round_to_two_places(3.14159)\n",
    "    3.14\n",
    "    \"\"\"\n",
    "    \n",
    "    #help(round(num))\n",
    "    # Replace this body with your own code.\n",
    "    # (\"pass\" is a keyword that does literally nothing. We used it as a placeholder\n",
    "    # because after we begin a code block, Python requires at least one line of code)\n",
    "    return round(num, 2)\n",
    "\n",
    "# Check your answer\n",
    "q1.check()"
   ]
  },
  {
   "cell_type": "code",
   "execution_count": 3,
   "id": "e52ce2e2",
   "metadata": {
    "execution": {
     "iopub.execute_input": "2024-01-07T14:51:04.948879Z",
     "iopub.status.busy": "2024-01-07T14:51:04.948398Z",
     "iopub.status.idle": "2024-01-07T14:51:04.958089Z",
     "shell.execute_reply": "2024-01-07T14:51:04.956667Z"
    },
    "papermill": {
     "duration": 0.021287,
     "end_time": "2024-01-07T14:51:04.960555",
     "exception": false,
     "start_time": "2024-01-07T14:51:04.939268",
     "status": "completed"
    },
    "tags": []
   },
   "outputs": [
    {
     "data": {
      "application/javascript": [
       "parent.postMessage({\"jupyterEvent\": \"custom.exercise_interaction\", \"data\": {\"interactionType\": 3, \"questionType\": 2, \"questionId\": \"1_RoundFunctionProblem\", \"learnToolsVersion\": \"0.3.4\", \"valueTowardsCompletion\": 0.0, \"failureMessage\": \"\", \"exceptionClass\": \"\", \"trace\": \"\", \"outcomeType\": 4}}, \"*\")"
      ],
      "text/plain": [
       "<IPython.core.display.Javascript object>"
      ]
     },
     "metadata": {},
     "output_type": "display_data"
    },
    {
     "data": {
      "text/markdown": [
       "<span style=\"color:#33cc99\">Solution:</span> \n",
       "```python\n",
       "return round(num, 2)\n",
       "```"
      ],
      "text/plain": [
       "Solution: \n",
       "```python\n",
       "return round(num, 2)\n",
       "```"
      ]
     },
     "metadata": {},
     "output_type": "display_data"
    }
   ],
   "source": [
    "# Uncomment the following for a hint\n",
    "#q1.hint()\n",
    "# Or uncomment the following to peek at the solution\n",
    "q1.solution()"
   ]
  },
  {
   "cell_type": "markdown",
   "id": "609e9651",
   "metadata": {
    "papermill": {
     "duration": 0.007035,
     "end_time": "2024-01-07T14:51:04.975229",
     "exception": false,
     "start_time": "2024-01-07T14:51:04.968194",
     "status": "completed"
    },
    "tags": []
   },
   "source": [
    "# 2.\n",
    "The help for `round` says that `ndigits` (the second argument) may be negative.\n",
    "What do you think will happen when it is? Try some examples in the following cell."
   ]
  },
  {
   "cell_type": "code",
   "execution_count": 4,
   "id": "d3b69ec3",
   "metadata": {
    "execution": {
     "iopub.execute_input": "2024-01-07T14:51:04.992235Z",
     "iopub.status.busy": "2024-01-07T14:51:04.991825Z",
     "iopub.status.idle": "2024-01-07T14:51:04.997994Z",
     "shell.execute_reply": "2024-01-07T14:51:04.996608Z"
    },
    "papermill": {
     "duration": 0.017917,
     "end_time": "2024-01-07T14:51:05.000805",
     "exception": false,
     "start_time": "2024-01-07T14:51:04.982888",
     "status": "completed"
    },
    "tags": []
   },
   "outputs": [
    {
     "name": "stdout",
     "output_type": "stream",
     "text": [
      "120.0\n"
     ]
    }
   ],
   "source": [
    "# Put your test code here\n",
    "result = round(123.456, -1)\n",
    "print(result)"
   ]
  },
  {
   "cell_type": "markdown",
   "id": "1effd6e3",
   "metadata": {
    "papermill": {
     "duration": 0.007431,
     "end_time": "2024-01-07T14:51:05.015850",
     "exception": false,
     "start_time": "2024-01-07T14:51:05.008419",
     "status": "completed"
    },
    "tags": []
   },
   "source": [
    "Can you think of a case where this would be useful?  Once you're ready, run the code cell below to see the answer and to receive credit for completing the problem."
   ]
  },
  {
   "cell_type": "code",
   "execution_count": 5,
   "id": "5b3f4701",
   "metadata": {
    "execution": {
     "iopub.execute_input": "2024-01-07T14:51:05.032694Z",
     "iopub.status.busy": "2024-01-07T14:51:05.032220Z",
     "iopub.status.idle": "2024-01-07T14:51:05.045057Z",
     "shell.execute_reply": "2024-01-07T14:51:05.043584Z"
    },
    "papermill": {
     "duration": 0.024156,
     "end_time": "2024-01-07T14:51:05.047524",
     "exception": false,
     "start_time": "2024-01-07T14:51:05.023368",
     "status": "completed"
    },
    "tags": []
   },
   "outputs": [
    {
     "data": {
      "application/javascript": [
       "parent.postMessage({\"jupyterEvent\": \"custom.exercise_interaction\", \"data\": {\"interactionType\": 3, \"questionType\": 4, \"questionId\": \"2_RoundNdigitsProblem\", \"learnToolsVersion\": \"0.3.4\", \"valueTowardsCompletion\": 0.0, \"failureMessage\": \"\", \"exceptionClass\": \"\", \"trace\": \"\", \"outcomeType\": 4}}, \"*\")"
      ],
      "text/plain": [
       "<IPython.core.display.Javascript object>"
      ]
     },
     "metadata": {},
     "output_type": "display_data"
    },
    {
     "data": {
      "text/markdown": [
       "<span style=\"color:#33cc99\">Solution:</span> As you've seen, `ndigits=-1` rounds to the nearest 10, `ndigits=-2` rounds to the nearest 100 and so on. Where might this be useful? Suppose we're dealing with large numbers:\n",
       "\n",
       "> The area of Finland is 338,424 km²  \n",
       "> The area of Greenland is 2,166,086 km²\n",
       "\n",
       "We probably don't care whether it's really 338,424, or 338,425, or 338,177. All those digits of accuracy are just distracting. We can chop them off by calling `round()` with `ndigits=-3`:\n",
       "\n",
       "> The area of Finland is 338,000 km²  \n",
       "> The area of Greenland is 2,166,000 km²\n",
       "\n",
       "(We'll talk about how we would get the commas later when we talk about string formatting :))\n"
      ],
      "text/plain": [
       "Solution: As you've seen, `ndigits=-1` rounds to the nearest 10, `ndigits=-2` rounds to the nearest 100 and so on. Where might this be useful? Suppose we're dealing with large numbers:\n",
       "\n",
       "> The area of Finland is 338,424 km²  \n",
       "> The area of Greenland is 2,166,086 km²\n",
       "\n",
       "We probably don't care whether it's really 338,424, or 338,425, or 338,177. All those digits of accuracy are just distracting. We can chop them off by calling `round()` with `ndigits=-3`:\n",
       "\n",
       "> The area of Finland is 338,000 km²  \n",
       "> The area of Greenland is 2,166,000 km²\n",
       "\n",
       "(We'll talk about how we would get the commas later when we talk about string formatting :))"
      ]
     },
     "metadata": {},
     "output_type": "display_data"
    }
   ],
   "source": [
    "# Check your answer (Run this code cell to receive credit!)\n",
    "q2.solution()"
   ]
  },
  {
   "cell_type": "markdown",
   "id": "8c9de002",
   "metadata": {
    "papermill": {
     "duration": 0.008532,
     "end_time": "2024-01-07T14:51:05.063986",
     "exception": false,
     "start_time": "2024-01-07T14:51:05.055454",
     "status": "completed"
    },
    "tags": []
   },
   "source": [
    "# 3.\n",
    "\n",
    "In the previous exercise, the candy-sharing friends Alice, Bob and Carol tried to split candies evenly. For the sake of their friendship, any candies left over would be smashed. For example, if they collectively bring home 91 candies, they'll take 30 each and smash 1.\n",
    "\n",
    "Below is a simple function that will calculate the number of candies to smash for *any* number of total candies.\n",
    "\n",
    "Modify it so that it optionally takes a second argument representing the number of friends the candies are being split between. If no second argument is provided, it should assume 3 friends, as before.\n",
    "\n",
    "Update the docstring to reflect this new behaviour."
   ]
  },
  {
   "cell_type": "code",
   "execution_count": 6,
   "id": "8a345e46",
   "metadata": {
    "execution": {
     "iopub.execute_input": "2024-01-07T14:51:05.081609Z",
     "iopub.status.busy": "2024-01-07T14:51:05.081178Z",
     "iopub.status.idle": "2024-01-07T14:51:05.091925Z",
     "shell.execute_reply": "2024-01-07T14:51:05.090574Z"
    },
    "papermill": {
     "duration": 0.022871,
     "end_time": "2024-01-07T14:51:05.094675",
     "exception": false,
     "start_time": "2024-01-07T14:51:05.071804",
     "status": "completed"
    },
    "tags": []
   },
   "outputs": [
    {
     "data": {
      "application/javascript": [
       "parent.postMessage({\"jupyterEvent\": \"custom.exercise_interaction\", \"data\": {\"outcomeType\": 1, \"valueTowardsCompletion\": 0.16666666666666666, \"interactionType\": 1, \"questionType\": 2, \"questionId\": \"3_CandySmashingFunctionProblem\", \"learnToolsVersion\": \"0.3.4\", \"failureMessage\": \"\", \"exceptionClass\": \"\", \"trace\": \"\"}}, \"*\")"
      ],
      "text/plain": [
       "<IPython.core.display.Javascript object>"
      ]
     },
     "metadata": {},
     "output_type": "display_data"
    },
    {
     "data": {
      "text/markdown": [
       "<span style=\"color:#33cc33\">Correct</span>"
      ],
      "text/plain": [
       "Correct"
      ]
     },
     "metadata": {},
     "output_type": "display_data"
    }
   ],
   "source": [
    "def to_smash(total_candies, who = 3):\n",
    "    \"\"\"Return the number of leftover candies that must be smashed after distributing\n",
    "    the given number of candies evenly between 3 friends.\n",
    "    \n",
    "    >>> to_smash(91)\n",
    "    1\n",
    "    \"\"\"\n",
    "    return total_candies % who\n",
    "\n",
    "# Check your answer\n",
    "q3.check()"
   ]
  },
  {
   "cell_type": "code",
   "execution_count": 7,
   "id": "b8c6be20",
   "metadata": {
    "execution": {
     "iopub.execute_input": "2024-01-07T14:51:05.113384Z",
     "iopub.status.busy": "2024-01-07T14:51:05.112948Z",
     "iopub.status.idle": "2024-01-07T14:51:05.121882Z",
     "shell.execute_reply": "2024-01-07T14:51:05.120666Z"
    },
    "papermill": {
     "duration": 0.021373,
     "end_time": "2024-01-07T14:51:05.124353",
     "exception": false,
     "start_time": "2024-01-07T14:51:05.102980",
     "status": "completed"
    },
    "tags": []
   },
   "outputs": [
    {
     "data": {
      "application/javascript": [
       "parent.postMessage({\"jupyterEvent\": \"custom.exercise_interaction\", \"data\": {\"interactionType\": 2, \"questionType\": 2, \"questionId\": \"3_CandySmashingFunctionProblem\", \"learnToolsVersion\": \"0.3.4\", \"valueTowardsCompletion\": 0.0, \"failureMessage\": \"\", \"exceptionClass\": \"\", \"trace\": \"\", \"outcomeType\": 4}}, \"*\")"
      ],
      "text/plain": [
       "<IPython.core.display.Javascript object>"
      ]
     },
     "metadata": {},
     "output_type": "display_data"
    },
    {
     "data": {
      "text/markdown": [
       "<span style=\"color:#3366cc\">Hint:</span> Refer to the section of the last tutorial notebook where we talked about default arguments"
      ],
      "text/plain": [
       "Hint: Refer to the section of the last tutorial notebook where we talked about default arguments"
      ]
     },
     "metadata": {},
     "output_type": "display_data"
    }
   ],
   "source": [
    "q3.hint()"
   ]
  },
  {
   "cell_type": "code",
   "execution_count": 8,
   "id": "5945cd7d",
   "metadata": {
    "execution": {
     "iopub.execute_input": "2024-01-07T14:51:05.144450Z",
     "iopub.status.busy": "2024-01-07T14:51:05.143932Z",
     "iopub.status.idle": "2024-01-07T14:51:05.155818Z",
     "shell.execute_reply": "2024-01-07T14:51:05.154574Z"
    },
    "papermill": {
     "duration": 0.025827,
     "end_time": "2024-01-07T14:51:05.158829",
     "exception": false,
     "start_time": "2024-01-07T14:51:05.133002",
     "status": "completed"
    },
    "tags": []
   },
   "outputs": [
    {
     "data": {
      "application/javascript": [
       "parent.postMessage({\"jupyterEvent\": \"custom.exercise_interaction\", \"data\": {\"interactionType\": 3, \"questionType\": 2, \"questionId\": \"3_CandySmashingFunctionProblem\", \"learnToolsVersion\": \"0.3.4\", \"valueTowardsCompletion\": 0.0, \"failureMessage\": \"\", \"exceptionClass\": \"\", \"trace\": \"\", \"outcomeType\": 4}}, \"*\")"
      ],
      "text/plain": [
       "<IPython.core.display.Javascript object>"
      ]
     },
     "metadata": {},
     "output_type": "display_data"
    },
    {
     "data": {
      "text/markdown": [
       "<span style=\"color:#33cc99\">Solution:</span> \n",
       "```python\n",
       "def to_smash(total_candies, n_friends=3):\n",
       "    return total_candies % n_friends\n",
       "```"
      ],
      "text/plain": [
       "Solution: \n",
       "```python\n",
       "def to_smash(total_candies, n_friends=3):\n",
       "    return total_candies % n_friends\n",
       "```"
      ]
     },
     "metadata": {},
     "output_type": "display_data"
    }
   ],
   "source": [
    "q3.solution()"
   ]
  },
  {
   "cell_type": "markdown",
   "id": "14f03ce2",
   "metadata": {
    "papermill": {
     "duration": 0.009298,
     "end_time": "2024-01-07T14:51:05.178130",
     "exception": false,
     "start_time": "2024-01-07T14:51:05.168832",
     "status": "completed"
    },
    "tags": []
   },
   "source": [
    "# 4. (Optional)\n",
    "\n",
    "It may not be fun, but reading and understanding error messages will be an important part of your Python career.\n",
    "\n",
    "Each code cell below contains some commented buggy code. For each cell...\n",
    "\n",
    "1. Read the code and predict what you think will happen when it's run.\n",
    "2. Then uncomment the code and run it to see what happens. (**Tip**: In the kernel editor, you can highlight several lines and press `ctrl`+`/` to toggle commenting.)\n",
    "3. Fix the code (so that it accomplishes its intended purpose without throwing an exception)\n",
    "\n",
    "<!-- TODO: should this be autochecked? Delta is probably pretty small. -->"
   ]
  },
  {
   "cell_type": "code",
   "execution_count": 9,
   "id": "7e4e5f13",
   "metadata": {
    "execution": {
     "iopub.execute_input": "2024-01-07T14:51:05.198453Z",
     "iopub.status.busy": "2024-01-07T14:51:05.198023Z",
     "iopub.status.idle": "2024-01-07T14:51:05.205846Z",
     "shell.execute_reply": "2024-01-07T14:51:05.204589Z"
    },
    "papermill": {
     "duration": 0.021105,
     "end_time": "2024-01-07T14:51:05.208430",
     "exception": false,
     "start_time": "2024-01-07T14:51:05.187325",
     "status": "completed"
    },
    "tags": []
   },
   "outputs": [
    {
     "data": {
      "text/plain": [
       "10.0"
      ]
     },
     "execution_count": 9,
     "metadata": {},
     "output_type": "execute_result"
    }
   ],
   "source": [
    " round_to_two_places(9.9999)"
   ]
  },
  {
   "cell_type": "code",
   "execution_count": 10,
   "id": "853effb5",
   "metadata": {
    "execution": {
     "iopub.execute_input": "2024-01-07T14:51:05.230803Z",
     "iopub.status.busy": "2024-01-07T14:51:05.229177Z",
     "iopub.status.idle": "2024-01-07T14:51:05.236501Z",
     "shell.execute_reply": "2024-01-07T14:51:05.235585Z"
    },
    "papermill": {
     "duration": 0.021103,
     "end_time": "2024-01-07T14:51:05.238973",
     "exception": false,
     "start_time": "2024-01-07T14:51:05.217870",
     "status": "completed"
    },
    "tags": []
   },
   "outputs": [
    {
     "name": "stdout",
     "output_type": "stream",
     "text": [
      "Smallest absolute value:  5\n"
     ]
    }
   ],
   "source": [
    "x = -10\n",
    "y = 5\n",
    "# # Which of the two variables above has the smallest absolute value?\n",
    "smallest_abs = min(abs(x), abs(y))\n",
    "print(\"Smallest absolute value: \", smallest_abs)"
   ]
  },
  {
   "cell_type": "code",
   "execution_count": 11,
   "id": "32df8a23",
   "metadata": {
    "execution": {
     "iopub.execute_input": "2024-01-07T14:51:05.259683Z",
     "iopub.status.busy": "2024-01-07T14:51:05.259122Z",
     "iopub.status.idle": "2024-01-07T14:51:05.266635Z",
     "shell.execute_reply": "2024-01-07T14:51:05.264647Z"
    },
    "papermill": {
     "duration": 0.020742,
     "end_time": "2024-01-07T14:51:05.269106",
     "exception": false,
     "start_time": "2024-01-07T14:51:05.248364",
     "status": "completed"
    },
    "tags": []
   },
   "outputs": [
    {
     "name": "stdout",
     "output_type": "stream",
     "text": [
      "5\n"
     ]
    }
   ],
   "source": [
    " def f(x):\n",
    "    y = abs(x)\n",
    "    return y\n",
    "print(f(5))"
   ]
  },
  {
   "cell_type": "markdown",
   "id": "44b7e9d9",
   "metadata": {
    "papermill": {
     "duration": 0.008828,
     "end_time": "2024-01-07T14:51:05.287161",
     "exception": false,
     "start_time": "2024-01-07T14:51:05.278333",
     "status": "completed"
    },
    "tags": []
   },
   "source": [
    "# Keep Going\n",
    "\n",
    "Nice job with the code. Next up, you'll learn about *conditionals*, which you'll need to **[write interesting programs](https://www.kaggle.com/colinmorris/booleans-and-conditionals)**. "
   ]
  },
  {
   "cell_type": "markdown",
   "id": "e7c9900a",
   "metadata": {
    "papermill": {
     "duration": 0.008775,
     "end_time": "2024-01-07T14:51:05.305023",
     "exception": false,
     "start_time": "2024-01-07T14:51:05.296248",
     "status": "completed"
    },
    "tags": []
   },
   "source": [
    "---\n",
    "\n",
    "\n",
    "\n",
    "\n",
    "*Have questions or comments? Visit the [course discussion forum](https://www.kaggle.com/learn/python/discussion) to chat with other learners.*"
   ]
  }
 ],
 "metadata": {
  "kaggle": {
   "accelerator": "none",
   "dataSources": [],
   "isGpuEnabled": false,
   "isInternetEnabled": false,
   "language": "python",
   "sourceType": "notebook"
  },
  "kernelspec": {
   "display_name": "Python 3",
   "language": "python",
   "name": "python3"
  },
  "language_info": {
   "codemirror_mode": {
    "name": "ipython",
    "version": 3
   },
   "file_extension": ".py",
   "mimetype": "text/x-python",
   "name": "python",
   "nbconvert_exporter": "python",
   "pygments_lexer": "ipython3",
   "version": "3.10.12"
  },
  "learntools_metadata": {
   "lesson_index": 1,
   "type": "exercise"
  },
  "papermill": {
   "default_parameters": {},
   "duration": 5.125905,
   "end_time": "2024-01-07T14:51:05.840191",
   "environment_variables": {},
   "exception": null,
   "input_path": "__notebook__.ipynb",
   "output_path": "__notebook__.ipynb",
   "parameters": {},
   "start_time": "2024-01-07T14:51:00.714286",
   "version": "2.4.0"
  }
 },
 "nbformat": 4,
 "nbformat_minor": 5
}
