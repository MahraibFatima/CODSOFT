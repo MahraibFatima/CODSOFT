{
 "cells": [
  {
   "cell_type": "markdown",
   "id": "87968485",
   "metadata": {
    "papermill": {
     "duration": 0.007576,
     "end_time": "2024-01-12T16:51:01.542184",
     "exception": false,
     "start_time": "2024-01-12T16:51:01.534608",
     "status": "completed"
    },
    "tags": []
   },
   "source": [
    "**This notebook is an exercise in the [Python](https://www.kaggle.com/learn/python) course.  You can reference the tutorial at [this link](https://www.kaggle.com/colinmorris/strings-and-dictionaries).**\n",
    "\n",
    "---\n"
   ]
  },
  {
   "cell_type": "markdown",
   "id": "a78f019b",
   "metadata": {
    "papermill": {
     "duration": 0.006807,
     "end_time": "2024-01-12T16:51:01.556196",
     "exception": false,
     "start_time": "2024-01-12T16:51:01.549389",
     "status": "completed"
    },
    "tags": []
   },
   "source": [
    "You are almost done with the course. Nice job!\n",
    "\n",
    "We have a couple more interesting problems for you before you go. \n",
    "\n",
    "As always, run the setup code below before working on the questions."
   ]
  },
  {
   "cell_type": "code",
   "execution_count": 1,
   "id": "5f26ec56",
   "metadata": {
    "execution": {
     "iopub.execute_input": "2024-01-12T16:51:01.572783Z",
     "iopub.status.busy": "2024-01-12T16:51:01.572188Z",
     "iopub.status.idle": "2024-01-12T16:51:02.591923Z",
     "shell.execute_reply": "2024-01-12T16:51:02.591028Z"
    },
    "papermill": {
     "duration": 1.031348,
     "end_time": "2024-01-12T16:51:02.594525",
     "exception": false,
     "start_time": "2024-01-12T16:51:01.563177",
     "status": "completed"
    },
    "tags": []
   },
   "outputs": [
    {
     "name": "stdout",
     "output_type": "stream",
     "text": [
      "Setup complete.\n"
     ]
    }
   ],
   "source": [
    "from learntools.core import binder; binder.bind(globals())\n",
    "from learntools.python.ex6 import *\n",
    "print('Setup complete.')"
   ]
  },
  {
   "cell_type": "markdown",
   "id": "51655c29",
   "metadata": {
    "papermill": {
     "duration": 0.006772,
     "end_time": "2024-01-12T16:51:02.608487",
     "exception": false,
     "start_time": "2024-01-12T16:51:02.601715",
     "status": "completed"
    },
    "tags": []
   },
   "source": [
    "Let's start with a string lightning round to warm up. What are the lengths of the strings below?\n",
    "\n",
    "For each of the five strings below, predict what `len()` would return when passed that string. Use the variable `length` to record your answer, then run the cell to check whether you were right.  \n",
    "\n",
    "# 0a."
   ]
  },
  {
   "cell_type": "code",
   "execution_count": 2,
   "id": "4e9c5376",
   "metadata": {
    "execution": {
     "iopub.execute_input": "2024-01-12T16:51:02.625560Z",
     "iopub.status.busy": "2024-01-12T16:51:02.624357Z",
     "iopub.status.idle": "2024-01-12T16:51:02.635323Z",
     "shell.execute_reply": "2024-01-12T16:51:02.634139Z"
    },
    "papermill": {
     "duration": 0.022499,
     "end_time": "2024-01-12T16:51:02.638179",
     "exception": false,
     "start_time": "2024-01-12T16:51:02.615680",
     "status": "completed"
    },
    "tags": []
   },
   "outputs": [
    {
     "data": {
      "application/javascript": [
       "parent.postMessage({\"jupyterEvent\": \"custom.exercise_interaction\", \"data\": {\"outcomeType\": 1, \"valueTowardsCompletion\": 0.3333333333333333, \"interactionType\": 1, \"questionType\": 1, \"questionId\": \"0.1_ZA\", \"learnToolsVersion\": \"0.3.4\", \"failureMessage\": \"\", \"exceptionClass\": \"\", \"trace\": \"\"}}, \"*\")"
      ],
      "text/plain": [
       "<IPython.core.display.Javascript object>"
      ]
     },
     "metadata": {},
     "output_type": "display_data"
    },
    {
     "data": {
      "text/markdown": [
       "<span style=\"color:#33cc33\">Correct:</span> \n",
       "\n",
       "The empty string has length zero. Note that the empty string is also the only string that Python considers as False when converting to boolean."
      ],
      "text/plain": [
       "Correct: \n",
       "\n",
       "The empty string has length zero. Note that the empty string is also the only string that Python considers as False when converting to boolean."
      ]
     },
     "metadata": {},
     "output_type": "display_data"
    }
   ],
   "source": [
    "a = \"\"\n",
    "length = len(a)\n",
    "q0.a.check()"
   ]
  },
  {
   "cell_type": "markdown",
   "id": "262fcddc",
   "metadata": {
    "papermill": {
     "duration": 0.007652,
     "end_time": "2024-01-12T16:51:02.653515",
     "exception": false,
     "start_time": "2024-01-12T16:51:02.645863",
     "status": "completed"
    },
    "tags": []
   },
   "source": [
    "# 0b."
   ]
  },
  {
   "cell_type": "code",
   "execution_count": 3,
   "id": "7d6e6463",
   "metadata": {
    "execution": {
     "iopub.execute_input": "2024-01-12T16:51:02.673574Z",
     "iopub.status.busy": "2024-01-12T16:51:02.672183Z",
     "iopub.status.idle": "2024-01-12T16:51:02.684900Z",
     "shell.execute_reply": "2024-01-12T16:51:02.683352Z"
    },
    "papermill": {
     "duration": 0.027339,
     "end_time": "2024-01-12T16:51:02.688301",
     "exception": false,
     "start_time": "2024-01-12T16:51:02.660962",
     "status": "completed"
    },
    "tags": []
   },
   "outputs": [
    {
     "data": {
      "application/javascript": [
       "parent.postMessage({\"jupyterEvent\": \"custom.exercise_interaction\", \"data\": {\"outcomeType\": 1, \"valueTowardsCompletion\": 0.3333333333333333, \"interactionType\": 1, \"questionType\": 1, \"questionId\": \"0.2_ZB\", \"learnToolsVersion\": \"0.3.4\", \"failureMessage\": \"\", \"exceptionClass\": \"\", \"trace\": \"\"}}, \"*\")"
      ],
      "text/plain": [
       "<IPython.core.display.Javascript object>"
      ]
     },
     "metadata": {},
     "output_type": "display_data"
    },
    {
     "data": {
      "text/markdown": [
       "<span style=\"color:#33cc33\">Correct:</span> \n",
       "\n",
       "Keep in mind Python includes spaces (and punctuation) when counting string length."
      ],
      "text/plain": [
       "Correct: \n",
       "\n",
       "Keep in mind Python includes spaces (and punctuation) when counting string length."
      ]
     },
     "metadata": {},
     "output_type": "display_data"
    }
   ],
   "source": [
    "b = \"it's ok\"\n",
    "length = len(b)\n",
    "q0.b.check()"
   ]
  },
  {
   "cell_type": "markdown",
   "id": "5a5e68e0",
   "metadata": {
    "papermill": {
     "duration": 0.011799,
     "end_time": "2024-01-12T16:51:02.711663",
     "exception": false,
     "start_time": "2024-01-12T16:51:02.699864",
     "status": "completed"
    },
    "tags": []
   },
   "source": [
    "# 0c."
   ]
  },
  {
   "cell_type": "code",
   "execution_count": 4,
   "id": "2363fc15",
   "metadata": {
    "execution": {
     "iopub.execute_input": "2024-01-12T16:51:02.730821Z",
     "iopub.status.busy": "2024-01-12T16:51:02.729988Z",
     "iopub.status.idle": "2024-01-12T16:51:02.739658Z",
     "shell.execute_reply": "2024-01-12T16:51:02.738658Z"
    },
    "papermill": {
     "duration": 0.021766,
     "end_time": "2024-01-12T16:51:02.742126",
     "exception": false,
     "start_time": "2024-01-12T16:51:02.720360",
     "status": "completed"
    },
    "tags": []
   },
   "outputs": [
    {
     "data": {
      "application/javascript": [
       "parent.postMessage({\"jupyterEvent\": \"custom.exercise_interaction\", \"data\": {\"outcomeType\": 1, \"valueTowardsCompletion\": 0.3333333333333333, \"interactionType\": 1, \"questionType\": 1, \"questionId\": \"0.3_ZC\", \"learnToolsVersion\": \"0.3.4\", \"failureMessage\": \"\", \"exceptionClass\": \"\", \"trace\": \"\"}}, \"*\")"
      ],
      "text/plain": [
       "<IPython.core.display.Javascript object>"
      ]
     },
     "metadata": {},
     "output_type": "display_data"
    },
    {
     "data": {
      "text/markdown": [
       "<span style=\"color:#33cc33\">Correct:</span> \n",
       "\n",
       "Even though we use different syntax to create it, the string `c` is identical to `b`. In particular, note that the backslash is not part of the string, so it doesn't contribute to its length."
      ],
      "text/plain": [
       "Correct: \n",
       "\n",
       "Even though we use different syntax to create it, the string `c` is identical to `b`. In particular, note that the backslash is not part of the string, so it doesn't contribute to its length."
      ]
     },
     "metadata": {},
     "output_type": "display_data"
    }
   ],
   "source": [
    "c = 'it\\'s ok'\n",
    "length = len(c)\n",
    "q0.c.check()"
   ]
  },
  {
   "cell_type": "markdown",
   "id": "70bda2da",
   "metadata": {
    "papermill": {
     "duration": 0.00766,
     "end_time": "2024-01-12T16:51:02.758059",
     "exception": false,
     "start_time": "2024-01-12T16:51:02.750399",
     "status": "completed"
    },
    "tags": []
   },
   "source": [
    "# 0d."
   ]
  },
  {
   "cell_type": "code",
   "execution_count": 5,
   "id": "f8575a71",
   "metadata": {
    "execution": {
     "iopub.execute_input": "2024-01-12T16:51:02.777285Z",
     "iopub.status.busy": "2024-01-12T16:51:02.776127Z",
     "iopub.status.idle": "2024-01-12T16:51:02.789657Z",
     "shell.execute_reply": "2024-01-12T16:51:02.788450Z"
    },
    "papermill": {
     "duration": 0.026837,
     "end_time": "2024-01-12T16:51:02.792998",
     "exception": false,
     "start_time": "2024-01-12T16:51:02.766161",
     "status": "completed"
    },
    "tags": []
   },
   "outputs": [
    {
     "data": {
      "application/javascript": [
       "parent.postMessage({\"jupyterEvent\": \"custom.exercise_interaction\", \"data\": {\"outcomeType\": 1, \"valueTowardsCompletion\": 0.3333333333333333, \"interactionType\": 1, \"questionType\": 1, \"questionId\": \"0.4_ZD\", \"learnToolsVersion\": \"0.3.4\", \"failureMessage\": \"\", \"exceptionClass\": \"\", \"trace\": \"\"}}, \"*\")"
      ],
      "text/plain": [
       "<IPython.core.display.Javascript object>"
      ]
     },
     "metadata": {},
     "output_type": "display_data"
    },
    {
     "data": {
      "text/markdown": [
       "<span style=\"color:#33cc33\">Correct:</span> \n",
       "\n",
       "The fact that this string was created using triple-quote syntax doesn't make any difference in terms of its content or length. This string is exactly the same as `'hey'`."
      ],
      "text/plain": [
       "Correct: \n",
       "\n",
       "The fact that this string was created using triple-quote syntax doesn't make any difference in terms of its content or length. This string is exactly the same as `'hey'`."
      ]
     },
     "metadata": {},
     "output_type": "display_data"
    }
   ],
   "source": [
    "d = \"\"\"hey\"\"\"\n",
    "length = len(d)\n",
    "q0.d.check()"
   ]
  },
  {
   "cell_type": "markdown",
   "id": "5846bf63",
   "metadata": {
    "papermill": {
     "duration": 0.011771,
     "end_time": "2024-01-12T16:51:02.817292",
     "exception": false,
     "start_time": "2024-01-12T16:51:02.805521",
     "status": "completed"
    },
    "tags": []
   },
   "source": [
    "# 0e."
   ]
  },
  {
   "cell_type": "code",
   "execution_count": 6,
   "id": "8dd6ea76",
   "metadata": {
    "execution": {
     "iopub.execute_input": "2024-01-12T16:51:02.840624Z",
     "iopub.status.busy": "2024-01-12T16:51:02.839613Z",
     "iopub.status.idle": "2024-01-12T16:51:02.849700Z",
     "shell.execute_reply": "2024-01-12T16:51:02.848651Z"
    },
    "papermill": {
     "duration": 0.022724,
     "end_time": "2024-01-12T16:51:02.852170",
     "exception": false,
     "start_time": "2024-01-12T16:51:02.829446",
     "status": "completed"
    },
    "tags": []
   },
   "outputs": [
    {
     "data": {
      "application/javascript": [
       "parent.postMessage({\"jupyterEvent\": \"custom.exercise_interaction\", \"data\": {\"outcomeType\": 1, \"valueTowardsCompletion\": 0.3333333333333333, \"interactionType\": 1, \"questionType\": 1, \"questionId\": \"0.5_ZE\", \"learnToolsVersion\": \"0.3.4\", \"failureMessage\": \"\", \"exceptionClass\": \"\", \"trace\": \"\"}}, \"*\")"
      ],
      "text/plain": [
       "<IPython.core.display.Javascript object>"
      ]
     },
     "metadata": {},
     "output_type": "display_data"
    },
    {
     "data": {
      "text/markdown": [
       "<span style=\"color:#33cc33\">Correct:</span> \n",
       "\n",
       "The newline character is just a single character! (Even though we represent it to Python using a combination of two characters.)"
      ],
      "text/plain": [
       "Correct: \n",
       "\n",
       "The newline character is just a single character! (Even though we represent it to Python using a combination of two characters.)"
      ]
     },
     "metadata": {},
     "output_type": "display_data"
    }
   ],
   "source": [
    "e = '\\n'\n",
    "length = len(e)\n",
    "q0.e.check()"
   ]
  },
  {
   "cell_type": "markdown",
   "id": "2ad0b975",
   "metadata": {
    "papermill": {
     "duration": 0.009239,
     "end_time": "2024-01-12T16:51:02.870334",
     "exception": false,
     "start_time": "2024-01-12T16:51:02.861095",
     "status": "completed"
    },
    "tags": []
   },
   "source": [
    "# 1.\n",
    "\n",
    "There is a saying that \"Data scientists spend 80% of their time cleaning data, and 20% of their time complaining about cleaning data.\" Let's see if you can write a function to help clean US zip code data. Given a string, it should return whether or not that string represents a valid zip code. For our purposes, a valid zip code is any string consisting of exactly 5 digits.\n",
    "\n",
    "HINT: `str` has a method that will be useful here. Use `help(str)` to review a list of string methods."
   ]
  },
  {
   "cell_type": "code",
   "execution_count": 7,
   "id": "51a87fae",
   "metadata": {
    "execution": {
     "iopub.execute_input": "2024-01-12T16:51:02.897887Z",
     "iopub.status.busy": "2024-01-12T16:51:02.897180Z",
     "iopub.status.idle": "2024-01-12T16:51:02.907093Z",
     "shell.execute_reply": "2024-01-12T16:51:02.906187Z"
    },
    "papermill": {
     "duration": 0.026521,
     "end_time": "2024-01-12T16:51:02.909475",
     "exception": false,
     "start_time": "2024-01-12T16:51:02.882954",
     "status": "completed"
    },
    "tags": []
   },
   "outputs": [
    {
     "data": {
      "application/javascript": [
       "parent.postMessage({\"jupyterEvent\": \"custom.exercise_interaction\", \"data\": {\"outcomeType\": 1, \"valueTowardsCompletion\": 0.3333333333333333, \"interactionType\": 1, \"questionType\": 2, \"questionId\": \"1_ZipValidator\", \"learnToolsVersion\": \"0.3.4\", \"failureMessage\": \"\", \"exceptionClass\": \"\", \"trace\": \"\"}}, \"*\")"
      ],
      "text/plain": [
       "<IPython.core.display.Javascript object>"
      ]
     },
     "metadata": {},
     "output_type": "display_data"
    },
    {
     "data": {
      "text/markdown": [
       "<span style=\"color:#33cc33\">Correct</span>"
      ],
      "text/plain": [
       "Correct"
      ]
     },
     "metadata": {},
     "output_type": "display_data"
    }
   ],
   "source": [
    "def is_valid_zip(zip_code):\n",
    "    \"\"\"Returns whether the input string is a valid (5 digit) zip code\n",
    "    \"\"\"\n",
    "    \n",
    "    return (zip_code.isdigit() and (len(zip_code) == 5))\n",
    "    \n",
    "    \"\"\" if(zip_code.isdigit() and (len(zip_code) == 5)):\n",
    "        return True\n",
    "    return False\"\"\"\n",
    "    \n",
    "    \n",
    "# Check your answer\n",
    "q1.check()"
   ]
  },
  {
   "cell_type": "markdown",
   "id": "6fcf4f01",
   "metadata": {
    "papermill": {
     "duration": 0.010582,
     "end_time": "2024-01-12T16:51:02.929119",
     "exception": false,
     "start_time": "2024-01-12T16:51:02.918537",
     "status": "completed"
    },
    "tags": []
   },
   "source": [
    "# 2.\n",
    "\n",
    "A researcher has gathered thousands of news articles. But she wants to focus her attention on articles including a specific word. Complete the function below to help her filter her list of articles.\n",
    "\n",
    "Your function should meet the following criteria:\n",
    "\n",
    "- Do not include documents where the keyword string shows up only as a part of a larger word. For example, if she were looking for the keyword “closed”, you would not include the string “enclosed.” \n",
    "- She does not want you to distinguish upper case from lower case letters. So the phrase “Closed the case.” would be included when the keyword is “closed”\n",
    "- Do not let periods or commas affect what is matched. “It is closed.” would be included when the keyword is “closed”. But you can assume there are no other types of punctuation."
   ]
  },
  {
   "cell_type": "code",
   "execution_count": 8,
   "id": "7768f808",
   "metadata": {
    "execution": {
     "iopub.execute_input": "2024-01-12T16:51:02.950359Z",
     "iopub.status.busy": "2024-01-12T16:51:02.949917Z",
     "iopub.status.idle": "2024-01-12T16:51:02.962106Z",
     "shell.execute_reply": "2024-01-12T16:51:02.961025Z"
    },
    "papermill": {
     "duration": 0.026126,
     "end_time": "2024-01-12T16:51:02.964831",
     "exception": false,
     "start_time": "2024-01-12T16:51:02.938705",
     "status": "completed"
    },
    "tags": []
   },
   "outputs": [
    {
     "data": {
      "application/javascript": [
       "parent.postMessage({\"jupyterEvent\": \"custom.exercise_interaction\", \"data\": {\"outcomeType\": 1, \"valueTowardsCompletion\": 0.3333333333333333, \"interactionType\": 1, \"questionType\": 2, \"questionId\": \"2_WordSearch\", \"learnToolsVersion\": \"0.3.4\", \"failureMessage\": \"\", \"exceptionClass\": \"\", \"trace\": \"\"}}, \"*\")"
      ],
      "text/plain": [
       "<IPython.core.display.Javascript object>"
      ]
     },
     "metadata": {},
     "output_type": "display_data"
    },
    {
     "data": {
      "text/markdown": [
       "<span style=\"color:#33cc33\">Correct</span>"
      ],
      "text/plain": [
       "Correct"
      ]
     },
     "metadata": {},
     "output_type": "display_data"
    }
   ],
   "source": [
    "import re\n",
    "def word_search(doc_list, keyword):\n",
    "    \"\"\"\n",
    "    Takes a list of documents (each document is a string) and a keyword. \n",
    "    Returns list of the index values into the original list for all documents \n",
    "    containing the keyword.\n",
    "\n",
    "    Example:\n",
    "    doc_list = [\"The Learn Python Challenge Casino.\", \"They bought a car\", \"Casinoville\"]\n",
    "    >>> word_search(doc_list, 'casino')\n",
    "    >>> [0]\n",
    "    \"\"\"\n",
    "    result = []\n",
    "    \n",
    "    # Use regex with word boundaries for more accurate matching\n",
    "    pattern = re.compile(r'\\b' + re.escape(keyword) + r'\\b', re.IGNORECASE)\n",
    "    \n",
    "    for i, document in enumerate(doc_list):\n",
    "        if re.search(pattern, document):\n",
    "            result.append(i)\n",
    "    \n",
    "    return result\n",
    "    #pass\n",
    "\n",
    "# Check your answer\n",
    "q2.check()"
   ]
  },
  {
   "cell_type": "code",
   "execution_count": 9,
   "id": "2dc32eb7",
   "metadata": {
    "execution": {
     "iopub.execute_input": "2024-01-12T16:51:02.986237Z",
     "iopub.status.busy": "2024-01-12T16:51:02.985407Z",
     "iopub.status.idle": "2024-01-12T16:51:02.995087Z",
     "shell.execute_reply": "2024-01-12T16:51:02.993980Z"
    },
    "papermill": {
     "duration": 0.023619,
     "end_time": "2024-01-12T16:51:02.997959",
     "exception": false,
     "start_time": "2024-01-12T16:51:02.974340",
     "status": "completed"
    },
    "tags": []
   },
   "outputs": [
    {
     "data": {
      "application/javascript": [
       "parent.postMessage({\"jupyterEvent\": \"custom.exercise_interaction\", \"data\": {\"interactionType\": 3, \"questionType\": 2, \"questionId\": \"2_WordSearch\", \"learnToolsVersion\": \"0.3.4\", \"valueTowardsCompletion\": 0.0, \"failureMessage\": \"\", \"exceptionClass\": \"\", \"trace\": \"\", \"outcomeType\": 4}}, \"*\")"
      ],
      "text/plain": [
       "<IPython.core.display.Javascript object>"
      ]
     },
     "metadata": {},
     "output_type": "display_data"
    },
    {
     "data": {
      "text/markdown": [
       "<span style=\"color:#33cc99\">Solution:</span> \n",
       "```python\n",
       "def word_search(doc_list, keyword):\n",
       "    # list to hold the indices of matching documents\n",
       "    indices = [] \n",
       "    # Iterate through the indices (i) and elements (doc) of documents\n",
       "    for i, doc in enumerate(doc_list):\n",
       "        # Split the string doc into a list of words (according to whitespace)\n",
       "        tokens = doc.split()\n",
       "        # Make a transformed list where we 'normalize' each word to facilitate matching.\n",
       "        # Periods and commas are removed from the end of each word, and it's set to all lowercase.\n",
       "        normalized = [token.rstrip('.,').lower() for token in tokens]\n",
       "        # Is there a match? If so, update the list of matching indices.\n",
       "        if keyword.lower() in normalized:\n",
       "            indices.append(i)\n",
       "    return indices\n",
       "```"
      ],
      "text/plain": [
       "Solution: \n",
       "```python\n",
       "def word_search(doc_list, keyword):\n",
       "    # list to hold the indices of matching documents\n",
       "    indices = [] \n",
       "    # Iterate through the indices (i) and elements (doc) of documents\n",
       "    for i, doc in enumerate(doc_list):\n",
       "        # Split the string doc into a list of words (according to whitespace)\n",
       "        tokens = doc.split()\n",
       "        # Make a transformed list where we 'normalize' each word to facilitate matching.\n",
       "        # Periods and commas are removed from the end of each word, and it's set to all lowercase.\n",
       "        normalized = [token.rstrip('.,').lower() for token in tokens]\n",
       "        # Is there a match? If so, update the list of matching indices.\n",
       "        if keyword.lower() in normalized:\n",
       "            indices.append(i)\n",
       "    return indices\n",
       "```"
      ]
     },
     "metadata": {},
     "output_type": "display_data"
    }
   ],
   "source": [
    "#q2.hint()\n",
    "q2.solution()"
   ]
  },
  {
   "cell_type": "markdown",
   "id": "372271cc",
   "metadata": {
    "papermill": {
     "duration": 0.009597,
     "end_time": "2024-01-12T16:51:03.019181",
     "exception": false,
     "start_time": "2024-01-12T16:51:03.009584",
     "status": "completed"
    },
    "tags": []
   },
   "source": [
    "# 3.\n",
    "\n",
    "Now the researcher wants to supply multiple keywords to search for. Complete the function below to help her.\n",
    "\n",
    "(You're encouraged to use the `word_search` function you just wrote when implementing this function. Reusing code in this way makes your programs more robust and readable - and it saves typing!)"
   ]
  },
  {
   "cell_type": "code",
   "execution_count": 10,
   "id": "e5acb3df",
   "metadata": {
    "execution": {
     "iopub.execute_input": "2024-01-12T16:51:03.043567Z",
     "iopub.status.busy": "2024-01-12T16:51:03.043020Z",
     "iopub.status.idle": "2024-01-12T16:51:03.057887Z",
     "shell.execute_reply": "2024-01-12T16:51:03.056767Z"
    },
    "papermill": {
     "duration": 0.031319,
     "end_time": "2024-01-12T16:51:03.060562",
     "exception": false,
     "start_time": "2024-01-12T16:51:03.029243",
     "status": "completed"
    },
    "tags": []
   },
   "outputs": [
    {
     "data": {
      "application/javascript": [
       "parent.postMessage({\"jupyterEvent\": \"custom.exercise_interaction\", \"data\": {\"outcomeType\": 1, \"valueTowardsCompletion\": 0.3333333333333333, \"interactionType\": 1, \"questionType\": 2, \"questionId\": \"3_MultiWordSearch\", \"learnToolsVersion\": \"0.3.4\", \"failureMessage\": \"\", \"exceptionClass\": \"\", \"trace\": \"\"}}, \"*\")"
      ],
      "text/plain": [
       "<IPython.core.display.Javascript object>"
      ]
     },
     "metadata": {},
     "output_type": "display_data"
    },
    {
     "data": {
      "text/markdown": [
       "<span style=\"color:#33cc33\">Correct</span>"
      ],
      "text/plain": [
       "Correct"
      ]
     },
     "metadata": {},
     "output_type": "display_data"
    }
   ],
   "source": [
    "def multi_word_search(doc_list, keywords):\n",
    "    \"\"\"\n",
    "    Takes list of documents (each document is a string) and a list of keywords.  \n",
    "    Returns a dictionary where each key is a keyword, and the value is a list of indices\n",
    "    (from doc_list) of the documents containing that keyword\n",
    "\n",
    "    >>> doc_list = [\"The Learn Python Challenge Casino.\", \"They bought a car and a casino\", \"Casinoville\"]\n",
    "    >>> keywords = ['casino', 'they']\n",
    "    >>> multi_word_search(doc_list, keywords)\n",
    "    {'casino': [0, 1], 'they': [1]}\n",
    "    \"\"\"\n",
    "    result = {}\n",
    "    \n",
    "    for keyword in keywords:\n",
    "        result[keyword] = []\n",
    "        # Use regex with word boundaries for more accurate matching\n",
    "        pattern = re.compile(r'\\b' + re.escape(keyword) + r'\\b', re.IGNORECASE)\n",
    "        \n",
    "        for i, document in enumerate(doc_list):\n",
    "            if re.search(pattern, document):\n",
    "                result[keyword].append(i)\n",
    "    \n",
    "    return result\n",
    "    pass\n",
    "\n",
    "# Check your answer\n",
    "q3.check()"
   ]
  },
  {
   "cell_type": "markdown",
   "id": "ff87101d",
   "metadata": {
    "papermill": {
     "duration": 0.009992,
     "end_time": "2024-01-12T16:51:03.080856",
     "exception": false,
     "start_time": "2024-01-12T16:51:03.070864",
     "status": "completed"
    },
    "tags": []
   },
   "source": [
    "# Keep Going\n",
    "\n",
    "You've learned a lot. But even the best programmers rely heavily on \"libraries\" of code from other programmers. You'll learn about that in **[the last lesson](https://www.kaggle.com/colinmorris/working-with-external-libraries)**.\n"
   ]
  },
  {
   "cell_type": "markdown",
   "id": "abd89edb",
   "metadata": {
    "papermill": {
     "duration": 0.010003,
     "end_time": "2024-01-12T16:51:03.101449",
     "exception": false,
     "start_time": "2024-01-12T16:51:03.091446",
     "status": "completed"
    },
    "tags": []
   },
   "source": [
    "---\n",
    "\n",
    "\n",
    "\n",
    "\n",
    "*Have questions or comments? Visit the [course discussion forum](https://www.kaggle.com/learn/python/discussion) to chat with other learners.*"
   ]
  }
 ],
 "metadata": {
  "kaggle": {
   "accelerator": "none",
   "dataSources": [],
   "isGpuEnabled": false,
   "isInternetEnabled": false,
   "language": "python",
   "sourceType": "notebook"
  },
  "kernelspec": {
   "display_name": "Python 3",
   "language": "python",
   "name": "python3"
  },
  "language_info": {
   "codemirror_mode": {
    "name": "ipython",
    "version": 3
   },
   "file_extension": ".py",
   "mimetype": "text/x-python",
   "name": "python",
   "nbconvert_exporter": "python",
   "pygments_lexer": "ipython3",
   "version": "3.10.12"
  },
  "learntools_metadata": {
   "lesson_index": 5,
   "type": "exercise"
  },
  "papermill": {
   "default_parameters": {},
   "duration": 7.123687,
   "end_time": "2024-01-12T16:51:03.735023",
   "environment_variables": {},
   "exception": null,
   "input_path": "__notebook__.ipynb",
   "output_path": "__notebook__.ipynb",
   "parameters": {},
   "start_time": "2024-01-12T16:50:56.611336",
   "version": "2.4.0"
  }
 },
 "nbformat": 4,
 "nbformat_minor": 5
}
