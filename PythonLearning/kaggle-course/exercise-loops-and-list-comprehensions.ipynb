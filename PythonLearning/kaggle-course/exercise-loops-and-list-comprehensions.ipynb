{
 "cells": [
  {
   "cell_type": "markdown",
   "id": "0869e874",
   "metadata": {
    "papermill": {
     "duration": 0.008014,
     "end_time": "2024-01-11T17:30:59.932252",
     "exception": false,
     "start_time": "2024-01-11T17:30:59.924238",
     "status": "completed"
    },
    "tags": []
   },
   "source": [
    "**This notebook is an exercise in the [Python](https://www.kaggle.com/learn/python) course.  You can reference the tutorial at [this link](https://www.kaggle.com/colinmorris/loops-and-list-comprehensions).**\n",
    "\n",
    "---\n"
   ]
  },
  {
   "cell_type": "markdown",
   "id": "552cb143",
   "metadata": {
    "papermill": {
     "duration": 0.007912,
     "end_time": "2024-01-11T17:30:59.947448",
     "exception": false,
     "start_time": "2024-01-11T17:30:59.939536",
     "status": "completed"
    },
    "tags": []
   },
   "source": [
    "With all you've learned, you can start writing much more interesting programs. See if you can solve the problems below.\n",
    "\n",
    "As always, run the setup code below before working on the questions."
   ]
  },
  {
   "cell_type": "code",
   "execution_count": 1,
   "id": "29946837",
   "metadata": {
    "execution": {
     "iopub.execute_input": "2024-01-11T17:30:59.964047Z",
     "iopub.status.busy": "2024-01-11T17:30:59.963055Z",
     "iopub.status.idle": "2024-01-11T17:31:00.521366Z",
     "shell.execute_reply": "2024-01-11T17:31:00.520023Z"
    },
    "papermill": {
     "duration": 0.570385,
     "end_time": "2024-01-11T17:31:00.524398",
     "exception": false,
     "start_time": "2024-01-11T17:30:59.954013",
     "status": "completed"
    },
    "tags": []
   },
   "outputs": [
    {
     "name": "stdout",
     "output_type": "stream",
     "text": [
      "Setup complete.\n"
     ]
    }
   ],
   "source": [
    "from learntools.core import binder; binder.bind(globals())\n",
    "from learntools.python.ex5 import *\n",
    "print('Setup complete.')"
   ]
  },
  {
   "cell_type": "markdown",
   "id": "64d697bd",
   "metadata": {
    "papermill": {
     "duration": 0.006425,
     "end_time": "2024-01-11T17:31:00.538759",
     "exception": false,
     "start_time": "2024-01-11T17:31:00.532334",
     "status": "completed"
    },
    "tags": []
   },
   "source": [
    "# 1.\n",
    "\n",
    "Have you ever felt debugging involved a bit of luck? The following program has a bug. Try to identify the bug and fix it."
   ]
  },
  {
   "cell_type": "code",
   "execution_count": 2,
   "id": "e699fb0c",
   "metadata": {
    "execution": {
     "iopub.execute_input": "2024-01-11T17:31:00.555578Z",
     "iopub.status.busy": "2024-01-11T17:31:00.553692Z",
     "iopub.status.idle": "2024-01-11T17:31:00.562326Z",
     "shell.execute_reply": "2024-01-11T17:31:00.561012Z"
    },
    "papermill": {
     "duration": 0.020265,
     "end_time": "2024-01-11T17:31:00.565656",
     "exception": false,
     "start_time": "2024-01-11T17:31:00.545391",
     "status": "completed"
    },
    "tags": []
   },
   "outputs": [],
   "source": [
    "def has_lucky_number(nums):\n",
    "    \"\"\"Return whether the given list of numbers is lucky. A lucky list contains\n",
    "    at least one number divisible by 7.\n",
    "    \"\"\"\n",
    "    for num in nums:\n",
    "        if num % 7 == 0:\n",
    "            return True\n",
    "        else:\n",
    "            return False"
   ]
  },
  {
   "cell_type": "markdown",
   "id": "0c041d5b",
   "metadata": {
    "papermill": {
     "duration": 0.007203,
     "end_time": "2024-01-11T17:31:00.579898",
     "exception": false,
     "start_time": "2024-01-11T17:31:00.572695",
     "status": "completed"
    },
    "tags": []
   },
   "source": [
    "Try to identify the bug and fix it in the cell below:"
   ]
  },
  {
   "cell_type": "code",
   "execution_count": 3,
   "id": "ae6881b8",
   "metadata": {
    "execution": {
     "iopub.execute_input": "2024-01-11T17:31:00.596530Z",
     "iopub.status.busy": "2024-01-11T17:31:00.595701Z",
     "iopub.status.idle": "2024-01-11T17:31:00.610577Z",
     "shell.execute_reply": "2024-01-11T17:31:00.609311Z"
    },
    "papermill": {
     "duration": 0.026827,
     "end_time": "2024-01-11T17:31:00.613726",
     "exception": false,
     "start_time": "2024-01-11T17:31:00.586899",
     "status": "completed"
    },
    "tags": []
   },
   "outputs": [
    {
     "data": {
      "application/javascript": [
       "parent.postMessage({\"jupyterEvent\": \"custom.exercise_interaction\", \"data\": {\"outcomeType\": 1, \"valueTowardsCompletion\": 0.25, \"interactionType\": 1, \"questionType\": 2, \"questionId\": \"1_EarlyExitDebugging\", \"learnToolsVersion\": \"0.3.4\", \"failureMessage\": \"\", \"exceptionClass\": \"\", \"trace\": \"\"}}, \"*\")"
      ],
      "text/plain": [
       "<IPython.core.display.Javascript object>"
      ]
     },
     "metadata": {},
     "output_type": "display_data"
    },
    {
     "data": {
      "text/markdown": [
       "<span style=\"color:#33cc33\">Correct:</span> \n",
       "\n",
       "Remember that `return` causes a function to exit immediately. So our original implementation always ran for just one iteration. We can only return `False` if we've looked at every element of the list (and confirmed that none of them are lucky). Though we can return early if the answer is `True`:\n",
       "\n",
       "```python\n",
       "def has_lucky_number(nums):\n",
       "    for num in nums:\n",
       "        if num % 7 == 0:\n",
       "            return True\n",
       "    # We've exhausted the list without finding a lucky number\n",
       "    return False\n",
       "```\n",
       "\n",
       "Here's a one-line version using a list comprehension with Python's `any` function (you can read about what it does by calling `help(any)`):\n",
       "\n",
       "```python\n",
       "def has_lucky_number(nums):\n",
       "    return any([num % 7 == 0 for num in nums])\n",
       "```\n"
      ],
      "text/plain": [
       "Correct: \n",
       "\n",
       "Remember that `return` causes a function to exit immediately. So our original implementation always ran for just one iteration. We can only return `False` if we've looked at every element of the list (and confirmed that none of them are lucky). Though we can return early if the answer is `True`:\n",
       "\n",
       "```python\n",
       "def has_lucky_number(nums):\n",
       "    for num in nums:\n",
       "        if num % 7 == 0:\n",
       "            return True\n",
       "    # We've exhausted the list without finding a lucky number\n",
       "    return False\n",
       "```\n",
       "\n",
       "Here's a one-line version using a list comprehension with Python's `any` function (you can read about what it does by calling `help(any)`):\n",
       "\n",
       "```python\n",
       "def has_lucky_number(nums):\n",
       "    return any([num % 7 == 0 for num in nums])\n",
       "```"
      ]
     },
     "metadata": {},
     "output_type": "display_data"
    }
   ],
   "source": [
    "def has_lucky_number(nums):\n",
    "    \"\"\"Return whether the given list of numbers is lucky. A lucky list contains\n",
    "    at least one number divisible by 7.\n",
    "    \"\"\"\n",
    "    for num in nums:\n",
    "        if num % 7 == 0:\n",
    "            return True\n",
    "    else:\n",
    "        return False\n",
    "\n",
    "# Check your answer\n",
    "q1.check()"
   ]
  },
  {
   "cell_type": "markdown",
   "id": "7b87f38c",
   "metadata": {
    "papermill": {
     "duration": 0.007642,
     "end_time": "2024-01-11T17:31:00.628567",
     "exception": false,
     "start_time": "2024-01-11T17:31:00.620925",
     "status": "completed"
    },
    "tags": []
   },
   "source": [
    "# 2.\n",
    "Look at the Python expression below. What do you think we'll get when we run it? When you've made your prediction, uncomment the code and run the cell to see if you were right."
   ]
  },
  {
   "cell_type": "code",
   "execution_count": 4,
   "id": "429ee01d",
   "metadata": {
    "execution": {
     "iopub.execute_input": "2024-01-11T17:31:00.646695Z",
     "iopub.status.busy": "2024-01-11T17:31:00.645827Z",
     "iopub.status.idle": "2024-01-11T17:31:00.651685Z",
     "shell.execute_reply": "2024-01-11T17:31:00.650385Z"
    },
    "papermill": {
     "duration": 0.01869,
     "end_time": "2024-01-11T17:31:00.654525",
     "exception": false,
     "start_time": "2024-01-11T17:31:00.635835",
     "status": "completed"
    },
    "tags": []
   },
   "outputs": [],
   "source": [
    "#[1, 2, 3, 4] > 2"
   ]
  },
  {
   "cell_type": "markdown",
   "id": "349d8227",
   "metadata": {
    "papermill": {
     "duration": 0.006753,
     "end_time": "2024-01-11T17:31:00.668514",
     "exception": false,
     "start_time": "2024-01-11T17:31:00.661761",
     "status": "completed"
    },
    "tags": []
   },
   "source": [
    "R and Python have some libraries (like numpy and pandas) compare each element of the list to 2 (i.e. do an 'element-wise' comparison) and give us a list of booleans like `[False, False, True, True]`. \n",
    "\n",
    "Implement a function that reproduces this behaviour, returning a list of booleans corresponding to whether the corresponding element is greater than n."
   ]
  },
  {
   "cell_type": "code",
   "execution_count": 5,
   "id": "9e2b3458",
   "metadata": {
    "execution": {
     "iopub.execute_input": "2024-01-11T17:31:00.686841Z",
     "iopub.status.busy": "2024-01-11T17:31:00.686379Z",
     "iopub.status.idle": "2024-01-11T17:31:00.699048Z",
     "shell.execute_reply": "2024-01-11T17:31:00.698013Z"
    },
    "papermill": {
     "duration": 0.024705,
     "end_time": "2024-01-11T17:31:00.701972",
     "exception": false,
     "start_time": "2024-01-11T17:31:00.677267",
     "status": "completed"
    },
    "tags": []
   },
   "outputs": [
    {
     "data": {
      "application/javascript": [
       "parent.postMessage({\"jupyterEvent\": \"custom.exercise_interaction\", \"data\": {\"outcomeType\": 1, \"valueTowardsCompletion\": 0.25, \"interactionType\": 1, \"questionType\": 2, \"questionId\": \"2_ElementWiseComparison\", \"learnToolsVersion\": \"0.3.4\", \"failureMessage\": \"\", \"exceptionClass\": \"\", \"trace\": \"\"}}, \"*\")"
      ],
      "text/plain": [
       "<IPython.core.display.Javascript object>"
      ]
     },
     "metadata": {},
     "output_type": "display_data"
    },
    {
     "data": {
      "text/markdown": [
       "<span style=\"color:#33cc33\">Correct:</span> \n",
       "\n",
       "Here's one solution:\n",
       "```python\n",
       "def elementwise_greater_than(L, thresh):\n",
       "    res = []\n",
       "    for ele in L:\n",
       "        res.append(ele > thresh)\n",
       "    return res\n",
       "```\n",
       "\n",
       "And here's the list comprehension version:\n",
       "```python\n",
       "def elementwise_greater_than(L, thresh):\n",
       "    return [ele > thresh for ele in L]\n",
       "```\n"
      ],
      "text/plain": [
       "Correct: \n",
       "\n",
       "Here's one solution:\n",
       "```python\n",
       "def elementwise_greater_than(L, thresh):\n",
       "    res = []\n",
       "    for ele in L:\n",
       "        res.append(ele > thresh)\n",
       "    return res\n",
       "```\n",
       "\n",
       "And here's the list comprehension version:\n",
       "```python\n",
       "def elementwise_greater_than(L, thresh):\n",
       "    return [ele > thresh for ele in L]\n",
       "```"
      ]
     },
     "metadata": {},
     "output_type": "display_data"
    }
   ],
   "source": [
    "def elementwise_greater_than(L, thresh):\n",
    "    \"\"\"Return a list with the same length as L, where the value at index i is \n",
    "    True if L[i] is greater than thresh, and False otherwise.\n",
    "    \n",
    "    >>> elementwise_greater_than([1, 2, 3, 4], 2)\n",
    "    [False, False, True, True]\n",
    "    \"\"\"\n",
    "    res = []\n",
    "    for i in L:\n",
    "        if(i > thresh):\n",
    "            res.append(True)\n",
    "        else:\n",
    "            res.append(False)\n",
    "    return res\n",
    "    #pass\n",
    "\n",
    "# Check your answer\n",
    "q2.check()"
   ]
  },
  {
   "cell_type": "markdown",
   "id": "cc241bdd",
   "metadata": {
    "papermill": {
     "duration": 0.008223,
     "end_time": "2024-01-11T17:31:00.719451",
     "exception": false,
     "start_time": "2024-01-11T17:31:00.711228",
     "status": "completed"
    },
    "tags": []
   },
   "source": [
    "# 3.\n",
    "\n",
    "Complete the body of the function below according to its docstring."
   ]
  },
  {
   "cell_type": "code",
   "execution_count": 6,
   "id": "7427ff44",
   "metadata": {
    "execution": {
     "iopub.execute_input": "2024-01-11T17:31:00.738767Z",
     "iopub.status.busy": "2024-01-11T17:31:00.737119Z",
     "iopub.status.idle": "2024-01-11T17:31:00.751165Z",
     "shell.execute_reply": "2024-01-11T17:31:00.750176Z"
    },
    "papermill": {
     "duration": 0.025896,
     "end_time": "2024-01-11T17:31:00.753827",
     "exception": false,
     "start_time": "2024-01-11T17:31:00.727931",
     "status": "completed"
    },
    "tags": []
   },
   "outputs": [
    {
     "data": {
      "application/javascript": [
       "parent.postMessage({\"jupyterEvent\": \"custom.exercise_interaction\", \"data\": {\"outcomeType\": 1, \"valueTowardsCompletion\": 0.25, \"interactionType\": 1, \"questionType\": 2, \"questionId\": \"3_BoringMenu\", \"learnToolsVersion\": \"0.3.4\", \"failureMessage\": \"\", \"exceptionClass\": \"\", \"trace\": \"\"}}, \"*\")"
      ],
      "text/plain": [
       "<IPython.core.display.Javascript object>"
      ]
     },
     "metadata": {},
     "output_type": "display_data"
    },
    {
     "data": {
      "text/markdown": [
       "<span style=\"color:#33cc33\">Correct:</span> \n",
       "\n",
       "\n",
       "\n",
       "```python\n",
       "def menu_is_boring(meals):\n",
       "    # Iterate over all indices of the list, except the last one\n",
       "    for i in range(len(meals)-1):\n",
       "        if meals[i] == meals[i+1]:\n",
       "            return True\n",
       "    return False\n",
       "```\n",
       "\n",
       "The key to our solution is the call to `range`. `range(len(meals))` would give us all the indices of `meals`. If we had used that range, the last iteration of the loop would be comparing the last element to the element after it, which is... `IndexError`! `range(len(meals)-1)` gives us all the indices except the index of the last element.\n",
       "\n",
       "But don't we need to check if `meals` is empty? Turns out that `range(0) == range(-1)` - they're both empty. So if `meals` has length 0 or 1, we just won't do any iterations of our for loop.\n"
      ],
      "text/plain": [
       "Correct: \n",
       "\n",
       "\n",
       "\n",
       "```python\n",
       "def menu_is_boring(meals):\n",
       "    # Iterate over all indices of the list, except the last one\n",
       "    for i in range(len(meals)-1):\n",
       "        if meals[i] == meals[i+1]:\n",
       "            return True\n",
       "    return False\n",
       "```\n",
       "\n",
       "The key to our solution is the call to `range`. `range(len(meals))` would give us all the indices of `meals`. If we had used that range, the last iteration of the loop would be comparing the last element to the element after it, which is... `IndexError`! `range(len(meals)-1)` gives us all the indices except the index of the last element.\n",
       "\n",
       "But don't we need to check if `meals` is empty? Turns out that `range(0) == range(-1)` - they're both empty. So if `meals` has length 0 or 1, we just won't do any iterations of our for loop."
      ]
     },
     "metadata": {},
     "output_type": "display_data"
    }
   ],
   "source": [
    "def menu_is_boring(meals):\n",
    "    \"\"\"Given a list of meals served over some period of time, return True if the\n",
    "    same meal has ever been served two days in a row, and False otherwise.\n",
    "    \"\"\"\n",
    "    for i in range(len(meals)-1):\n",
    "        if(meals[i] == meals[i+1]):\n",
    "            return True\n",
    "    return False\n",
    "    #pass\n",
    "\n",
    "# Check your answer\n",
    "q3.check()"
   ]
  },
  {
   "cell_type": "markdown",
   "id": "84f0f86e",
   "metadata": {
    "papermill": {
     "duration": 0.008077,
     "end_time": "2024-01-11T17:31:00.770040",
     "exception": false,
     "start_time": "2024-01-11T17:31:00.761963",
     "status": "completed"
    },
    "tags": []
   },
   "source": [
    "# 4. <span title=\"A bit spicy\" style=\"color: darkgreen \">🌶️</span>\n",
    "\n",
    "Next to the Blackjack table, the Python Challenge Casino has a slot machine. You can get a result from the slot machine by calling `play_slot_machine()`. The number it returns is your winnings in dollars. Usually it returns 0.  But sometimes you'll get lucky and get a big payday. Try running it below:"
   ]
  },
  {
   "cell_type": "code",
   "execution_count": 7,
   "id": "eca47f6e",
   "metadata": {
    "execution": {
     "iopub.execute_input": "2024-01-11T17:31:00.788782Z",
     "iopub.status.busy": "2024-01-11T17:31:00.787969Z",
     "iopub.status.idle": "2024-01-11T17:31:00.794643Z",
     "shell.execute_reply": "2024-01-11T17:31:00.793655Z"
    },
    "papermill": {
     "duration": 0.019344,
     "end_time": "2024-01-11T17:31:00.797356",
     "exception": false,
     "start_time": "2024-01-11T17:31:00.778012",
     "status": "completed"
    },
    "tags": []
   },
   "outputs": [
    {
     "data": {
      "text/plain": [
       "0"
      ]
     },
     "execution_count": 7,
     "metadata": {},
     "output_type": "execute_result"
    }
   ],
   "source": [
    "play_slot_machine()"
   ]
  },
  {
   "cell_type": "markdown",
   "id": "a6589aa0",
   "metadata": {
    "papermill": {
     "duration": 0.008179,
     "end_time": "2024-01-11T17:31:00.813957",
     "exception": false,
     "start_time": "2024-01-11T17:31:00.805778",
     "status": "completed"
    },
    "tags": []
   },
   "source": [
    "By the way, did we mention that each play costs $1? Don't worry, we'll send you the bill later.\n",
    "\n",
    "On average, how much money can you expect to gain (or lose) every time you play the machine?  The casino keeps it a secret, but you can estimate the average value of each pull using a technique called the **Monte Carlo method**. To estimate the average outcome, we simulate the scenario many times, and return the average result.\n",
    "\n",
    "Complete the following function to calculate the average value per play of the slot machine."
   ]
  },
  {
   "cell_type": "code",
   "execution_count": 8,
   "id": "13cf15ea",
   "metadata": {
    "execution": {
     "iopub.execute_input": "2024-01-11T17:31:00.832758Z",
     "iopub.status.busy": "2024-01-11T17:31:00.831997Z",
     "iopub.status.idle": "2024-01-11T17:31:00.838511Z",
     "shell.execute_reply": "2024-01-11T17:31:00.837281Z"
    },
    "papermill": {
     "duration": 0.01911,
     "end_time": "2024-01-11T17:31:00.841357",
     "exception": false,
     "start_time": "2024-01-11T17:31:00.822247",
     "status": "completed"
    },
    "tags": []
   },
   "outputs": [],
   "source": [
    "def estimate_average_slot_payout(n_runs):\n",
    "    \"\"\"Run the slot machine n_runs times and return the average net profit per run.\n",
    "    Example calls (note that return value is nondeterministic!):\n",
    "    >>> estimate_average_slot_payout(1)\n",
    "    -1\n",
    "    >>> estimate_average_slot_payout(1)\n",
    "    0.5\n",
    "    \"\"\"\n",
    "    payouts = [play_slot_machine()-1 for i in range(n_runs)]\n",
    "    avg_payout = sum(payouts) / n_runs\n",
    "    return avg_payout\n",
    "    #pass"
   ]
  },
  {
   "cell_type": "markdown",
   "id": "fcd5eeac",
   "metadata": {
    "papermill": {
     "duration": 0.007645,
     "end_time": "2024-01-11T17:31:00.857158",
     "exception": false,
     "start_time": "2024-01-11T17:31:00.849513",
     "status": "completed"
    },
    "tags": []
   },
   "source": [
    "When you think you know the expected value per spin, run the code cell below to view the solution and get credit for answering the question."
   ]
  },
  {
   "cell_type": "markdown",
   "id": "3a1794b0",
   "metadata": {
    "papermill": {
     "duration": 0.007746,
     "end_time": "2024-01-11T17:31:00.873024",
     "exception": false,
     "start_time": "2024-01-11T17:31:00.865278",
     "status": "completed"
    },
    "tags": []
   },
   "source": [
    "# Keep Going\n",
    "\n",
    "Many programmers report that dictionaries are their favorite data structure. You'll get to **[learn about them](https://www.kaggle.com/colinmorris/strings-and-dictionaries)** (as well as strings) in the next lesson."
   ]
  },
  {
   "cell_type": "markdown",
   "id": "b1e3aabc",
   "metadata": {
    "papermill": {
     "duration": 0.007668,
     "end_time": "2024-01-11T17:31:00.888864",
     "exception": false,
     "start_time": "2024-01-11T17:31:00.881196",
     "status": "completed"
    },
    "tags": []
   },
   "source": [
    "---\n",
    "\n",
    "\n",
    "\n",
    "\n",
    "*Have questions or comments? Visit the [course discussion forum](https://www.kaggle.com/learn/python/discussion) to chat with other learners.*"
   ]
  }
 ],
 "metadata": {
  "kaggle": {
   "accelerator": "none",
   "dataSources": [],
   "isGpuEnabled": false,
   "isInternetEnabled": false,
   "language": "python",
   "sourceType": "notebook"
  },
  "kernelspec": {
   "display_name": "Python 3",
   "language": "python",
   "name": "python3"
  },
  "language_info": {
   "codemirror_mode": {
    "name": "ipython",
    "version": 3
   },
   "file_extension": ".py",
   "mimetype": "text/x-python",
   "name": "python",
   "nbconvert_exporter": "python",
   "pygments_lexer": "ipython3",
   "version": "3.10.12"
  },
  "learntools_metadata": {
   "lesson_index": 4,
   "type": "exercise"
  },
  "papermill": {
   "default_parameters": {},
   "duration": 5.760806,
   "end_time": "2024-01-11T17:31:01.525619",
   "environment_variables": {},
   "exception": null,
   "input_path": "__notebook__.ipynb",
   "output_path": "__notebook__.ipynb",
   "parameters": {},
   "start_time": "2024-01-11T17:30:55.764813",
   "version": "2.4.0"
  }
 },
 "nbformat": 4,
 "nbformat_minor": 5
}
