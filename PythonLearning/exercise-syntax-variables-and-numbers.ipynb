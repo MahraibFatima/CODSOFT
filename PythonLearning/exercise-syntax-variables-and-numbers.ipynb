{
 "cells": [
  {
   "cell_type": "markdown",
   "id": "b6ab7f5f",
   "metadata": {
    "papermill": {
     "duration": 0.006546,
     "end_time": "2024-01-07T08:18:27.141255",
     "exception": false,
     "start_time": "2024-01-07T08:18:27.134709",
     "status": "completed"
    },
    "tags": []
   },
   "source": [
    "**This notebook is an exercise in the [Python](https://www.kaggle.com/learn/python) course.  You can reference the tutorial at [this link](https://www.kaggle.com/colinmorris/hello-python).**\n",
    "\n",
    "---\n"
   ]
  },
  {
   "cell_type": "markdown",
   "id": "15e3665d",
   "metadata": {
    "papermill": {
     "duration": 0.005546,
     "end_time": "2024-01-07T08:18:27.152412",
     "exception": false,
     "start_time": "2024-01-07T08:18:27.146866",
     "status": "completed"
    },
    "tags": []
   },
   "source": [
    "Welcome to your first set of Python coding problems.  If this is your first time using Kaggle Notebooks, welcome! \n",
    "\n",
    "Notebooks are composed of blocks (called \"cells\") of text and code. Each of these is editable, though you'll mainly be editing the code cells to answer some questions.\n",
    "\n",
    "To get started, try running the code cell below (by pressing the ► button, or clicking on the cell and pressing ctrl+enter on your keyboard)."
   ]
  },
  {
   "cell_type": "code",
   "execution_count": 1,
   "id": "7d0ccb87",
   "metadata": {
    "execution": {
     "iopub.execute_input": "2024-01-07T08:18:27.165948Z",
     "iopub.status.busy": "2024-01-07T08:18:27.165008Z",
     "iopub.status.idle": "2024-01-07T08:18:27.175890Z",
     "shell.execute_reply": "2024-01-07T08:18:27.174990Z"
    },
    "papermill": {
     "duration": 0.019893,
     "end_time": "2024-01-07T08:18:27.177864",
     "exception": false,
     "start_time": "2024-01-07T08:18:27.157971",
     "status": "completed"
    },
    "tags": []
   },
   "outputs": [
    {
     "name": "stdout",
     "output_type": "stream",
     "text": [
      "You've successfully run some Python code\n",
      "I am a new kaggler\n",
      "Congratulations!\n"
     ]
    }
   ],
   "source": [
    "print(\"You've successfully run some Python code\")\n",
    "print(\"I am a new kaggler\")\n",
    "print(\"Congratulations!\")"
   ]
  },
  {
   "cell_type": "code",
   "execution_count": 2,
   "id": "7d14e260",
   "metadata": {
    "execution": {
     "iopub.execute_input": "2024-01-07T08:18:27.191763Z",
     "iopub.status.busy": "2024-01-07T08:18:27.191239Z",
     "iopub.status.idle": "2024-01-07T08:18:27.196120Z",
     "shell.execute_reply": "2024-01-07T08:18:27.195248Z"
    },
    "papermill": {
     "duration": 0.014381,
     "end_time": "2024-01-07T08:18:27.198256",
     "exception": false,
     "start_time": "2024-01-07T08:18:27.183875",
     "status": "completed"
    },
    "tags": []
   },
   "outputs": [
    {
     "name": "stdout",
     "output_type": "stream",
     "text": [
      "I m Jami\n"
     ]
    }
   ],
   "source": [
    "print(\"I m Jami\")"
   ]
  },
  {
   "cell_type": "markdown",
   "id": "77db0a7f",
   "metadata": {
    "papermill": {
     "duration": 0.006174,
     "end_time": "2024-01-07T08:18:27.210489",
     "exception": false,
     "start_time": "2024-01-07T08:18:27.204315",
     "status": "completed"
    },
    "tags": []
   },
   "source": [
    "Try adding another line of code in the cell above and re-running it. \n",
    "\n",
    "Now let's get a little fancier:  Add a new code cell by clicking on an existing code cell, hitting the escape key, and then hitting the `a` or `b` key.  The `a` key will add a cell above the current cell, and `b` adds a cell below.\n",
    "\n",
    "Great! Now you know how to use Notebooks.\n",
    "\n",
    "Each hands-on exercise starts by setting up our feedback and code checking mechanism. Run the code cell below to do that. Then you'll be ready to move on to question 0."
   ]
  },
  {
   "cell_type": "code",
   "execution_count": 3,
   "id": "8095591d",
   "metadata": {
    "_kg_hide-input": true,
    "_kg_hide-output": true,
    "execution": {
     "iopub.execute_input": "2024-01-07T08:18:27.223725Z",
     "iopub.status.busy": "2024-01-07T08:18:27.223368Z",
     "iopub.status.idle": "2024-01-07T08:18:28.145027Z",
     "shell.execute_reply": "2024-01-07T08:18:28.143877Z"
    },
    "papermill": {
     "duration": 0.931361,
     "end_time": "2024-01-07T08:18:28.147652",
     "exception": false,
     "start_time": "2024-01-07T08:18:27.216291",
     "status": "completed"
    },
    "tags": []
   },
   "outputs": [
    {
     "name": "stdout",
     "output_type": "stream",
     "text": [
      "Setup complete! You're ready to start question 0.\n"
     ]
    }
   ],
   "source": [
    "from learntools.core import binder; binder.bind(globals())\n",
    "from learntools.python.ex1 import *\n",
    "print(\"Setup complete! You're ready to start question 0.\")"
   ]
  },
  {
   "cell_type": "markdown",
   "id": "4f869013",
   "metadata": {
    "papermill": {
     "duration": 0.005663,
     "end_time": "2024-01-07T08:18:28.159311",
     "exception": false,
     "start_time": "2024-01-07T08:18:28.153648",
     "status": "completed"
    },
    "tags": []
   },
   "source": [
    "# 0.\n",
    "\n",
    "*This is a silly question intended as an introduction to the format we use for hands-on exercises throughout all Kaggle courses.*\n",
    "\n",
    "**What is your favorite color? **\n",
    "\n",
    "To complete this question, create a variable called `color` in the cell below with an appropriate value. The function call `q0.check()` (which we've already provided in the cell below) will check your answer."
   ]
  },
  {
   "cell_type": "code",
   "execution_count": 4,
   "id": "0f26664b",
   "metadata": {
    "execution": {
     "iopub.execute_input": "2024-01-07T08:18:28.172736Z",
     "iopub.status.busy": "2024-01-07T08:18:28.172280Z",
     "iopub.status.idle": "2024-01-07T08:18:28.184671Z",
     "shell.execute_reply": "2024-01-07T08:18:28.183064Z"
    },
    "papermill": {
     "duration": 0.021798,
     "end_time": "2024-01-07T08:18:28.186866",
     "exception": false,
     "start_time": "2024-01-07T08:18:28.165068",
     "status": "completed"
    },
    "tags": []
   },
   "outputs": [
    {
     "data": {
      "application/javascript": [
       "parent.postMessage({\"jupyterEvent\": \"custom.exercise_interaction\", \"data\": {\"outcomeType\": 1, \"valueTowardsCompletion\": 0.25, \"interactionType\": 1, \"questionType\": 2, \"questionId\": \"0_ExerciseFormatTutorial\", \"learnToolsVersion\": \"0.3.4\", \"failureMessage\": \"\", \"exceptionClass\": \"\", \"trace\": \"\"}}, \"*\")"
      ],
      "text/plain": [
       "<IPython.core.display.Javascript object>"
      ]
     },
     "metadata": {},
     "output_type": "display_data"
    },
    {
     "data": {
      "text/markdown": [
       "<span style=\"color:#33cc33\">Correct:</span> What?! You got it right without needing a hint or anything? Drats. Well hey, you should still continue to the next step to get some practice asking for a hint and checking solutions. (Even though you obviously don't need any help here.)"
      ],
      "text/plain": [
       "Correct: What?! You got it right without needing a hint or anything? Drats. Well hey, you should still continue to the next step to get some practice asking for a hint and checking solutions. (Even though you obviously don't need any help here.)"
      ]
     },
     "metadata": {},
     "output_type": "display_data"
    }
   ],
   "source": [
    "# create a variable called color with an appropriate value on the line below\n",
    "# (Remember, strings in Python must be enclosed in 'single' or \"double\" quotes)\n",
    "____\n",
    "color = \"blue\"\n",
    "# Check your answer\n",
    "q0.check()"
   ]
  },
  {
   "cell_type": "markdown",
   "id": "7b621d68",
   "metadata": {
    "papermill": {
     "duration": 0.006189,
     "end_time": "2024-01-07T08:18:28.199523",
     "exception": false,
     "start_time": "2024-01-07T08:18:28.193334",
     "status": "completed"
    },
    "tags": []
   },
   "source": [
    "Didn't get the right answer? How do you not even know your own favorite color?!\n",
    "\n",
    "Delete the `#` in the line below to make one of the lines run. You can choose between getting a hint or the full answer by choosing which line to remove the `#` from. \n",
    "\n",
    "Removing the `#` is called uncommenting, because it changes that line from a \"comment\" which Python doesn't run to code, which Python does run."
   ]
  },
  {
   "cell_type": "code",
   "execution_count": 5,
   "id": "bb9570f2",
   "metadata": {
    "execution": {
     "iopub.execute_input": "2024-01-07T08:18:28.214109Z",
     "iopub.status.busy": "2024-01-07T08:18:28.213782Z",
     "iopub.status.idle": "2024-01-07T08:18:28.221158Z",
     "shell.execute_reply": "2024-01-07T08:18:28.220236Z"
    },
    "papermill": {
     "duration": 0.017389,
     "end_time": "2024-01-07T08:18:28.223514",
     "exception": false,
     "start_time": "2024-01-07T08:18:28.206125",
     "status": "completed"
    },
    "tags": []
   },
   "outputs": [
    {
     "data": {
      "application/javascript": [
       "parent.postMessage({\"jupyterEvent\": \"custom.exercise_interaction\", \"data\": {\"interactionType\": 2, \"questionType\": 2, \"questionId\": \"0_ExerciseFormatTutorial\", \"learnToolsVersion\": \"0.3.4\", \"valueTowardsCompletion\": 0.0, \"failureMessage\": \"\", \"exceptionClass\": \"\", \"trace\": \"\", \"outcomeType\": 4}}, \"*\")"
      ],
      "text/plain": [
       "<IPython.core.display.Javascript object>"
      ]
     },
     "metadata": {},
     "output_type": "display_data"
    },
    {
     "data": {
      "text/markdown": [
       "<span style=\"color:#3366cc\">Hint:</span> Your favorite color rhymes with *glue*."
      ],
      "text/plain": [
       "Hint: Your favorite color rhymes with *glue*."
      ]
     },
     "metadata": {},
     "output_type": "display_data"
    }
   ],
   "source": [
    "q0.hint()\n",
    "#q0.solution()"
   ]
  },
  {
   "cell_type": "markdown",
   "id": "9a0a2e34",
   "metadata": {
    "papermill": {
     "duration": 0.006319,
     "end_time": "2024-01-07T08:18:28.237145",
     "exception": false,
     "start_time": "2024-01-07T08:18:28.230826",
     "status": "completed"
    },
    "tags": []
   },
   "source": [
    "The upcoming questions work the same way. The only thing that will change are the question numbers. For the next question, you'll call `q1.check()`, `q1.hint()`, `q1.solution()`, for question 2, you'll call `q2.check()`, and so on."
   ]
  },
  {
   "cell_type": "markdown",
   "id": "47b6d33a",
   "metadata": {
    "papermill": {
     "duration": 0.006294,
     "end_time": "2024-01-07T08:18:28.249718",
     "exception": false,
     "start_time": "2024-01-07T08:18:28.243424",
     "status": "completed"
    },
    "tags": []
   },
   "source": [
    "<hr/>\n",
    "\n",
    "# 1.\n",
    "\n",
    "Complete the code below. In case it's helpful, here is the table of available arithmetic operations:\n",
    "\n",
    "\n",
    "\n",
    "| Operator     | Name           | Description                                            |\n",
    "|--------------|----------------|--------------------------------------------------------|\n",
    "| ``a + b``    | Addition       | Sum of ``a`` and ``b``                                 |\n",
    "| ``a - b``    | Subtraction    | Difference of ``a`` and ``b``                          |\n",
    "| ``a * b``    | Multiplication | Product of ``a`` and ``b``                             |\n",
    "| ``a / b``    | True division  | Quotient of ``a`` and ``b``                            |\n",
    "| ``a // b``   | Floor division | Quotient of ``a`` and ``b``, removing fractional parts |\n",
    "| ``a % b``    | Modulus        | Integer remainder after division of ``a`` by ``b``     |\n",
    "| ``a ** b``   | Exponentiation | ``a`` raised to the power of ``b``                     |\n",
    "| ``-a``       | Negation       | The negative of ``a``                                  |\n",
    "\n",
    "<span style=\"display:none\"></span>\n"
   ]
  },
  {
   "cell_type": "code",
   "execution_count": 6,
   "id": "34e2b9d5",
   "metadata": {
    "execution": {
     "iopub.execute_input": "2024-01-07T08:18:28.264037Z",
     "iopub.status.busy": "2024-01-07T08:18:28.263657Z",
     "iopub.status.idle": "2024-01-07T08:18:28.274184Z",
     "shell.execute_reply": "2024-01-07T08:18:28.272984Z"
    },
    "papermill": {
     "duration": 0.020863,
     "end_time": "2024-01-07T08:18:28.276961",
     "exception": false,
     "start_time": "2024-01-07T08:18:28.256098",
     "status": "completed"
    },
    "tags": []
   },
   "outputs": [
    {
     "data": {
      "application/javascript": [
       "parent.postMessage({\"jupyterEvent\": \"custom.exercise_interaction\", \"data\": {\"outcomeType\": 1, \"valueTowardsCompletion\": 0.25, \"interactionType\": 1, \"questionType\": 1, \"questionId\": \"1_CircleArea\", \"learnToolsVersion\": \"0.3.4\", \"failureMessage\": \"\", \"exceptionClass\": \"\", \"trace\": \"\"}}, \"*\")"
      ],
      "text/plain": [
       "<IPython.core.display.Javascript object>"
      ]
     },
     "metadata": {},
     "output_type": "display_data"
    },
    {
     "data": {
      "text/markdown": [
       "<span style=\"color:#33cc33\">Correct</span>"
      ],
      "text/plain": [
       "Correct"
      ]
     },
     "metadata": {},
     "output_type": "display_data"
    }
   ],
   "source": [
    "pi = 3.14159 # approximate\n",
    "diameter = 3\n",
    "\n",
    "# Create a variable called 'radius' equal to half the diameter\n",
    "____\n",
    "radius = diameter/2\n",
    "\n",
    "# Create a variable called 'area', using the formula for the area of a circle: pi times the radius squared\n",
    "____\n",
    "area = pi* (radius * radius)\n",
    "# Check your answer\n",
    "q1.check()"
   ]
  },
  {
   "cell_type": "code",
   "execution_count": 7,
   "id": "55857d69",
   "metadata": {
    "execution": {
     "iopub.execute_input": "2024-01-07T08:18:28.292785Z",
     "iopub.status.busy": "2024-01-07T08:18:28.292333Z",
     "iopub.status.idle": "2024-01-07T08:18:28.298037Z",
     "shell.execute_reply": "2024-01-07T08:18:28.296692Z"
    },
    "papermill": {
     "duration": 0.016418,
     "end_time": "2024-01-07T08:18:28.300497",
     "exception": false,
     "start_time": "2024-01-07T08:18:28.284079",
     "status": "completed"
    },
    "tags": []
   },
   "outputs": [],
   "source": [
    "# Uncomment and run the lines below if you need help.\n",
    "#q1.hint()\n",
    "#q1.solution()"
   ]
  },
  {
   "cell_type": "markdown",
   "id": "cac91ed8",
   "metadata": {
    "papermill": {
     "duration": 0.006507,
     "end_time": "2024-01-07T08:18:28.313958",
     "exception": false,
     "start_time": "2024-01-07T08:18:28.307451",
     "status": "completed"
    },
    "tags": []
   },
   "source": [
    "<hr/>\n",
    "\n",
    "# 2.\n",
    "\n",
    "Add code to the following cell to swap variables `a` and `b` (so that `a` refers to the object previously referred to by `b` and vice versa)."
   ]
  },
  {
   "cell_type": "code",
   "execution_count": 8,
   "id": "5394784f",
   "metadata": {
    "execution": {
     "iopub.execute_input": "2024-01-07T08:18:28.329699Z",
     "iopub.status.busy": "2024-01-07T08:18:28.329325Z",
     "iopub.status.idle": "2024-01-07T08:18:28.339720Z",
     "shell.execute_reply": "2024-01-07T08:18:28.338469Z"
    },
    "papermill": {
     "duration": 0.021573,
     "end_time": "2024-01-07T08:18:28.342302",
     "exception": false,
     "start_time": "2024-01-07T08:18:28.320729",
     "status": "completed"
    },
    "tags": []
   },
   "outputs": [
    {
     "data": {
      "application/javascript": [
       "parent.postMessage({\"jupyterEvent\": \"custom.exercise_interaction\", \"data\": {\"outcomeType\": 1, \"valueTowardsCompletion\": 0.25, \"interactionType\": 1, \"questionType\": 2, \"questionId\": \"2_VariableSwap\", \"learnToolsVersion\": \"0.3.4\", \"failureMessage\": \"\", \"exceptionClass\": \"\", \"trace\": \"\"}}, \"*\")"
      ],
      "text/plain": [
       "<IPython.core.display.Javascript object>"
      ]
     },
     "metadata": {},
     "output_type": "display_data"
    },
    {
     "data": {
      "text/markdown": [
       "<span style=\"color:#33cc33\">Correct:</span> \n",
       "\n",
       "The most straightforward solution is to use a third variable to temporarily store one of the old values. e.g.:\n",
       "\n",
       "    tmp = a\n",
       "    a = b\n",
       "    b = tmp\n",
       "\n",
       "If you've read lots of Python code, you might have seen the following trick to swap two variables in one line:\n",
       "\n",
       "    a, b = b, a\n",
       "\n",
       "We'll demystify this bit of Python magic later when we talk about *tuples*."
      ],
      "text/plain": [
       "Correct: \n",
       "\n",
       "The most straightforward solution is to use a third variable to temporarily store one of the old values. e.g.:\n",
       "\n",
       "    tmp = a\n",
       "    a = b\n",
       "    b = tmp\n",
       "\n",
       "If you've read lots of Python code, you might have seen the following trick to swap two variables in one line:\n",
       "\n",
       "    a, b = b, a\n",
       "\n",
       "We'll demystify this bit of Python magic later when we talk about *tuples*."
      ]
     },
     "metadata": {},
     "output_type": "display_data"
    }
   ],
   "source": [
    "########### Setup code - don't touch this part ######################\n",
    "# If you're curious, these are examples of lists. We'll talk about \n",
    "# them in depth a few lessons from now. For now, just know that they're\n",
    "# yet another type of Python object, like int or float.\n",
    "a = [1, 2, 3]\n",
    "b = [3, 2, 1]\n",
    "q2.store_original_ids()\n",
    "######################################################################\n",
    "a, b = b , a\n",
    "# Your code goes here. Swap the values to which a and b refer.\n",
    "# If you get stuck, you can always uncomment one or both of the lines in\n",
    "# the next cell for a hint, or to peek at the solution.\n",
    "\n",
    "######################################################################\n",
    "\n",
    "# Check your answer\n",
    "q2.check()"
   ]
  },
  {
   "cell_type": "code",
   "execution_count": 9,
   "id": "e450d7e6",
   "metadata": {
    "execution": {
     "iopub.execute_input": "2024-01-07T08:18:28.358807Z",
     "iopub.status.busy": "2024-01-07T08:18:28.358429Z",
     "iopub.status.idle": "2024-01-07T08:18:28.367090Z",
     "shell.execute_reply": "2024-01-07T08:18:28.365978Z"
    },
    "papermill": {
     "duration": 0.019429,
     "end_time": "2024-01-07T08:18:28.369539",
     "exception": false,
     "start_time": "2024-01-07T08:18:28.350110",
     "status": "completed"
    },
    "tags": []
   },
   "outputs": [
    {
     "data": {
      "application/javascript": [
       "parent.postMessage({\"jupyterEvent\": \"custom.exercise_interaction\", \"data\": {\"interactionType\": 2, \"questionType\": 2, \"questionId\": \"2_VariableSwap\", \"learnToolsVersion\": \"0.3.4\", \"valueTowardsCompletion\": 0.0, \"failureMessage\": \"\", \"exceptionClass\": \"\", \"trace\": \"\", \"outcomeType\": 4}}, \"*\")"
      ],
      "text/plain": [
       "<IPython.core.display.Javascript object>"
      ]
     },
     "metadata": {},
     "output_type": "display_data"
    },
    {
     "data": {
      "text/markdown": [
       "<span style=\"color:#3366cc\">Hint:</span> Try using a third variable."
      ],
      "text/plain": [
       "Hint: Try using a third variable."
      ]
     },
     "metadata": {},
     "output_type": "display_data"
    }
   ],
   "source": [
    "q2.hint()"
   ]
  },
  {
   "cell_type": "code",
   "execution_count": 10,
   "id": "776b1305",
   "metadata": {
    "execution": {
     "iopub.execute_input": "2024-01-07T08:18:28.385945Z",
     "iopub.status.busy": "2024-01-07T08:18:28.385580Z",
     "iopub.status.idle": "2024-01-07T08:18:28.395289Z",
     "shell.execute_reply": "2024-01-07T08:18:28.393815Z"
    },
    "papermill": {
     "duration": 0.020509,
     "end_time": "2024-01-07T08:18:28.397312",
     "exception": false,
     "start_time": "2024-01-07T08:18:28.376803",
     "status": "completed"
    },
    "tags": []
   },
   "outputs": [
    {
     "data": {
      "application/javascript": [
       "parent.postMessage({\"jupyterEvent\": \"custom.exercise_interaction\", \"data\": {\"interactionType\": 3, \"questionType\": 2, \"questionId\": \"2_VariableSwap\", \"learnToolsVersion\": \"0.3.4\", \"valueTowardsCompletion\": 0.0, \"failureMessage\": \"\", \"exceptionClass\": \"\", \"trace\": \"\", \"outcomeType\": 4}}, \"*\")"
      ],
      "text/plain": [
       "<IPython.core.display.Javascript object>"
      ]
     },
     "metadata": {},
     "output_type": "display_data"
    },
    {
     "data": {
      "text/markdown": [
       "<span style=\"color:#33cc99\">Solution:</span> The most straightforward solution is to use a third variable to temporarily store one of the old values. e.g.:\n",
       "\n",
       "    tmp = a\n",
       "    a = b\n",
       "    b = tmp\n",
       "\n",
       "If you've read lots of Python code, you might have seen the following trick to swap two variables in one line:\n",
       "\n",
       "    a, b = b, a\n",
       "\n",
       "We'll demystify this bit of Python magic later when we talk about *tuples*."
      ],
      "text/plain": [
       "Solution: The most straightforward solution is to use a third variable to temporarily store one of the old values. e.g.:\n",
       "\n",
       "    tmp = a\n",
       "    a = b\n",
       "    b = tmp\n",
       "\n",
       "If you've read lots of Python code, you might have seen the following trick to swap two variables in one line:\n",
       "\n",
       "    a, b = b, a\n",
       "\n",
       "We'll demystify this bit of Python magic later when we talk about *tuples*."
      ]
     },
     "metadata": {},
     "output_type": "display_data"
    }
   ],
   "source": [
    "q2.solution()"
   ]
  },
  {
   "cell_type": "markdown",
   "id": "7cb900e4",
   "metadata": {
    "papermill": {
     "duration": 0.006935,
     "end_time": "2024-01-07T08:18:28.411540",
     "exception": false,
     "start_time": "2024-01-07T08:18:28.404605",
     "status": "completed"
    },
    "tags": []
   },
   "source": [
    "<hr/>\n",
    "\n",
    "# 3a.\n",
    "\n",
    "Add parentheses to the following expression so that it evaluates to 1."
   ]
  },
  {
   "cell_type": "code",
   "execution_count": 11,
   "id": "c9e4f803",
   "metadata": {
    "execution": {
     "iopub.execute_input": "2024-01-07T08:18:28.428154Z",
     "iopub.status.busy": "2024-01-07T08:18:28.427775Z",
     "iopub.status.idle": "2024-01-07T08:18:28.434615Z",
     "shell.execute_reply": "2024-01-07T08:18:28.433241Z"
    },
    "papermill": {
     "duration": 0.017598,
     "end_time": "2024-01-07T08:18:28.436537",
     "exception": false,
     "start_time": "2024-01-07T08:18:28.418939",
     "status": "completed"
    },
    "tags": []
   },
   "outputs": [
    {
     "data": {
      "text/plain": [
       "1"
      ]
     },
     "execution_count": 11,
     "metadata": {},
     "output_type": "execute_result"
    }
   ],
   "source": [
    "(5 - 3) // 2"
   ]
  },
  {
   "cell_type": "code",
   "execution_count": 12,
   "id": "654d5726",
   "metadata": {
    "execution": {
     "iopub.execute_input": "2024-01-07T08:18:28.454562Z",
     "iopub.status.busy": "2024-01-07T08:18:28.454181Z",
     "iopub.status.idle": "2024-01-07T08:18:28.458032Z",
     "shell.execute_reply": "2024-01-07T08:18:28.457172Z"
    },
    "papermill": {
     "duration": 0.016261,
     "end_time": "2024-01-07T08:18:28.460628",
     "exception": false,
     "start_time": "2024-01-07T08:18:28.444367",
     "status": "completed"
    },
    "tags": []
   },
   "outputs": [],
   "source": [
    "#q3.a.hint()"
   ]
  },
  {
   "cell_type": "code",
   "execution_count": 13,
   "id": "6c7ed435",
   "metadata": {
    "execution": {
     "iopub.execute_input": "2024-01-07T08:18:28.477722Z",
     "iopub.status.busy": "2024-01-07T08:18:28.477376Z",
     "iopub.status.idle": "2024-01-07T08:18:28.486936Z",
     "shell.execute_reply": "2024-01-07T08:18:28.485775Z"
    },
    "papermill": {
     "duration": 0.02076,
     "end_time": "2024-01-07T08:18:28.489377",
     "exception": false,
     "start_time": "2024-01-07T08:18:28.468617",
     "status": "completed"
    },
    "tags": []
   },
   "outputs": [
    {
     "data": {
      "application/javascript": [
       "parent.postMessage({\"jupyterEvent\": \"custom.exercise_interaction\", \"data\": {\"interactionType\": 3, \"questionType\": 4, \"questionId\": \"3.1_ArithmeticParensEasy\", \"learnToolsVersion\": \"0.3.4\", \"valueTowardsCompletion\": 0.0, \"failureMessage\": \"\", \"exceptionClass\": \"\", \"trace\": \"\", \"outcomeType\": 4}}, \"*\")"
      ],
      "text/plain": [
       "<IPython.core.display.Javascript object>"
      ]
     },
     "metadata": {},
     "output_type": "display_data"
    },
    {
     "data": {
      "text/markdown": [
       "<span style=\"color:#33cc99\">Solution:</span> \n",
       "```python\n",
       "(5 - 3) // 2\n",
       "```"
      ],
      "text/plain": [
       "Solution: \n",
       "```python\n",
       "(5 - 3) // 2\n",
       "```"
      ]
     },
     "metadata": {},
     "output_type": "display_data"
    }
   ],
   "source": [
    "# Check your answer (Run this code cell to receive credit!)\n",
    "q3.a.solution()"
   ]
  },
  {
   "cell_type": "markdown",
   "id": "bbbbd6b5",
   "metadata": {
    "papermill": {
     "duration": 0.007297,
     "end_time": "2024-01-07T08:18:28.504592",
     "exception": false,
     "start_time": "2024-01-07T08:18:28.497295",
     "status": "completed"
    },
    "tags": []
   },
   "source": [
    "# 3b.  <span title=\"A bit spicy\" style=\"color: darkgreen \">🌶️</span>\n",
    "\n",
    "<small>Questions, like this one, marked a spicy pepper are a bit harder.</small>\n",
    "\n",
    "Add parentheses to the following expression so that it evaluates to 0."
   ]
  },
  {
   "cell_type": "code",
   "execution_count": 14,
   "id": "3e75c951",
   "metadata": {
    "execution": {
     "iopub.execute_input": "2024-01-07T08:18:28.521705Z",
     "iopub.status.busy": "2024-01-07T08:18:28.521299Z",
     "iopub.status.idle": "2024-01-07T08:18:28.529182Z",
     "shell.execute_reply": "2024-01-07T08:18:28.528018Z"
    },
    "papermill": {
     "duration": 0.019683,
     "end_time": "2024-01-07T08:18:28.532074",
     "exception": false,
     "start_time": "2024-01-07T08:18:28.512391",
     "status": "completed"
    },
    "tags": []
   },
   "outputs": [
    {
     "data": {
      "text/plain": [
       "0"
      ]
     },
     "execution_count": 14,
     "metadata": {},
     "output_type": "execute_result"
    }
   ],
   "source": [
    "(8 - 3) * (2 - (1 + 1))"
   ]
  },
  {
   "cell_type": "code",
   "execution_count": 15,
   "id": "82be55a6",
   "metadata": {
    "execution": {
     "iopub.execute_input": "2024-01-07T08:18:28.549968Z",
     "iopub.status.busy": "2024-01-07T08:18:28.549612Z",
     "iopub.status.idle": "2024-01-07T08:18:28.556009Z",
     "shell.execute_reply": "2024-01-07T08:18:28.554530Z"
    },
    "papermill": {
     "duration": 0.017674,
     "end_time": "2024-01-07T08:18:28.558072",
     "exception": false,
     "start_time": "2024-01-07T08:18:28.540398",
     "status": "completed"
    },
    "tags": []
   },
   "outputs": [],
   "source": [
    "#q3.b.hint()"
   ]
  },
  {
   "cell_type": "code",
   "execution_count": 16,
   "id": "88651ed2",
   "metadata": {
    "execution": {
     "iopub.execute_input": "2024-01-07T08:18:28.575829Z",
     "iopub.status.busy": "2024-01-07T08:18:28.575436Z",
     "iopub.status.idle": "2024-01-07T08:18:28.582737Z",
     "shell.execute_reply": "2024-01-07T08:18:28.581631Z"
    },
    "papermill": {
     "duration": 0.018274,
     "end_time": "2024-01-07T08:18:28.584451",
     "exception": false,
     "start_time": "2024-01-07T08:18:28.566177",
     "status": "completed"
    },
    "tags": []
   },
   "outputs": [
    {
     "data": {
      "application/javascript": [
       "parent.postMessage({\"jupyterEvent\": \"custom.exercise_interaction\", \"data\": {\"interactionType\": 3, \"questionType\": 4, \"questionId\": \"3.2_ArithmeticParensHard\", \"learnToolsVersion\": \"0.3.4\", \"valueTowardsCompletion\": 0.0, \"failureMessage\": \"\", \"exceptionClass\": \"\", \"trace\": \"\", \"outcomeType\": 4}}, \"*\")"
      ],
      "text/plain": [
       "<IPython.core.display.Javascript object>"
      ]
     },
     "metadata": {},
     "output_type": "display_data"
    },
    {
     "data": {
      "text/markdown": [
       "<span style=\"color:#33cc99\">Solution:</span> `(8 - 3) * (2 - (1 + 1))` is one solution. There may be others."
      ],
      "text/plain": [
       "Solution: `(8 - 3) * (2 - (1 + 1))` is one solution. There may be others."
      ]
     },
     "metadata": {},
     "output_type": "display_data"
    }
   ],
   "source": [
    "# Check your answer (Run this code cell to receive credit!)\n",
    "q3.b.solution()"
   ]
  },
  {
   "cell_type": "markdown",
   "id": "97ea97dd",
   "metadata": {
    "papermill": {
     "duration": 0.00835,
     "end_time": "2024-01-07T08:18:28.601225",
     "exception": false,
     "start_time": "2024-01-07T08:18:28.592875",
     "status": "completed"
    },
    "tags": []
   },
   "source": [
    "<hr/>\n",
    "\n",
    "# 4. \n",
    "Alice, Bob and Carol have agreed to pool their Halloween candy and split it evenly among themselves.\n",
    "For the sake of their friendship, any candies left over will be smashed. For example, if they collectively\n",
    "bring home 91 candies, they'll take 30 each and smash 1.\n",
    "\n",
    "Write an arithmetic expression below to calculate how many candies they must smash for a given haul."
   ]
  },
  {
   "cell_type": "code",
   "execution_count": 17,
   "id": "73b032d2",
   "metadata": {
    "execution": {
     "iopub.execute_input": "2024-01-07T08:18:28.619886Z",
     "iopub.status.busy": "2024-01-07T08:18:28.619496Z",
     "iopub.status.idle": "2024-01-07T08:18:28.629376Z",
     "shell.execute_reply": "2024-01-07T08:18:28.628229Z"
    },
    "papermill": {
     "duration": 0.021624,
     "end_time": "2024-01-07T08:18:28.631886",
     "exception": false,
     "start_time": "2024-01-07T08:18:28.610262",
     "status": "completed"
    },
    "tags": []
   },
   "outputs": [
    {
     "data": {
      "application/javascript": [
       "parent.postMessage({\"jupyterEvent\": \"custom.exercise_interaction\", \"data\": {\"outcomeType\": 1, \"valueTowardsCompletion\": 0.25, \"interactionType\": 1, \"questionType\": 1, \"questionId\": \"4_CandySplitting\", \"learnToolsVersion\": \"0.3.4\", \"failureMessage\": \"\", \"exceptionClass\": \"\", \"trace\": \"\"}}, \"*\")"
      ],
      "text/plain": [
       "<IPython.core.display.Javascript object>"
      ]
     },
     "metadata": {},
     "output_type": "display_data"
    },
    {
     "data": {
      "text/markdown": [
       "<span style=\"color:#33cc33\">Correct</span>"
      ],
      "text/plain": [
       "Correct"
      ]
     },
     "metadata": {},
     "output_type": "display_data"
    }
   ],
   "source": [
    "# Variables representing the number of candies collected by alice, bob, and carol\n",
    "alice_candies = 121\n",
    "bob_candies = 77\n",
    "carol_candies = 109\n",
    "\n",
    "# Your code goes here! Replace the right-hand side of this assignment with an expression\n",
    "# involving alice_candies, bob_candies, and carol_candies\n",
    "to_smash = (alice_candies + bob_candies + carol_candies) % 3\n",
    "\n",
    "\n",
    "# Check your answer\n",
    "q4.check()"
   ]
  },
  {
   "cell_type": "code",
   "execution_count": 18,
   "id": "31f0eac3",
   "metadata": {
    "execution": {
     "iopub.execute_input": "2024-01-07T08:18:28.650643Z",
     "iopub.status.busy": "2024-01-07T08:18:28.650282Z",
     "iopub.status.idle": "2024-01-07T08:18:28.660401Z",
     "shell.execute_reply": "2024-01-07T08:18:28.659155Z"
    },
    "papermill": {
     "duration": 0.022516,
     "end_time": "2024-01-07T08:18:28.663108",
     "exception": false,
     "start_time": "2024-01-07T08:18:28.640592",
     "status": "completed"
    },
    "tags": []
   },
   "outputs": [
    {
     "data": {
      "application/javascript": [
       "parent.postMessage({\"jupyterEvent\": \"custom.exercise_interaction\", \"data\": {\"interactionType\": 3, \"questionType\": 1, \"questionId\": \"4_CandySplitting\", \"learnToolsVersion\": \"0.3.4\", \"valueTowardsCompletion\": 0.0, \"failureMessage\": \"\", \"exceptionClass\": \"\", \"trace\": \"\", \"outcomeType\": 4}}, \"*\")"
      ],
      "text/plain": [
       "<IPython.core.display.Javascript object>"
      ]
     },
     "metadata": {},
     "output_type": "display_data"
    },
    {
     "data": {
      "text/markdown": [
       "<span style=\"color:#33cc99\">Solution:</span> \n",
       "```python\n",
       "(alice_candies + bob_candies + carol_candies) % 3\n",
       "```"
      ],
      "text/plain": [
       "Solution: \n",
       "```python\n",
       "(alice_candies + bob_candies + carol_candies) % 3\n",
       "```"
      ]
     },
     "metadata": {},
     "output_type": "display_data"
    }
   ],
   "source": [
    "#q4.hint()\n",
    "q4.solution()"
   ]
  },
  {
   "cell_type": "markdown",
   "id": "8ab3b0cc",
   "metadata": {
    "papermill": {
     "duration": 0.008255,
     "end_time": "2024-01-07T08:18:28.736468",
     "exception": false,
     "start_time": "2024-01-07T08:18:28.728213",
     "status": "completed"
    },
    "tags": []
   },
   "source": [
    "# Keep Going\n",
    "\n",
    "Next up, you'll **[learn to write new functions and understand functions others write](https://www.kaggle.com/colinmorris/functions-and-getting-help)**. This will make you at least 10 times more productive as a Python programmer. "
   ]
  },
  {
   "cell_type": "markdown",
   "id": "3c47e644",
   "metadata": {
    "papermill": {
     "duration": 0.008395,
     "end_time": "2024-01-07T08:18:28.753455",
     "exception": false,
     "start_time": "2024-01-07T08:18:28.745060",
     "status": "completed"
    },
    "tags": []
   },
   "source": [
    "---\n",
    "\n",
    "\n",
    "\n",
    "\n",
    "*Have questions or comments? Visit the [course discussion forum](https://www.kaggle.com/learn/python/discussion) to chat with other learners.*"
   ]
  }
 ],
 "metadata": {
  "kaggle": {
   "accelerator": "none",
   "dataSources": [],
   "isGpuEnabled": false,
   "isInternetEnabled": false,
   "language": "python",
   "sourceType": "notebook"
  },
  "kernelspec": {
   "display_name": "Python 3",
   "language": "python",
   "name": "python3"
  },
  "language_info": {
   "codemirror_mode": {
    "name": "ipython",
    "version": 3
   },
   "file_extension": ".py",
   "mimetype": "text/x-python",
   "name": "python",
   "nbconvert_exporter": "python",
   "pygments_lexer": "ipython3",
   "version": "3.10.12"
  },
  "learntools_metadata": {
   "lesson_index": 0,
   "type": "exercise"
  },
  "papermill": {
   "default_parameters": {},
   "duration": 6.328618,
   "end_time": "2024-01-07T08:18:29.284335",
   "environment_variables": {},
   "exception": null,
   "input_path": "__notebook__.ipynb",
   "output_path": "__notebook__.ipynb",
   "parameters": {},
   "start_time": "2024-01-07T08:18:22.955717",
   "version": "2.4.0"
  }
 },
 "nbformat": 4,
 "nbformat_minor": 5
}
