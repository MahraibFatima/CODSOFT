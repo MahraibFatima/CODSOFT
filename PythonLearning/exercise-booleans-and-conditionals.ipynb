{
 "cells": [
  {
   "cell_type": "markdown",
   "id": "736e7176",
   "metadata": {
    "papermill": {
     "duration": 0.011847,
     "end_time": "2024-01-11T18:21:41.767885",
     "exception": false,
     "start_time": "2024-01-11T18:21:41.756038",
     "status": "completed"
    },
    "tags": []
   },
   "source": [
    "**This notebook is an exercise in the [Python](https://www.kaggle.com/learn/python) course.  You can reference the tutorial at [this link](https://www.kaggle.com/colinmorris/booleans-and-conditionals).**\n",
    "\n",
    "---\n"
   ]
  },
  {
   "cell_type": "markdown",
   "id": "495583d8",
   "metadata": {
    "papermill": {
     "duration": 0.010482,
     "end_time": "2024-01-11T18:21:41.789631",
     "exception": false,
     "start_time": "2024-01-11T18:21:41.779149",
     "status": "completed"
    },
    "tags": []
   },
   "source": [
    "In this exercise, you'll put to work what you have learned about booleans and conditionals.\n",
    "\n",
    "To get started, **run the setup code below** before writing your own code (and if you leave this notebook and come back later, don't forget to run the setup code again)."
   ]
  },
  {
   "cell_type": "code",
   "execution_count": 1,
   "id": "457058be",
   "metadata": {
    "execution": {
     "iopub.execute_input": "2024-01-11T18:21:41.815051Z",
     "iopub.status.busy": "2024-01-11T18:21:41.814212Z",
     "iopub.status.idle": "2024-01-11T18:21:42.395396Z",
     "shell.execute_reply": "2024-01-11T18:21:42.394038Z"
    },
    "papermill": {
     "duration": 0.598051,
     "end_time": "2024-01-11T18:21:42.398655",
     "exception": false,
     "start_time": "2024-01-11T18:21:41.800604",
     "status": "completed"
    },
    "tags": []
   },
   "outputs": [
    {
     "name": "stdout",
     "output_type": "stream",
     "text": [
      "Setup complete.\n"
     ]
    }
   ],
   "source": [
    "from learntools.core import binder; binder.bind(globals())\n",
    "from learntools.python.ex3 import *\n",
    "print('Setup complete.')"
   ]
  },
  {
   "cell_type": "markdown",
   "id": "db18284b",
   "metadata": {
    "papermill": {
     "duration": 0.010917,
     "end_time": "2024-01-11T18:21:42.421206",
     "exception": false,
     "start_time": "2024-01-11T18:21:42.410289",
     "status": "completed"
    },
    "tags": []
   },
   "source": [
    "# 1.\n",
    "\n",
    "Many programming languages have [`sign`](https://en.wikipedia.org/wiki/Sign_function) available as a built-in function. Python doesn't, but we can define our own!\n",
    "\n",
    "In the cell below, define a function called `sign` which takes a numerical argument and returns -1 if it's negative, 1 if it's positive, and 0 if it's 0."
   ]
  },
  {
   "cell_type": "code",
   "execution_count": 2,
   "id": "dd05010c",
   "metadata": {
    "execution": {
     "iopub.execute_input": "2024-01-11T18:21:42.445359Z",
     "iopub.status.busy": "2024-01-11T18:21:42.444693Z",
     "iopub.status.idle": "2024-01-11T18:21:42.457141Z",
     "shell.execute_reply": "2024-01-11T18:21:42.455795Z"
    },
    "papermill": {
     "duration": 0.027565,
     "end_time": "2024-01-11T18:21:42.459710",
     "exception": false,
     "start_time": "2024-01-11T18:21:42.432145",
     "status": "completed"
    },
    "tags": []
   },
   "outputs": [
    {
     "data": {
      "application/javascript": [
       "parent.postMessage({\"jupyterEvent\": \"custom.exercise_interaction\", \"data\": {\"outcomeType\": 1, \"valueTowardsCompletion\": 0.2, \"interactionType\": 1, \"questionType\": 2, \"questionId\": \"1_SignFunctionProblem\", \"learnToolsVersion\": \"0.3.4\", \"failureMessage\": \"\", \"exceptionClass\": \"\", \"trace\": \"\"}}, \"*\")"
      ],
      "text/plain": [
       "<IPython.core.display.Javascript object>"
      ]
     },
     "metadata": {},
     "output_type": "display_data"
    },
    {
     "data": {
      "text/markdown": [
       "<span style=\"color:#33cc33\">Correct</span>"
      ],
      "text/plain": [
       "Correct"
      ]
     },
     "metadata": {},
     "output_type": "display_data"
    }
   ],
   "source": [
    "# Your code goes here. Define a function called 'sign'\n",
    "def sign(num):\n",
    "    if(num>0):\n",
    "        return 1\n",
    "    elif(num<0):\n",
    "        return -1\n",
    "    else:\n",
    "        return 0\n",
    "# Check your answer\n",
    "q1.check()"
   ]
  },
  {
   "cell_type": "markdown",
   "id": "6b3115ad",
   "metadata": {
    "papermill": {
     "duration": 0.011155,
     "end_time": "2024-01-11T18:21:42.482410",
     "exception": false,
     "start_time": "2024-01-11T18:21:42.471255",
     "status": "completed"
    },
    "tags": []
   },
   "source": [
    "# 2.\n",
    "\n",
    "We've decided to add \"logging\" to our `to_smash` function from the previous exercise."
   ]
  },
  {
   "cell_type": "code",
   "execution_count": 3,
   "id": "ef4c3b21",
   "metadata": {
    "execution": {
     "iopub.execute_input": "2024-01-11T18:21:42.507165Z",
     "iopub.status.busy": "2024-01-11T18:21:42.506344Z",
     "iopub.status.idle": "2024-01-11T18:21:42.516387Z",
     "shell.execute_reply": "2024-01-11T18:21:42.514556Z"
    },
    "papermill": {
     "duration": 0.026254,
     "end_time": "2024-01-11T18:21:42.519862",
     "exception": false,
     "start_time": "2024-01-11T18:21:42.493608",
     "status": "completed"
    },
    "tags": []
   },
   "outputs": [
    {
     "name": "stdout",
     "output_type": "stream",
     "text": [
      "Splitting 91 candies\n"
     ]
    },
    {
     "data": {
      "text/plain": [
       "1"
      ]
     },
     "execution_count": 3,
     "metadata": {},
     "output_type": "execute_result"
    }
   ],
   "source": [
    "def to_smash(total_candies):\n",
    "    \"\"\"Return the number of leftover candies that must be smashed after distributing\n",
    "    the given number of candies evenly between 3 friends.\n",
    "    \n",
    "    >>> to_smash(91)\n",
    "    1\n",
    "    \"\"\"\n",
    "    print(\"Splitting\", total_candies, \"candies\")\n",
    "    return total_candies % 3\n",
    "\n",
    "to_smash(91)"
   ]
  },
  {
   "cell_type": "markdown",
   "id": "3387ff58",
   "metadata": {
    "papermill": {
     "duration": 0.0112,
     "end_time": "2024-01-11T18:21:42.542793",
     "exception": false,
     "start_time": "2024-01-11T18:21:42.531593",
     "status": "completed"
    },
    "tags": []
   },
   "source": [
    "What happens if we call it with `total_candies = 1`?"
   ]
  },
  {
   "cell_type": "code",
   "execution_count": 4,
   "id": "8ffe8278",
   "metadata": {
    "execution": {
     "iopub.execute_input": "2024-01-11T18:21:42.569127Z",
     "iopub.status.busy": "2024-01-11T18:21:42.568468Z",
     "iopub.status.idle": "2024-01-11T18:21:42.576885Z",
     "shell.execute_reply": "2024-01-11T18:21:42.575733Z"
    },
    "papermill": {
     "duration": 0.024927,
     "end_time": "2024-01-11T18:21:42.579321",
     "exception": false,
     "start_time": "2024-01-11T18:21:42.554394",
     "status": "completed"
    },
    "tags": []
   },
   "outputs": [
    {
     "name": "stdout",
     "output_type": "stream",
     "text": [
      "Splitting 1 candies\n"
     ]
    },
    {
     "data": {
      "text/plain": [
       "1"
      ]
     },
     "execution_count": 4,
     "metadata": {},
     "output_type": "execute_result"
    }
   ],
   "source": [
    "to_smash(1)"
   ]
  },
  {
   "cell_type": "markdown",
   "id": "f88b5894",
   "metadata": {
    "papermill": {
     "duration": 0.0111,
     "end_time": "2024-01-11T18:21:42.601827",
     "exception": false,
     "start_time": "2024-01-11T18:21:42.590727",
     "status": "completed"
    },
    "tags": []
   },
   "source": [
    "That isn't great grammar!\n",
    "\n",
    "Modify the definition in the cell below to correct the grammar of our print statement. (If there's only one candy, we should use the singular \"candy\" instead of the plural \"candies\")"
   ]
  },
  {
   "cell_type": "code",
   "execution_count": 5,
   "id": "0831590a",
   "metadata": {
    "execution": {
     "iopub.execute_input": "2024-01-11T18:21:42.628554Z",
     "iopub.status.busy": "2024-01-11T18:21:42.628068Z",
     "iopub.status.idle": "2024-01-11T18:21:42.639811Z",
     "shell.execute_reply": "2024-01-11T18:21:42.638005Z"
    },
    "papermill": {
     "duration": 0.028997,
     "end_time": "2024-01-11T18:21:42.642953",
     "exception": false,
     "start_time": "2024-01-11T18:21:42.613956",
     "status": "completed"
    },
    "tags": []
   },
   "outputs": [
    {
     "name": "stdout",
     "output_type": "stream",
     "text": [
      "Splitting 91 candies\n",
      "Splitting 1 candy\n"
     ]
    },
    {
     "data": {
      "text/plain": [
       "1"
      ]
     },
     "execution_count": 5,
     "metadata": {},
     "output_type": "execute_result"
    }
   ],
   "source": [
    "def to_smash(total_candies):\n",
    "    \"\"\"Return the number of leftover candies that must be smashed after distributing\n",
    "    the given number of candies evenly between 3 friends.\n",
    "    \n",
    "    >>> to_smash(91)\n",
    "    1\n",
    "    \"\"\"\n",
    "    if(total_candies == 1):\n",
    "        print(\"Splitting\", total_candies, \"candy\")\n",
    "    else:   \n",
    "        print(\"Splitting\", total_candies, \"candies\")\n",
    "    return total_candies % 3\n",
    "\n",
    "to_smash(91)\n",
    "to_smash(1)"
   ]
  },
  {
   "cell_type": "markdown",
   "id": "1c3dc736",
   "metadata": {
    "papermill": {
     "duration": 0.01122,
     "end_time": "2024-01-11T18:21:42.665929",
     "exception": false,
     "start_time": "2024-01-11T18:21:42.654709",
     "status": "completed"
    },
    "tags": []
   },
   "source": [
    "To get credit for completing this problem, and to see the official answer, run the code cell below."
   ]
  },
  {
   "cell_type": "markdown",
   "id": "8c625f53",
   "metadata": {
    "papermill": {
     "duration": 0.011731,
     "end_time": "2024-01-11T18:21:42.690722",
     "exception": false,
     "start_time": "2024-01-11T18:21:42.678991",
     "status": "completed"
    },
    "tags": []
   },
   "source": [
    "# 3. <span title=\"A bit spicy\" style=\"color: darkgreen \">🌶️</span>\n",
    "\n",
    "In the tutorial, we talked about deciding whether we're prepared for the weather. I said that I'm safe from today's weather if...\n",
    "- I have an umbrella...\n",
    "- or if the rain isn't too heavy and I have a hood...\n",
    "- otherwise, I'm still fine unless it's raining *and* it's a workday\n",
    "\n",
    "The function below uses our first attempt at turning this logic into a Python expression. I claimed that there was a bug in that code. Can you find it?\n",
    "\n",
    "To prove that `prepared_for_weather` is buggy, come up with a set of inputs where either:\n",
    "- the function returns `False` (but should have returned `True`), or\n",
    "- the function returned `True` (but should have returned `False`).\n",
    "\n",
    "To get credit for completing this question, your code should return a <font color='#33cc33'>Correct</font> result."
   ]
  },
  {
   "cell_type": "code",
   "execution_count": 6,
   "id": "403cffdc",
   "metadata": {
    "execution": {
     "iopub.execute_input": "2024-01-11T18:21:42.716891Z",
     "iopub.status.busy": "2024-01-11T18:21:42.716435Z",
     "iopub.status.idle": "2024-01-11T18:21:42.729782Z",
     "shell.execute_reply": "2024-01-11T18:21:42.728288Z"
    },
    "papermill": {
     "duration": 0.029616,
     "end_time": "2024-01-11T18:21:42.732705",
     "exception": false,
     "start_time": "2024-01-11T18:21:42.703089",
     "status": "completed"
    },
    "tags": []
   },
   "outputs": [
    {
     "data": {
      "application/javascript": [
       "parent.postMessage({\"jupyterEvent\": \"custom.exercise_interaction\", \"data\": {\"outcomeType\": 2, \"failureMessage\": \"Given `have_umbrella=True`, `rain_level=0.0`, `have_hood=True`, `is_workday=True`, `prepared_for_weather` returned `True`. But I think that's correct. (We want inputs that lead to an incorrect result from `prepared_for_weather`.)\", \"interactionType\": 1, \"questionType\": 1, \"questionId\": \"3_WeatherDebug\", \"learnToolsVersion\": \"0.3.4\", \"valueTowardsCompletion\": 0.0, \"exceptionClass\": \"\", \"trace\": \"\"}}, \"*\")"
      ],
      "text/plain": [
       "<IPython.core.display.Javascript object>"
      ]
     },
     "metadata": {},
     "output_type": "display_data"
    },
    {
     "data": {
      "text/markdown": [
       "<span style=\"color:#cc3333\">Incorrect:</span> Given `have_umbrella=True`, `rain_level=0.0`, `have_hood=True`, `is_workday=True`, `prepared_for_weather` returned `True`. But I think that's correct. (We want inputs that lead to an incorrect result from `prepared_for_weather`.)"
      ],
      "text/plain": [
       "Incorrect: Given `have_umbrella=True`, `rain_level=0.0`, `have_hood=True`, `is_workday=True`, `prepared_for_weather` returned `True`. But I think that's correct. (We want inputs that lead to an incorrect result from `prepared_for_weather`.)"
      ]
     },
     "metadata": {},
     "output_type": "display_data"
    }
   ],
   "source": [
    "def prepared_for_weather(have_umbrella, rain_level, have_hood, is_workday):\n",
    "    # Don't change this code. Our goal is just to find the bug, not fix it!\n",
    "    return have_umbrella or rain_level < 5 and have_hood or not rain_level > 0 and is_workday\n",
    "\n",
    "# Change the values of these inputs so they represent a case where prepared_for_weather\n",
    "# returns the wrong answer.\n",
    "have_umbrella = True\n",
    "rain_level = 0.0\n",
    "have_hood = True\n",
    "is_workday = True\n",
    "\n",
    "# Check what the function returns given the current values of the variables above\n",
    "#(not (rain_level > 0)) and is_workday\n",
    "\n",
    "pass\n",
    "# Check your answer\n",
    "q3.check()"
   ]
  },
  {
   "cell_type": "code",
   "execution_count": 7,
   "id": "afabda99",
   "metadata": {
    "execution": {
     "iopub.execute_input": "2024-01-11T18:21:42.759723Z",
     "iopub.status.busy": "2024-01-11T18:21:42.759257Z",
     "iopub.status.idle": "2024-01-11T18:21:42.769808Z",
     "shell.execute_reply": "2024-01-11T18:21:42.768537Z"
    },
    "papermill": {
     "duration": 0.027953,
     "end_time": "2024-01-11T18:21:42.773042",
     "exception": false,
     "start_time": "2024-01-11T18:21:42.745089",
     "status": "completed"
    },
    "tags": []
   },
   "outputs": [
    {
     "data": {
      "application/javascript": [
       "parent.postMessage({\"jupyterEvent\": \"custom.exercise_interaction\", \"data\": {\"interactionType\": 3, \"questionType\": 1, \"questionId\": \"3_WeatherDebug\", \"learnToolsVersion\": \"0.3.4\", \"valueTowardsCompletion\": 0.0, \"failureMessage\": \"\", \"exceptionClass\": \"\", \"trace\": \"\", \"outcomeType\": 4}}, \"*\")"
      ],
      "text/plain": [
       "<IPython.core.display.Javascript object>"
      ]
     },
     "metadata": {},
     "output_type": "display_data"
    },
    {
     "data": {
      "text/markdown": [
       "<span style=\"color:#33cc99\">Solution:</span> One example of a failing test case is:\n",
       "\n",
       "```python\n",
       "have_umbrella = False\n",
       "rain_level = 0.0\n",
       "have_hood = False\n",
       "is_workday = False\n",
       "```\n",
       "\n",
       "Clearly we're prepared for the weather in this case. It's not raining. Not only that, it's not a workday, so we don't even need to leave the house! But our function will return False on these inputs.\n",
       "\n",
       "The key problem is that Python implictly parenthesizes the last part as:\n",
       "\n",
       "```python\n",
       "(not (rain_level > 0)) and is_workday\n",
       "```\n",
       "\n",
       "Whereas what we were trying to express would look more like:\n",
       "\n",
       "```python\n",
       "not (rain_level > 0 and is_workday)\n",
       "```\n"
      ],
      "text/plain": [
       "Solution: One example of a failing test case is:\n",
       "\n",
       "```python\n",
       "have_umbrella = False\n",
       "rain_level = 0.0\n",
       "have_hood = False\n",
       "is_workday = False\n",
       "```\n",
       "\n",
       "Clearly we're prepared for the weather in this case. It's not raining. Not only that, it's not a workday, so we don't even need to leave the house! But our function will return False on these inputs.\n",
       "\n",
       "The key problem is that Python implictly parenthesizes the last part as:\n",
       "\n",
       "```python\n",
       "(not (rain_level > 0)) and is_workday\n",
       "```\n",
       "\n",
       "Whereas what we were trying to express would look more like:\n",
       "\n",
       "```python\n",
       "not (rain_level > 0 and is_workday)\n",
       "```"
      ]
     },
     "metadata": {},
     "output_type": "display_data"
    }
   ],
   "source": [
    "#q3.hint()\n",
    "q3.solution()"
   ]
  },
  {
   "cell_type": "markdown",
   "id": "71b90487",
   "metadata": {
    "papermill": {
     "duration": 0.012405,
     "end_time": "2024-01-11T18:21:42.798582",
     "exception": false,
     "start_time": "2024-01-11T18:21:42.786177",
     "status": "completed"
    },
    "tags": []
   },
   "source": [
    "# 4.\n",
    "\n",
    "The function `is_negative` below is implemented correctly - it returns True if the given number is negative and False otherwise.\n",
    "\n",
    "However, it's more verbose than it needs to be. We can actually reduce the number of lines of code in this function by *75%* while keeping the same behaviour. \n",
    "\n",
    "See if you can come up with an equivalent body that uses just **one line** of code, and put it in the function `concise_is_negative`. (HINT: you don't even need Python's ternary syntax)"
   ]
  },
  {
   "cell_type": "code",
   "execution_count": 8,
   "id": "057790a2",
   "metadata": {
    "execution": {
     "iopub.execute_input": "2024-01-11T18:21:42.826040Z",
     "iopub.status.busy": "2024-01-11T18:21:42.825591Z",
     "iopub.status.idle": "2024-01-11T18:21:42.836687Z",
     "shell.execute_reply": "2024-01-11T18:21:42.835413Z"
    },
    "papermill": {
     "duration": 0.027614,
     "end_time": "2024-01-11T18:21:42.838990",
     "exception": false,
     "start_time": "2024-01-11T18:21:42.811376",
     "status": "completed"
    },
    "tags": []
   },
   "outputs": [
    {
     "data": {
      "application/javascript": [
       "parent.postMessage({\"jupyterEvent\": \"custom.exercise_interaction\", \"data\": {\"outcomeType\": 1, \"valueTowardsCompletion\": 0.2, \"interactionType\": 1, \"questionType\": 2, \"questionId\": \"4_ConciseIsNegative\", \"learnToolsVersion\": \"0.3.4\", \"failureMessage\": \"\", \"exceptionClass\": \"\", \"trace\": \"\"}}, \"*\")"
      ],
      "text/plain": [
       "<IPython.core.display.Javascript object>"
      ]
     },
     "metadata": {},
     "output_type": "display_data"
    },
    {
     "data": {
      "text/markdown": [
       "<span style=\"color:#33cc33\">Correct</span>"
      ],
      "text/plain": [
       "Correct"
      ]
     },
     "metadata": {},
     "output_type": "display_data"
    }
   ],
   "source": [
    "def is_negative(number):\n",
    "    if number < 0:\n",
    "        return True\n",
    "    else:\n",
    "        return False\n",
    "\n",
    "def concise_is_negative(number):\n",
    "    return number < 0\n",
    "    #pass # Your code goes here (try to keep it to one line!)\n",
    "\n",
    "# Check your answer\n",
    "q4.check()"
   ]
  },
  {
   "cell_type": "markdown",
   "id": "b1fb3a76",
   "metadata": {
    "papermill": {
     "duration": 0.012899,
     "end_time": "2024-01-11T18:21:42.864704",
     "exception": false,
     "start_time": "2024-01-11T18:21:42.851805",
     "status": "completed"
    },
    "tags": []
   },
   "source": [
    "# 5a.\n",
    "\n",
    "The boolean variables `ketchup`, `mustard` and `onion` represent whether a customer wants a particular topping on their hot dog. We want to implement a number of boolean functions that correspond to some yes-or-no questions about the customer's order. For example:"
   ]
  },
  {
   "cell_type": "code",
   "execution_count": 9,
   "id": "6794897e",
   "metadata": {
    "execution": {
     "iopub.execute_input": "2024-01-11T18:21:42.892960Z",
     "iopub.status.busy": "2024-01-11T18:21:42.892548Z",
     "iopub.status.idle": "2024-01-11T18:21:42.897714Z",
     "shell.execute_reply": "2024-01-11T18:21:42.896758Z"
    },
    "papermill": {
     "duration": 0.02213,
     "end_time": "2024-01-11T18:21:42.900107",
     "exception": false,
     "start_time": "2024-01-11T18:21:42.877977",
     "status": "completed"
    },
    "tags": []
   },
   "outputs": [],
   "source": [
    "def onionless(ketchup, mustard, onion):\n",
    "    \"\"\"Return whether the customer doesn't want onions.\n",
    "    \"\"\"\n",
    "    return not onion"
   ]
  },
  {
   "cell_type": "code",
   "execution_count": 10,
   "id": "4932206d",
   "metadata": {
    "execution": {
     "iopub.execute_input": "2024-01-11T18:21:42.929215Z",
     "iopub.status.busy": "2024-01-11T18:21:42.928747Z",
     "iopub.status.idle": "2024-01-11T18:21:42.938673Z",
     "shell.execute_reply": "2024-01-11T18:21:42.937789Z"
    },
    "papermill": {
     "duration": 0.027778,
     "end_time": "2024-01-11T18:21:42.941165",
     "exception": false,
     "start_time": "2024-01-11T18:21:42.913387",
     "status": "completed"
    },
    "tags": []
   },
   "outputs": [
    {
     "data": {
      "application/javascript": [
       "parent.postMessage({\"jupyterEvent\": \"custom.exercise_interaction\", \"data\": {\"outcomeType\": 1, \"valueTowardsCompletion\": 0.2, \"interactionType\": 1, \"questionType\": 2, \"questionId\": \"5.1_AllToppings\", \"learnToolsVersion\": \"0.3.4\", \"failureMessage\": \"\", \"exceptionClass\": \"\", \"trace\": \"\"}}, \"*\")"
      ],
      "text/plain": [
       "<IPython.core.display.Javascript object>"
      ]
     },
     "metadata": {},
     "output_type": "display_data"
    },
    {
     "data": {
      "text/markdown": [
       "<span style=\"color:#33cc33\">Correct</span>"
      ],
      "text/plain": [
       "Correct"
      ]
     },
     "metadata": {},
     "output_type": "display_data"
    }
   ],
   "source": [
    "def wants_all_toppings(ketchup, mustard, onion):\n",
    "    \"\"\"Return whether the customer wants \"the works\" (all 3 toppings)\n",
    "    \"\"\"\n",
    "    return (ketchup and mustard and onion)\n",
    "\n",
    "# Check your answer\n",
    "q5.a.check()"
   ]
  },
  {
   "cell_type": "markdown",
   "id": "6ed2f7cc",
   "metadata": {
    "papermill": {
     "duration": 0.013621,
     "end_time": "2024-01-11T18:21:42.968716",
     "exception": false,
     "start_time": "2024-01-11T18:21:42.955095",
     "status": "completed"
    },
    "tags": []
   },
   "source": [
    "# 5b.\n",
    "\n",
    "For the next function, fill in the body to match the English description in the docstring. "
   ]
  },
  {
   "cell_type": "code",
   "execution_count": 11,
   "id": "7902ab72",
   "metadata": {
    "execution": {
     "iopub.execute_input": "2024-01-11T18:21:42.998288Z",
     "iopub.status.busy": "2024-01-11T18:21:42.997828Z",
     "iopub.status.idle": "2024-01-11T18:21:43.011634Z",
     "shell.execute_reply": "2024-01-11T18:21:43.010147Z"
    },
    "papermill": {
     "duration": 0.032459,
     "end_time": "2024-01-11T18:21:43.014714",
     "exception": false,
     "start_time": "2024-01-11T18:21:42.982255",
     "status": "completed"
    },
    "tags": []
   },
   "outputs": [
    {
     "data": {
      "application/javascript": [
       "parent.postMessage({\"jupyterEvent\": \"custom.exercise_interaction\", \"data\": {\"outcomeType\": 1, \"valueTowardsCompletion\": 0.2, \"interactionType\": 1, \"questionType\": 2, \"questionId\": \"5.2_PlainDog\", \"learnToolsVersion\": \"0.3.4\", \"failureMessage\": \"\", \"exceptionClass\": \"\", \"trace\": \"\"}}, \"*\")"
      ],
      "text/plain": [
       "<IPython.core.display.Javascript object>"
      ]
     },
     "metadata": {},
     "output_type": "display_data"
    },
    {
     "data": {
      "text/markdown": [
       "<span style=\"color:#33cc33\">Correct:</span> \n",
       "\n",
       "One solution looks like:\n",
       "```python\n",
       "return not ketchup and not mustard and not onion\n",
       "```\n",
       "\n",
       "We can also [\"factor out\" the nots](https://en.wikipedia.org/wiki/De_Morgan%27s_laws) to get:\n",
       "\n",
       "```python\n",
       "return not (ketchup or mustard or onion)\n",
       "```"
      ],
      "text/plain": [
       "Correct: \n",
       "\n",
       "One solution looks like:\n",
       "```python\n",
       "return not ketchup and not mustard and not onion\n",
       "```\n",
       "\n",
       "We can also [\"factor out\" the nots](https://en.wikipedia.org/wiki/De_Morgan%27s_laws) to get:\n",
       "\n",
       "```python\n",
       "return not (ketchup or mustard or onion)\n",
       "```"
      ]
     },
     "metadata": {},
     "output_type": "display_data"
    }
   ],
   "source": [
    "def wants_plain_hotdog(ketchup, mustard, onion):\n",
    "    \"\"\"Return whether the customer wants a plain hot dog with no toppings.\n",
    "    \"\"\"\n",
    "    return not(ketchup or mustard or onion)\n",
    "\n",
    "# Check your answer\n",
    "q5.b.check()"
   ]
  },
  {
   "cell_type": "markdown",
   "id": "8638808c",
   "metadata": {
    "papermill": {
     "duration": 0.014567,
     "end_time": "2024-01-11T18:21:43.043667",
     "exception": false,
     "start_time": "2024-01-11T18:21:43.029100",
     "status": "completed"
    },
    "tags": []
   },
   "source": [
    "# 5c.\n",
    "\n",
    "You know what to do: for the next function, fill in the body to match the English description in the docstring."
   ]
  },
  {
   "cell_type": "code",
   "execution_count": 12,
   "id": "e815c119",
   "metadata": {
    "execution": {
     "iopub.execute_input": "2024-01-11T18:21:43.074831Z",
     "iopub.status.busy": "2024-01-11T18:21:43.074384Z",
     "iopub.status.idle": "2024-01-11T18:21:43.086031Z",
     "shell.execute_reply": "2024-01-11T18:21:43.084634Z"
    },
    "papermill": {
     "duration": 0.031775,
     "end_time": "2024-01-11T18:21:43.089554",
     "exception": false,
     "start_time": "2024-01-11T18:21:43.057779",
     "status": "completed"
    },
    "tags": []
   },
   "outputs": [
    {
     "data": {
      "application/javascript": [
       "parent.postMessage({\"jupyterEvent\": \"custom.exercise_interaction\", \"data\": {\"outcomeType\": 1, \"valueTowardsCompletion\": 0.2, \"interactionType\": 1, \"questionType\": 2, \"questionId\": \"5.3_OneSauce\", \"learnToolsVersion\": \"0.3.4\", \"failureMessage\": \"\", \"exceptionClass\": \"\", \"trace\": \"\"}}, \"*\")"
      ],
      "text/plain": [
       "<IPython.core.display.Javascript object>"
      ]
     },
     "metadata": {},
     "output_type": "display_data"
    },
    {
     "data": {
      "text/markdown": [
       "<span style=\"color:#33cc33\">Correct</span>"
      ],
      "text/plain": [
       "Correct"
      ]
     },
     "metadata": {},
     "output_type": "display_data"
    }
   ],
   "source": [
    "def exactly_one_sauce(ketchup, mustard, onion):\n",
    "    \"\"\"Return whether the customer wants either ketchup or mustard, but not both.\n",
    "    (You may be familiar with this operation under the name \"exclusive or\")\n",
    "    \"\"\"\n",
    "    return (ketchup and not mustard) or (mustard and not ketchup)\n",
    "    #pass\n",
    "\n",
    "# Check your answer\n",
    "q5.c.check()"
   ]
  },
  {
   "cell_type": "markdown",
   "id": "b31b64b4",
   "metadata": {
    "papermill": {
     "duration": 0.114976,
     "end_time": "2024-01-11T18:21:43.220980",
     "exception": false,
     "start_time": "2024-01-11T18:21:43.106004",
     "status": "completed"
    },
    "tags": []
   },
   "source": [
    "# 6. <span title=\"A bit spicy\" style=\"color: darkgreen \">🌶️</span>\n",
    "\n",
    "We’ve seen that calling `bool()` on an integer returns `False` if it’s equal to 0 and `True` otherwise. What happens if we call `int()` on a bool? Try it out in the notebook cell below.\n",
    "\n",
    "Can you take advantage of this to write a succinct function that corresponds to the English sentence \"does the customer want exactly one topping?\"?"
   ]
  },
  {
   "cell_type": "code",
   "execution_count": 13,
   "id": "93b656aa",
   "metadata": {
    "execution": {
     "iopub.execute_input": "2024-01-11T18:21:43.255795Z",
     "iopub.status.busy": "2024-01-11T18:21:43.254761Z",
     "iopub.status.idle": "2024-01-11T18:21:43.263977Z",
     "shell.execute_reply": "2024-01-11T18:21:43.263247Z"
    },
    "papermill": {
     "duration": 0.028805,
     "end_time": "2024-01-11T18:21:43.266634",
     "exception": false,
     "start_time": "2024-01-11T18:21:43.237829",
     "status": "completed"
    },
    "tags": []
   },
   "outputs": [
    {
     "data": {
      "application/javascript": [
       "parent.postMessage({\"jupyterEvent\": \"custom.exercise_interaction\", \"data\": {\"outcomeType\": 1, \"valueTowardsCompletion\": 0.2, \"interactionType\": 1, \"questionType\": 2, \"questionId\": \"6_OneTopping\", \"learnToolsVersion\": \"0.3.4\", \"failureMessage\": \"\", \"exceptionClass\": \"\", \"trace\": \"\"}}, \"*\")"
      ],
      "text/plain": [
       "<IPython.core.display.Javascript object>"
      ]
     },
     "metadata": {},
     "output_type": "display_data"
    },
    {
     "data": {
      "text/markdown": [
       "<span style=\"color:#33cc33\">Correct:</span> \n",
       "\n",
       "This condition would be pretty complicated to express using just `and`, `or` and `not`, but using boolean-to-integer conversion gives us this short solution:\n",
       "```python\n",
       "return (int(ketchup) + int(mustard) + int(onion)) == 1\n",
       "```\n",
       "\n",
       "Fun fact: we don't technically need to call `int` on the arguments. Just by doing addition with booleans, Python implicitly does the integer conversion. So we could also write...\n",
       "\n",
       "```python\n",
       "return (ketchup + mustard + onion) == 1\n",
       "```"
      ],
      "text/plain": [
       "Correct: \n",
       "\n",
       "This condition would be pretty complicated to express using just `and`, `or` and `not`, but using boolean-to-integer conversion gives us this short solution:\n",
       "```python\n",
       "return (int(ketchup) + int(mustard) + int(onion)) == 1\n",
       "```\n",
       "\n",
       "Fun fact: we don't technically need to call `int` on the arguments. Just by doing addition with booleans, Python implicitly does the integer conversion. So we could also write...\n",
       "\n",
       "```python\n",
       "return (ketchup + mustard + onion) == 1\n",
       "```"
      ]
     },
     "metadata": {},
     "output_type": "display_data"
    }
   ],
   "source": [
    "def exactly_one_topping(ketchup, mustard, onion):\n",
    "    \"\"\"Return whether the customer wants exactly one of the three available toppings\n",
    "    on their hot dog.\n",
    "    \"\"\"\n",
    "    return (int(ketchup) + int(mustard) + int(onion)) == 1\n",
    "    pass\n",
    "\n",
    "# Check your answer\n",
    "q6.check()"
   ]
  },
  {
   "cell_type": "markdown",
   "id": "5bb18ff8",
   "metadata": {
    "papermill": {
     "duration": 0.014279,
     "end_time": "2024-01-11T18:21:43.295971",
     "exception": false,
     "start_time": "2024-01-11T18:21:43.281692",
     "status": "completed"
    },
    "tags": []
   },
   "source": [
    "# 7. <span title=\"A bit spicy\" style=\"color: darkgreen \">🌶️</span> (Optional)\n",
    "\n",
    "In this problem we'll be working with a simplified version of [blackjack](https://en.wikipedia.org/wiki/Blackjack) (aka twenty-one). In this version there is one player (who you'll control) and a dealer. Play proceeds as follows:\n",
    "\n",
    "- The player is dealt two face-up cards. The dealer is dealt one face-up card.\n",
    "- The player may ask to be dealt another card ('hit') as many times as they wish. If the sum of their cards exceeds 21, they lose the round immediately.\n",
    "- The dealer then deals additional cards to himself until either:\n",
    "    - the sum of the dealer's cards exceeds 21, in which case the player wins the round\n",
    "    - the sum of the dealer's cards is greater than or equal to 17. If the player's total is greater than the dealer's, the player wins. Otherwise, the dealer wins (even in case of a tie).\n",
    "    \n",
    "When calculating the sum of cards, Jack, Queen, and King count for 10. Aces can count as 1 or 11 (when referring to a player's \"total\" above, we mean the largest total that can be made without exceeding 21. So e.g. A+8 = 19, A+8+8 = 17)\n",
    "\n",
    "For this problem, you'll write a function representing the player's decision-making strategy in this game. We've provided a very unintelligent implementation below:"
   ]
  },
  {
   "cell_type": "code",
   "execution_count": 14,
   "id": "dce9aaf9",
   "metadata": {
    "execution": {
     "iopub.execute_input": "2024-01-11T18:21:43.327040Z",
     "iopub.status.busy": "2024-01-11T18:21:43.326624Z",
     "iopub.status.idle": "2024-01-11T18:21:43.332298Z",
     "shell.execute_reply": "2024-01-11T18:21:43.331396Z"
    },
    "papermill": {
     "duration": 0.023713,
     "end_time": "2024-01-11T18:21:43.334429",
     "exception": false,
     "start_time": "2024-01-11T18:21:43.310716",
     "status": "completed"
    },
    "tags": []
   },
   "outputs": [],
   "source": [
    "def should_hit(dealer_total, player_total, player_low_aces, player_high_aces):\n",
    "    \"\"\"Return True if the player should hit (request another card) given the current game\n",
    "    state, or False if the player should stay.\n",
    "    When calculating a hand's total value, we count aces as \"high\" (with value 11) if doing so\n",
    "    doesn't bring the total above 21, otherwise we count them as low (with value 1). \n",
    "    For example, if the player's hand is {A, A, A, 7}, we will count it as 11 + 1 + 1 + 7,\n",
    "    and therefore set player_total=20, player_low_aces=2, player_high_aces=1.\n",
    "    \"\"\"\n",
    "\n",
    "    # Basic strategy: hit if the player's total is less than 17\n",
    "    return player_total < 17\n"
   ]
  },
  {
   "cell_type": "markdown",
   "id": "15db9967",
   "metadata": {
    "papermill": {
     "duration": 0.014424,
     "end_time": "2024-01-11T18:21:43.363741",
     "exception": false,
     "start_time": "2024-01-11T18:21:43.349317",
     "status": "completed"
    },
    "tags": []
   },
   "source": [
    "This very conservative agent *always* sticks with the hand of two cards that they're dealt.\n",
    "\n",
    "We'll be simulating games between your player agent and our own dealer agent by calling your function.\n",
    "\n",
    "Try running the function below to see an example of a simulated game:"
   ]
  },
  {
   "cell_type": "code",
   "execution_count": 15,
   "id": "81e24a26",
   "metadata": {
    "execution": {
     "iopub.execute_input": "2024-01-11T18:21:43.396484Z",
     "iopub.status.busy": "2024-01-11T18:21:43.395689Z",
     "iopub.status.idle": "2024-01-11T18:21:43.402620Z",
     "shell.execute_reply": "2024-01-11T18:21:43.401417Z"
    },
    "papermill": {
     "duration": 0.026583,
     "end_time": "2024-01-11T18:21:43.406109",
     "exception": false,
     "start_time": "2024-01-11T18:21:43.379526",
     "status": "completed"
    },
    "tags": []
   },
   "outputs": [
    {
     "name": "stdout",
     "output_type": "stream",
     "text": [
      "Player starts with J and 2 (total = 12)\n",
      "Dealer starts with Q\n",
      "\n",
      "__Player's turn__\n",
      "Player hits and receives 3. (total = 15)\n",
      "Player hits and receives 8. (total = 23)\n",
      "Player busts! Dealer wins.\n"
     ]
    }
   ],
   "source": [
    "q7.simulate_one_game()"
   ]
  },
  {
   "cell_type": "markdown",
   "id": "8b5dbfaa",
   "metadata": {
    "papermill": {
     "duration": 0.01477,
     "end_time": "2024-01-11T18:21:43.435764",
     "exception": false,
     "start_time": "2024-01-11T18:21:43.420994",
     "status": "completed"
    },
    "tags": []
   },
   "source": [
    "The real test of your agent's mettle is their average win rate over many games. Try calling the function below to simulate 50000 games of blackjack (it may take a couple seconds):"
   ]
  },
  {
   "cell_type": "code",
   "execution_count": 16,
   "id": "8715c088",
   "metadata": {
    "execution": {
     "iopub.execute_input": "2024-01-11T18:21:43.467639Z",
     "iopub.status.busy": "2024-01-11T18:21:43.467251Z",
     "iopub.status.idle": "2024-01-11T18:21:45.843937Z",
     "shell.execute_reply": "2024-01-11T18:21:45.842110Z"
    },
    "papermill": {
     "duration": 2.395806,
     "end_time": "2024-01-11T18:21:45.846809",
     "exception": false,
     "start_time": "2024-01-11T18:21:43.451003",
     "status": "completed"
    },
    "tags": []
   },
   "outputs": [
    {
     "name": "stdout",
     "output_type": "stream",
     "text": [
      "Player won 20593 out of 50000 games (win rate = 41.2%)\n"
     ]
    }
   ],
   "source": [
    "q7.simulate(n_games=50000)"
   ]
  },
  {
   "cell_type": "markdown",
   "id": "cc39e396",
   "metadata": {
    "papermill": {
     "duration": 0.014248,
     "end_time": "2024-01-11T18:21:45.875525",
     "exception": false,
     "start_time": "2024-01-11T18:21:45.861277",
     "status": "completed"
    },
    "tags": []
   },
   "source": [
    "Our dumb agent that completely ignores the game state still manages to win shockingly often!\n",
    "\n",
    "Try adding some more smarts to the `should_hit` function and see how it affects the results."
   ]
  },
  {
   "cell_type": "code",
   "execution_count": 17,
   "id": "e9c861f0",
   "metadata": {
    "execution": {
     "iopub.execute_input": "2024-01-11T18:21:45.906871Z",
     "iopub.status.busy": "2024-01-11T18:21:45.906403Z",
     "iopub.status.idle": "2024-01-11T18:21:48.321999Z",
     "shell.execute_reply": "2024-01-11T18:21:48.320345Z"
    },
    "papermill": {
     "duration": 2.435043,
     "end_time": "2024-01-11T18:21:48.325028",
     "exception": false,
     "start_time": "2024-01-11T18:21:45.889985",
     "status": "completed"
    },
    "tags": []
   },
   "outputs": [
    {
     "name": "stdout",
     "output_type": "stream",
     "text": [
      "Player won 20368 out of 50000 games (win rate = 40.7%)\n"
     ]
    }
   ],
   "source": [
    "def should_hit(dealer_total, player_total, player_low_aces, player_high_aces):\n",
    "    \"\"\"Return True if the player should hit (request another card) given the current game\n",
    "    state, or False if the player should stay.\n",
    "    When calculating a hand's total value, we count aces as \"high\" (with value 11) if doing so\n",
    "    doesn't bring the total above 21, otherwise we count them as low (with value 1). \n",
    "    For example, if the player's hand is {A, A, A, 7}, we will count it as 11 + 1 + 1 + 7,\n",
    "    and therefore set player_total=20, player_low_aces=2, player_high_aces=1.\n",
    "    \"\"\"\n",
    "    \n",
    "    # Use a basic strategy: hit if the player's total is less than 17\n",
    "    if player_total < 17:\n",
    "        return True\n",
    "    \n",
    "    # If the player has a soft hand (high ace), adjust the strategy\n",
    "    if player_low_aces > 0 and player_high_aces > 0:\n",
    "        if player_total <= 17:\n",
    "            return True\n",
    "    \n",
    "    # Consider the dealer's face-up card\n",
    "    if dealer_total >= 7 and player_total < 17:\n",
    "        return True\n",
    "    \n",
    "    # Otherwise, stay\n",
    "    return False\n",
    "\n",
    "\n",
    "q7.simulate(n_games=50000)"
   ]
  },
  {
   "cell_type": "markdown",
   "id": "8f45adf3",
   "metadata": {
    "papermill": {
     "duration": 0.014573,
     "end_time": "2024-01-11T18:21:48.354397",
     "exception": false,
     "start_time": "2024-01-11T18:21:48.339824",
     "status": "completed"
    },
    "tags": []
   },
   "source": [
    "# Keep Going\n",
    "\n",
    "Learn about **[lists and tuples](https://www.kaggle.com/colinmorris/lists)** to handle multiple items of data in a systematic way."
   ]
  },
  {
   "cell_type": "markdown",
   "id": "247fa2d4",
   "metadata": {
    "papermill": {
     "duration": 0.0144,
     "end_time": "2024-01-11T18:21:48.383480",
     "exception": false,
     "start_time": "2024-01-11T18:21:48.369080",
     "status": "completed"
    },
    "tags": []
   },
   "source": [
    "---\n",
    "\n",
    "\n",
    "\n",
    "\n",
    "*Have questions or comments? Visit the [course discussion forum](https://www.kaggle.com/learn/python/discussion) to chat with other learners.*"
   ]
  }
 ],
 "metadata": {
  "kaggle": {
   "accelerator": "none",
   "dataSources": [],
   "isGpuEnabled": false,
   "isInternetEnabled": false,
   "language": "python",
   "sourceType": "notebook"
  },
  "kernelspec": {
   "display_name": "Python 3",
   "language": "python",
   "name": "python3"
  },
  "language_info": {
   "codemirror_mode": {
    "name": "ipython",
    "version": 3
   },
   "file_extension": ".py",
   "mimetype": "text/x-python",
   "name": "python",
   "nbconvert_exporter": "python",
   "pygments_lexer": "ipython3",
   "version": "3.10.12"
  },
  "learntools_metadata": {
   "lesson_index": 2,
   "type": "exercise"
  },
  "papermill": {
   "default_parameters": {},
   "duration": 11.22656,
   "end_time": "2024-01-11T18:21:49.122968",
   "environment_variables": {},
   "exception": null,
   "input_path": "__notebook__.ipynb",
   "output_path": "__notebook__.ipynb",
   "parameters": {},
   "start_time": "2024-01-11T18:21:37.896408",
   "version": "2.4.0"
  }
 },
 "nbformat": 4,
 "nbformat_minor": 5
}
