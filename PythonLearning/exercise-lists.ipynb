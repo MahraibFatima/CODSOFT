{
 "cells": [
  {
   "cell_type": "markdown",
   "id": "ae96812c",
   "metadata": {
    "papermill": {
     "duration": 0.007692,
     "end_time": "2024-01-10T15:13:41.782287",
     "exception": false,
     "start_time": "2024-01-10T15:13:41.774595",
     "status": "completed"
    },
    "tags": []
   },
   "source": [
    "**This notebook is an exercise in the [Python](https://www.kaggle.com/learn/python) course.  You can reference the tutorial at [this link](https://www.kaggle.com/colinmorris/lists).**\n",
    "\n",
    "---\n"
   ]
  },
  {
   "cell_type": "markdown",
   "id": "4c388794",
   "metadata": {
    "papermill": {
     "duration": 0.006079,
     "end_time": "2024-01-10T15:13:41.795289",
     "exception": false,
     "start_time": "2024-01-10T15:13:41.789210",
     "status": "completed"
    },
    "tags": []
   },
   "source": [
    "Things get more interesting with lists. You'll apply your new knowledge to solve the questions below. Remember to run the following cell first."
   ]
  },
  {
   "cell_type": "code",
   "execution_count": 1,
   "id": "b6d3666c",
   "metadata": {
    "execution": {
     "iopub.execute_input": "2024-01-10T15:13:41.810083Z",
     "iopub.status.busy": "2024-01-10T15:13:41.809682Z",
     "iopub.status.idle": "2024-01-10T15:13:42.290994Z",
     "shell.execute_reply": "2024-01-10T15:13:42.290115Z"
    },
    "papermill": {
     "duration": 0.492479,
     "end_time": "2024-01-10T15:13:42.294076",
     "exception": false,
     "start_time": "2024-01-10T15:13:41.801597",
     "status": "completed"
    },
    "tags": []
   },
   "outputs": [
    {
     "name": "stdout",
     "output_type": "stream",
     "text": [
      "Setup complete.\n"
     ]
    }
   ],
   "source": [
    "from learntools.core import binder; binder.bind(globals())\n",
    "from learntools.python.ex4 import *\n",
    "print('Setup complete.')"
   ]
  },
  {
   "cell_type": "markdown",
   "id": "5011e260",
   "metadata": {
    "papermill": {
     "duration": 0.006275,
     "end_time": "2024-01-10T15:13:42.307116",
     "exception": false,
     "start_time": "2024-01-10T15:13:42.300841",
     "status": "completed"
    },
    "tags": []
   },
   "source": [
    "# 1.\n",
    "\n",
    "Complete the function below according to its docstring."
   ]
  },
  {
   "cell_type": "code",
   "execution_count": 2,
   "id": "1fafbf93",
   "metadata": {
    "execution": {
     "iopub.execute_input": "2024-01-10T15:13:42.322852Z",
     "iopub.status.busy": "2024-01-10T15:13:42.322003Z",
     "iopub.status.idle": "2024-01-10T15:13:42.334559Z",
     "shell.execute_reply": "2024-01-10T15:13:42.333491Z"
    },
    "papermill": {
     "duration": 0.023435,
     "end_time": "2024-01-10T15:13:42.337125",
     "exception": false,
     "start_time": "2024-01-10T15:13:42.313690",
     "status": "completed"
    },
    "tags": []
   },
   "outputs": [
    {
     "data": {
      "application/javascript": [
       "parent.postMessage({\"jupyterEvent\": \"custom.exercise_interaction\", \"data\": {\"outcomeType\": 1, \"valueTowardsCompletion\": 0.2, \"interactionType\": 1, \"questionType\": 2, \"questionId\": \"1_SelectSecondItem\", \"learnToolsVersion\": \"0.3.4\", \"failureMessage\": \"\", \"exceptionClass\": \"\", \"trace\": \"\"}}, \"*\")"
      ],
      "text/plain": [
       "<IPython.core.display.Javascript object>"
      ]
     },
     "metadata": {},
     "output_type": "display_data"
    },
    {
     "data": {
      "text/markdown": [
       "<span style=\"color:#33cc33\">Correct</span>"
      ],
      "text/plain": [
       "Correct"
      ]
     },
     "metadata": {},
     "output_type": "display_data"
    }
   ],
   "source": [
    "def select_second(L):\n",
    "    \"\"\"Return the second element of the given list. If the list has no second\n",
    "    element, return None.\n",
    "    \"\"\"\n",
    "    #return \n",
    "    if(len(L) < 2):\n",
    "        return None\n",
    "    else:\n",
    "        return L[1]\n",
    "    #pass\n",
    "\n",
    "# Check your answer\n",
    "q1.check()"
   ]
  },
  {
   "cell_type": "code",
   "execution_count": 3,
   "id": "6242f1f2",
   "metadata": {
    "execution": {
     "iopub.execute_input": "2024-01-10T15:13:42.352753Z",
     "iopub.status.busy": "2024-01-10T15:13:42.352389Z",
     "iopub.status.idle": "2024-01-10T15:13:42.357537Z",
     "shell.execute_reply": "2024-01-10T15:13:42.356090Z"
    },
    "papermill": {
     "duration": 0.01601,
     "end_time": "2024-01-10T15:13:42.360061",
     "exception": false,
     "start_time": "2024-01-10T15:13:42.344051",
     "status": "completed"
    },
    "tags": []
   },
   "outputs": [],
   "source": [
    "#q1.hint()\n",
    "#q1.solution()"
   ]
  },
  {
   "cell_type": "markdown",
   "id": "6736667e",
   "metadata": {
    "papermill": {
     "duration": 0.00661,
     "end_time": "2024-01-10T15:13:42.373839",
     "exception": false,
     "start_time": "2024-01-10T15:13:42.367229",
     "status": "completed"
    },
    "tags": []
   },
   "source": [
    "# 2.\n",
    "\n",
    "You are analyzing sports teams.  Members of each team are stored in a list. The Coach is the first name in the list, the captain is the second name in the list, and other players are listed after that. \n",
    "These lists are stored in another list, which starts with the best team and proceeds through the list to the worst team last.  Complete the function below to select the **captain** of the worst team."
   ]
  },
  {
   "cell_type": "code",
   "execution_count": 4,
   "id": "4b69700b",
   "metadata": {
    "execution": {
     "iopub.execute_input": "2024-01-10T15:13:42.390633Z",
     "iopub.status.busy": "2024-01-10T15:13:42.390182Z",
     "iopub.status.idle": "2024-01-10T15:13:42.399366Z",
     "shell.execute_reply": "2024-01-10T15:13:42.398467Z"
    },
    "papermill": {
     "duration": 0.020755,
     "end_time": "2024-01-10T15:13:42.401903",
     "exception": false,
     "start_time": "2024-01-10T15:13:42.381148",
     "status": "completed"
    },
    "tags": []
   },
   "outputs": [
    {
     "data": {
      "application/javascript": [
       "parent.postMessage({\"jupyterEvent\": \"custom.exercise_interaction\", \"data\": {\"outcomeType\": 1, \"valueTowardsCompletion\": 0.2, \"interactionType\": 1, \"questionType\": 2, \"questionId\": \"2_LosingTeamCaptain\", \"learnToolsVersion\": \"0.3.4\", \"failureMessage\": \"\", \"exceptionClass\": \"\", \"trace\": \"\"}}, \"*\")"
      ],
      "text/plain": [
       "<IPython.core.display.Javascript object>"
      ]
     },
     "metadata": {},
     "output_type": "display_data"
    },
    {
     "data": {
      "text/markdown": [
       "<span style=\"color:#33cc33\">Correct</span>"
      ],
      "text/plain": [
       "Correct"
      ]
     },
     "metadata": {},
     "output_type": "display_data"
    }
   ],
   "source": [
    "def losing_team_captain(teams):\n",
    "    \"\"\"Given a list of teams, where each team is a list of names, return the 2nd player (captain)\n",
    "    from the last listed team\n",
    "    \"\"\"\n",
    "    return teams[-1][1];\n",
    "    #pass\n",
    "\n",
    "# Check your answer\n",
    "q2.check()"
   ]
  },
  {
   "cell_type": "code",
   "execution_count": 5,
   "id": "aa28fb33",
   "metadata": {
    "execution": {
     "iopub.execute_input": "2024-01-10T15:13:42.418747Z",
     "iopub.status.busy": "2024-01-10T15:13:42.417924Z",
     "iopub.status.idle": "2024-01-10T15:13:42.422878Z",
     "shell.execute_reply": "2024-01-10T15:13:42.421998Z"
    },
    "papermill": {
     "duration": 0.015985,
     "end_time": "2024-01-10T15:13:42.425345",
     "exception": false,
     "start_time": "2024-01-10T15:13:42.409360",
     "status": "completed"
    },
    "tags": []
   },
   "outputs": [],
   "source": [
    "#q2.hint()\n",
    "#q2.solution()"
   ]
  },
  {
   "cell_type": "markdown",
   "id": "111c6e0f",
   "metadata": {
    "papermill": {
     "duration": 0.007643,
     "end_time": "2024-01-10T15:13:42.440512",
     "exception": false,
     "start_time": "2024-01-10T15:13:42.432869",
     "status": "completed"
    },
    "tags": []
   },
   "source": [
    "# 3.\n",
    "\n",
    "The next iteration of Mario Kart will feature an extra-infuriating new item, the *Purple Shell*. When used, it warps the last place racer into first place and the first place racer into last place. Complete the function below to implement the Purple Shell's effect."
   ]
  },
  {
   "cell_type": "code",
   "execution_count": 6,
   "id": "9bc74bc4",
   "metadata": {
    "execution": {
     "iopub.execute_input": "2024-01-10T15:13:42.456817Z",
     "iopub.status.busy": "2024-01-10T15:13:42.456441Z",
     "iopub.status.idle": "2024-01-10T15:13:42.466597Z",
     "shell.execute_reply": "2024-01-10T15:13:42.465539Z"
    },
    "papermill": {
     "duration": 0.021092,
     "end_time": "2024-01-10T15:13:42.468945",
     "exception": false,
     "start_time": "2024-01-10T15:13:42.447853",
     "status": "completed"
    },
    "tags": []
   },
   "outputs": [
    {
     "data": {
      "application/javascript": [
       "parent.postMessage({\"jupyterEvent\": \"custom.exercise_interaction\", \"data\": {\"outcomeType\": 1, \"valueTowardsCompletion\": 0.2, \"interactionType\": 1, \"questionType\": 2, \"questionId\": \"3_PurpleShell\", \"learnToolsVersion\": \"0.3.4\", \"failureMessage\": \"\", \"exceptionClass\": \"\", \"trace\": \"\"}}, \"*\")"
      ],
      "text/plain": [
       "<IPython.core.display.Javascript object>"
      ]
     },
     "metadata": {},
     "output_type": "display_data"
    },
    {
     "data": {
      "text/markdown": [
       "<span style=\"color:#33cc33\">Correct</span>"
      ],
      "text/plain": [
       "Correct"
      ]
     },
     "metadata": {},
     "output_type": "display_data"
    }
   ],
   "source": [
    "def purple_shell(racers):\n",
    "    \"\"\"Given a list of racers, set the first place racer (at the front of the list) to last\n",
    "    place and vice versa.\n",
    "    \n",
    "    >>> r = [\"Mario\", \"Bowser\", \"Luigi\"]\n",
    "    >>> purple_shell(r)\n",
    "    >>> r\n",
    "    [\"Luigi\", \"Bowser\", \"Mario\"]\n",
    "    \"\"\"\n",
    "    #for i in len[racer]:\n",
    "    racers[0], racers[-1] = racers[-1] , racers[0] \n",
    "    #pass\n",
    "\n",
    "# Check your answer\n",
    "q3.check()"
   ]
  },
  {
   "cell_type": "code",
   "execution_count": 7,
   "id": "71509189",
   "metadata": {
    "execution": {
     "iopub.execute_input": "2024-01-10T15:13:42.487737Z",
     "iopub.status.busy": "2024-01-10T15:13:42.486524Z",
     "iopub.status.idle": "2024-01-10T15:13:42.491183Z",
     "shell.execute_reply": "2024-01-10T15:13:42.490426Z"
    },
    "papermill": {
     "duration": 0.01635,
     "end_time": "2024-01-10T15:13:42.493321",
     "exception": false,
     "start_time": "2024-01-10T15:13:42.476971",
     "status": "completed"
    },
    "tags": []
   },
   "outputs": [],
   "source": [
    "#q3.hint()\n",
    "#q3.solution()"
   ]
  },
  {
   "cell_type": "markdown",
   "id": "54c1adaa",
   "metadata": {
    "papermill": {
     "duration": 0.007391,
     "end_time": "2024-01-10T15:13:42.508324",
     "exception": false,
     "start_time": "2024-01-10T15:13:42.500933",
     "status": "completed"
    },
    "tags": []
   },
   "source": [
    "# 4.\n",
    "\n",
    "What are the lengths of the following lists? Fill in the variable `lengths` with your predictions. (Try to make a prediction for each list *without* just calling `len()` on it.)"
   ]
  },
  {
   "cell_type": "code",
   "execution_count": 8,
   "id": "36ea686a",
   "metadata": {
    "execution": {
     "iopub.execute_input": "2024-01-10T15:13:42.525519Z",
     "iopub.status.busy": "2024-01-10T15:13:42.525060Z",
     "iopub.status.idle": "2024-01-10T15:13:42.534937Z",
     "shell.execute_reply": "2024-01-10T15:13:42.533868Z"
    },
    "papermill": {
     "duration": 0.021379,
     "end_time": "2024-01-10T15:13:42.537212",
     "exception": false,
     "start_time": "2024-01-10T15:13:42.515833",
     "status": "completed"
    },
    "tags": []
   },
   "outputs": [
    {
     "data": {
      "application/javascript": [
       "parent.postMessage({\"jupyterEvent\": \"custom.exercise_interaction\", \"data\": {\"outcomeType\": 1, \"valueTowardsCompletion\": 0.2, \"interactionType\": 1, \"questionType\": 1, \"questionId\": \"4_UnderstandLen\", \"learnToolsVersion\": \"0.3.4\", \"failureMessage\": \"\", \"exceptionClass\": \"\", \"trace\": \"\"}}, \"*\")"
      ],
      "text/plain": [
       "<IPython.core.display.Javascript object>"
      ]
     },
     "metadata": {},
     "output_type": "display_data"
    },
    {
     "data": {
      "text/markdown": [
       "<span style=\"color:#33cc33\">Correct:</span> \n",
       "\n",
       "\n",
       "- a: There are three items in this list. Nothing tricky yet.\n",
       "- b: The list `[2, 3]` counts as a single item. It has one item before it. So we have 2 items in the list\n",
       "- c: The empty list has 0 items\n",
       "- d: The expression is the same as the list `[2, 3]`, which has length 2."
      ],
      "text/plain": [
       "Correct: \n",
       "\n",
       "\n",
       "- a: There are three items in this list. Nothing tricky yet.\n",
       "- b: The list `[2, 3]` counts as a single item. It has one item before it. So we have 2 items in the list\n",
       "- c: The empty list has 0 items\n",
       "- d: The expression is the same as the list `[2, 3]`, which has length 2."
      ]
     },
     "metadata": {},
     "output_type": "display_data"
    }
   ],
   "source": [
    "a = [1, 2, 3]\n",
    "b = [1, [2, 3]]\n",
    "c = []\n",
    "d = [1, 2, 3][1:]\n",
    "\n",
    "# Put your predictions in the list below. Lengths should contain 4 numbers, the\n",
    "# first being the length of a, the second being the length of b and so on.\n",
    "\n",
    "lengths = [3,2,0,2]\n",
    "\n",
    "# Check your answer\n",
    "q4.check()"
   ]
  },
  {
   "cell_type": "code",
   "execution_count": 9,
   "id": "a5bfc0ba",
   "metadata": {
    "execution": {
     "iopub.execute_input": "2024-01-10T15:13:42.554811Z",
     "iopub.status.busy": "2024-01-10T15:13:42.554418Z",
     "iopub.status.idle": "2024-01-10T15:13:42.558482Z",
     "shell.execute_reply": "2024-01-10T15:13:42.557419Z"
    },
    "papermill": {
     "duration": 0.015717,
     "end_time": "2024-01-10T15:13:42.560802",
     "exception": false,
     "start_time": "2024-01-10T15:13:42.545085",
     "status": "completed"
    },
    "tags": []
   },
   "outputs": [],
   "source": [
    "# line below provides some explanation\n",
    "#q4.solution()"
   ]
  },
  {
   "cell_type": "markdown",
   "id": "8caaef20",
   "metadata": {
    "papermill": {
     "duration": 0.00787,
     "end_time": "2024-01-10T15:13:42.576703",
     "exception": false,
     "start_time": "2024-01-10T15:13:42.568833",
     "status": "completed"
    },
    "tags": []
   },
   "source": [
    "# 5. <span title=\"A bit spicy\" style=\"color: darkgreen \">🌶️</span>\n",
    "\n",
    "We're using lists to record people who attended our party and what order they arrived in. For example, the following list represents a party with 7 guests, in which Adela showed up first and Ford was the last to arrive:\n",
    "\n",
    "    party_attendees = ['Adela', 'Fleda', 'Owen', 'May', 'Mona', 'Gilbert', 'Ford']\n",
    "\n",
    "A guest is considered 'fashionably late' if they arrived after at least half of the party's guests. However, they must not be the very last guest (that's taking it too far). In the above example, Mona and Gilbert are the only guests who were fashionably late.\n",
    "\n",
    "Complete the function below which takes a list of party attendees as well as a person, and tells us whether that person is fashionably late."
   ]
  },
  {
   "cell_type": "code",
   "execution_count": 10,
   "id": "69932b96",
   "metadata": {
    "execution": {
     "iopub.execute_input": "2024-01-10T15:13:42.595419Z",
     "iopub.status.busy": "2024-01-10T15:13:42.594437Z",
     "iopub.status.idle": "2024-01-10T15:13:42.604391Z",
     "shell.execute_reply": "2024-01-10T15:13:42.603585Z"
    },
    "papermill": {
     "duration": 0.021729,
     "end_time": "2024-01-10T15:13:42.606606",
     "exception": false,
     "start_time": "2024-01-10T15:13:42.584877",
     "status": "completed"
    },
    "tags": []
   },
   "outputs": [
    {
     "data": {
      "application/javascript": [
       "parent.postMessage({\"jupyterEvent\": \"custom.exercise_interaction\", \"data\": {\"outcomeType\": 1, \"valueTowardsCompletion\": 0.2, \"interactionType\": 1, \"questionType\": 2, \"questionId\": \"5_FashionablyLate\", \"learnToolsVersion\": \"0.3.4\", \"failureMessage\": \"\", \"exceptionClass\": \"\", \"trace\": \"\"}}, \"*\")"
      ],
      "text/plain": [
       "<IPython.core.display.Javascript object>"
      ]
     },
     "metadata": {},
     "output_type": "display_data"
    },
    {
     "data": {
      "text/markdown": [
       "<span style=\"color:#33cc33\">Correct</span>"
      ],
      "text/plain": [
       "Correct"
      ]
     },
     "metadata": {},
     "output_type": "display_data"
    }
   ],
   "source": [
    "def fashionably_late(arrivals, name):\n",
    "    \"\"\"Given an ordered list of arrivals to the party and a name, return whether the guest with that\n",
    "    name was fashionably late.\n",
    "    \"\"\"\n",
    "    order = arrivals.index(name)\n",
    "    if((order >= (len(arrivals)/2) and order != (len(arrivals)-1))):\n",
    "        return True\n",
    "    else:\n",
    "        return False\n",
    "    \n",
    "\n",
    "# Check your answer\n",
    "q5.check()"
   ]
  },
  {
   "cell_type": "code",
   "execution_count": 11,
   "id": "6c5e3311",
   "metadata": {
    "execution": {
     "iopub.execute_input": "2024-01-10T15:13:42.625437Z",
     "iopub.status.busy": "2024-01-10T15:13:42.624797Z",
     "iopub.status.idle": "2024-01-10T15:13:42.629665Z",
     "shell.execute_reply": "2024-01-10T15:13:42.628566Z"
    },
    "papermill": {
     "duration": 0.016712,
     "end_time": "2024-01-10T15:13:42.631936",
     "exception": false,
     "start_time": "2024-01-10T15:13:42.615224",
     "status": "completed"
    },
    "tags": []
   },
   "outputs": [],
   "source": [
    "#q5.hint()\n",
    "#q5.solution()"
   ]
  },
  {
   "cell_type": "markdown",
   "id": "2164db0e",
   "metadata": {
    "papermill": {
     "duration": 0.008058,
     "end_time": "2024-01-10T15:13:42.648339",
     "exception": false,
     "start_time": "2024-01-10T15:13:42.640281",
     "status": "completed"
    },
    "tags": []
   },
   "source": [
    "# Keep Going\n",
    "\n",
    "That's it for lists and tuples! Now you have the baseline knowledge to **[learn about loops](https://www.kaggle.com/colinmorris/loops-and-list-comprehensions)**, which is where lists and tuples get really interesting. "
   ]
  },
  {
   "cell_type": "markdown",
   "id": "70d0e884",
   "metadata": {
    "papermill": {
     "duration": 0.007842,
     "end_time": "2024-01-10T15:13:42.664430",
     "exception": false,
     "start_time": "2024-01-10T15:13:42.656588",
     "status": "completed"
    },
    "tags": []
   },
   "source": [
    "---\n",
    "\n",
    "\n",
    "\n",
    "\n",
    "*Have questions or comments? Visit the [course discussion forum](https://www.kaggle.com/learn/python/discussion) to chat with other learners.*"
   ]
  }
 ],
 "metadata": {
  "kaggle": {
   "accelerator": "none",
   "dataSources": [],
   "isGpuEnabled": false,
   "isInternetEnabled": false,
   "language": "python",
   "sourceType": "notebook"
  },
  "kernelspec": {
   "display_name": "Python 3",
   "language": "python",
   "name": "python3"
  },
  "language_info": {
   "codemirror_mode": {
    "name": "ipython",
    "version": 3
   },
   "file_extension": ".py",
   "mimetype": "text/x-python",
   "name": "python",
   "nbconvert_exporter": "python",
   "pygments_lexer": "ipython3",
   "version": "3.10.12"
  },
  "learntools_metadata": {
   "lesson_index": 3,
   "type": "exercise"
  },
  "papermill": {
   "default_parameters": {},
   "duration": 5.016832,
   "end_time": "2024-01-10T15:13:43.193782",
   "environment_variables": {},
   "exception": null,
   "input_path": "__notebook__.ipynb",
   "output_path": "__notebook__.ipynb",
   "parameters": {},
   "start_time": "2024-01-10T15:13:38.176950",
   "version": "2.4.0"
  }
 },
 "nbformat": 4,
 "nbformat_minor": 5
}
